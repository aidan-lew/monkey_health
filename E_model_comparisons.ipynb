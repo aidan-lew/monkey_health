{
 "cells": [
  {
   "cell_type": "markdown",
   "id": "6ea79d3c-b8db-4654-af13-e0948f8cd168",
   "metadata": {
    "tags": []
   },
   "source": [
    "# Comparison models to test the CatBoost against other models\n",
    "Predictions of Lymphocytes, tumorogenesis???\n",
    "\n",
    "- 1.) ElasticNet\n",
    "- 2.) Support Vector Regression\n",
    "- 3.) Mixed linear modeling\n",
    "- 4.) XGBoost\n",
    "- 5.) DL model???"
   ]
  },
  {
   "cell_type": "code",
   "execution_count": 1,
   "id": "e13d2fcd-1a52-4380-a245-a481be2cf440",
   "metadata": {
    "tags": []
   },
   "outputs": [
    {
     "name": "stderr",
     "output_type": "stream",
     "text": [
      "/Users/aidanlew/Desktop/cmb/codes/monkey_env/lib/python3.10/site-packages/tqdm/auto.py:22: TqdmWarning: IProgress not found. Please update jupyter and ipywidgets. See https://ipywidgets.readthedocs.io/en/stable/user_install.html\n",
      "  from .autonotebook import tqdm as notebook_tqdm\n"
     ]
    },
    {
     "name": "stdout",
     "output_type": "stream",
     "text": [
      "Setup Complete\n"
     ]
    }
   ],
   "source": [
    "### Using monkey_env/ ###\n",
    "### If giving a tqb error, run this code twice###\n",
    "\n",
    "# handling data\n",
    "import pandas as pd\n",
    "import numpy as np\n",
    "import datetime\n",
    "\n",
    "# visualizing data\n",
    "import seaborn as sns\n",
    "import matplotlib.pyplot as plt\n",
    "sns.set_style(\"darkgrid\")\n",
    "\n",
    "# Statistics\n",
    "from scipy import stats\n",
    "#import statsmodels.api as sm\n",
    "#import statsmodels.imputation.mice as smi\n",
    "#import scipy.cluster.hierarchy as hac\n",
    "#from statsmodels.stats.multicomp import pairwise_tukeyhsd\n",
    "import matplotlib.gridspec as gridspec\n",
    "import math\n",
    "import random\n",
    "\n",
    "\n",
    "#SHAP Value stuff\n",
    "import shap\n",
    "from shap import TreeExplainer\n",
    "from shap import GradientExplainer\n",
    "from shap import DeepExplainer\n",
    "from shap import KernelExplainer\n",
    "from shap import SamplingExplainer\n",
    "from shap import PartitionExplainer\n",
    "\n",
    "#ML stuff\n",
    "import catboost\n",
    "from catboost import CatBoostClassifier, Pool, CatBoostRegressor, CatBoost\n",
    "from catboost import Pool\n",
    "\n",
    "from sklearn import metrics\n",
    "from sklearn.model_selection import train_test_split\n",
    "from sklearn.metrics import r2_score\n",
    "from sklearn.metrics import plot_confusion_matrix\n",
    "from sklearn.metrics import confusion_matrix, ConfusionMatrixDisplay\n",
    "from sklearn.metrics import classification_report\n",
    "\n",
    "#language handling\n",
    "#import bert\n",
    "\n",
    "#from mxnet import nd, autograd, gluon\n",
    "#from mxnet.gluon import nn, rnn\n",
    "#import mxnet as mx\n",
    "\n",
    "#fix the error that pops up about ipwydgets \n",
    "from tqdm import tqdm\n",
    "#from .autonotebook import tqdm as notebook_tqdm\n",
    "\n",
    "print(\"Setup Complete\")\n"
   ]
  },
  {
   "cell_type": "code",
   "execution_count": 5,
   "id": "167d6690-8fcc-4ef1-9648-608b520affca",
   "metadata": {
    "tags": []
   },
   "outputs": [
    {
     "name": "stdout",
     "output_type": "stream",
     "text": [
      "/Users/aidanlew/Documents\n"
     ]
    }
   ],
   "source": [
    "cd '/Users/aidanlew/Documents'"
   ]
  },
  {
   "cell_type": "code",
   "execution_count": 7,
   "id": "c514fbe0-27fd-4250-8f17-801604a943b9",
   "metadata": {
    "tags": []
   },
   "outputs": [
    {
     "name": "stderr",
     "output_type": "stream",
     "text": [
      "Cannot parse header or footer so it will be ignored\n"
     ]
    },
    {
     "data": {
      "text/plain": [
       "Index(['ID', 'Species', 'SAMPLE_DATE', 'IRRAD', 'IRRAD_DATE', 'DOB', 'SEX',\n",
       "       'TYPE', 'DAYS_SINCE_IRRAD', 'MONTHS_SINCE_IRRAD', 'MONTHS AT IRRAD',\n",
       "       'DOSE_(Gy)', 'AGE', 'WBC_(K/uL)', 'RBC_(M/uL)', 'Hemaglobin_(HGB_g/dL)',\n",
       "       'Hemocrit_(HCT_%)', 'Mean_corpuscular_volume_(MCV_fL)',\n",
       "       'Mean_corpuscular_hemaglobin_(MCH_pg)',\n",
       "       'Mean_corpuscular_hemaglobin_concentration_(MCHC_g/dL)', 'NEUT_(%)',\n",
       "       'LYMPHOCYTES_(%)', 'MONO_(%)', 'EOS_(%)', 'BASO_(%)', 'ABS_NEUT_(/uL)',\n",
       "       'ABS_LYMPH_(/uL)', 'ABS_MONO_(/uL)', 'ABS_EOS_(/uL)', 'ABS_BASO_(/uL)',\n",
       "       'PLATLET_COUNT_(K/uL)'],\n",
       "      dtype='object')"
      ]
     },
     "execution_count": 7,
     "metadata": {},
     "output_type": "execute_result"
    }
   ],
   "source": [
    "#Makee a df for the blood analytic data\n",
    "minbio_monkey_df = pd.read_excel('../Documents/full_monkey_data_r2.xlsx',\n",
    "                    #sheet_name=1,\n",
    "                    skiprows = 0,\n",
    "                    usecols = ['ID', 'Species', 'SAMPLE_DATE', 'IRRAD', 'IRRAD_DATE', 'DOB', 'SEX',\n",
    "       'TYPE', 'DAYS_SINCE_IRRAD', 'MONTHS_SINCE_IRRAD', 'MONTHS AT IRRAD',\n",
    "       'DOSE_(Gy)', 'AGE', 'WBC_(K/uL)', 'RBC_(M/uL)', 'Hemaglobin_(HGB_g/dL)',\n",
    "       'Hemocrit_(HCT_%)', 'Mean_corpuscular_volume_(MCV_fL)',\n",
    "       'Mean_corpuscular_hemaglobin_(MCH_pg)',\n",
    "       'Mean_corpuscular_hemaglobin_concentration_(MCHC_g/dL)', 'NEUT_(%)',\n",
    "       'LYMPHOCYTES_(%)', 'MONO_(%)', 'EOS_(%)', 'BASO_(%)', 'ABS_NEUT_(/uL)',\n",
    "       'ABS_LYMPH_(/uL)', 'ABS_MONO_(/uL)', 'ABS_EOS_(/uL)', 'ABS_BASO_(/uL)',\n",
    "       'PLATLET_COUNT_(K/uL)'],\n",
    "                    engine = 'openpyxl',\n",
    "                    #date_parser=parser\n",
    "                         )\n",
    "\n",
    "#Set the index to the monkey ID and make the labels not read as integers\n",
    "minbio_monkey_df.set_index(['ID'])\n",
    "minbio_monkey_df['ID'] = minbio_monkey_df['ID'].astype(str)\n",
    "\n",
    "#minbio_monkey_df.dropna(axis=0, inplace=True) \n",
    "\n",
    "minbio_monkey_df.columns\n",
    "#minbio_monkey_df.tail()\n"
   ]
  },
  {
   "cell_type": "code",
   "execution_count": 114,
   "id": "ec209d58-09de-4c95-bf40-3d3858989cd5",
   "metadata": {
    "tags": []
   },
   "outputs": [
    {
     "data": {
      "text/html": [
       "<div>\n",
       "<style scoped>\n",
       "    .dataframe tbody tr th:only-of-type {\n",
       "        vertical-align: middle;\n",
       "    }\n",
       "\n",
       "    .dataframe tbody tr th {\n",
       "        vertical-align: top;\n",
       "    }\n",
       "\n",
       "    .dataframe thead th {\n",
       "        text-align: right;\n",
       "    }\n",
       "</style>\n",
       "<table border=\"1\" class=\"dataframe\">\n",
       "  <thead>\n",
       "    <tr style=\"text-align: right;\">\n",
       "      <th></th>\n",
       "      <th>ID</th>\n",
       "      <th>Species</th>\n",
       "      <th>SAMPLE_DATE</th>\n",
       "      <th>IRRAD</th>\n",
       "      <th>IRRAD_DATE</th>\n",
       "      <th>DOB</th>\n",
       "      <th>SEX</th>\n",
       "      <th>TYPE</th>\n",
       "      <th>DAYS_SINCE_IRRAD</th>\n",
       "      <th>MONTHS_SINCE_IRRAD</th>\n",
       "      <th>...</th>\n",
       "      <th>LYMPHOCYTES_(%)</th>\n",
       "      <th>MONO_(%)</th>\n",
       "      <th>EOS_(%)</th>\n",
       "      <th>BASO_(%)</th>\n",
       "      <th>ABS_NEUT_(/uL)</th>\n",
       "      <th>ABS_LYMPH_(/uL)</th>\n",
       "      <th>ABS_MONO_(/uL)</th>\n",
       "      <th>ABS_EOS_(/uL)</th>\n",
       "      <th>ABS_BASO_(/uL)</th>\n",
       "      <th>PLATLET_COUNT_(K/uL)</th>\n",
       "    </tr>\n",
       "  </thead>\n",
       "  <tbody>\n",
       "    <tr>\n",
       "      <th>33</th>\n",
       "      <td>2046</td>\n",
       "      <td>Rhesus-Chinese</td>\n",
       "      <td>2017-11-02</td>\n",
       "      <td>Yes</td>\n",
       "      <td>2014-04-09</td>\n",
       "      <td>2007-07-03</td>\n",
       "      <td>F</td>\n",
       "      <td>Clinical</td>\n",
       "      <td>1303.0</td>\n",
       "      <td>43.0</td>\n",
       "      <td>...</td>\n",
       "      <td>44.6</td>\n",
       "      <td>5.5</td>\n",
       "      <td>0.5</td>\n",
       "      <td>0.0</td>\n",
       "      <td>1877</td>\n",
       "      <td>1695</td>\n",
       "      <td>209</td>\n",
       "      <td>19</td>\n",
       "      <td>0</td>\n",
       "      <td>276</td>\n",
       "    </tr>\n",
       "    <tr>\n",
       "      <th>34</th>\n",
       "      <td>2046</td>\n",
       "      <td>Rhesus-Chinese</td>\n",
       "      <td>2017-12-13</td>\n",
       "      <td>Yes</td>\n",
       "      <td>2014-04-09</td>\n",
       "      <td>2007-07-03</td>\n",
       "      <td>F</td>\n",
       "      <td>Clinical</td>\n",
       "      <td>1344.0</td>\n",
       "      <td>44.0</td>\n",
       "      <td>...</td>\n",
       "      <td>40.5</td>\n",
       "      <td>7.4</td>\n",
       "      <td>0.0</td>\n",
       "      <td>0.0</td>\n",
       "      <td>3647</td>\n",
       "      <td>2835</td>\n",
       "      <td>518</td>\n",
       "      <td>0</td>\n",
       "      <td>0</td>\n",
       "      <td>386</td>\n",
       "    </tr>\n",
       "    <tr>\n",
       "      <th>35</th>\n",
       "      <td>2046</td>\n",
       "      <td>Rhesus-Chinese</td>\n",
       "      <td>2018-01-02</td>\n",
       "      <td>Yes</td>\n",
       "      <td>2014-04-09</td>\n",
       "      <td>2007-07-03</td>\n",
       "      <td>F</td>\n",
       "      <td>Research</td>\n",
       "      <td>1364.0</td>\n",
       "      <td>45.0</td>\n",
       "      <td>...</td>\n",
       "      <td>39.9</td>\n",
       "      <td>6.0</td>\n",
       "      <td>0.3</td>\n",
       "      <td>0.3</td>\n",
       "      <td>2140</td>\n",
       "      <td>1596</td>\n",
       "      <td>240</td>\n",
       "      <td>12</td>\n",
       "      <td>12</td>\n",
       "      <td>309</td>\n",
       "    </tr>\n",
       "    <tr>\n",
       "      <th>36</th>\n",
       "      <td>2046</td>\n",
       "      <td>Rhesus-Chinese</td>\n",
       "      <td>2018-01-31</td>\n",
       "      <td>Yes</td>\n",
       "      <td>2014-04-09</td>\n",
       "      <td>2007-07-03</td>\n",
       "      <td>F</td>\n",
       "      <td>Research</td>\n",
       "      <td>1393.0</td>\n",
       "      <td>46.0</td>\n",
       "      <td>...</td>\n",
       "      <td>46.8</td>\n",
       "      <td>5.6</td>\n",
       "      <td>0.5</td>\n",
       "      <td>0.0</td>\n",
       "      <td>2025</td>\n",
       "      <td>2012</td>\n",
       "      <td>241</td>\n",
       "      <td>22</td>\n",
       "      <td>0</td>\n",
       "      <td>275</td>\n",
       "    </tr>\n",
       "    <tr>\n",
       "      <th>37</th>\n",
       "      <td>2046</td>\n",
       "      <td>Rhesus-Chinese</td>\n",
       "      <td>2018-04-05</td>\n",
       "      <td>Yes</td>\n",
       "      <td>2014-04-09</td>\n",
       "      <td>2007-07-03</td>\n",
       "      <td>F</td>\n",
       "      <td>Research</td>\n",
       "      <td>1457.0</td>\n",
       "      <td>48.0</td>\n",
       "      <td>...</td>\n",
       "      <td>22.8</td>\n",
       "      <td>5.8</td>\n",
       "      <td>0.1</td>\n",
       "      <td>0.1</td>\n",
       "      <td>6123</td>\n",
       "      <td>1961</td>\n",
       "      <td>499</td>\n",
       "      <td>9</td>\n",
       "      <td>9</td>\n",
       "      <td>325</td>\n",
       "    </tr>\n",
       "  </tbody>\n",
       "</table>\n",
       "<p>5 rows × 31 columns</p>\n",
       "</div>"
      ],
      "text/plain": [
       "      ID         Species SAMPLE_DATE IRRAD IRRAD_DATE        DOB SEX  \\\n",
       "33  2046  Rhesus-Chinese  2017-11-02   Yes 2014-04-09 2007-07-03   F   \n",
       "34  2046  Rhesus-Chinese  2017-12-13   Yes 2014-04-09 2007-07-03   F   \n",
       "35  2046  Rhesus-Chinese  2018-01-02   Yes 2014-04-09 2007-07-03   F   \n",
       "36  2046  Rhesus-Chinese  2018-01-31   Yes 2014-04-09 2007-07-03   F   \n",
       "37  2046  Rhesus-Chinese  2018-04-05   Yes 2014-04-09 2007-07-03   F   \n",
       "\n",
       "        TYPE  DAYS_SINCE_IRRAD  MONTHS_SINCE_IRRAD  ...  LYMPHOCYTES_(%)  \\\n",
       "33  Clinical            1303.0                43.0  ...             44.6   \n",
       "34  Clinical            1344.0                44.0  ...             40.5   \n",
       "35  Research            1364.0                45.0  ...             39.9   \n",
       "36  Research            1393.0                46.0  ...             46.8   \n",
       "37  Research            1457.0                48.0  ...             22.8   \n",
       "\n",
       "    MONO_(%)  EOS_(%)  BASO_(%)  ABS_NEUT_(/uL)  ABS_LYMPH_(/uL)  \\\n",
       "33       5.5      0.5       0.0            1877             1695   \n",
       "34       7.4      0.0       0.0            3647             2835   \n",
       "35       6.0      0.3       0.3            2140             1596   \n",
       "36       5.6      0.5       0.0            2025             2012   \n",
       "37       5.8      0.1       0.1            6123             1961   \n",
       "\n",
       "    ABS_MONO_(/uL)  ABS_EOS_(/uL)  ABS_BASO_(/uL)  PLATLET_COUNT_(K/uL)  \n",
       "33             209             19               0                   276  \n",
       "34             518              0               0                   386  \n",
       "35             240             12              12                   309  \n",
       "36             241             22               0                   275  \n",
       "37             499              9               9                   325  \n",
       "\n",
       "[5 rows x 31 columns]"
      ]
     },
     "execution_count": 114,
     "metadata": {},
     "output_type": "execute_result"
    }
   ],
   "source": [
    "# Make a df of a single monkey's blood analytic data\n",
    "single_minbio_df = minbio_monkey_df.copy()\n",
    "single_minbio_df = single_minbio_df[single_minbio_df['ID'] == '2046']\n",
    "single_minbio_df.set_index(['ID'])\n",
    "#single_minbio_df.reset_index()\n",
    "single_minbio_df.head()\n"
   ]
  },
  {
   "cell_type": "markdown",
   "id": "4c3e0720-7ea1-43c0-b952-ca787139f6dc",
   "metadata": {},
   "source": [
    "# ElasticNet\n",
    "- All inputs have to be numeric\n",
    "- Can't handle NaN\n",
    "- It looks like it works but I think something is up"
   ]
  },
  {
   "cell_type": "code",
   "execution_count": 3,
   "id": "8b422783-1af8-436a-a6e2-78e9a7884d5d",
   "metadata": {
    "tags": []
   },
   "outputs": [],
   "source": [
    "# evaluate an elastic net model on the dataset\n",
    "from numpy import mean\n",
    "from numpy import std\n",
    "from numpy import absolute\n",
    "from pandas import read_csv\n",
    "from sklearn.model_selection import cross_val_score\n",
    "from sklearn.model_selection import RepeatedKFold\n",
    "from sklearn.linear_model import ElasticNet"
   ]
  },
  {
   "cell_type": "code",
   "execution_count": 8,
   "id": "edf3ebfd-87b9-4c92-9cea-c43c27866868",
   "metadata": {
    "tags": []
   },
   "outputs": [
    {
     "data": {
      "text/html": [
       "<div>\n",
       "<style scoped>\n",
       "    .dataframe tbody tr th:only-of-type {\n",
       "        vertical-align: middle;\n",
       "    }\n",
       "\n",
       "    .dataframe tbody tr th {\n",
       "        vertical-align: top;\n",
       "    }\n",
       "\n",
       "    .dataframe thead th {\n",
       "        text-align: right;\n",
       "    }\n",
       "</style>\n",
       "<table border=\"1\" class=\"dataframe\">\n",
       "  <thead>\n",
       "    <tr style=\"text-align: right;\">\n",
       "      <th></th>\n",
       "      <th>ID</th>\n",
       "      <th>Species</th>\n",
       "      <th>SAMPLE_DATE</th>\n",
       "      <th>IRRAD</th>\n",
       "      <th>IRRAD_DATE</th>\n",
       "      <th>DOB</th>\n",
       "      <th>SEX</th>\n",
       "      <th>TYPE</th>\n",
       "      <th>DAYS_SINCE_IRRAD</th>\n",
       "      <th>MONTHS_SINCE_IRRAD</th>\n",
       "      <th>...</th>\n",
       "      <th>LYMPHOCYTES_(%)</th>\n",
       "      <th>MONO_(%)</th>\n",
       "      <th>EOS_(%)</th>\n",
       "      <th>BASO_(%)</th>\n",
       "      <th>ABS_NEUT_(/uL)</th>\n",
       "      <th>ABS_LYMPH_(/uL)</th>\n",
       "      <th>ABS_MONO_(/uL)</th>\n",
       "      <th>ABS_EOS_(/uL)</th>\n",
       "      <th>ABS_BASO_(/uL)</th>\n",
       "      <th>PLATLET_COUNT_(K/uL)</th>\n",
       "    </tr>\n",
       "  </thead>\n",
       "  <tbody>\n",
       "    <tr>\n",
       "      <th>0</th>\n",
       "      <td>2061</td>\n",
       "      <td>Rhesus-Chinese</td>\n",
       "      <td>2017-12-20</td>\n",
       "      <td>No</td>\n",
       "      <td>NaT</td>\n",
       "      <td>2007-05-14</td>\n",
       "      <td>F</td>\n",
       "      <td>Clinical</td>\n",
       "      <td>NaN</td>\n",
       "      <td>NaN</td>\n",
       "      <td>...</td>\n",
       "      <td>48.0</td>\n",
       "      <td>7.5</td>\n",
       "      <td>0.9</td>\n",
       "      <td>0.1</td>\n",
       "      <td>4742</td>\n",
       "      <td>5232</td>\n",
       "      <td>818</td>\n",
       "      <td>98</td>\n",
       "      <td>11</td>\n",
       "      <td>396</td>\n",
       "    </tr>\n",
       "    <tr>\n",
       "      <th>1</th>\n",
       "      <td>2061</td>\n",
       "      <td>Rhesus-Chinese</td>\n",
       "      <td>2018-01-29</td>\n",
       "      <td>No</td>\n",
       "      <td>NaT</td>\n",
       "      <td>2007-05-14</td>\n",
       "      <td>F</td>\n",
       "      <td>Research</td>\n",
       "      <td>NaN</td>\n",
       "      <td>NaN</td>\n",
       "      <td>...</td>\n",
       "      <td>21.4</td>\n",
       "      <td>4.5</td>\n",
       "      <td>0.1</td>\n",
       "      <td>0.0</td>\n",
       "      <td>6512</td>\n",
       "      <td>1883</td>\n",
       "      <td>396</td>\n",
       "      <td>9</td>\n",
       "      <td>0</td>\n",
       "      <td>334</td>\n",
       "    </tr>\n",
       "  </tbody>\n",
       "</table>\n",
       "<p>2 rows × 31 columns</p>\n",
       "</div>"
      ],
      "text/plain": [
       "     ID         Species SAMPLE_DATE IRRAD IRRAD_DATE        DOB SEX      TYPE  \\\n",
       "0  2061  Rhesus-Chinese  2017-12-20    No        NaT 2007-05-14   F  Clinical   \n",
       "1  2061  Rhesus-Chinese  2018-01-29    No        NaT 2007-05-14   F  Research   \n",
       "\n",
       "   DAYS_SINCE_IRRAD  MONTHS_SINCE_IRRAD  ...  LYMPHOCYTES_(%)  MONO_(%)  \\\n",
       "0               NaN                 NaN  ...             48.0       7.5   \n",
       "1               NaN                 NaN  ...             21.4       4.5   \n",
       "\n",
       "   EOS_(%)  BASO_(%)  ABS_NEUT_(/uL)  ABS_LYMPH_(/uL)  ABS_MONO_(/uL)  \\\n",
       "0      0.9       0.1            4742             5232             818   \n",
       "1      0.1       0.0            6512             1883             396   \n",
       "\n",
       "   ABS_EOS_(/uL)  ABS_BASO_(/uL)  PLATLET_COUNT_(K/uL)  \n",
       "0             98              11                   396  \n",
       "1              9               0                   334  \n",
       "\n",
       "[2 rows x 31 columns]"
      ]
     },
     "execution_count": 8,
     "metadata": {},
     "output_type": "execute_result"
    }
   ],
   "source": [
    "minbio_monkey_df.head(2)"
   ]
  },
  {
   "cell_type": "code",
   "execution_count": 19,
   "id": "3e359635-a139-4130-be5e-68178885b6c1",
   "metadata": {
    "tags": []
   },
   "outputs": [
    {
     "name": "stdout",
     "output_type": "stream",
     "text": [
      "Non-Irradiated Samples:970\n",
      "Irradiated Samples:3582\n",
      "Males:3608\n",
      "Females:944\n"
     ]
    }
   ],
   "source": [
    "#count control monkeys\n",
    "print('Non-Irradiated Samples:{}'.format(minbio_monkey_df['IRRAD'].value_counts()['No']))\n",
    " \n",
    "# Count the irradiated monkeys\n",
    "print('Irradiated Samples:{}'.format(minbio_monkey_df['IRRAD'].value_counts()['Yes']))\n",
    "\n",
    "#Count Males\n",
    "print('Males:{}'.format(minbio_monkey_df['SEX'].value_counts()['M']))\n",
    " \n",
    "# Count females\n",
    "print('Females:{}'.format(minbio_monkey_df['SEX'].value_counts()['F']))\n"
   ]
  },
  {
   "cell_type": "code",
   "execution_count": 39,
   "id": "b6ec1912-fa58-47ca-baa3-2b234d8c3109",
   "metadata": {
    "tags": []
   },
   "outputs": [
    {
     "data": {
      "text/html": [
       "<div>\n",
       "<style scoped>\n",
       "    .dataframe tbody tr th:only-of-type {\n",
       "        vertical-align: middle;\n",
       "    }\n",
       "\n",
       "    .dataframe tbody tr th {\n",
       "        vertical-align: top;\n",
       "    }\n",
       "\n",
       "    .dataframe thead th {\n",
       "        text-align: right;\n",
       "    }\n",
       "</style>\n",
       "<table border=\"1\" class=\"dataframe\">\n",
       "  <thead>\n",
       "    <tr style=\"text-align: right;\">\n",
       "      <th></th>\n",
       "      <th>ID</th>\n",
       "      <th>IRRAD</th>\n",
       "      <th>SEX</th>\n",
       "      <th>DAYS_SINCE_IRRAD</th>\n",
       "      <th>MONTHS_SINCE_IRRAD</th>\n",
       "      <th>MONTHS AT IRRAD</th>\n",
       "      <th>DOSE_(Gy)</th>\n",
       "      <th>AGE</th>\n",
       "      <th>WBC_(K/uL)</th>\n",
       "      <th>RBC_(M/uL)</th>\n",
       "      <th>...</th>\n",
       "      <th>LYMPHOCYTES_(%)</th>\n",
       "      <th>MONO_(%)</th>\n",
       "      <th>EOS_(%)</th>\n",
       "      <th>BASO_(%)</th>\n",
       "      <th>ABS_NEUT_(/uL)</th>\n",
       "      <th>ABS_LYMPH_(/uL)</th>\n",
       "      <th>ABS_MONO_(/uL)</th>\n",
       "      <th>ABS_EOS_(/uL)</th>\n",
       "      <th>ABS_BASO_(/uL)</th>\n",
       "      <th>PLATLET_COUNT_(K/uL)</th>\n",
       "    </tr>\n",
       "  </thead>\n",
       "  <tbody>\n",
       "    <tr>\n",
       "      <th>0</th>\n",
       "      <td>2061</td>\n",
       "      <td>0</td>\n",
       "      <td>0</td>\n",
       "      <td>0.0</td>\n",
       "      <td>0.0</td>\n",
       "      <td>0.0</td>\n",
       "      <td>0.0</td>\n",
       "      <td>10.6</td>\n",
       "      <td>10.9</td>\n",
       "      <td>5.05</td>\n",
       "      <td>...</td>\n",
       "      <td>48.0</td>\n",
       "      <td>7.5</td>\n",
       "      <td>0.9</td>\n",
       "      <td>0.1</td>\n",
       "      <td>4742</td>\n",
       "      <td>5232</td>\n",
       "      <td>818</td>\n",
       "      <td>98</td>\n",
       "      <td>11</td>\n",
       "      <td>396</td>\n",
       "    </tr>\n",
       "    <tr>\n",
       "      <th>1</th>\n",
       "      <td>2061</td>\n",
       "      <td>0</td>\n",
       "      <td>0</td>\n",
       "      <td>0.0</td>\n",
       "      <td>0.0</td>\n",
       "      <td>0.0</td>\n",
       "      <td>0.0</td>\n",
       "      <td>10.7</td>\n",
       "      <td>8.8</td>\n",
       "      <td>4.59</td>\n",
       "      <td>...</td>\n",
       "      <td>21.4</td>\n",
       "      <td>4.5</td>\n",
       "      <td>0.1</td>\n",
       "      <td>0.0</td>\n",
       "      <td>6512</td>\n",
       "      <td>1883</td>\n",
       "      <td>396</td>\n",
       "      <td>9</td>\n",
       "      <td>0</td>\n",
       "      <td>334</td>\n",
       "    </tr>\n",
       "    <tr>\n",
       "      <th>2</th>\n",
       "      <td>2061</td>\n",
       "      <td>0</td>\n",
       "      <td>0</td>\n",
       "      <td>0.0</td>\n",
       "      <td>0.0</td>\n",
       "      <td>0.0</td>\n",
       "      <td>0.0</td>\n",
       "      <td>10.9</td>\n",
       "      <td>17.5</td>\n",
       "      <td>4.74</td>\n",
       "      <td>...</td>\n",
       "      <td>8.5</td>\n",
       "      <td>3.4</td>\n",
       "      <td>0.1</td>\n",
       "      <td>0.1</td>\n",
       "      <td>15383</td>\n",
       "      <td>1488</td>\n",
       "      <td>595</td>\n",
       "      <td>18</td>\n",
       "      <td>18</td>\n",
       "      <td>321</td>\n",
       "    </tr>\n",
       "    <tr>\n",
       "      <th>3</th>\n",
       "      <td>2061</td>\n",
       "      <td>0</td>\n",
       "      <td>0</td>\n",
       "      <td>0.0</td>\n",
       "      <td>0.0</td>\n",
       "      <td>0.0</td>\n",
       "      <td>0.0</td>\n",
       "      <td>11.3</td>\n",
       "      <td>21.1</td>\n",
       "      <td>4.76</td>\n",
       "      <td>...</td>\n",
       "      <td>5.5</td>\n",
       "      <td>2.7</td>\n",
       "      <td>0.1</td>\n",
       "      <td>0.0</td>\n",
       "      <td>19349</td>\n",
       "      <td>1161</td>\n",
       "      <td>570</td>\n",
       "      <td>21</td>\n",
       "      <td>0</td>\n",
       "      <td>310</td>\n",
       "    </tr>\n",
       "    <tr>\n",
       "      <th>4</th>\n",
       "      <td>2061</td>\n",
       "      <td>0</td>\n",
       "      <td>0</td>\n",
       "      <td>0.0</td>\n",
       "      <td>0.0</td>\n",
       "      <td>0.0</td>\n",
       "      <td>0.0</td>\n",
       "      <td>11.6</td>\n",
       "      <td>11.5</td>\n",
       "      <td>4.53</td>\n",
       "      <td>...</td>\n",
       "      <td>14.5</td>\n",
       "      <td>6.6</td>\n",
       "      <td>0.1</td>\n",
       "      <td>0.0</td>\n",
       "      <td>9062</td>\n",
       "      <td>1668</td>\n",
       "      <td>759</td>\n",
       "      <td>12</td>\n",
       "      <td>0</td>\n",
       "      <td>486</td>\n",
       "    </tr>\n",
       "  </tbody>\n",
       "</table>\n",
       "<p>5 rows × 26 columns</p>\n",
       "</div>"
      ],
      "text/plain": [
       "     ID  IRRAD  SEX  DAYS_SINCE_IRRAD  MONTHS_SINCE_IRRAD  MONTHS AT IRRAD  \\\n",
       "0  2061      0    0               0.0                 0.0              0.0   \n",
       "1  2061      0    0               0.0                 0.0              0.0   \n",
       "2  2061      0    0               0.0                 0.0              0.0   \n",
       "3  2061      0    0               0.0                 0.0              0.0   \n",
       "4  2061      0    0               0.0                 0.0              0.0   \n",
       "\n",
       "   DOSE_(Gy)   AGE  WBC_(K/uL)  RBC_(M/uL)  ...  LYMPHOCYTES_(%)  MONO_(%)  \\\n",
       "0        0.0  10.6        10.9        5.05  ...             48.0       7.5   \n",
       "1        0.0  10.7         8.8        4.59  ...             21.4       4.5   \n",
       "2        0.0  10.9        17.5        4.74  ...              8.5       3.4   \n",
       "3        0.0  11.3        21.1        4.76  ...              5.5       2.7   \n",
       "4        0.0  11.6        11.5        4.53  ...             14.5       6.6   \n",
       "\n",
       "   EOS_(%)  BASO_(%)  ABS_NEUT_(/uL)  ABS_LYMPH_(/uL)  ABS_MONO_(/uL)  \\\n",
       "0      0.9       0.1            4742             5232             818   \n",
       "1      0.1       0.0            6512             1883             396   \n",
       "2      0.1       0.1           15383             1488             595   \n",
       "3      0.1       0.0           19349             1161             570   \n",
       "4      0.1       0.0            9062             1668             759   \n",
       "\n",
       "   ABS_EOS_(/uL)  ABS_BASO_(/uL)  PLATLET_COUNT_(K/uL)  \n",
       "0             98              11                   396  \n",
       "1              9               0                   334  \n",
       "2             18              18                   321  \n",
       "3             21               0                   310  \n",
       "4             12               0                   486  \n",
       "\n",
       "[5 rows x 26 columns]"
      ]
     },
     "execution_count": 39,
     "metadata": {},
     "output_type": "execute_result"
    }
   ],
   "source": [
    "#make a parent df\n",
    "minbio_monkey_df.copy()\n",
    "elnet_df = minbio_monkey_df\n",
    "\n",
    "#Exclude datetime and catagorical feautres\n",
    "elnet_df=elnet_df.drop(['Species','IRRAD_DATE','DOB','SAMPLE_DATE','TYPE'],axis=1)\n",
    "\n",
    "#convert irrad(yes=1, no=0) and sex (male=1, female=0) to binary \n",
    "elnet_df['SEX'] = elnet_df['SEX'].map({'M':1, 'F': 0})\n",
    "elnet_df['IRRAD'] = elnet_df['IRRAD'].map({'Yes':1, 'No': 0})\n",
    "\n",
    "\n",
    "# Take care of NaN\n",
    "elnet_df['DOSE_(Gy)'] = elnet_df['DOSE_(Gy)'].fillna(0)\n",
    "elnet_df['DAYS_SINCE_IRRAD'] = elnet_df['DAYS_SINCE_IRRAD'].fillna(0)\n",
    "elnet_df['MONTHS_SINCE_IRRAD'] = elnet_df['MONTHS_SINCE_IRRAD'].fillna(0)\n",
    "elnet_df['MONTHS AT IRRAD'] = elnet_df['MONTHS AT IRRAD'].fillna(0)\n",
    "\n",
    "elnet_df.head(5)"
   ]
  },
  {
   "cell_type": "code",
   "execution_count": 40,
   "id": "f8518fa3-d0c0-49a6-bd93-7e14b8d53dd3",
   "metadata": {
    "tags": []
   },
   "outputs": [
    {
     "name": "stdout",
     "output_type": "stream",
     "text": [
      "Non-Irradiated Samples:970\n",
      "Irradiated Samples:3582\n",
      "Males:3608\n",
      "Females:944\n"
     ]
    }
   ],
   "source": [
    "#count control monkeys\n",
    "print('Non-Irradiated Samples:{}'.format(elnet_df['IRRAD'].value_counts()[0]))\n",
    " \n",
    "# Count the irradiated monkeys\n",
    "print('Irradiated Samples:{}'.format(elnet_df['IRRAD'].value_counts()[1]))\n",
    "\n",
    "#Count Males\n",
    "print('Males:{}'.format(elnet_df['SEX'].value_counts()[1]))\n",
    " \n",
    "# Count females\n",
    "print('Females:{}'.format(elnet_df['SEX'].value_counts()[0]))"
   ]
  },
  {
   "cell_type": "markdown",
   "id": "30c35e71-bbce-4f09-bff5-e4317625b1a8",
   "metadata": {},
   "source": [
    "## With the NaN converted to 0"
   ]
  },
  {
   "cell_type": "code",
   "execution_count": 94,
   "id": "6c05ae16-f26a-47f7-8fef-6b286e41af0e",
   "metadata": {
    "tags": []
   },
   "outputs": [
    {
     "name": "stderr",
     "output_type": "stream",
     "text": [
      "iteritems is deprecated and will be removed in a future version. Use .items instead.\n"
     ]
    }
   ],
   "source": [
    "y=elnet_df['LYMPHOCYTES_(%)']\n",
    "X=elnet_df.drop(['ID','LYMPHOCYTES_(%)'],axis=1)\n",
    "\n",
    "data= train_test_split(X, y, test_size=0.3, random_state=0)\n",
    "X_train, X_validation, y_train, y_validation= data\n",
    "\n",
    "train_pool = Pool(\n",
    "    data = X_train,\n",
    "    label = y_train\n",
    ")\n",
    "\n",
    "\n",
    "validation_pool = Pool(\n",
    "    data = X_validation,\n",
    "    label = y_validation,\n",
    ")\n"
   ]
  },
  {
   "cell_type": "code",
   "execution_count": 95,
   "id": "4bf81520-4cd9-48eb-8d26-b7d15f1a61f6",
   "metadata": {
    "tags": []
   },
   "outputs": [
    {
     "data": {
      "text/html": [
       "<style>#sk-container-id-9 {color: black;background-color: white;}#sk-container-id-9 pre{padding: 0;}#sk-container-id-9 div.sk-toggleable {background-color: white;}#sk-container-id-9 label.sk-toggleable__label {cursor: pointer;display: block;width: 100%;margin-bottom: 0;padding: 0.3em;box-sizing: border-box;text-align: center;}#sk-container-id-9 label.sk-toggleable__label-arrow:before {content: \"▸\";float: left;margin-right: 0.25em;color: #696969;}#sk-container-id-9 label.sk-toggleable__label-arrow:hover:before {color: black;}#sk-container-id-9 div.sk-estimator:hover label.sk-toggleable__label-arrow:before {color: black;}#sk-container-id-9 div.sk-toggleable__content {max-height: 0;max-width: 0;overflow: hidden;text-align: left;background-color: #f0f8ff;}#sk-container-id-9 div.sk-toggleable__content pre {margin: 0.2em;color: black;border-radius: 0.25em;background-color: #f0f8ff;}#sk-container-id-9 input.sk-toggleable__control:checked~div.sk-toggleable__content {max-height: 200px;max-width: 100%;overflow: auto;}#sk-container-id-9 input.sk-toggleable__control:checked~label.sk-toggleable__label-arrow:before {content: \"▾\";}#sk-container-id-9 div.sk-estimator input.sk-toggleable__control:checked~label.sk-toggleable__label {background-color: #d4ebff;}#sk-container-id-9 div.sk-label input.sk-toggleable__control:checked~label.sk-toggleable__label {background-color: #d4ebff;}#sk-container-id-9 input.sk-hidden--visually {border: 0;clip: rect(1px 1px 1px 1px);clip: rect(1px, 1px, 1px, 1px);height: 1px;margin: -1px;overflow: hidden;padding: 0;position: absolute;width: 1px;}#sk-container-id-9 div.sk-estimator {font-family: monospace;background-color: #f0f8ff;border: 1px dotted black;border-radius: 0.25em;box-sizing: border-box;margin-bottom: 0.5em;}#sk-container-id-9 div.sk-estimator:hover {background-color: #d4ebff;}#sk-container-id-9 div.sk-parallel-item::after {content: \"\";width: 100%;border-bottom: 1px solid gray;flex-grow: 1;}#sk-container-id-9 div.sk-label:hover label.sk-toggleable__label {background-color: #d4ebff;}#sk-container-id-9 div.sk-serial::before {content: \"\";position: absolute;border-left: 1px solid gray;box-sizing: border-box;top: 0;bottom: 0;left: 50%;z-index: 0;}#sk-container-id-9 div.sk-serial {display: flex;flex-direction: column;align-items: center;background-color: white;padding-right: 0.2em;padding-left: 0.2em;position: relative;}#sk-container-id-9 div.sk-item {position: relative;z-index: 1;}#sk-container-id-9 div.sk-parallel {display: flex;align-items: stretch;justify-content: center;background-color: white;position: relative;}#sk-container-id-9 div.sk-item::before, #sk-container-id-9 div.sk-parallel-item::before {content: \"\";position: absolute;border-left: 1px solid gray;box-sizing: border-box;top: 0;bottom: 0;left: 50%;z-index: -1;}#sk-container-id-9 div.sk-parallel-item {display: flex;flex-direction: column;z-index: 1;position: relative;background-color: white;}#sk-container-id-9 div.sk-parallel-item:first-child::after {align-self: flex-end;width: 50%;}#sk-container-id-9 div.sk-parallel-item:last-child::after {align-self: flex-start;width: 50%;}#sk-container-id-9 div.sk-parallel-item:only-child::after {width: 0;}#sk-container-id-9 div.sk-dashed-wrapped {border: 1px dashed gray;margin: 0 0.4em 0.5em 0.4em;box-sizing: border-box;padding-bottom: 0.4em;background-color: white;}#sk-container-id-9 div.sk-label label {font-family: monospace;font-weight: bold;display: inline-block;line-height: 1.2em;}#sk-container-id-9 div.sk-label-container {text-align: center;}#sk-container-id-9 div.sk-container {/* jupyter's `normalize.less` sets `[hidden] { display: none; }` but bootstrap.min.css set `[hidden] { display: none !important; }` so we also need the `!important` here to be able to override the default hidden behavior on the sphinx rendered scikit-learn.org. See: https://github.com/scikit-learn/scikit-learn/issues/21755 */display: inline-block !important;position: relative;}#sk-container-id-9 div.sk-text-repr-fallback {display: none;}</style><div id=\"sk-container-id-9\" class=\"sk-top-container\"><div class=\"sk-text-repr-fallback\"><pre>ElasticNet()</pre><b>In a Jupyter environment, please rerun this cell to show the HTML representation or trust the notebook. <br />On GitHub, the HTML representation is unable to render, please try loading this page with nbviewer.org.</b></div><div class=\"sk-container\" hidden><div class=\"sk-item\"><div class=\"sk-estimator sk-toggleable\"><input class=\"sk-toggleable__control sk-hidden--visually\" id=\"sk-estimator-id-9\" type=\"checkbox\" checked><label for=\"sk-estimator-id-9\" class=\"sk-toggleable__label sk-toggleable__label-arrow\">ElasticNet</label><div class=\"sk-toggleable__content\"><pre>ElasticNet()</pre></div></div></div></div></div>"
      ],
      "text/plain": [
       "ElasticNet()"
      ]
     },
     "execution_count": 95,
     "metadata": {},
     "output_type": "execute_result"
    }
   ],
   "source": [
    "\n",
    "# define model\n",
    "model = ElasticNet(alpha=1.0, l1_ratio=0.5)\n",
    "# fit model\n",
    "model.fit(X_train, y_train)"
   ]
  },
  {
   "cell_type": "code",
   "execution_count": 96,
   "id": "931918ec-1bdb-45b1-ad4f-cd42d7f2af4f",
   "metadata": {
    "tags": []
   },
   "outputs": [
    {
     "name": "stdin",
     "output_type": "stream",
     "text": [
      "Plot Title: t\n"
     ]
    },
    {
     "data": {
      "image/png": "[encoded data removed]",
      "text/plain": [
       "<Figure size 640x480 with 1 Axes>"
      ]
     },
     "metadata": {},
     "output_type": "display_data"
    }
   ],
   "source": [
    "# make a prediction\n",
    "a = model.predict(X_validation)\n",
    "a_df = pd.DataFrame(a)\n",
    "\n",
    "\n",
    "### Plotting ###\n",
    "# Plot the predictions\n",
    "fig, ax = plt.subplots()\n",
    "ax.scatter(y_validation, a_df)\n",
    "\n",
    "ax.plot([y.min(), y.max()], [y.min(), y.max()], \n",
    "        'k-', \n",
    "        linewidth=1, \n",
    "        markersize=120\n",
    ")\n",
    "\n",
    "#Plot axis titles\n",
    "ax.set_xlabel('Actual LYMPHOCYTES_(%)')\n",
    "ax.set_ylabel('Predicted LYMPHOCYTES_(%')\n",
    "\n",
    "#Title of the plot\n",
    "plot_title = input(\"Plot Title:\")\n",
    "#show_iters = model.get_param('iterations')  \n",
    "ax.set_title(plot_title #+ \"\\nIterations: {}\".format(str(show_iters))\n",
    "             ,fontsize=15\n",
    ")\n",
    "\n",
    "#cordinates for the R2 value box\n",
    "xmin, xmax, ymin, ymax = plt.axis()\n",
    "yrange = ymax-ymin\n",
    "xrange = xmax-xmin\n",
    "\n",
    "\n",
    "#Plotting the R2 score\n",
    "ax.annotate(\"R2: {}\".format(str(r2_score(y_validation, a_df).round(2))),\n",
    "            xy=((xmin+(0.1*(xrange))),(ymax-(0.1*(yrange)))), \n",
    "            fontsize=12,\n",
    "            bbox={'facecolor': 'white', 'alpha': 1, 'pad': 10}\n",
    ")\n",
    "\n",
    "plt.show() \n"
   ]
  },
  {
   "cell_type": "markdown",
   "id": "2ac191f9-dc0d-4f60-bb06-c4bd4d5827ba",
   "metadata": {},
   "source": [
    "## Without NaN converted to 0"
   ]
  },
  {
   "cell_type": "code",
   "execution_count": 100,
   "id": "b8dc5134-7418-4229-a85e-8506ab86761b",
   "metadata": {
    "tags": []
   },
   "outputs": [
    {
     "data": {
      "text/html": [
       "<div>\n",
       "<style scoped>\n",
       "    .dataframe tbody tr th:only-of-type {\n",
       "        vertical-align: middle;\n",
       "    }\n",
       "\n",
       "    .dataframe tbody tr th {\n",
       "        vertical-align: top;\n",
       "    }\n",
       "\n",
       "    .dataframe thead th {\n",
       "        text-align: right;\n",
       "    }\n",
       "</style>\n",
       "<table border=\"1\" class=\"dataframe\">\n",
       "  <thead>\n",
       "    <tr style=\"text-align: right;\">\n",
       "      <th></th>\n",
       "      <th>ID</th>\n",
       "      <th>IRRAD</th>\n",
       "      <th>SEX</th>\n",
       "      <th>DOSE_(Gy)</th>\n",
       "      <th>AGE</th>\n",
       "      <th>WBC_(K/uL)</th>\n",
       "      <th>RBC_(M/uL)</th>\n",
       "      <th>Hemaglobin_(HGB_g/dL)</th>\n",
       "      <th>Hemocrit_(HCT_%)</th>\n",
       "      <th>Mean_corpuscular_volume_(MCV_fL)</th>\n",
       "      <th>...</th>\n",
       "      <th>LYMPHOCYTES_(%)</th>\n",
       "      <th>MONO_(%)</th>\n",
       "      <th>EOS_(%)</th>\n",
       "      <th>BASO_(%)</th>\n",
       "      <th>ABS_NEUT_(/uL)</th>\n",
       "      <th>ABS_LYMPH_(/uL)</th>\n",
       "      <th>ABS_MONO_(/uL)</th>\n",
       "      <th>ABS_EOS_(/uL)</th>\n",
       "      <th>ABS_BASO_(/uL)</th>\n",
       "      <th>PLATLET_COUNT_(K/uL)</th>\n",
       "    </tr>\n",
       "  </thead>\n",
       "  <tbody>\n",
       "    <tr>\n",
       "      <th>0</th>\n",
       "      <td>2061</td>\n",
       "      <td>0</td>\n",
       "      <td>0</td>\n",
       "      <td>0.0</td>\n",
       "      <td>10.6</td>\n",
       "      <td>10.9</td>\n",
       "      <td>5.05</td>\n",
       "      <td>12.0</td>\n",
       "      <td>35.7</td>\n",
       "      <td>70.69</td>\n",
       "      <td>...</td>\n",
       "      <td>48.0</td>\n",
       "      <td>7.5</td>\n",
       "      <td>0.9</td>\n",
       "      <td>0.1</td>\n",
       "      <td>4742</td>\n",
       "      <td>5232</td>\n",
       "      <td>818</td>\n",
       "      <td>98</td>\n",
       "      <td>11</td>\n",
       "      <td>396</td>\n",
       "    </tr>\n",
       "    <tr>\n",
       "      <th>1</th>\n",
       "      <td>2061</td>\n",
       "      <td>0</td>\n",
       "      <td>0</td>\n",
       "      <td>0.0</td>\n",
       "      <td>10.7</td>\n",
       "      <td>8.8</td>\n",
       "      <td>4.59</td>\n",
       "      <td>10.5</td>\n",
       "      <td>33.3</td>\n",
       "      <td>72.55</td>\n",
       "      <td>...</td>\n",
       "      <td>21.4</td>\n",
       "      <td>4.5</td>\n",
       "      <td>0.1</td>\n",
       "      <td>0.0</td>\n",
       "      <td>6512</td>\n",
       "      <td>1883</td>\n",
       "      <td>396</td>\n",
       "      <td>9</td>\n",
       "      <td>0</td>\n",
       "      <td>334</td>\n",
       "    </tr>\n",
       "  </tbody>\n",
       "</table>\n",
       "<p>2 rows × 23 columns</p>\n",
       "</div>"
      ],
      "text/plain": [
       "     ID  IRRAD  SEX  DOSE_(Gy)   AGE  WBC_(K/uL)  RBC_(M/uL)  \\\n",
       "0  2061      0    0        0.0  10.6        10.9        5.05   \n",
       "1  2061      0    0        0.0  10.7         8.8        4.59   \n",
       "\n",
       "   Hemaglobin_(HGB_g/dL)  Hemocrit_(HCT_%)  Mean_corpuscular_volume_(MCV_fL)  \\\n",
       "0                   12.0              35.7                             70.69   \n",
       "1                   10.5              33.3                             72.55   \n",
       "\n",
       "   ...  LYMPHOCYTES_(%)  MONO_(%)  EOS_(%)  BASO_(%)  ABS_NEUT_(/uL)  \\\n",
       "0  ...             48.0       7.5      0.9       0.1            4742   \n",
       "1  ...             21.4       4.5      0.1       0.0            6512   \n",
       "\n",
       "   ABS_LYMPH_(/uL)  ABS_MONO_(/uL)  ABS_EOS_(/uL)  ABS_BASO_(/uL)  \\\n",
       "0             5232             818             98              11   \n",
       "1             1883             396              9               0   \n",
       "\n",
       "   PLATLET_COUNT_(K/uL)  \n",
       "0                   396  \n",
       "1                   334  \n",
       "\n",
       "[2 rows x 23 columns]"
      ]
     },
     "execution_count": 100,
     "metadata": {},
     "output_type": "execute_result"
    }
   ],
   "source": [
    "#make a parent df\n",
    "minbio_monkey_df.copy()\n",
    "no_df = minbio_monkey_df\n",
    "\n",
    "#Exclude datetime and catagorical feautres\n",
    "no_df=no_df.drop(['Species','IRRAD_DATE','DOB','SAMPLE_DATE','TYPE','DAYS_SINCE_IRRAD', 'MONTHS_SINCE_IRRAD', 'MONTHS AT IRRAD'],axis=1)\n",
    "\n",
    "#convert irrad(yes=1, no=0) and sex (male=1, female=0) to binary \n",
    "no_df['SEX'] = no_df['SEX'].map({'M':1, 'F': 0})\n",
    "no_df['IRRAD'] = no_df['IRRAD'].map({'Yes':1, 'No': 0})\n",
    "no_df['DOSE_(Gy)'] = no_df['DOSE_(Gy)'].fillna(0)\n",
    "\n",
    "no_df.head(2)"
   ]
  },
  {
   "cell_type": "code",
   "execution_count": 101,
   "id": "d668d064-2399-4bde-96ab-6e8a581a4951",
   "metadata": {
    "tags": []
   },
   "outputs": [
    {
     "name": "stderr",
     "output_type": "stream",
     "text": [
      "iteritems is deprecated and will be removed in a future version. Use .items instead.\n"
     ]
    }
   ],
   "source": [
    "y=no_df['LYMPHOCYTES_(%)']\n",
    "X=no_df.drop(['ID','LYMPHOCYTES_(%)'],axis=1)\n",
    "\n",
    "data= train_test_split(X, y, test_size=0.3, random_state=0)\n",
    "X_train, X_validation, y_train, y_validation= data\n",
    "\n",
    "train_pool = Pool(\n",
    "    data = X_train,\n",
    "    label = y_train\n",
    ")\n",
    "\n",
    "\n",
    "validation_pool = Pool(\n",
    "    data = X_validation,\n",
    "    label = y_validation,\n",
    ")"
   ]
  },
  {
   "cell_type": "code",
   "execution_count": 102,
   "id": "12ae3c97-cc20-4771-876d-5f94d1fdf553",
   "metadata": {
    "tags": []
   },
   "outputs": [
    {
     "data": {
      "text/html": [
       "<style>#sk-container-id-10 {color: black;background-color: white;}#sk-container-id-10 pre{padding: 0;}#sk-container-id-10 div.sk-toggleable {background-color: white;}#sk-container-id-10 label.sk-toggleable__label {cursor: pointer;display: block;width: 100%;margin-bottom: 0;padding: 0.3em;box-sizing: border-box;text-align: center;}#sk-container-id-10 label.sk-toggleable__label-arrow:before {content: \"▸\";float: left;margin-right: 0.25em;color: #696969;}#sk-container-id-10 label.sk-toggleable__label-arrow:hover:before {color: black;}#sk-container-id-10 div.sk-estimator:hover label.sk-toggleable__label-arrow:before {color: black;}#sk-container-id-10 div.sk-toggleable__content {max-height: 0;max-width: 0;overflow: hidden;text-align: left;background-color: #f0f8ff;}#sk-container-id-10 div.sk-toggleable__content pre {margin: 0.2em;color: black;border-radius: 0.25em;background-color: #f0f8ff;}#sk-container-id-10 input.sk-toggleable__control:checked~div.sk-toggleable__content {max-height: 200px;max-width: 100%;overflow: auto;}#sk-container-id-10 input.sk-toggleable__control:checked~label.sk-toggleable__label-arrow:before {content: \"▾\";}#sk-container-id-10 div.sk-estimator input.sk-toggleable__control:checked~label.sk-toggleable__label {background-color: #d4ebff;}#sk-container-id-10 div.sk-label input.sk-toggleable__control:checked~label.sk-toggleable__label {background-color: #d4ebff;}#sk-container-id-10 input.sk-hidden--visually {border: 0;clip: rect(1px 1px 1px 1px);clip: rect(1px, 1px, 1px, 1px);height: 1px;margin: -1px;overflow: hidden;padding: 0;position: absolute;width: 1px;}#sk-container-id-10 div.sk-estimator {font-family: monospace;background-color: #f0f8ff;border: 1px dotted black;border-radius: 0.25em;box-sizing: border-box;margin-bottom: 0.5em;}#sk-container-id-10 div.sk-estimator:hover {background-color: #d4ebff;}#sk-container-id-10 div.sk-parallel-item::after {content: \"\";width: 100%;border-bottom: 1px solid gray;flex-grow: 1;}#sk-container-id-10 div.sk-label:hover label.sk-toggleable__label {background-color: #d4ebff;}#sk-container-id-10 div.sk-serial::before {content: \"\";position: absolute;border-left: 1px solid gray;box-sizing: border-box;top: 0;bottom: 0;left: 50%;z-index: 0;}#sk-container-id-10 div.sk-serial {display: flex;flex-direction: column;align-items: center;background-color: white;padding-right: 0.2em;padding-left: 0.2em;position: relative;}#sk-container-id-10 div.sk-item {position: relative;z-index: 1;}#sk-container-id-10 div.sk-parallel {display: flex;align-items: stretch;justify-content: center;background-color: white;position: relative;}#sk-container-id-10 div.sk-item::before, #sk-container-id-10 div.sk-parallel-item::before {content: \"\";position: absolute;border-left: 1px solid gray;box-sizing: border-box;top: 0;bottom: 0;left: 50%;z-index: -1;}#sk-container-id-10 div.sk-parallel-item {display: flex;flex-direction: column;z-index: 1;position: relative;background-color: white;}#sk-container-id-10 div.sk-parallel-item:first-child::after {align-self: flex-end;width: 50%;}#sk-container-id-10 div.sk-parallel-item:last-child::after {align-self: flex-start;width: 50%;}#sk-container-id-10 div.sk-parallel-item:only-child::after {width: 0;}#sk-container-id-10 div.sk-dashed-wrapped {border: 1px dashed gray;margin: 0 0.4em 0.5em 0.4em;box-sizing: border-box;padding-bottom: 0.4em;background-color: white;}#sk-container-id-10 div.sk-label label {font-family: monospace;font-weight: bold;display: inline-block;line-height: 1.2em;}#sk-container-id-10 div.sk-label-container {text-align: center;}#sk-container-id-10 div.sk-container {/* jupyter's `normalize.less` sets `[hidden] { display: none; }` but bootstrap.min.css set `[hidden] { display: none !important; }` so we also need the `!important` here to be able to override the default hidden behavior on the sphinx rendered scikit-learn.org. See: https://github.com/scikit-learn/scikit-learn/issues/21755 */display: inline-block !important;position: relative;}#sk-container-id-10 div.sk-text-repr-fallback {display: none;}</style><div id=\"sk-container-id-10\" class=\"sk-top-container\"><div class=\"sk-text-repr-fallback\"><pre>ElasticNet()</pre><b>In a Jupyter environment, please rerun this cell to show the HTML representation or trust the notebook. <br />On GitHub, the HTML representation is unable to render, please try loading this page with nbviewer.org.</b></div><div class=\"sk-container\" hidden><div class=\"sk-item\"><div class=\"sk-estimator sk-toggleable\"><input class=\"sk-toggleable__control sk-hidden--visually\" id=\"sk-estimator-id-10\" type=\"checkbox\" checked><label for=\"sk-estimator-id-10\" class=\"sk-toggleable__label sk-toggleable__label-arrow\">ElasticNet</label><div class=\"sk-toggleable__content\"><pre>ElasticNet()</pre></div></div></div></div></div>"
      ],
      "text/plain": [
       "ElasticNet()"
      ]
     },
     "execution_count": 102,
     "metadata": {},
     "output_type": "execute_result"
    }
   ],
   "source": [
    "# define model\n",
    "model = ElasticNet(alpha=1.0, l1_ratio=0.5)\n",
    "# fit model\n",
    "model.fit(X_train, y_train)"
   ]
  },
  {
   "cell_type": "code",
   "execution_count": 103,
   "id": "e1848c3e-b5d6-427a-a91e-37242c680d3d",
   "metadata": {
    "tags": []
   },
   "outputs": [
    {
     "name": "stdin",
     "output_type": "stream",
     "text": [
      "Plot Title: t\n"
     ]
    },
    {
     "data": {
      "image/png": "[encoded data removed]",
      "text/plain": [
       "<Figure size 640x480 with 1 Axes>"
      ]
     },
     "metadata": {},
     "output_type": "display_data"
    }
   ],
   "source": [
    "# make a prediction\n",
    "a = model.predict(X_validation)\n",
    "a_df = pd.DataFrame(a)\n",
    "\n",
    "\n",
    "### Plotting ###\n",
    "# Plot the predictions\n",
    "fig, ax = plt.subplots()\n",
    "ax.scatter(y_validation, a_df)\n",
    "\n",
    "ax.plot([y.min(), y.max()], [y.min(), y.max()], \n",
    "        'k-', \n",
    "        linewidth=1, \n",
    "        markersize=120\n",
    ")\n",
    "\n",
    "#Plot axis titles\n",
    "ax.set_xlabel('Actual LYMPHOCYTES_(%)')\n",
    "ax.set_ylabel('Predicted LYMPHOCYTES_(%')\n",
    "\n",
    "#Title of the plot\n",
    "plot_title = input(\"Plot Title:\")\n",
    "#show_iters = model.get_param('iterations')  \n",
    "ax.set_title(plot_title #+ \"\\nIterations: {}\".format(str(show_iters))\n",
    "             ,fontsize=15\n",
    ")\n",
    "\n",
    "#cordinates for the R2 value box\n",
    "xmin, xmax, ymin, ymax = plt.axis()\n",
    "yrange = ymax-ymin\n",
    "xrange = xmax-xmin\n",
    "\n",
    "\n",
    "#Plotting the R2 score\n",
    "ax.annotate(\"R2: {}\".format(str(r2_score(y_validation, a_df).round(2))),\n",
    "            xy=((xmin+(0.1*(xrange))),(ymax-(0.1*(yrange)))), \n",
    "            fontsize=12,\n",
    "            bbox={'facecolor': 'white', 'alpha': 1, 'pad': 10}\n",
    ")\n",
    "\n",
    "plt.show() \n"
   ]
  },
  {
   "cell_type": "markdown",
   "id": "b1470d2e-ac45-455c-bdca-90c27175264f",
   "metadata": {},
   "source": [
    "## Predicting single monkey biomarkers w/multi monkey data"
   ]
  },
  {
   "cell_type": "code",
   "execution_count": 117,
   "id": "4b7959b1-3b78-4b67-a9ef-6f24264f4edd",
   "metadata": {
    "tags": []
   },
   "outputs": [
    {
     "data": {
      "text/html": [
       "<div>\n",
       "<style scoped>\n",
       "    .dataframe tbody tr th:only-of-type {\n",
       "        vertical-align: middle;\n",
       "    }\n",
       "\n",
       "    .dataframe tbody tr th {\n",
       "        vertical-align: top;\n",
       "    }\n",
       "\n",
       "    .dataframe thead th {\n",
       "        text-align: right;\n",
       "    }\n",
       "</style>\n",
       "<table border=\"1\" class=\"dataframe\">\n",
       "  <thead>\n",
       "    <tr style=\"text-align: right;\">\n",
       "      <th></th>\n",
       "      <th>ID</th>\n",
       "      <th>IRRAD</th>\n",
       "      <th>SEX</th>\n",
       "      <th>DOSE_(Gy)</th>\n",
       "      <th>AGE</th>\n",
       "      <th>WBC_(K/uL)</th>\n",
       "      <th>RBC_(M/uL)</th>\n",
       "      <th>Hemaglobin_(HGB_g/dL)</th>\n",
       "      <th>Hemocrit_(HCT_%)</th>\n",
       "      <th>Mean_corpuscular_volume_(MCV_fL)</th>\n",
       "      <th>...</th>\n",
       "      <th>LYMPHOCYTES_(%)</th>\n",
       "      <th>MONO_(%)</th>\n",
       "      <th>EOS_(%)</th>\n",
       "      <th>BASO_(%)</th>\n",
       "      <th>ABS_NEUT_(/uL)</th>\n",
       "      <th>ABS_LYMPH_(/uL)</th>\n",
       "      <th>ABS_MONO_(/uL)</th>\n",
       "      <th>ABS_EOS_(/uL)</th>\n",
       "      <th>ABS_BASO_(/uL)</th>\n",
       "      <th>PLATLET_COUNT_(K/uL)</th>\n",
       "    </tr>\n",
       "  </thead>\n",
       "  <tbody>\n",
       "    <tr>\n",
       "      <th>33</th>\n",
       "      <td>2046</td>\n",
       "      <td>1</td>\n",
       "      <td>0</td>\n",
       "      <td>1.14</td>\n",
       "      <td>10.3</td>\n",
       "      <td>3.8</td>\n",
       "      <td>6.08</td>\n",
       "      <td>14.2</td>\n",
       "      <td>41.6</td>\n",
       "      <td>68.42</td>\n",
       "      <td>...</td>\n",
       "      <td>44.6</td>\n",
       "      <td>5.5</td>\n",
       "      <td>0.5</td>\n",
       "      <td>0.0</td>\n",
       "      <td>1877</td>\n",
       "      <td>1695</td>\n",
       "      <td>209</td>\n",
       "      <td>19</td>\n",
       "      <td>0</td>\n",
       "      <td>276</td>\n",
       "    </tr>\n",
       "    <tr>\n",
       "      <th>34</th>\n",
       "      <td>2046</td>\n",
       "      <td>1</td>\n",
       "      <td>0</td>\n",
       "      <td>1.14</td>\n",
       "      <td>10.4</td>\n",
       "      <td>7.0</td>\n",
       "      <td>5.38</td>\n",
       "      <td>12.2</td>\n",
       "      <td>36.2</td>\n",
       "      <td>67.29</td>\n",
       "      <td>...</td>\n",
       "      <td>40.5</td>\n",
       "      <td>7.4</td>\n",
       "      <td>0.0</td>\n",
       "      <td>0.0</td>\n",
       "      <td>3647</td>\n",
       "      <td>2835</td>\n",
       "      <td>518</td>\n",
       "      <td>0</td>\n",
       "      <td>0</td>\n",
       "      <td>386</td>\n",
       "    </tr>\n",
       "  </tbody>\n",
       "</table>\n",
       "<p>2 rows × 23 columns</p>\n",
       "</div>"
      ],
      "text/plain": [
       "      ID  IRRAD  SEX  DOSE_(Gy)   AGE  WBC_(K/uL)  RBC_(M/uL)  \\\n",
       "33  2046      1    0       1.14  10.3         3.8        6.08   \n",
       "34  2046      1    0       1.14  10.4         7.0        5.38   \n",
       "\n",
       "    Hemaglobin_(HGB_g/dL)  Hemocrit_(HCT_%)  Mean_corpuscular_volume_(MCV_fL)  \\\n",
       "33                   14.2              41.6                             68.42   \n",
       "34                   12.2              36.2                             67.29   \n",
       "\n",
       "    ...  LYMPHOCYTES_(%)  MONO_(%)  EOS_(%)  BASO_(%)  ABS_NEUT_(/uL)  \\\n",
       "33  ...             44.6       5.5      0.5       0.0            1877   \n",
       "34  ...             40.5       7.4      0.0       0.0            3647   \n",
       "\n",
       "    ABS_LYMPH_(/uL)  ABS_MONO_(/uL)  ABS_EOS_(/uL)  ABS_BASO_(/uL)  \\\n",
       "33             1695             209             19               0   \n",
       "34             2835             518              0               0   \n",
       "\n",
       "    PLATLET_COUNT_(K/uL)  \n",
       "33                   276  \n",
       "34                   386  \n",
       "\n",
       "[2 rows x 23 columns]"
      ]
     },
     "execution_count": 117,
     "metadata": {},
     "output_type": "execute_result"
    }
   ],
   "source": [
    "single_df=single_minbio_df.drop(['Species','IRRAD_DATE','DOB','SAMPLE_DATE','TYPE','DAYS_SINCE_IRRAD', 'MONTHS_SINCE_IRRAD', 'MONTHS AT IRRAD'],axis=1)\n",
    "\n",
    "#convert irrad(yes=1, no=0) and sex (male=1, female=0) to binary \n",
    "single_df['SEX'] = single_df['SEX'].map({'M':1, 'F': 0})\n",
    "single_df['IRRAD'] = single_df['IRRAD'].map({'Yes':1, 'No': 0})\n",
    "single_df['DOSE_(Gy)'] = single_df['DOSE_(Gy)'].fillna(0)\n",
    "\n",
    "single_df.head(2)"
   ]
  },
  {
   "cell_type": "code",
   "execution_count": 118,
   "id": "319d66ca-b9fe-4119-89c0-0a429a972db3",
   "metadata": {
    "tags": []
   },
   "outputs": [
    {
     "data": {
      "text/html": [
       "<div>\n",
       "<style scoped>\n",
       "    .dataframe tbody tr th:only-of-type {\n",
       "        vertical-align: middle;\n",
       "    }\n",
       "\n",
       "    .dataframe tbody tr th {\n",
       "        vertical-align: top;\n",
       "    }\n",
       "\n",
       "    .dataframe thead th {\n",
       "        text-align: right;\n",
       "    }\n",
       "</style>\n",
       "<table border=\"1\" class=\"dataframe\">\n",
       "  <thead>\n",
       "    <tr style=\"text-align: right;\">\n",
       "      <th></th>\n",
       "      <th>ID</th>\n",
       "      <th>IRRAD</th>\n",
       "      <th>SEX</th>\n",
       "      <th>DOSE_(Gy)</th>\n",
       "      <th>AGE</th>\n",
       "      <th>WBC_(K/uL)</th>\n",
       "      <th>RBC_(M/uL)</th>\n",
       "      <th>Hemaglobin_(HGB_g/dL)</th>\n",
       "      <th>Hemocrit_(HCT_%)</th>\n",
       "      <th>Mean_corpuscular_volume_(MCV_fL)</th>\n",
       "      <th>...</th>\n",
       "      <th>LYMPHOCYTES_(%)</th>\n",
       "      <th>MONO_(%)</th>\n",
       "      <th>EOS_(%)</th>\n",
       "      <th>BASO_(%)</th>\n",
       "      <th>ABS_NEUT_(/uL)</th>\n",
       "      <th>ABS_LYMPH_(/uL)</th>\n",
       "      <th>ABS_MONO_(/uL)</th>\n",
       "      <th>ABS_EOS_(/uL)</th>\n",
       "      <th>ABS_BASO_(/uL)</th>\n",
       "      <th>PLATLET_COUNT_(K/uL)</th>\n",
       "    </tr>\n",
       "  </thead>\n",
       "  <tbody>\n",
       "    <tr>\n",
       "      <th>0</th>\n",
       "      <td>2061</td>\n",
       "      <td>0</td>\n",
       "      <td>0</td>\n",
       "      <td>0.0</td>\n",
       "      <td>10.6</td>\n",
       "      <td>10.9</td>\n",
       "      <td>5.05</td>\n",
       "      <td>12.0</td>\n",
       "      <td>35.7</td>\n",
       "      <td>70.69</td>\n",
       "      <td>...</td>\n",
       "      <td>48.0</td>\n",
       "      <td>7.5</td>\n",
       "      <td>0.9</td>\n",
       "      <td>0.1</td>\n",
       "      <td>4742</td>\n",
       "      <td>5232</td>\n",
       "      <td>818</td>\n",
       "      <td>98</td>\n",
       "      <td>11</td>\n",
       "      <td>396</td>\n",
       "    </tr>\n",
       "    <tr>\n",
       "      <th>1</th>\n",
       "      <td>2061</td>\n",
       "      <td>0</td>\n",
       "      <td>0</td>\n",
       "      <td>0.0</td>\n",
       "      <td>10.7</td>\n",
       "      <td>8.8</td>\n",
       "      <td>4.59</td>\n",
       "      <td>10.5</td>\n",
       "      <td>33.3</td>\n",
       "      <td>72.55</td>\n",
       "      <td>...</td>\n",
       "      <td>21.4</td>\n",
       "      <td>4.5</td>\n",
       "      <td>0.1</td>\n",
       "      <td>0.0</td>\n",
       "      <td>6512</td>\n",
       "      <td>1883</td>\n",
       "      <td>396</td>\n",
       "      <td>9</td>\n",
       "      <td>0</td>\n",
       "      <td>334</td>\n",
       "    </tr>\n",
       "  </tbody>\n",
       "</table>\n",
       "<p>2 rows × 23 columns</p>\n",
       "</div>"
      ],
      "text/plain": [
       "     ID  IRRAD  SEX  DOSE_(Gy)   AGE  WBC_(K/uL)  RBC_(M/uL)  \\\n",
       "0  2061      0    0        0.0  10.6        10.9        5.05   \n",
       "1  2061      0    0        0.0  10.7         8.8        4.59   \n",
       "\n",
       "   Hemaglobin_(HGB_g/dL)  Hemocrit_(HCT_%)  Mean_corpuscular_volume_(MCV_fL)  \\\n",
       "0                   12.0              35.7                             70.69   \n",
       "1                   10.5              33.3                             72.55   \n",
       "\n",
       "   ...  LYMPHOCYTES_(%)  MONO_(%)  EOS_(%)  BASO_(%)  ABS_NEUT_(/uL)  \\\n",
       "0  ...             48.0       7.5      0.9       0.1            4742   \n",
       "1  ...             21.4       4.5      0.1       0.0            6512   \n",
       "\n",
       "   ABS_LYMPH_(/uL)  ABS_MONO_(/uL)  ABS_EOS_(/uL)  ABS_BASO_(/uL)  \\\n",
       "0             5232             818             98              11   \n",
       "1             1883             396              9               0   \n",
       "\n",
       "   PLATLET_COUNT_(K/uL)  \n",
       "0                   396  \n",
       "1                   334  \n",
       "\n",
       "[2 rows x 23 columns]"
      ]
     },
     "execution_count": 118,
     "metadata": {},
     "output_type": "execute_result"
    }
   ],
   "source": [
    "no_df.head(2)"
   ]
  },
  {
   "cell_type": "code",
   "execution_count": 119,
   "id": "67a16394-adec-4469-9aac-8bf8dbfb17d2",
   "metadata": {
    "tags": []
   },
   "outputs": [
    {
     "name": "stderr",
     "output_type": "stream",
     "text": [
      "iteritems is deprecated and will be removed in a future version. Use .items instead.\n",
      "iteritems is deprecated and will be removed in a future version. Use .items instead.\n"
     ]
    }
   ],
   "source": [
    "# Split the dfs\n",
    "\n",
    "# multi monkey data split\n",
    "mul_y=no_df['LYMPHOCYTES_(%)']\n",
    "mul_X=no_df.drop(['ID','LYMPHOCYTES_(%)'],axis=1)\n",
    "\n",
    "mul_data= train_test_split(mul_X, mul_y, test_size=0.3, random_state=0)\n",
    "mul_X_train, mul_X_validation, mul_y_train, mul_y_validation= mul_data\n",
    "\n",
    "mul_train_pool = Pool(\n",
    "    data = mul_X_train,\n",
    "    label = mul_y_train\n",
    ")\n",
    "\n",
    "\n",
    "mul_validation_pool = Pool(\n",
    "    data = mul_X_validation,\n",
    "    label = mul_y_validation,\n",
    ")\n",
    "\n",
    "\n",
    "# single monkey data split\n",
    "sin_y=single_df['LYMPHOCYTES_(%)']\n",
    "sin_X=single_df.drop(['ID','LYMPHOCYTES_(%)'],axis=1)\n",
    "\n",
    "sin_data= train_test_split(sin_X, sin_y, test_size=0.3, random_state=0)\n",
    "sin_X_train, sin_X_validation, sin_y_train, sin_y_validation= sin_data\n",
    "\n",
    "sin_train_pool = Pool(\n",
    "    data = sin_X_train,\n",
    "    label = sin_y_train\n",
    ")\n",
    "\n",
    "\n",
    "sin_validation_pool = Pool(\n",
    "    data = sin_X_validation,\n",
    "    label = sin_y_validation,\n",
    ")\n",
    "\n",
    "\n",
    "\n"
   ]
  },
  {
   "cell_type": "code",
   "execution_count": 120,
   "id": "1d00895b-406b-4888-a91b-b4c7303b17f0",
   "metadata": {
    "tags": []
   },
   "outputs": [
    {
     "data": {
      "text/html": [
       "<style>#sk-container-id-11 {color: black;background-color: white;}#sk-container-id-11 pre{padding: 0;}#sk-container-id-11 div.sk-toggleable {background-color: white;}#sk-container-id-11 label.sk-toggleable__label {cursor: pointer;display: block;width: 100%;margin-bottom: 0;padding: 0.3em;box-sizing: border-box;text-align: center;}#sk-container-id-11 label.sk-toggleable__label-arrow:before {content: \"▸\";float: left;margin-right: 0.25em;color: #696969;}#sk-container-id-11 label.sk-toggleable__label-arrow:hover:before {color: black;}#sk-container-id-11 div.sk-estimator:hover label.sk-toggleable__label-arrow:before {color: black;}#sk-container-id-11 div.sk-toggleable__content {max-height: 0;max-width: 0;overflow: hidden;text-align: left;background-color: #f0f8ff;}#sk-container-id-11 div.sk-toggleable__content pre {margin: 0.2em;color: black;border-radius: 0.25em;background-color: #f0f8ff;}#sk-container-id-11 input.sk-toggleable__control:checked~div.sk-toggleable__content {max-height: 200px;max-width: 100%;overflow: auto;}#sk-container-id-11 input.sk-toggleable__control:checked~label.sk-toggleable__label-arrow:before {content: \"▾\";}#sk-container-id-11 div.sk-estimator input.sk-toggleable__control:checked~label.sk-toggleable__label {background-color: #d4ebff;}#sk-container-id-11 div.sk-label input.sk-toggleable__control:checked~label.sk-toggleable__label {background-color: #d4ebff;}#sk-container-id-11 input.sk-hidden--visually {border: 0;clip: rect(1px 1px 1px 1px);clip: rect(1px, 1px, 1px, 1px);height: 1px;margin: -1px;overflow: hidden;padding: 0;position: absolute;width: 1px;}#sk-container-id-11 div.sk-estimator {font-family: monospace;background-color: #f0f8ff;border: 1px dotted black;border-radius: 0.25em;box-sizing: border-box;margin-bottom: 0.5em;}#sk-container-id-11 div.sk-estimator:hover {background-color: #d4ebff;}#sk-container-id-11 div.sk-parallel-item::after {content: \"\";width: 100%;border-bottom: 1px solid gray;flex-grow: 1;}#sk-container-id-11 div.sk-label:hover label.sk-toggleable__label {background-color: #d4ebff;}#sk-container-id-11 div.sk-serial::before {content: \"\";position: absolute;border-left: 1px solid gray;box-sizing: border-box;top: 0;bottom: 0;left: 50%;z-index: 0;}#sk-container-id-11 div.sk-serial {display: flex;flex-direction: column;align-items: center;background-color: white;padding-right: 0.2em;padding-left: 0.2em;position: relative;}#sk-container-id-11 div.sk-item {position: relative;z-index: 1;}#sk-container-id-11 div.sk-parallel {display: flex;align-items: stretch;justify-content: center;background-color: white;position: relative;}#sk-container-id-11 div.sk-item::before, #sk-container-id-11 div.sk-parallel-item::before {content: \"\";position: absolute;border-left: 1px solid gray;box-sizing: border-box;top: 0;bottom: 0;left: 50%;z-index: -1;}#sk-container-id-11 div.sk-parallel-item {display: flex;flex-direction: column;z-index: 1;position: relative;background-color: white;}#sk-container-id-11 div.sk-parallel-item:first-child::after {align-self: flex-end;width: 50%;}#sk-container-id-11 div.sk-parallel-item:last-child::after {align-self: flex-start;width: 50%;}#sk-container-id-11 div.sk-parallel-item:only-child::after {width: 0;}#sk-container-id-11 div.sk-dashed-wrapped {border: 1px dashed gray;margin: 0 0.4em 0.5em 0.4em;box-sizing: border-box;padding-bottom: 0.4em;background-color: white;}#sk-container-id-11 div.sk-label label {font-family: monospace;font-weight: bold;display: inline-block;line-height: 1.2em;}#sk-container-id-11 div.sk-label-container {text-align: center;}#sk-container-id-11 div.sk-container {/* jupyter's `normalize.less` sets `[hidden] { display: none; }` but bootstrap.min.css set `[hidden] { display: none !important; }` so we also need the `!important` here to be able to override the default hidden behavior on the sphinx rendered scikit-learn.org. See: https://github.com/scikit-learn/scikit-learn/issues/21755 */display: inline-block !important;position: relative;}#sk-container-id-11 div.sk-text-repr-fallback {display: none;}</style><div id=\"sk-container-id-11\" class=\"sk-top-container\"><div class=\"sk-text-repr-fallback\"><pre>ElasticNet()</pre><b>In a Jupyter environment, please rerun this cell to show the HTML representation or trust the notebook. <br />On GitHub, the HTML representation is unable to render, please try loading this page with nbviewer.org.</b></div><div class=\"sk-container\" hidden><div class=\"sk-item\"><div class=\"sk-estimator sk-toggleable\"><input class=\"sk-toggleable__control sk-hidden--visually\" id=\"sk-estimator-id-11\" type=\"checkbox\" checked><label for=\"sk-estimator-id-11\" class=\"sk-toggleable__label sk-toggleable__label-arrow\">ElasticNet</label><div class=\"sk-toggleable__content\"><pre>ElasticNet()</pre></div></div></div></div></div>"
      ],
      "text/plain": [
       "ElasticNet()"
      ]
     },
     "execution_count": 120,
     "metadata": {},
     "output_type": "execute_result"
    }
   ],
   "source": [
    "# define model\n",
    "model = ElasticNet(alpha=1.0, l1_ratio=0.5)\n",
    "# fit model\n",
    "model.fit(mul_X_train, mul_y_train)"
   ]
  },
  {
   "cell_type": "code",
   "execution_count": 121,
   "id": "a7789d37-7761-41ef-a2b1-c9bb7ca11b76",
   "metadata": {
    "tags": []
   },
   "outputs": [
    {
     "name": "stdin",
     "output_type": "stream",
     "text": [
      "Plot Title: Single predictions based on Multi\n"
     ]
    },
    {
     "data": {
      "image/png": "[encoded data removed]",
      "text/plain": [
       "<Figure size 640x480 with 1 Axes>"
      ]
     },
     "metadata": {},
     "output_type": "display_data"
    }
   ],
   "source": [
    "# make a prediction\n",
    "a = model.predict(sin_X_validation)\n",
    "a_df = pd.DataFrame(a)\n",
    "\n",
    "\n",
    "### Plotting ###\n",
    "# Plot the predictions\n",
    "fig, ax = plt.subplots()\n",
    "ax.scatter(sin_y_validation, a_df)\n",
    "\n",
    "ax.plot([sin_y.min(), sin_y.max()], [sin_y.min(), sin_y.max()], \n",
    "        'k-', \n",
    "        linewidth=1, \n",
    "        markersize=120\n",
    ")\n",
    "\n",
    "#Plot axis titles\n",
    "ax.set_xlabel('Actual LYMPHOCYTES_(%)')\n",
    "ax.set_ylabel('Predicted LYMPHOCYTES_(%')\n",
    "\n",
    "#Title of the plot\n",
    "plot_title = input(\"Plot Title:\")\n",
    "#show_iters = model.get_param('iterations')  \n",
    "ax.set_title(plot_title #+ \"\\nIterations: {}\".format(str(show_iters))\n",
    "             ,fontsize=15\n",
    ")\n",
    "\n",
    "#cordinates for the R2 value box\n",
    "xmin, xmax, ymin, ymax = plt.axis()\n",
    "yrange = ymax-ymin\n",
    "xrange = xmax-xmin\n",
    "\n",
    "\n",
    "#Plotting the R2 score\n",
    "ax.annotate(\"R2: {}\".format(str(r2_score(sin_y_validation, a_df).round(2))),\n",
    "            xy=((xmin+(0.1*(xrange))),(ymax-(0.1*(yrange)))), \n",
    "            fontsize=12,\n",
    "            bbox={'facecolor': 'white', 'alpha': 1, 'pad': 10}\n",
    ")\n",
    "\n",
    "plt.show() \n"
   ]
  },
  {
   "cell_type": "code",
   "execution_count": null,
   "id": "a400bd3f-abe9-40dc-b92f-bb4d55d7be0c",
   "metadata": {},
   "outputs": [],
   "source": []
  },
  {
   "cell_type": "markdown",
   "id": "401c4607-81f3-487e-a2e6-c7aa428e2e65",
   "metadata": {},
   "source": [
    "# Support Vector Regression"
   ]
  },
  {
   "cell_type": "code",
   "execution_count": null,
   "id": "d1e3dc03-0459-4bc1-aaf8-4fa948b23ff1",
   "metadata": {},
   "outputs": [],
   "source": []
  },
  {
   "cell_type": "markdown",
   "id": "277d17ef-0aca-4916-8a40-3ee4c82dc188",
   "metadata": {},
   "source": [
    "# XGBoost\n",
    "- No catagorical\n",
    "- Needs a lot of tuning"
   ]
  },
  {
   "cell_type": "code",
   "execution_count": 107,
   "id": "199a6213-81df-472e-9b4c-fabb7ee87d7d",
   "metadata": {
    "tags": []
   },
   "outputs": [],
   "source": [
    "import xgboost as xgb\n",
    "from xgboost import XGBRegressor"
   ]
  },
  {
   "cell_type": "code",
   "execution_count": 109,
   "id": "bc098c6a-82a3-4988-a102-5cd4f18a1514",
   "metadata": {
    "tags": []
   },
   "outputs": [],
   "source": [
    "#make a parent df\n",
    "minbio_monkey_df.copy()\n",
    "xg_df = minbio_monkey_df\n",
    "\n",
    "#Exclude datetime and catagorical feautres\n",
    "xg_df=xg_df.drop(['Species','IRRAD_DATE','DOB','SAMPLE_DATE','TYPE'],axis=1)\n",
    "\n",
    "#convert irrad(yes=1, no=0) and sex (male=1, female=0) to binary \n",
    "xg_df['SEX'] = xg_df['SEX'].map({'M':1, 'F': 0})\n",
    "xg_df['IRRAD'] = xg_df['IRRAD'].map({'Yes':1, 'No': 0})\n",
    "\n",
    "\n",
    "# Take care of NaN\n",
    "xg_df['DOSE_(Gy)'] = xg_df['DOSE_(Gy)'].fillna(0)"
   ]
  },
  {
   "cell_type": "code",
   "execution_count": 112,
   "id": "58a83e47-329a-4f9d-a24c-65476e4df42b",
   "metadata": {
    "tags": []
   },
   "outputs": [],
   "source": [
    "y=no_df['LYMPHOCYTES_(%)']\n",
    "X=no_df.drop(['ID','LYMPHOCYTES_(%)'],axis=1)\n",
    "\n",
    "X_train, X_validation, y_train, y_validation = train_test_split(X, y,\n",
    "                      test_size = 0.3, random_state = 123)\n",
    "\n",
    "model = xgb.XGBRegressor(objective ='reg:squarederror',\n",
    "                  n_estimators = 10, seed = 123)\n",
    "  \n",
    "# Fitting the model\n",
    "model.fit(X_train, y_train)\n",
    "  \n",
    "# Predict the model\n",
    "a = model.predict(X_validation)\n",
    "a_df = pd.DataFrame(a)"
   ]
  },
  {
   "cell_type": "code",
   "execution_count": 113,
   "id": "479a25eb-7597-47cf-a3ec-1a427dd1e96d",
   "metadata": {
    "tags": []
   },
   "outputs": [
    {
     "name": "stdin",
     "output_type": "stream",
     "text": [
      "Plot Title: t\n"
     ]
    },
    {
     "data": {
      "image/png": "[encoded data removed]",
      "text/plain": [
       "<Figure size 640x480 with 1 Axes>"
      ]
     },
     "metadata": {},
     "output_type": "display_data"
    }
   ],
   "source": [
    "# Plot the predictions\n",
    "fig, ax = plt.subplots()\n",
    "ax.scatter(y_validation, a_df)\n",
    "\n",
    "ax.plot([y.min(), y.max()], [y.min(), y.max()], \n",
    "        'k-', \n",
    "        linewidth=1, \n",
    "        markersize=120\n",
    ")\n",
    "\n",
    "#Plot axis titles\n",
    "ax.set_xlabel('Actual LYMPHOCYTES_(%)')\n",
    "ax.set_ylabel('Predicted LYMPHOCYTES_(%')\n",
    "\n",
    "#Title of the plot\n",
    "plot_title = input(\"Plot Title:\")\n",
    "#show_iters = model.get_param('iterations')  \n",
    "ax.set_title(plot_title #+ \"\\nIterations: {}\".format(str(show_iters))\n",
    "             ,fontsize=15\n",
    ")\n",
    "\n",
    "#cordinates for the R2 value box\n",
    "xmin, xmax, ymin, ymax = plt.axis()\n",
    "yrange = ymax-ymin\n",
    "xrange = xmax-xmin\n",
    "\n",
    "\n",
    "#Plotting the R2 score\n",
    "ax.annotate(\"R2: {}\".format(str(r2_score(y_validation, a_df).round(2))),\n",
    "            xy=((xmin+(0.1*(xrange))),(ymax-(0.1*(yrange)))), \n",
    "            fontsize=12,\n",
    "            bbox={'facecolor': 'white', 'alpha': 1, 'pad': 10}\n",
    ")\n",
    "\n",
    "plt.show() \n"
   ]
  },
  {
   "cell_type": "markdown",
   "id": "84586275-345c-4726-80ae-6a445453d062",
   "metadata": {},
   "source": [
    "## Predicting Single monkey biomarkers w/ multi monkey data`"
   ]
  },
  {
   "cell_type": "code",
   "execution_count": 122,
   "id": "b9e065f9-bcf2-4674-871d-d47d5a306888",
   "metadata": {
    "tags": []
   },
   "outputs": [],
   "source": [
    "#make a parent df\n",
    "minbio_monkey_df.copy()\n",
    "mul_xg_df = minbio_monkey_df\n",
    "\n",
    "#Exclude datetime and catagorical feautres\n",
    "mul_xg_df=mul_xg_df.drop(['Species','IRRAD_DATE','DOB','SAMPLE_DATE','TYPE'],axis=1)\n",
    "\n",
    "#convert irrad(yes=1, no=0) and sex (male=1, female=0) to binary \n",
    "mul_xg_df['SEX'] = mul_xg_df['SEX'].map({'M':1, 'F': 0})\n",
    "mul_xg_df['IRRAD'] = mul_xg_df['IRRAD'].map({'Yes':1, 'No': 0})\n",
    "\n",
    "\n",
    "# Take care of NaN\n",
    "mul_xg_df['DOSE_(Gy)'] = mul_xg_df['DOSE_(Gy)'].fillna(0)"
   ]
  },
  {
   "cell_type": "code",
   "execution_count": 123,
   "id": "bb30d738-c6a9-4164-904c-5514308a80a6",
   "metadata": {
    "tags": []
   },
   "outputs": [],
   "source": [
    "single_minbio_df.copy()\n",
    "sin_xg_df = single_minbio_df\n",
    "\n",
    "#Exclude datetime and catagorical feautres\n",
    "sin_xg_df=sin_xg_df.drop(['Species','IRRAD_DATE','DOB','SAMPLE_DATE','TYPE'],axis=1)\n",
    "\n",
    "#convert irrad(yes=1, no=0) and sex (male=1, female=0) to binary \n",
    "sin_xg_df['SEX'] = sin_xg_df['SEX'].map({'M':1, 'F': 0})\n",
    "sin_xg_df['IRRAD'] = sin_xg_df['IRRAD'].map({'Yes':1, 'No': 0})\n",
    "\n",
    "\n",
    "# Take care of NaN\n",
    "sin_xg_df['DOSE_(Gy)'] = sin_xg_df['DOSE_(Gy)'].fillna(0)\n"
   ]
  },
  {
   "cell_type": "code",
   "execution_count": 124,
   "id": "908b6d23-4b20-4889-af13-1f053e9d83e9",
   "metadata": {
    "tags": []
   },
   "outputs": [],
   "source": [
    "sin_y=sin_xg_df['LYMPHOCYTES_(%)']\n",
    "sin_X=sin_xg_df.drop(['ID','LYMPHOCYTES_(%)'],axis=1)\n",
    "\n",
    "sin_X_train, sin_X_validation, sin_y_train, sin_y_validation = train_test_split(sin_X, sin_y,\n",
    "                      test_size = 0.3, random_state = 123)\n",
    "\n",
    "mul_y=mul_xg_df['LYMPHOCYTES_(%)']\n",
    "mul_X=mul_xg_df.drop(['ID','LYMPHOCYTES_(%)'],axis=1)\n",
    "\n",
    "mul_X_train, mul_X_validation, mul_y_train, mul_y_validation = train_test_split(mul_X, mul_y,\n",
    "                      test_size = 0.3, random_state = 123)\n",
    "\n",
    "\n",
    "\n",
    "\n",
    "model = xgb.XGBRegressor(objective ='reg:squarederror',\n",
    "                  n_estimators = 10, seed = 123)\n",
    "  \n",
    "# Fitting the model\n",
    "model.fit(mul_X_train, mul_y_train)\n",
    "  \n",
    "# Predict the model\n",
    "a = model.predict(sin_X_validation)\n",
    "a_df = pd.DataFrame(a)"
   ]
  },
  {
   "cell_type": "code",
   "execution_count": 126,
   "id": "e6946147-6e70-4060-8b8d-565e8d77969b",
   "metadata": {
    "tags": []
   },
   "outputs": [
    {
     "name": "stdin",
     "output_type": "stream",
     "text": [
      "Plot Title: single preds w/multi data\n"
     ]
    },
    {
     "data": {
      "image/png": "[encoded data removed]",
      "text/plain": [
       "<Figure size 640x480 with 1 Axes>"
      ]
     },
     "metadata": {},
     "output_type": "display_data"
    }
   ],
   "source": [
    "# Plot the predictions\n",
    "fig, ax = plt.subplots()\n",
    "ax.scatter(sin_y_validation, a_df)\n",
    "\n",
    "ax.plot([sin_y.min(), sin_y.max()], [sin_y.min(), sin_y.max()], \n",
    "        'k-', \n",
    "        linewidth=1, \n",
    "        markersize=120\n",
    ")\n",
    "\n",
    "#Plot axis titles\n",
    "ax.set_xlabel('Actual LYMPHOCYTES_(%)')\n",
    "ax.set_ylabel('Predicted LYMPHOCYTES_(%')\n",
    "\n",
    "#Title of the plot\n",
    "plot_title = input(\"Plot Title:\")\n",
    "#show_iters = model.get_param('iterations')  \n",
    "ax.set_title(plot_title #+ \"\\nIterations: {}\".format(str(show_iters))\n",
    "             ,fontsize=15\n",
    ")\n",
    "\n",
    "#cordinates for the R2 value box\n",
    "xmin, xmax, ymin, ymax = plt.axis()\n",
    "yrange = ymax-ymin\n",
    "xrange = xmax-xmin\n",
    "\n",
    "\n",
    "#Plotting the R2 score\n",
    "ax.annotate(\"R2: {}\".format(str(r2_score(sin_y_validation, a_df).round(2))),\n",
    "            xy=((xmin+(0.1*(xrange))),(ymax-(0.1*(yrange)))), \n",
    "            fontsize=12,\n",
    "            bbox={'facecolor': 'white', 'alpha': 1, 'pad': 10}\n",
    ")\n",
    "\n",
    "plt.show() \n"
   ]
  },
  {
   "cell_type": "markdown",
   "id": "d96ee625-d1e0-49e6-a9c7-c3c9328aa379",
   "metadata": {},
   "source": [
    "# DL model - JAX\n",
    "Jax: https://github.com/google/jax\n",
    "\n",
    "- Jax uses transformers \n",
    "https://theaisummer.com/jax-transformer/\n",
    "\n",
    "https://uvadlc-notebooks.readthedocs.io/en/latest/tutorial_notebooks/JAX/tutorial6/Transformers_and_MHAttention.html\n",
    "\n",
    "pytorch transformer: https://github.com/tunz/transformer-pytorch/blob/e7266679f0b32fd99135ea617213f986ceede056/model/transformer.py#L201\n"
   ]
  },
  {
   "cell_type": "code",
   "execution_count": null,
   "id": "b6346975-b5e4-475f-9ab3-371d120b471d",
   "metadata": {},
   "outputs": [],
   "source": []
  },
  {
   "cell_type": "code",
   "execution_count": null,
   "id": "71d2d15d-fba7-4efc-967e-e88491ad881a",
   "metadata": {},
   "outputs": [],
   "source": []
  },
  {
   "cell_type": "code",
   "execution_count": null,
   "id": "0b7bd5c1-e606-45a3-ba40-dad60613258f",
   "metadata": {},
   "outputs": [],
   "source": []
  },
  {
   "cell_type": "code",
   "execution_count": null,
   "id": "87169449-11a5-449a-a8bb-efd86ea4ef4a",
   "metadata": {},
   "outputs": [],
   "source": []
  }
 ],
 "metadata": {
  "kernelspec": {
   "display_name": "Python 3 (ipykernel)",
   "language": "python",
   "name": "python3"
  },
  "language_info": {
   "codemirror_mode": {
    "name": "ipython",
    "version": 3
   },
   "file_extension": ".py",
   "mimetype": "text/x-python",
   "name": "python",
   "nbconvert_exporter": "python",
   "pygments_lexer": "ipython3",
   "version": "3.10.9"
  }
 },
 "nbformat": 4,
 "nbformat_minor": 5
}
