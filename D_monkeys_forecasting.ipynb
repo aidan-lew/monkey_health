{
 "cells": [
  {
   "cell_type": "markdown",
   "id": "596680e6-88c5-4a95-9f37-83b605e496fe",
   "metadata": {},
   "source": [
    "# Using timeseries forcasting to predict biomarker trends and health outcomes of the monkeys\n",
    "- Test different time series forcasters (ARIMA, Prophet, or standard catBoost ML) to see if the biomarker and health outcomes of the monkeys can be forecasted on a timeline – very powerful\n",
    "- If I feel like playing god, I'll also try to forcast death\n",
    "- It would be great if I can use CatBoost to do the predictions so as to cnsolidate the models in a future iteration, but I'll try all three for accuracy\n",
    "- I will consider immense success being a model that can forcast a biokarker trend with <25% confidence interval 30 days out, and a model that can forcast a health outcome occuring within 5 days of acctually occuring.\n",
    "- I will backtest the models with the 20% most recent data\n",
    "    - and then forcast to the unknown future of the data and validate with the most recent measurments I do not have\n",
    "    \n",
    "\n",
    "\n",
    "Article thing with the skforcast: https://www.cienciadedatos.net/documentos/py39-forecasting-time-series-with-skforecast-xgboost-lightgbm-catboost.html\n",
    "\n",
    "timeseries & catboost examples: https://stackoverflow.com/questions/45262500/example-how-to-use-catboost-with-the-time-series-data\n",
    "\n",
    "Medium article using catboost for timeseries (no code) https://medium.com/artefact-engineering-and-data-science/time-series-forecasting-how-did-we-put-our-first-sales-forecasting-solution-for-croissants-into-93f9ed45bb49\n"
   ]
  },
  {
   "cell_type": "markdown",
   "id": "20fd39f7-6dd4-4729-b266-08c7dab472bd",
   "metadata": {},
   "source": [
    "# Data setup\n",
    "Unlike the previous predictions, I want to maintain the timeseries information here"
   ]
  },
  {
   "cell_type": "markdown",
   "id": "9f1a3b2b-aef0-4140-842d-6cbd0889b393",
   "metadata": {},
   "source": [
    "# 1.) CatBoost forecasting"
   ]
  },
  {
   "cell_type": "markdown",
   "id": "c464e799-e1b3-4cc3-9aeb-b548863709ac",
   "metadata": {},
   "source": [
    "# 2.) ARIMA forecasting"
   ]
  },
  {
   "cell_type": "markdown",
   "id": "4d126260-9753-4321-8f01-eeafdfaf8af5",
   "metadata": {},
   "source": [
    "# 3.) Prophet forcasting"
   ]
  },
  {
   "cell_type": "markdown",
   "id": "be14ffc6-b8c2-4046-9cbc-13071077e426",
   "metadata": {},
   "source": [
    "# Conclusions"
   ]
  },
  {
   "cell_type": "markdown",
   "id": "fb446a2a-ba4e-45be-817b-702b7a9f6b8a",
   "metadata": {},
   "source": []
  }
 ],
 "metadata": {
  "kernelspec": {
   "display_name": "Python 3 (ipykernel)",
   "language": "python",
   "name": "python3"
  },
  "language_info": {
   "codemirror_mode": {
    "name": "ipython",
    "version": 3
   },
   "file_extension": ".py",
   "mimetype": "text/x-python",
   "name": "python",
   "nbconvert_exporter": "python",
   "pygments_lexer": "ipython3",
   "version": "3.10.9"
  },
  "toc-autonumbering": false
 },
 "nbformat": 4,
 "nbformat_minor": 5
}
