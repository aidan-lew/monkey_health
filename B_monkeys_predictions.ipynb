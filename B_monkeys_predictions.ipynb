{
 "cells": [
  {
   "cell_type": "markdown",
   "id": "5d893800-3c2b-4f9f-8823-f0807eeed520",
   "metadata": {},
   "source": [
    "# Irradiated Monkeys Cont.\n",
    "In this notebook I will elaborte on the work with the A_monkeys_preliminary findings\n",
    "\n",
    "Specifically, I will focus on the following:\n",
    "\n",
    "\n",
    "1.) Predicting aspects of the monkey's biomarkers and health outcomes with reducted and critical features\n",
    "   \n",
    "   - a.) Using regression predictions instead of classification for continuous variables\n",
    "   \n",
    "   - b.) Predicting single monkey data based on a model trained on multi monkey data, and vise versa\n",
    "   \n",
    "   - c.) Predicting using only top 5 most important features\n",
    "   \n",
    "   - d.) Predicting using only irradiation data\n",
    "   \n",
    "   - e.) Predicting dose exposure\n",
    "   \n",
    "   \n",
    "2.) Clustering the data through other methods\n",
    "\n",
    "3.) Combining the biomarker and health-outcome data in more complex ways \n",
    "\n",
    "4.) Utilizing dimentionality reduction for vizualization and training\n",
    "\n",
    "5.) Automate the cycling through of predictions"
   ]
  },
  {
   "cell_type": "code",
   "execution_count": 1,
   "id": "61b31074-d811-4d41-87a4-fcb4a4a14efc",
   "metadata": {
    "tags": []
   },
   "outputs": [
    {
     "name": "stderr",
     "output_type": "stream",
     "text": [
      "/Users/aidanlew/Desktop/cmb/codes/monkey_env/lib/python3.10/site-packages/tqdm/auto.py:22: TqdmWarning: IProgress not found. Please update jupyter and ipywidgets. See https://ipywidgets.readthedocs.io/en/stable/user_install.html\n",
      "  from .autonotebook import tqdm as notebook_tqdm\n"
     ]
    },
    {
     "name": "stdout",
     "output_type": "stream",
     "text": [
      "Setup Complete\n"
     ]
    }
   ],
   "source": [
    "### Using monkey_env/ ###\n",
    "### If giving a tqb error, run this code twice###\n",
    "\n",
    "# handling data\n",
    "import pandas as pd\n",
    "import numpy as np\n",
    "import datetime\n",
    "\n",
    "# visualizing data\n",
    "import seaborn as sns\n",
    "import matplotlib.pyplot as plt\n",
    "sns.set_style(\"darkgrid\")\n",
    "\n",
    "# Statistics\n",
    "from scipy import stats\n",
    "import matplotlib.gridspec as gridspec\n",
    "import math\n",
    "import random\n",
    "\n",
    "\n",
    "#SHAP Value stuff\n",
    "import shap\n",
    "from shap import TreeExplainer\n",
    "from shap import GradientExplainer\n",
    "from shap import DeepExplainer\n",
    "from shap import KernelExplainer\n",
    "from shap import SamplingExplainer\n",
    "from shap import PartitionExplainer\n",
    "\n",
    "#ML stuff\n",
    "import catboost\n",
    "from catboost import CatBoostClassifier, Pool, CatBoostRegressor, CatBoost\n",
    "\n",
    "#fix the error that pops up about ipwydgets \n",
    "from tqdm import tqdm\n",
    "#from .autonotebook import tqdm as notebook_tqdm\n",
    "\n",
    "print(\"Setup Complete\")\n"
   ]
  },
  {
   "cell_type": "code",
   "execution_count": 3,
   "id": "e9ce1b54-5b33-4412-aa04-ebf99673515b",
   "metadata": {
    "tags": []
   },
   "outputs": [
    {
     "name": "stdout",
     "output_type": "stream",
     "text": [
      "/Users/aidanlew/Documents\n"
     ]
    }
   ],
   "source": [
    "cd '/Users/aidanlew/Documents'"
   ]
  },
  {
   "cell_type": "code",
   "execution_count": 4,
   "id": "c119fb2b-e508-4411-9aff-fa9b9befe6ff",
   "metadata": {
    "tags": []
   },
   "outputs": [],
   "source": [
    "def parser(x):\n",
    "    return datetime.datetime.strptime(x,'%d-%m-%y')\n"
   ]
  },
  {
   "cell_type": "markdown",
   "id": "a1119e59-1182-482a-9d72-41bc1b6e6073",
   "metadata": {},
   "source": [
    "# Regression, forcasting, & clustering"
   ]
  },
  {
   "cell_type": "markdown",
   "id": "887172ec-adc5-42e6-a110-709f60f8230e",
   "metadata": {},
   "source": [
    "## 1.a.) Regression prediction for continuous variables"
   ]
  },
  {
   "cell_type": "markdown",
   "id": "57aaecd0-7978-4d0f-91b5-229cb0224192",
   "metadata": {},
   "source": [
    "## Data loading"
   ]
  },
  {
   "cell_type": "code",
   "execution_count": 5,
   "id": "e705abd7-59d5-4ce4-bf96-ad23d3c40b90",
   "metadata": {
    "tags": []
   },
   "outputs": [
    {
     "data": {
      "text/plain": [
       "Index(['ID', 'Time_Under_Observation_(yrs)', 'Dose_(Gy)', 'Irrad_Age_(months)',\n",
       "       'Years_Since_Irrad', 'Current_Age_(years)', 'Animal_Status',\n",
       "       'Diabetes_(Y/N)', 'Cataracts_(Y/N)', 'Arthritis_(Y/N)',\n",
       "       'Periodontitis_(Y/N)', 'GI_(Y/N)', 'Behavior_(Y/N)', 'Tumor_(Y/N)',\n",
       "       'Heart_(Y/N)', 'Hypertension_(Y/N)', 'Testicular Atrophy_(Y/N)',\n",
       "       'Ovarian Dysfunction_(Y/N)', 'Hepatic_(Y/N)', 'Kidney_(Y/N)',\n",
       "       'Lung_(Y/N)', 'Bone_(Y/N)', 'Overweight_(Y/N)', 'Underweight_(Y/N)',\n",
       "       'Brain Lesion_(Y/N)'],\n",
       "      dtype='object')"
      ]
     },
     "execution_count": 5,
     "metadata": {},
     "output_type": "execute_result"
    }
   ],
   "source": [
    "# Make a df of the binary health data of the monkeys\n",
    "minhealth_monkey_df = pd.read_excel('../Documents/demographic_data_r2.xlsx',\n",
    "                    sheet_name=2,\n",
    "                    skiprows = 0,\n",
    "                    #usecols = ,\n",
    "                    engine = 'openpyxl',\n",
    "                    date_parser=parser\n",
    "                         )\n",
    "\n",
    "minhealth_monkey_df['Animal_Status'] = minhealth_monkey_df['Animal_Status'].map({'LIVING':1, 'DECEASED': 0})\n",
    "#minhealth_monkey_df.head(15)\n",
    "minhealth_monkey_df.columns\n"
   ]
  },
  {
   "cell_type": "code",
   "execution_count": 6,
   "id": "fe7a142c-3764-422d-93ba-bbd8801dc155",
   "metadata": {
    "tags": []
   },
   "outputs": [
    {
     "name": "stdout",
     "output_type": "stream",
     "text": [
      "Total Monkeys:152\n",
      "Non-Irradiated Monkeys:32\n"
     ]
    }
   ],
   "source": [
    "# See our monkey sample size\n",
    "print('Total Monkeys:{}'.format(minhealth_monkey_df['ID'].nunique()))\n",
    " \n",
    "# Count the control monkeys\n",
    "print('Non-Irradiated Monkeys:{}'.format(minhealth_monkey_df['Dose_(Gy)'].value_counts()[0]))\n",
    " \n",
    "# Count the irradiated monkeys\n",
    "#print('Irradiated Samples:{}'.format(minhealth_monkey_df['Dose_(Gy)'].value_counts()[!=0]))\n",
    "\n"
   ]
  },
  {
   "cell_type": "code",
   "execution_count": 7,
   "id": "5a6a6a40-2f5a-47c6-8a7a-d4e4a46876dd",
   "metadata": {
    "tags": []
   },
   "outputs": [
    {
     "name": "stderr",
     "output_type": "stream",
     "text": [
      "Cannot parse header or footer so it will be ignored\n"
     ]
    },
    {
     "data": {
      "text/plain": [
       "Index(['ID', 'Species', 'SAMPLE_DATE', 'IRRAD', 'IRRAD_DATE', 'DOB', 'SEX',\n",
       "       'TYPE', 'DAYS_SINCE_IRRAD', 'MONTHS_SINCE_IRRAD', 'MONTHS AT IRRAD',\n",
       "       'DOSE_(Gy)', 'AGE', 'WBC_(K/uL)', 'RBC_(M/uL)', 'Hemaglobin_(HGB_g/dL)',\n",
       "       'Hemocrit_(HCT_%)', 'Mean_corpuscular_volume_(MCV_fL)',\n",
       "       'Mean_corpuscular_hemaglobin_(MCH_pg)',\n",
       "       'Mean_corpuscular_hemaglobin_concentration_(MCHC_g/dL)', 'NEUT_(%)',\n",
       "       'LYMPHOCYTES_(%)', 'MONO_(%)', 'EOS_(%)', 'BASO_(%)', 'ABS_NEUT_(/uL)',\n",
       "       'ABS_LYMPH_(/uL)', 'ABS_MONO_(/uL)', 'ABS_EOS_(/uL)', 'ABS_BASO_(/uL)',\n",
       "       'PLATLET_COUNT_(K/uL)'],\n",
       "      dtype='object')"
      ]
     },
     "execution_count": 7,
     "metadata": {},
     "output_type": "execute_result"
    }
   ],
   "source": [
    "#Makee a df for the blood analytic data\n",
    "minbio_monkey_df = pd.read_excel('../Documents/full_monkey_data_r2.xlsx',\n",
    "                    #sheet_name=1,\n",
    "                    skiprows = 0,\n",
    "                    usecols = ['ID', 'Species', 'SAMPLE_DATE', 'IRRAD', 'IRRAD_DATE', 'DOB', 'SEX',\n",
    "       'TYPE', 'DAYS_SINCE_IRRAD', 'MONTHS_SINCE_IRRAD', 'MONTHS AT IRRAD',\n",
    "       'DOSE_(Gy)', 'AGE', 'WBC_(K/uL)', 'RBC_(M/uL)', 'Hemaglobin_(HGB_g/dL)',\n",
    "       'Hemocrit_(HCT_%)', 'Mean_corpuscular_volume_(MCV_fL)',\n",
    "       'Mean_corpuscular_hemaglobin_(MCH_pg)',\n",
    "       'Mean_corpuscular_hemaglobin_concentration_(MCHC_g/dL)', 'NEUT_(%)',\n",
    "       'LYMPHOCYTES_(%)', 'MONO_(%)', 'EOS_(%)', 'BASO_(%)', 'ABS_NEUT_(/uL)',\n",
    "       'ABS_LYMPH_(/uL)', 'ABS_MONO_(/uL)', 'ABS_EOS_(/uL)', 'ABS_BASO_(/uL)',\n",
    "       'PLATLET_COUNT_(K/uL)'],\n",
    "                    engine = 'openpyxl',\n",
    "                    date_parser=parser\n",
    "                         )\n",
    "\n",
    "#Set the index to the monkey ID and make the labels not read as integers\n",
    "minbio_monkey_df.set_index(['ID'])\n",
    "minbio_monkey_df['ID'] = minbio_monkey_df['ID'].astype(str)\n",
    "\n",
    "#minbio_monkey_df.dropna(axis=0, inplace=True) \n",
    "\n",
    "minbio_monkey_df.columns\n",
    "#minbio_monkey_df.tail()\n"
   ]
  },
  {
   "cell_type": "code",
   "execution_count": 8,
   "id": "af2ac7a2-a5eb-4b4d-a99c-aad18d3d111d",
   "metadata": {
    "tags": []
   },
   "outputs": [
    {
     "name": "stderr",
     "output_type": "stream",
     "text": [
      "Cannot parse header or footer so it will be ignored\n"
     ]
    },
    {
     "data": {
      "text/html": [
       "<div>\n",
       "<style scoped>\n",
       "    .dataframe tbody tr th:only-of-type {\n",
       "        vertical-align: middle;\n",
       "    }\n",
       "\n",
       "    .dataframe tbody tr th {\n",
       "        vertical-align: top;\n",
       "    }\n",
       "\n",
       "    .dataframe thead th {\n",
       "        text-align: right;\n",
       "    }\n",
       "</style>\n",
       "<table border=\"1\" class=\"dataframe\">\n",
       "  <thead>\n",
       "    <tr style=\"text-align: right;\">\n",
       "      <th></th>\n",
       "      <th>ID</th>\n",
       "      <th>Species</th>\n",
       "      <th>SAMPLE_DATE</th>\n",
       "      <th>IRRAD</th>\n",
       "      <th>IRRAD_DATE</th>\n",
       "      <th>DOB</th>\n",
       "      <th>SEX</th>\n",
       "      <th>TYPE</th>\n",
       "      <th>DAYS_SINCE_IRRAD</th>\n",
       "      <th>MONTHS_SINCE_IRRAD</th>\n",
       "      <th>...</th>\n",
       "      <th>LYMPHOCYTES_(%)</th>\n",
       "      <th>MONO_(%)</th>\n",
       "      <th>EOS_(%)</th>\n",
       "      <th>BASO_(%)</th>\n",
       "      <th>ABS_NEUT_(/uL)</th>\n",
       "      <th>ABS_LYMPH_(/uL)</th>\n",
       "      <th>ABS_MONO_(/uL)</th>\n",
       "      <th>ABS_EOS_(/uL)</th>\n",
       "      <th>ABS_BASO_(/uL)</th>\n",
       "      <th>PLATLET_COUNT_(K/uL)</th>\n",
       "    </tr>\n",
       "  </thead>\n",
       "  <tbody>\n",
       "    <tr>\n",
       "      <th>4529</th>\n",
       "      <td>2112</td>\n",
       "      <td>Rhesus-Chinese</td>\n",
       "      <td>2020-09-23 00:00:00</td>\n",
       "      <td>No</td>\n",
       "      <td>NaT</td>\n",
       "      <td>1999-09-28</td>\n",
       "      <td>M</td>\n",
       "      <td>Research</td>\n",
       "      <td>NaN</td>\n",
       "      <td>NaN</td>\n",
       "      <td>...</td>\n",
       "      <td>67.0</td>\n",
       "      <td>6.2</td>\n",
       "      <td>1.1</td>\n",
       "      <td>0.0</td>\n",
       "      <td>1696</td>\n",
       "      <td>4422</td>\n",
       "      <td>409</td>\n",
       "      <td>73</td>\n",
       "      <td>0</td>\n",
       "      <td>289</td>\n",
       "    </tr>\n",
       "    <tr>\n",
       "      <th>4530</th>\n",
       "      <td>2112</td>\n",
       "      <td>Rhesus-Chinese</td>\n",
       "      <td>2021-03-04 00:00:00</td>\n",
       "      <td>No</td>\n",
       "      <td>NaT</td>\n",
       "      <td>1999-09-28</td>\n",
       "      <td>M</td>\n",
       "      <td>Research</td>\n",
       "      <td>NaN</td>\n",
       "      <td>NaN</td>\n",
       "      <td>...</td>\n",
       "      <td>56.1</td>\n",
       "      <td>9.1</td>\n",
       "      <td>1.5</td>\n",
       "      <td>0.0</td>\n",
       "      <td>1312</td>\n",
       "      <td>2210</td>\n",
       "      <td>359</td>\n",
       "      <td>59</td>\n",
       "      <td>0</td>\n",
       "      <td>284</td>\n",
       "    </tr>\n",
       "    <tr>\n",
       "      <th>4531</th>\n",
       "      <td>2210</td>\n",
       "      <td>Rhesus-Indian</td>\n",
       "      <td>2021-09-07 00:00:00</td>\n",
       "      <td>No</td>\n",
       "      <td>NaT</td>\n",
       "      <td>1999-01-01</td>\n",
       "      <td>F</td>\n",
       "      <td>Research</td>\n",
       "      <td>NaN</td>\n",
       "      <td>NaN</td>\n",
       "      <td>...</td>\n",
       "      <td>26.8</td>\n",
       "      <td>12.3</td>\n",
       "      <td>1.2</td>\n",
       "      <td>0.0</td>\n",
       "      <td>3104</td>\n",
       "      <td>1394</td>\n",
       "      <td>640</td>\n",
       "      <td>62</td>\n",
       "      <td>0</td>\n",
       "      <td>311</td>\n",
       "    </tr>\n",
       "    <tr>\n",
       "      <th>4532</th>\n",
       "      <td>2210</td>\n",
       "      <td>Rhesus-Indian</td>\n",
       "      <td>2021-09-20 00:00:00</td>\n",
       "      <td>No</td>\n",
       "      <td>NaT</td>\n",
       "      <td>1999-01-01</td>\n",
       "      <td>F</td>\n",
       "      <td>Research</td>\n",
       "      <td>NaN</td>\n",
       "      <td>NaN</td>\n",
       "      <td>...</td>\n",
       "      <td>36.2</td>\n",
       "      <td>10.9</td>\n",
       "      <td>1.7</td>\n",
       "      <td>0.0</td>\n",
       "      <td>2970</td>\n",
       "      <td>2100</td>\n",
       "      <td>632</td>\n",
       "      <td>99</td>\n",
       "      <td>0</td>\n",
       "      <td>348</td>\n",
       "    </tr>\n",
       "    <tr>\n",
       "      <th>4533</th>\n",
       "      <td>2210</td>\n",
       "      <td>Rhesus-Indian</td>\n",
       "      <td>2021-10-07 00:00:00</td>\n",
       "      <td>No</td>\n",
       "      <td>NaT</td>\n",
       "      <td>1999-01-01</td>\n",
       "      <td>F</td>\n",
       "      <td>Research</td>\n",
       "      <td>NaN</td>\n",
       "      <td>NaN</td>\n",
       "      <td>...</td>\n",
       "      <td>16.0</td>\n",
       "      <td>21.0</td>\n",
       "      <td>3.0</td>\n",
       "      <td>0.0</td>\n",
       "      <td>3360</td>\n",
       "      <td>896</td>\n",
       "      <td>1176</td>\n",
       "      <td>168</td>\n",
       "      <td>0</td>\n",
       "      <td>329</td>\n",
       "    </tr>\n",
       "  </tbody>\n",
       "</table>\n",
       "<p>5 rows × 31 columns</p>\n",
       "</div>"
      ],
      "text/plain": [
       "        ID         Species          SAMPLE_DATE IRRAD IRRAD_DATE        DOB  \\\n",
       "4529  2112  Rhesus-Chinese  2020-09-23 00:00:00    No        NaT 1999-09-28   \n",
       "4530  2112  Rhesus-Chinese  2021-03-04 00:00:00    No        NaT 1999-09-28   \n",
       "4531  2210   Rhesus-Indian  2021-09-07 00:00:00    No        NaT 1999-01-01   \n",
       "4532  2210   Rhesus-Indian  2021-09-20 00:00:00    No        NaT 1999-01-01   \n",
       "4533  2210   Rhesus-Indian  2021-10-07 00:00:00    No        NaT 1999-01-01   \n",
       "\n",
       "     SEX      TYPE  DAYS_SINCE_IRRAD  MONTHS_SINCE_IRRAD  ...  \\\n",
       "4529   M  Research               NaN                 NaN  ...   \n",
       "4530   M  Research               NaN                 NaN  ...   \n",
       "4531   F  Research               NaN                 NaN  ...   \n",
       "4532   F  Research               NaN                 NaN  ...   \n",
       "4533   F  Research               NaN                 NaN  ...   \n",
       "\n",
       "      LYMPHOCYTES_(%)  MONO_(%)  EOS_(%)  BASO_(%)  ABS_NEUT_(/uL)  \\\n",
       "4529             67.0       6.2      1.1       0.0            1696   \n",
       "4530             56.1       9.1      1.5       0.0            1312   \n",
       "4531             26.8      12.3      1.2       0.0            3104   \n",
       "4532             36.2      10.9      1.7       0.0            2970   \n",
       "4533             16.0      21.0      3.0       0.0            3360   \n",
       "\n",
       "      ABS_LYMPH_(/uL)  ABS_MONO_(/uL)  ABS_EOS_(/uL)  ABS_BASO_(/uL)  \\\n",
       "4529             4422             409             73               0   \n",
       "4530             2210             359             59               0   \n",
       "4531             1394             640             62               0   \n",
       "4532             2100             632             99               0   \n",
       "4533              896            1176            168               0   \n",
       "\n",
       "      PLATLET_COUNT_(K/uL)  \n",
       "4529                   289  \n",
       "4530                   284  \n",
       "4531                   311  \n",
       "4532                   348  \n",
       "4533                   329  \n",
       "\n",
       "[5 rows x 31 columns]"
      ]
     },
     "execution_count": 8,
     "metadata": {},
     "output_type": "execute_result"
    }
   ],
   "source": [
    "#Makee a df were there is one monkey's data missing (the same in the single_monkey_df)\n",
    "oneless_df = pd.read_excel('../Documents/full_monkey_data_r2.xlsx',\n",
    "                    sheet_name=1,\n",
    "                    skiprows = 0,\n",
    "                    usecols = ['ID', 'Species', 'SAMPLE_DATE', 'IRRAD', 'IRRAD_DATE', 'DOB', 'SEX',\n",
    "       'TYPE', 'DAYS_SINCE_IRRAD', 'MONTHS_SINCE_IRRAD', 'MONTHS AT IRRAD',\n",
    "       'DOSE_(Gy)', 'AGE', 'WBC_(K/uL)', 'RBC_(M/uL)', 'Hemaglobin_(HGB_g/dL)',\n",
    "       'Hemocrit_(HCT_%)', 'Mean_corpuscular_volume_(MCV_fL)',\n",
    "       'Mean_corpuscular_hemaglobin_(MCH_pg)',\n",
    "       'Mean_corpuscular_hemaglobin_concentration_(MCHC_g/dL)', 'NEUT_(%)',\n",
    "       'LYMPHOCYTES_(%)', 'MONO_(%)', 'EOS_(%)', 'BASO_(%)', 'ABS_NEUT_(/uL)',\n",
    "       'ABS_LYMPH_(/uL)', 'ABS_MONO_(/uL)', 'ABS_EOS_(/uL)', 'ABS_BASO_(/uL)',\n",
    "       'PLATLET_COUNT_(K/uL)'],\n",
    "                    engine = 'openpyxl',\n",
    "                    date_parser=parser\n",
    "                         )\n",
    "\n",
    "#Set the index to the monkey ID and make the labels not read as integers\n",
    "oneless_df.set_index(['ID'])\n",
    "\n",
    "oneless_df['ID'] = oneless_df['ID'].astype(str)\n",
    "\n",
    "#oneless_dff.dropna(axis=0, inplace=True) \n",
    "\n",
    "#oneless_df.columns\n",
    "oneless_df.tail()"
   ]
  },
  {
   "cell_type": "code",
   "execution_count": 13,
   "id": "9d8edfdb-bdad-46cd-8190-4074b8284891",
   "metadata": {
    "tags": []
   },
   "outputs": [
    {
     "data": {
      "text/html": [
       "<div>\n",
       "<style scoped>\n",
       "    .dataframe tbody tr th:only-of-type {\n",
       "        vertical-align: middle;\n",
       "    }\n",
       "\n",
       "    .dataframe tbody tr th {\n",
       "        vertical-align: top;\n",
       "    }\n",
       "\n",
       "    .dataframe thead th {\n",
       "        text-align: right;\n",
       "    }\n",
       "</style>\n",
       "<table border=\"1\" class=\"dataframe\">\n",
       "  <thead>\n",
       "    <tr style=\"text-align: right;\">\n",
       "      <th></th>\n",
       "      <th>ID</th>\n",
       "      <th>Species</th>\n",
       "      <th>SAMPLE_DATE</th>\n",
       "      <th>IRRAD</th>\n",
       "      <th>IRRAD_DATE</th>\n",
       "      <th>DOB</th>\n",
       "      <th>SEX</th>\n",
       "      <th>TYPE</th>\n",
       "      <th>DAYS_SINCE_IRRAD</th>\n",
       "      <th>MONTHS_SINCE_IRRAD</th>\n",
       "      <th>...</th>\n",
       "      <th>LYMPHOCYTES_(%)</th>\n",
       "      <th>MONO_(%)</th>\n",
       "      <th>EOS_(%)</th>\n",
       "      <th>BASO_(%)</th>\n",
       "      <th>ABS_NEUT_(/uL)</th>\n",
       "      <th>ABS_LYMPH_(/uL)</th>\n",
       "      <th>ABS_MONO_(/uL)</th>\n",
       "      <th>ABS_EOS_(/uL)</th>\n",
       "      <th>ABS_BASO_(/uL)</th>\n",
       "      <th>PLATLET_COUNT_(K/uL)</th>\n",
       "    </tr>\n",
       "  </thead>\n",
       "  <tbody>\n",
       "    <tr>\n",
       "      <th>33</th>\n",
       "      <td>2046</td>\n",
       "      <td>Rhesus-Chinese</td>\n",
       "      <td>2017-11-02</td>\n",
       "      <td>Yes</td>\n",
       "      <td>2014-04-09</td>\n",
       "      <td>2007-07-03</td>\n",
       "      <td>F</td>\n",
       "      <td>Clinical</td>\n",
       "      <td>1303.0</td>\n",
       "      <td>43.0</td>\n",
       "      <td>...</td>\n",
       "      <td>44.6</td>\n",
       "      <td>5.5</td>\n",
       "      <td>0.5</td>\n",
       "      <td>0.0</td>\n",
       "      <td>1877</td>\n",
       "      <td>1695</td>\n",
       "      <td>209</td>\n",
       "      <td>19</td>\n",
       "      <td>0</td>\n",
       "      <td>276</td>\n",
       "    </tr>\n",
       "    <tr>\n",
       "      <th>34</th>\n",
       "      <td>2046</td>\n",
       "      <td>Rhesus-Chinese</td>\n",
       "      <td>2017-12-13</td>\n",
       "      <td>Yes</td>\n",
       "      <td>2014-04-09</td>\n",
       "      <td>2007-07-03</td>\n",
       "      <td>F</td>\n",
       "      <td>Clinical</td>\n",
       "      <td>1344.0</td>\n",
       "      <td>44.0</td>\n",
       "      <td>...</td>\n",
       "      <td>40.5</td>\n",
       "      <td>7.4</td>\n",
       "      <td>0.0</td>\n",
       "      <td>0.0</td>\n",
       "      <td>3647</td>\n",
       "      <td>2835</td>\n",
       "      <td>518</td>\n",
       "      <td>0</td>\n",
       "      <td>0</td>\n",
       "      <td>386</td>\n",
       "    </tr>\n",
       "    <tr>\n",
       "      <th>35</th>\n",
       "      <td>2046</td>\n",
       "      <td>Rhesus-Chinese</td>\n",
       "      <td>2018-01-02</td>\n",
       "      <td>Yes</td>\n",
       "      <td>2014-04-09</td>\n",
       "      <td>2007-07-03</td>\n",
       "      <td>F</td>\n",
       "      <td>Research</td>\n",
       "      <td>1364.0</td>\n",
       "      <td>45.0</td>\n",
       "      <td>...</td>\n",
       "      <td>39.9</td>\n",
       "      <td>6.0</td>\n",
       "      <td>0.3</td>\n",
       "      <td>0.3</td>\n",
       "      <td>2140</td>\n",
       "      <td>1596</td>\n",
       "      <td>240</td>\n",
       "      <td>12</td>\n",
       "      <td>12</td>\n",
       "      <td>309</td>\n",
       "    </tr>\n",
       "    <tr>\n",
       "      <th>36</th>\n",
       "      <td>2046</td>\n",
       "      <td>Rhesus-Chinese</td>\n",
       "      <td>2018-01-31</td>\n",
       "      <td>Yes</td>\n",
       "      <td>2014-04-09</td>\n",
       "      <td>2007-07-03</td>\n",
       "      <td>F</td>\n",
       "      <td>Research</td>\n",
       "      <td>1393.0</td>\n",
       "      <td>46.0</td>\n",
       "      <td>...</td>\n",
       "      <td>46.8</td>\n",
       "      <td>5.6</td>\n",
       "      <td>0.5</td>\n",
       "      <td>0.0</td>\n",
       "      <td>2025</td>\n",
       "      <td>2012</td>\n",
       "      <td>241</td>\n",
       "      <td>22</td>\n",
       "      <td>0</td>\n",
       "      <td>275</td>\n",
       "    </tr>\n",
       "    <tr>\n",
       "      <th>37</th>\n",
       "      <td>2046</td>\n",
       "      <td>Rhesus-Chinese</td>\n",
       "      <td>2018-04-05</td>\n",
       "      <td>Yes</td>\n",
       "      <td>2014-04-09</td>\n",
       "      <td>2007-07-03</td>\n",
       "      <td>F</td>\n",
       "      <td>Research</td>\n",
       "      <td>1457.0</td>\n",
       "      <td>48.0</td>\n",
       "      <td>...</td>\n",
       "      <td>22.8</td>\n",
       "      <td>5.8</td>\n",
       "      <td>0.1</td>\n",
       "      <td>0.1</td>\n",
       "      <td>6123</td>\n",
       "      <td>1961</td>\n",
       "      <td>499</td>\n",
       "      <td>9</td>\n",
       "      <td>9</td>\n",
       "      <td>325</td>\n",
       "    </tr>\n",
       "  </tbody>\n",
       "</table>\n",
       "<p>5 rows × 31 columns</p>\n",
       "</div>"
      ],
      "text/plain": [
       "      ID         Species SAMPLE_DATE IRRAD IRRAD_DATE        DOB SEX  \\\n",
       "33  2046  Rhesus-Chinese  2017-11-02   Yes 2014-04-09 2007-07-03   F   \n",
       "34  2046  Rhesus-Chinese  2017-12-13   Yes 2014-04-09 2007-07-03   F   \n",
       "35  2046  Rhesus-Chinese  2018-01-02   Yes 2014-04-09 2007-07-03   F   \n",
       "36  2046  Rhesus-Chinese  2018-01-31   Yes 2014-04-09 2007-07-03   F   \n",
       "37  2046  Rhesus-Chinese  2018-04-05   Yes 2014-04-09 2007-07-03   F   \n",
       "\n",
       "        TYPE  DAYS_SINCE_IRRAD  MONTHS_SINCE_IRRAD  ...  LYMPHOCYTES_(%)  \\\n",
       "33  Clinical            1303.0                43.0  ...             44.6   \n",
       "34  Clinical            1344.0                44.0  ...             40.5   \n",
       "35  Research            1364.0                45.0  ...             39.9   \n",
       "36  Research            1393.0                46.0  ...             46.8   \n",
       "37  Research            1457.0                48.0  ...             22.8   \n",
       "\n",
       "    MONO_(%)  EOS_(%)  BASO_(%)  ABS_NEUT_(/uL)  ABS_LYMPH_(/uL)  \\\n",
       "33       5.5      0.5       0.0            1877             1695   \n",
       "34       7.4      0.0       0.0            3647             2835   \n",
       "35       6.0      0.3       0.3            2140             1596   \n",
       "36       5.6      0.5       0.0            2025             2012   \n",
       "37       5.8      0.1       0.1            6123             1961   \n",
       "\n",
       "    ABS_MONO_(/uL)  ABS_EOS_(/uL)  ABS_BASO_(/uL)  PLATLET_COUNT_(K/uL)  \n",
       "33             209             19               0                   276  \n",
       "34             518              0               0                   386  \n",
       "35             240             12              12                   309  \n",
       "36             241             22               0                   275  \n",
       "37             499              9               9                   325  \n",
       "\n",
       "[5 rows x 31 columns]"
      ]
     },
     "execution_count": 13,
     "metadata": {},
     "output_type": "execute_result"
    }
   ],
   "source": [
    "# Make a df of a single monkey's blood analytic data\n",
    "single_minbio_df = minbio_monkey_df.copy()\n",
    "single_minbio_df = single_minbio_df[single_minbio_df['ID'] == '2046']\n",
    "single_minbio_df.set_index(['ID'])\n",
    "#single_minbio_df.reset_index()\n",
    "single_minbio_df.head()\n"
   ]
  },
  {
   "cell_type": "markdown",
   "id": "193aa2ad-4040-4a95-bed3-c344a6f39387",
   "metadata": {
    "tags": []
   },
   "source": [
    "### Single Monkey"
   ]
  },
  {
   "cell_type": "markdown",
   "id": "9fc2b01a-a857-46dc-adf1-031d10ee6f9e",
   "metadata": {},
   "source": [
    "#### Data processing for ML"
   ]
  },
  {
   "cell_type": "code",
   "execution_count": 14,
   "id": "a87632c7-999c-4ebf-8709-6c02ef8f93aa",
   "metadata": {
    "tags": []
   },
   "outputs": [
    {
     "name": "stdout",
     "output_type": "stream",
     "text": [
      "[0, 1, 2, 3]\n"
     ]
    }
   ],
   "source": [
    "#make a parent df\n",
    "single_minbio_df.copy()\n",
    "sreg_df = single_minbio_df\n",
    "\n",
    "#make train/testdf\n",
    "(sreg_train_df, sreg_test_df)= sreg_df, sreg_df\n",
    "\n",
    "#sreg_test_df.tail(2)\n",
    "\n",
    "# label values extraction\n",
    "sreg_y=sreg_train_df['LYMPHOCYTES_(%)']\n",
    "sreg_X=sreg_train_df.drop(['ID','IRRAD_DATE','DOB','SAMPLE_DATE','LYMPHOCYTES_(%)'],axis=1)\n",
    "\n",
    "# Declare catagorical features - first column\n",
    "cat_features= list(range(0,sreg_X[sreg_X.columns[:4]].shape[1]))\n",
    "\n",
    "print(cat_features)"
   ]
  },
  {
   "cell_type": "code",
   "execution_count": 15,
   "id": "50754b5a-7e45-41c4-8f59-9a4c7a9656f3",
   "metadata": {
    "tags": []
   },
   "outputs": [
    {
     "name": "stderr",
     "output_type": "stream",
     "text": [
      "iteritems is deprecated and will be removed in a future version. Use .items instead.\n"
     ]
    }
   ],
   "source": [
    "from catboost import Pool\n",
    "from sklearn.model_selection import train_test_split\n",
    "\n",
    "#put the data into the pool\n",
    "sreg_pool = Pool(data=sreg_X, label=sreg_y, cat_features=cat_features)\n",
    "\n",
    "\n",
    "#train tesr split - 30% test\n",
    "sreg_data= train_test_split(sreg_X, sreg_y, test_size=0.3, random_state=0)\n",
    "\n",
    "#### The order of this matters###\n",
    "sreg_X_train, sreg_X_validation,sreg_y_train, sreg_y_validation= sreg_data\n",
    "\n",
    "sreg_train_pool = Pool(\n",
    "    data = sreg_X_train,\n",
    "    label = sreg_y_train,\n",
    "    cat_features = cat_features\n",
    ")\n",
    "\n",
    "sreg_validation_pool = Pool(\n",
    "    data = sreg_X_validation,\n",
    "    label = sreg_y_validation,\n",
    "    cat_features = cat_features\n",
    ")\n"
   ]
  },
  {
   "cell_type": "markdown",
   "id": "7f379388-a8a2-45b5-81ab-d33e10264bce",
   "metadata": {},
   "source": [
    "#### Model Formation"
   ]
  },
  {
   "cell_type": "code",
   "execution_count": 17,
   "id": "4279007c-46da-4568-bef9-8ab8288a675c",
   "metadata": {
    "tags": []
   },
   "outputs": [
    {
     "name": "stdout",
     "output_type": "stream",
     "text": [
      "0:\tlearn: 11.5746619\ttotal: 607us\tremaining: 5.47ms\n",
      "9:\tlearn: 2.5191178\ttotal: 3.29ms\tremaining: 0us\n"
     ]
    },
    {
     "data": {
      "text/plain": [
       "<catboost.core.CatBoostRegressor at 0x7fb2420fcb20>"
      ]
     },
     "execution_count": 17,
     "metadata": {},
     "output_type": "execute_result"
    }
   ],
   "source": [
    "from catboost import CatBoostRegressor\n",
    "\n",
    "# Model for predicting lymphocyte counts for a singel monkey\n",
    "model7= CatBoostRegressor(iterations=10,\n",
    "    learning_rate=0.5,\n",
    "    early_stopping_rounds=5,\n",
    ")\n",
    "\n",
    "\n",
    "model7.fit(sreg_X_train, \n",
    "           sreg_y_train, \n",
    "           cat_features=cat_features,\n",
    "           verbose=100 #tells how many iterations to print\n",
    "         )\n"
   ]
  },
  {
   "cell_type": "markdown",
   "id": "60a829d4-b8a2-4275-839a-3bfedc9d2af8",
   "metadata": {},
   "source": [
    "#### Predictions"
   ]
  },
  {
   "cell_type": "code",
   "execution_count": 18,
   "id": "5ebb6f35-5638-4e84-ab0b-d70f16e957db",
   "metadata": {
    "tags": []
   },
   "outputs": [
    {
     "name": "stdout",
     "output_type": "stream",
     "text": [
      "6\n",
      "           0\n",
      "0  40.401799\n",
      "1  29.227720\n",
      "2  35.991332\n",
      "3  30.863970\n",
      "4  31.376321\n",
      "5  40.949353\n",
      "34    40.5\n",
      "39    35.1\n",
      "41    21.8\n",
      "43    20.1\n",
      "47    38.2\n",
      "37    22.8\n",
      "Name: LYMPHOCYTES_(%), dtype: float64\n",
      "The r2 score for the model is: -0.7317608731600711\n"
     ]
    }
   ],
   "source": [
    "from sklearn.metrics import r2_score\n",
    "#Predict the test Lymphocyte percentages\n",
    "\n",
    "sreg_a = model7.predict(sreg_X_validation)\n",
    "print(len(sreg_a), \n",
    "     )\n",
    "sreg_a_df = pd.DataFrame(sreg_a)\n",
    "print(sreg_a_df)\n",
    "print(sreg_y_validation)\n",
    "\n",
    "#r2 is the best metric for accuracy of predictions with continuous data\n",
    "print('The r2 score for the model is:',r2_score(sreg_y_validation, sreg_a_df))\n"
   ]
  },
  {
   "cell_type": "code",
   "execution_count": 19,
   "id": "fad569f4-2f8e-4f3e-942a-4a44878f11df",
   "metadata": {
    "tags": []
   },
   "outputs": [
    {
     "data": {
      "image/png": "[encoded data removed]",
      "text/plain": [
       "<Figure size 640x480 with 1 Axes>"
      ]
     },
     "metadata": {},
     "output_type": "display_data"
    }
   ],
   "source": [
    "# Plot the predictions vs. actual with the R2 score\n",
    "\n",
    "fig, ax = plt.subplots()\n",
    "ax.scatter(sreg_y_validation, sreg_a_df)\n",
    "\n",
    "ax.plot([sreg_y.min(), sreg_y.max()], [sreg_y.min(), sreg_y.max()], \n",
    "        'k-', \n",
    "        linewidth=1, \n",
    "        markersize=120\n",
    ")\n",
    "\n",
    "#Plot axis titles\n",
    "ax.set_xlabel('Actual Lymphocyte (%)')\n",
    "ax.set_ylabel('Predicted Lymphocyte (%)')\n",
    "\n",
    "#Title of the plot\n",
    "ax.set_title('Single Monkey Lymphocyte Predictions\\nIterations: {}'\n",
    "             .format(model7.get_param('iterations')), \n",
    "             fontsize=15)\n",
    "\n",
    "#Plotting the R2 score\n",
    "ax.annotate(\"R2: {}\".format(str(r2_score(sreg_y_validation, sreg_a_df).round(2))),\n",
    "            xy=(21,53), fontsize=12,\n",
    "           bbox={'facecolor': 'white', 'alpha': 1, 'pad': 10})\n",
    "\n",
    "plt.show()"
   ]
  },
  {
   "cell_type": "markdown",
   "id": "0ac59a65-019f-4804-8fe8-d645bb7934a1",
   "metadata": {},
   "source": [
    "#### Feature importance"
   ]
  },
  {
   "cell_type": "code",
   "execution_count": 23,
   "id": "2f79f65e-37ca-4e85-ad12-5b9d079a8e81",
   "metadata": {
    "tags": []
   },
   "outputs": [
    {
     "data": {
      "text/html": [
       "<div>\n",
       "<style scoped>\n",
       "    .dataframe tbody tr th:only-of-type {\n",
       "        vertical-align: middle;\n",
       "    }\n",
       "\n",
       "    .dataframe tbody tr th {\n",
       "        vertical-align: top;\n",
       "    }\n",
       "\n",
       "    .dataframe thead th {\n",
       "        text-align: right;\n",
       "    }\n",
       "</style>\n",
       "<table border=\"1\" class=\"dataframe\">\n",
       "  <thead>\n",
       "    <tr style=\"text-align: right;\">\n",
       "      <th></th>\n",
       "      <th>Feature Id</th>\n",
       "      <th>Importances</th>\n",
       "    </tr>\n",
       "  </thead>\n",
       "  <tbody>\n",
       "    <tr>\n",
       "      <th>0</th>\n",
       "      <td>NEUT_(%)</td>\n",
       "      <td>25.791263</td>\n",
       "    </tr>\n",
       "    <tr>\n",
       "      <th>1</th>\n",
       "      <td>TYPE</td>\n",
       "      <td>13.162456</td>\n",
       "    </tr>\n",
       "    <tr>\n",
       "      <th>2</th>\n",
       "      <td>ABS_LYMPH_(/uL)</td>\n",
       "      <td>13.094777</td>\n",
       "    </tr>\n",
       "    <tr>\n",
       "      <th>3</th>\n",
       "      <td>EOS_(%)</td>\n",
       "      <td>11.994731</td>\n",
       "    </tr>\n",
       "    <tr>\n",
       "      <th>4</th>\n",
       "      <td>RBC_(M/uL)</td>\n",
       "      <td>11.799281</td>\n",
       "    </tr>\n",
       "    <tr>\n",
       "      <th>5</th>\n",
       "      <td>Hemocrit_(HCT_%)</td>\n",
       "      <td>4.794531</td>\n",
       "    </tr>\n",
       "    <tr>\n",
       "      <th>6</th>\n",
       "      <td>Mean_corpuscular_hemaglobin_concentration_(MCH...</td>\n",
       "      <td>4.392843</td>\n",
       "    </tr>\n",
       "    <tr>\n",
       "      <th>7</th>\n",
       "      <td>MONTHS_SINCE_IRRAD</td>\n",
       "      <td>3.730368</td>\n",
       "    </tr>\n",
       "    <tr>\n",
       "      <th>8</th>\n",
       "      <td>WBC_(K/uL)</td>\n",
       "      <td>3.359482</td>\n",
       "    </tr>\n",
       "    <tr>\n",
       "      <th>9</th>\n",
       "      <td>ABS_NEUT_(/uL)</td>\n",
       "      <td>2.996981</td>\n",
       "    </tr>\n",
       "    <tr>\n",
       "      <th>10</th>\n",
       "      <td>DAYS_SINCE_IRRAD</td>\n",
       "      <td>1.910935</td>\n",
       "    </tr>\n",
       "    <tr>\n",
       "      <th>11</th>\n",
       "      <td>ABS_EOS_(/uL)</td>\n",
       "      <td>0.933172</td>\n",
       "    </tr>\n",
       "    <tr>\n",
       "      <th>12</th>\n",
       "      <td>AGE</td>\n",
       "      <td>0.755005</td>\n",
       "    </tr>\n",
       "    <tr>\n",
       "      <th>13</th>\n",
       "      <td>Mean_corpuscular_hemaglobin_(MCH_pg)</td>\n",
       "      <td>0.731431</td>\n",
       "    </tr>\n",
       "    <tr>\n",
       "      <th>14</th>\n",
       "      <td>MONO_(%)</td>\n",
       "      <td>0.169930</td>\n",
       "    </tr>\n",
       "    <tr>\n",
       "      <th>15</th>\n",
       "      <td>ABS_BASO_(/uL)</td>\n",
       "      <td>0.166500</td>\n",
       "    </tr>\n",
       "    <tr>\n",
       "      <th>16</th>\n",
       "      <td>BASO_(%)</td>\n",
       "      <td>0.150382</td>\n",
       "    </tr>\n",
       "    <tr>\n",
       "      <th>17</th>\n",
       "      <td>PLATLET_COUNT_(K/uL)</td>\n",
       "      <td>0.047663</td>\n",
       "    </tr>\n",
       "    <tr>\n",
       "      <th>18</th>\n",
       "      <td>Mean_corpuscular_volume_(MCV_fL)</td>\n",
       "      <td>0.018269</td>\n",
       "    </tr>\n",
       "    <tr>\n",
       "      <th>19</th>\n",
       "      <td>Species</td>\n",
       "      <td>0.000000</td>\n",
       "    </tr>\n",
       "    <tr>\n",
       "      <th>20</th>\n",
       "      <td>IRRAD</td>\n",
       "      <td>0.000000</td>\n",
       "    </tr>\n",
       "    <tr>\n",
       "      <th>21</th>\n",
       "      <td>SEX</td>\n",
       "      <td>0.000000</td>\n",
       "    </tr>\n",
       "    <tr>\n",
       "      <th>22</th>\n",
       "      <td>MONTHS AT IRRAD</td>\n",
       "      <td>0.000000</td>\n",
       "    </tr>\n",
       "    <tr>\n",
       "      <th>23</th>\n",
       "      <td>DOSE_(Gy)</td>\n",
       "      <td>0.000000</td>\n",
       "    </tr>\n",
       "    <tr>\n",
       "      <th>24</th>\n",
       "      <td>Hemaglobin_(HGB_g/dL)</td>\n",
       "      <td>0.000000</td>\n",
       "    </tr>\n",
       "    <tr>\n",
       "      <th>25</th>\n",
       "      <td>ABS_MONO_(/uL)</td>\n",
       "      <td>0.000000</td>\n",
       "    </tr>\n",
       "  </tbody>\n",
       "</table>\n",
       "</div>"
      ],
      "text/plain": [
       "                                           Feature Id  Importances\n",
       "0                                            NEUT_(%)    25.791263\n",
       "1                                                TYPE    13.162456\n",
       "2                                     ABS_LYMPH_(/uL)    13.094777\n",
       "3                                             EOS_(%)    11.994731\n",
       "4                                          RBC_(M/uL)    11.799281\n",
       "5                                    Hemocrit_(HCT_%)     4.794531\n",
       "6   Mean_corpuscular_hemaglobin_concentration_(MCH...     4.392843\n",
       "7                                  MONTHS_SINCE_IRRAD     3.730368\n",
       "8                                          WBC_(K/uL)     3.359482\n",
       "9                                      ABS_NEUT_(/uL)     2.996981\n",
       "10                                   DAYS_SINCE_IRRAD     1.910935\n",
       "11                                      ABS_EOS_(/uL)     0.933172\n",
       "12                                                AGE     0.755005\n",
       "13               Mean_corpuscular_hemaglobin_(MCH_pg)     0.731431\n",
       "14                                           MONO_(%)     0.169930\n",
       "15                                     ABS_BASO_(/uL)     0.166500\n",
       "16                                           BASO_(%)     0.150382\n",
       "17                               PLATLET_COUNT_(K/uL)     0.047663\n",
       "18                   Mean_corpuscular_volume_(MCV_fL)     0.018269\n",
       "19                                            Species     0.000000\n",
       "20                                              IRRAD     0.000000\n",
       "21                                                SEX     0.000000\n",
       "22                                    MONTHS AT IRRAD     0.000000\n",
       "23                                          DOSE_(Gy)     0.000000\n",
       "24                              Hemaglobin_(HGB_g/dL)     0.000000\n",
       "25                                     ABS_MONO_(/uL)     0.000000"
      ]
     },
     "execution_count": 23,
     "metadata": {},
     "output_type": "execute_result"
    }
   ],
   "source": [
    "# Find the feature importance for predicting the lmphocyte counts is a single monkey\n",
    "model7.get_feature_importance(data=sreg_pool,\n",
    "                       prettified=True\n",
    ")\n"
   ]
  },
  {
   "cell_type": "markdown",
   "id": "86d314d7-6b2b-4f27-9a2c-f02afc720fa1",
   "metadata": {},
   "source": [
    "### Multi Monkey"
   ]
  },
  {
   "cell_type": "markdown",
   "id": "b3a9f5bf-85f4-4e3a-9afd-71d7ee6ddf15",
   "metadata": {},
   "source": [
    "#### Data processing for ML"
   ]
  },
  {
   "cell_type": "code",
   "execution_count": 20,
   "id": "b410558d-263a-4ef8-8fbf-5ec2805a8806",
   "metadata": {
    "tags": []
   },
   "outputs": [
    {
     "name": "stdout",
     "output_type": "stream",
     "text": [
      "[0, 1, 2, 3]\n"
     ]
    }
   ],
   "source": [
    "#make a parent df\n",
    "minbio_monkey_df.copy()\n",
    "mreg_df = minbio_monkey_df\n",
    "\n",
    "#make train/testdf\n",
    "(mreg_train_df, mreg_test_df)= mreg_df, mreg_df\n",
    "\n",
    "# label values extraction\n",
    "mreg_y=mreg_train_df['LYMPHOCYTES_(%)']\n",
    "mreg_X=mreg_train_df.drop(['ID','IRRAD_DATE','DOB','SAMPLE_DATE','LYMPHOCYTES_(%)'],axis=1)\n",
    "\n",
    "# Declare catagorical features - first column\n",
    "cat_features= list(range(0,mreg_X[mreg_X.columns[:4]].shape[1]))\n",
    "\n",
    "\n",
    "print(cat_features)"
   ]
  },
  {
   "cell_type": "code",
   "execution_count": 21,
   "id": "acee9a7f-1987-4d48-a2f4-d72260a9ab59",
   "metadata": {
    "tags": []
   },
   "outputs": [
    {
     "name": "stderr",
     "output_type": "stream",
     "text": [
      "iteritems is deprecated and will be removed in a future version. Use .items instead.\n"
     ]
    }
   ],
   "source": [
    "#put the data into the pool\n",
    "mreg_pool = Pool(data=mreg_X, label=mreg_y, cat_features=cat_features)\n",
    "\n",
    "\n",
    "#train tesr split - 30% test\n",
    "mreg_data= train_test_split(mreg_X, mreg_y, test_size=0.3, random_state=0)\n",
    "\n",
    "#### The order of this matters###\n",
    "mreg_X_train, mreg_X_validation,mreg_y_train, mreg_y_validation= mreg_data\n",
    "\n",
    "mreg_train_pool = Pool(\n",
    "    data = mreg_X_train,\n",
    "    label = mreg_y_train,\n",
    "    cat_features = cat_features\n",
    ")\n",
    "\n",
    "mreg_validation_pool = Pool(\n",
    "    data = mreg_X_validation,\n",
    "    label = mreg_y_validation,\n",
    "    cat_features = cat_features\n",
    ")\n"
   ]
  },
  {
   "cell_type": "markdown",
   "id": "d290a712-ac8a-4d8a-833e-aa29d76fb940",
   "metadata": {},
   "source": [
    "#### Model Formation"
   ]
  },
  {
   "cell_type": "code",
   "execution_count": 22,
   "id": "985a578f-e0cc-4aef-96f3-1542c34260b7",
   "metadata": {
    "tags": []
   },
   "outputs": [
    {
     "name": "stdout",
     "output_type": "stream",
     "text": [
      "0:\tlearn: 9.1343457\ttotal: 6.41ms\tremaining: 57.7ms\n",
      "1:\tlearn: 5.9220610\ttotal: 10.7ms\tremaining: 43ms\n",
      "2:\tlearn: 4.1645771\ttotal: 18.4ms\tremaining: 43ms\n",
      "3:\tlearn: 3.2522922\ttotal: 22.8ms\tremaining: 34.2ms\n",
      "4:\tlearn: 2.6910541\ttotal: 27.2ms\tremaining: 27.2ms\n",
      "5:\tlearn: 2.4544207\ttotal: 31.4ms\tremaining: 20.9ms\n",
      "6:\tlearn: 2.2626266\ttotal: 35.5ms\tremaining: 15.2ms\n",
      "7:\tlearn: 2.1127208\ttotal: 39.5ms\tremaining: 9.88ms\n",
      "8:\tlearn: 2.0122714\ttotal: 43.5ms\tremaining: 4.83ms\n",
      "9:\tlearn: 1.9773177\ttotal: 47.6ms\tremaining: 0us\n"
     ]
    },
    {
     "data": {
      "text/plain": [
       "<catboost.core.CatBoostRegressor at 0x7fb2426ff910>"
      ]
     },
     "execution_count": 22,
     "metadata": {},
     "output_type": "execute_result"
    }
   ],
   "source": [
    "# rEgression for multiple monkey predicitons\n",
    "model8= CatBoostRegressor(iterations=10,\n",
    "    learning_rate=0.5,\n",
    "    early_stopping_rounds=5,\n",
    ")\n",
    "\n",
    "model8.fit(mreg_X_train, \n",
    "           mreg_y_train, \n",
    "           cat_features=cat_features, \n",
    "         )"
   ]
  },
  {
   "cell_type": "markdown",
   "id": "00bf23e8-d5c7-4251-bf5f-875c7402bc30",
   "metadata": {},
   "source": [
    "#### Predictions"
   ]
  },
  {
   "cell_type": "code",
   "execution_count": 23,
   "id": "e21d85cf-f295-4308-bc9a-00127b61b353",
   "metadata": {
    "tags": []
   },
   "outputs": [
    {
     "name": "stdout",
     "output_type": "stream",
     "text": [
      "1366\n",
      "              0\n",
      "0     20.290521\n",
      "1     33.934008\n",
      "2     34.574902\n",
      "3      9.560516\n",
      "4     56.571199\n",
      "...         ...\n",
      "1361  49.956893\n",
      "1362  36.658865\n",
      "1363  14.898953\n",
      "1364  46.625866\n",
      "1365  44.556295\n",
      "\n",
      "[1366 rows x 1 columns]\n",
      "2438    17.9\n",
      "3343    36.1\n",
      "1895    36.0\n",
      "3501    10.2\n",
      "3256    61.1\n",
      "        ... \n",
      "3878    49.0\n",
      "3037    39.0\n",
      "4250    15.3\n",
      "1770    46.4\n",
      "2735    44.1\n",
      "Name: LYMPHOCYTES_(%), Length: 1366, dtype: float64\n",
      "The r2 score for the model is: 0.9802044842730017\n"
     ]
    }
   ],
   "source": [
    "#Predict the test Lymphocyte percentages\n",
    "mreg_a = model8.predict(mreg_X_validation)\n",
    "print(len(mreg_a), \n",
    "     )\n",
    "mreg_a_df = pd.DataFrame(mreg_a)\n",
    "print(mreg_a_df)\n",
    "print(mreg_y_validation)\n",
    "\n",
    "#r2 is the best metric for accuracy of predictions with continuous data\n",
    "print('The r2 score for the model is:',r2_score(mreg_y_validation, mreg_a_df))\n"
   ]
  },
  {
   "cell_type": "code",
   "execution_count": 24,
   "id": "1f906edd-fe82-4398-9a40-f08b1735a285",
   "metadata": {
    "tags": []
   },
   "outputs": [
    {
     "data": {
      "image/png": "[encoded data removed]",
      "text/plain": [
       "<Figure size 640x480 with 1 Axes>"
      ]
     },
     "metadata": {},
     "output_type": "display_data"
    }
   ],
   "source": [
    "# Plot the predictions vs. actual with the R2 score\n",
    "fig, ax = plt.subplots()\n",
    "ax.scatter(mreg_y_validation, mreg_a_df)\n",
    "\n",
    "ax.plot([mreg_y.min(), mreg_y.max()], [mreg_y.min(), mreg_y.max()], \n",
    "        'k-', \n",
    "        linewidth=1, \n",
    "        markersize=120\n",
    ")\n",
    "\n",
    "#Plot axis titles\n",
    "ax.set_xlabel('Actual Lymphocyte (%)')\n",
    "ax.set_ylabel('Predicted Lymphocyte (%)')\n",
    "\n",
    "#Title of the plot\n",
    "ax.set_title('Multi-Monkey Lymphocyte Predictions\\nIterations: {}'\n",
    "             .format(model8.get_param('iterations')), \n",
    "             fontsize=15)\n",
    "\n",
    "#Plotting the R2 score\n",
    "ax.annotate(\"R2: {}\".format(str(r2_score(mreg_y_validation, mreg_a_df).round(2))),\n",
    "           xy=(20,75), fontsize=12,\n",
    "            bbox={'facecolor': 'white', 'alpha': 1, 'pad': 10})\n",
    "\n",
    "plt.show()"
   ]
  },
  {
   "cell_type": "markdown",
   "id": "a28bf3f3-7f53-4a5a-bf3d-c23631f3e4da",
   "metadata": {},
   "source": [
    "#### Feature Analysis"
   ]
  },
  {
   "cell_type": "code",
   "execution_count": 66,
   "id": "46095b23-eb7c-41a6-b6af-a0149794ab20",
   "metadata": {
    "tags": []
   },
   "outputs": [
    {
     "data": {
      "text/html": [
       "<div>\n",
       "<style scoped>\n",
       "    .dataframe tbody tr th:only-of-type {\n",
       "        vertical-align: middle;\n",
       "    }\n",
       "\n",
       "    .dataframe tbody tr th {\n",
       "        vertical-align: top;\n",
       "    }\n",
       "\n",
       "    .dataframe thead th {\n",
       "        text-align: right;\n",
       "    }\n",
       "</style>\n",
       "<table border=\"1\" class=\"dataframe\">\n",
       "  <thead>\n",
       "    <tr style=\"text-align: right;\">\n",
       "      <th></th>\n",
       "      <th>Feature Id</th>\n",
       "      <th>Importances</th>\n",
       "    </tr>\n",
       "  </thead>\n",
       "  <tbody>\n",
       "    <tr>\n",
       "      <th>0</th>\n",
       "      <td>NEUT_(%)</td>\n",
       "      <td>86.690265</td>\n",
       "    </tr>\n",
       "    <tr>\n",
       "      <th>1</th>\n",
       "      <td>ABS_LYMPH_(/uL)</td>\n",
       "      <td>4.309505</td>\n",
       "    </tr>\n",
       "    <tr>\n",
       "      <th>2</th>\n",
       "      <td>ABS_MONO_(/uL)</td>\n",
       "      <td>2.908496</td>\n",
       "    </tr>\n",
       "    <tr>\n",
       "      <th>3</th>\n",
       "      <td>MONO_(%)</td>\n",
       "      <td>2.536824</td>\n",
       "    </tr>\n",
       "    <tr>\n",
       "      <th>4</th>\n",
       "      <td>EOS_(%)</td>\n",
       "      <td>1.749061</td>\n",
       "    </tr>\n",
       "    <tr>\n",
       "      <th>5</th>\n",
       "      <td>ABS_EOS_(/uL)</td>\n",
       "      <td>0.948118</td>\n",
       "    </tr>\n",
       "    <tr>\n",
       "      <th>6</th>\n",
       "      <td>Hemaglobin_(HGB_g/dL)</td>\n",
       "      <td>0.429481</td>\n",
       "    </tr>\n",
       "    <tr>\n",
       "      <th>7</th>\n",
       "      <td>ABS_NEUT_(/uL)</td>\n",
       "      <td>0.275921</td>\n",
       "    </tr>\n",
       "    <tr>\n",
       "      <th>8</th>\n",
       "      <td>Hemocrit_(HCT_%)</td>\n",
       "      <td>0.072630</td>\n",
       "    </tr>\n",
       "    <tr>\n",
       "      <th>9</th>\n",
       "      <td>Mean_corpuscular_volume_(MCV_fL)</td>\n",
       "      <td>0.037872</td>\n",
       "    </tr>\n",
       "    <tr>\n",
       "      <th>10</th>\n",
       "      <td>BASO_(%)</td>\n",
       "      <td>0.034285</td>\n",
       "    </tr>\n",
       "    <tr>\n",
       "      <th>11</th>\n",
       "      <td>Mean_corpuscular_hemaglobin_concentration_(MCH...</td>\n",
       "      <td>0.007542</td>\n",
       "    </tr>\n",
       "    <tr>\n",
       "      <th>12</th>\n",
       "      <td>Species</td>\n",
       "      <td>0.000000</td>\n",
       "    </tr>\n",
       "    <tr>\n",
       "      <th>13</th>\n",
       "      <td>IRRAD</td>\n",
       "      <td>0.000000</td>\n",
       "    </tr>\n",
       "    <tr>\n",
       "      <th>14</th>\n",
       "      <td>SEX</td>\n",
       "      <td>0.000000</td>\n",
       "    </tr>\n",
       "    <tr>\n",
       "      <th>15</th>\n",
       "      <td>TYPE</td>\n",
       "      <td>0.000000</td>\n",
       "    </tr>\n",
       "    <tr>\n",
       "      <th>16</th>\n",
       "      <td>DAYS_SINCE_IRRAD</td>\n",
       "      <td>0.000000</td>\n",
       "    </tr>\n",
       "    <tr>\n",
       "      <th>17</th>\n",
       "      <td>MONTHS_SINCE_IRRAD</td>\n",
       "      <td>0.000000</td>\n",
       "    </tr>\n",
       "    <tr>\n",
       "      <th>18</th>\n",
       "      <td>MONTHS AT IRRAD</td>\n",
       "      <td>0.000000</td>\n",
       "    </tr>\n",
       "    <tr>\n",
       "      <th>19</th>\n",
       "      <td>DOSE_(Gy)</td>\n",
       "      <td>0.000000</td>\n",
       "    </tr>\n",
       "    <tr>\n",
       "      <th>20</th>\n",
       "      <td>AGE</td>\n",
       "      <td>0.000000</td>\n",
       "    </tr>\n",
       "    <tr>\n",
       "      <th>21</th>\n",
       "      <td>WBC_(K/uL)</td>\n",
       "      <td>0.000000</td>\n",
       "    </tr>\n",
       "    <tr>\n",
       "      <th>22</th>\n",
       "      <td>RBC_(M/uL)</td>\n",
       "      <td>0.000000</td>\n",
       "    </tr>\n",
       "    <tr>\n",
       "      <th>23</th>\n",
       "      <td>Mean_corpuscular_hemaglobin_(MCH_pg)</td>\n",
       "      <td>0.000000</td>\n",
       "    </tr>\n",
       "    <tr>\n",
       "      <th>24</th>\n",
       "      <td>ABS_BASO_(/uL)</td>\n",
       "      <td>0.000000</td>\n",
       "    </tr>\n",
       "    <tr>\n",
       "      <th>25</th>\n",
       "      <td>PLATLET_COUNT_(K/uL)</td>\n",
       "      <td>0.000000</td>\n",
       "    </tr>\n",
       "  </tbody>\n",
       "</table>\n",
       "</div>"
      ],
      "text/plain": [
       "                                           Feature Id  Importances\n",
       "0                                            NEUT_(%)    86.690265\n",
       "1                                     ABS_LYMPH_(/uL)     4.309505\n",
       "2                                      ABS_MONO_(/uL)     2.908496\n",
       "3                                            MONO_(%)     2.536824\n",
       "4                                             EOS_(%)     1.749061\n",
       "5                                       ABS_EOS_(/uL)     0.948118\n",
       "6                               Hemaglobin_(HGB_g/dL)     0.429481\n",
       "7                                      ABS_NEUT_(/uL)     0.275921\n",
       "8                                    Hemocrit_(HCT_%)     0.072630\n",
       "9                    Mean_corpuscular_volume_(MCV_fL)     0.037872\n",
       "10                                           BASO_(%)     0.034285\n",
       "11  Mean_corpuscular_hemaglobin_concentration_(MCH...     0.007542\n",
       "12                                            Species     0.000000\n",
       "13                                              IRRAD     0.000000\n",
       "14                                                SEX     0.000000\n",
       "15                                               TYPE     0.000000\n",
       "16                                   DAYS_SINCE_IRRAD     0.000000\n",
       "17                                 MONTHS_SINCE_IRRAD     0.000000\n",
       "18                                    MONTHS AT IRRAD     0.000000\n",
       "19                                          DOSE_(Gy)     0.000000\n",
       "20                                                AGE     0.000000\n",
       "21                                         WBC_(K/uL)     0.000000\n",
       "22                                         RBC_(M/uL)     0.000000\n",
       "23               Mean_corpuscular_hemaglobin_(MCH_pg)     0.000000\n",
       "24                                     ABS_BASO_(/uL)     0.000000\n",
       "25                               PLATLET_COUNT_(K/uL)     0.000000"
      ]
     },
     "execution_count": 66,
     "metadata": {},
     "output_type": "execute_result"
    }
   ],
   "source": [
    "# Find the feature importance for predicting the lmphocyte counts is a single monkey\n",
    "model8.get_feature_importance(data=mreg_pool,\n",
    "                       prettified=True\n",
    ")\n"
   ]
  },
  {
   "cell_type": "markdown",
   "id": "5d67b02c-bdf0-44cf-9829-cf52c45b40e6",
   "metadata": {},
   "source": [
    "### Summary\n",
    "Using Regression for predicitng values generates more accurate (based on iterations) and much quiker results compared to classifier. It is interesting how the feature importance does change a little though. Even with all the biological data, only 2 iterations gives R2=0.86 which is absolutely insane. I think this is probably due to the amount of data. This is very promising for the power of these models and the scalability of the applications. But super easy to overfit."
   ]
  },
  {
   "cell_type": "markdown",
   "id": "e2ba5529-d8b1-4f04-a6f4-f54eab6a439e",
   "metadata": {},
   "source": [
    "## 1.b.) Prediction of different data\n",
    "- Using the multi monkey model to predict the single monkey data and vise versa\n",
    "- Using just the top 5 features to make the models and make the predicitons\n",
    "- See if using irrad data only can make accurate predictions\n",
    "- How to make predictions of different features withthout making a new model every time???\n",
    "\n",
    "Note: see if there is a way to streamline this process - pipelines?"
   ]
  },
  {
   "cell_type": "markdown",
   "id": "f1b9c225-8507-427e-95b8-6d539410a605",
   "metadata": {},
   "source": [
    "### A. Predicting the single monkey lymphocytes using the multi-monkey model"
   ]
  },
  {
   "cell_type": "code",
   "execution_count": 25,
   "id": "15f90bb8-e777-43e0-86b7-cd9341578ba8",
   "metadata": {},
   "outputs": [
    {
     "name": "stderr",
     "output_type": "stream",
     "text": [
      "iteritems is deprecated and will be removed in a future version. Use .items instead.\n"
     ]
    },
    {
     "data": {
      "image/png": "[encoded data removed]",
      "text/plain": [
       "<Figure size 640x480 with 1 Axes>"
      ]
     },
     "metadata": {},
     "output_type": "display_data"
    }
   ],
   "source": [
    "### Predicting the single monkey lymphocyte levels using the mult monkey model\n",
    "\n",
    "#Model making predicions\n",
    "smreg_a = model8.predict(sreg_X_validation)\n",
    "smreg_a_df = pd.DataFrame(smreg_a)\n",
    "\n",
    "\n",
    "# Plot the predictions\n",
    "fig, ax = plt.subplots()\n",
    "ax.scatter(sreg_y_validation, smreg_a_df)\n",
    "\n",
    "ax.plot([sreg_y.min(), sreg_y.max()], [sreg_y.min(), sreg_y.max()], \n",
    "        'k-', \n",
    "        linewidth=1, \n",
    "        markersize=120\n",
    ")\n",
    "\n",
    "#Plot axis titles\n",
    "ax.set_xlabel('Actual Lymphocyte (%)')\n",
    "ax.set_ylabel('Predicted Lymphocyte (%)')\n",
    "\n",
    "#Title of the plot\n",
    "ax.set_title('Multi-Monkey Lymphocyte Predictions Using Single Monkey Model\\nIterations: {}'\n",
    "             .format(model8.get_param('iterations')), \n",
    "             fontsize=15\n",
    ")\n",
    "\n",
    "\n",
    "#Plotting the R2 score\n",
    "ax.annotate(\"R2: {}\".format(str(r2_score(sreg_y_validation, smreg_a_df).round(2))),\n",
    "           xy=(20,52), fontsize=12,\n",
    "            bbox={'facecolor': 'white', 'alpha': 1, 'pad': 10}\n",
    ")\n",
    "\n",
    "plt.show()"
   ]
  },
  {
   "cell_type": "markdown",
   "id": "4c23f0ad-0a68-4bf3-9c8f-8dbe8f069559",
   "metadata": {},
   "source": [
    "### B. Predicting the multi-monkey lymphocytes using the single-monkey model"
   ]
  },
  {
   "cell_type": "code",
   "execution_count": 235,
   "id": "887ac113-fbb6-4e95-824d-f41ba2256489",
   "metadata": {
    "tags": []
   },
   "outputs": [
    {
     "name": "stderr",
     "output_type": "stream",
     "text": [
      "iteritems is deprecated and will be removed in a future version. Use .items instead.\n"
     ]
    },
    {
     "data": {
      "image/png": "[encoded data removed]",
      "text/plain": [
       "<Figure size 640x480 with 1 Axes>"
      ]
     },
     "metadata": {},
     "output_type": "display_data"
    }
   ],
   "source": [
    "### Predicting if the apropriately fitted single monkey model can predict the multi mokey lymphocytes\n",
    "\n",
    "#Model making predicions\n",
    "msreg_a = model7.predict(mreg_X_validation)\n",
    "msreg_a_df = pd.DataFrame(msreg_a)\n",
    "\n",
    "#Plot The predictions\n",
    "fig, ax = plt.subplots()\n",
    "ax.scatter(mreg_y_validation, msreg_a_df)\n",
    "\n",
    "ax.plot([mreg_y.min(), mreg_y.max()], [mreg_y.min(), mreg_y.max()], \n",
    "        'k-', \n",
    "        linewidth=1, \n",
    "        markersize=120\n",
    ")\n",
    "\n",
    "#Plot axis titles\n",
    "ax.set_xlabel('Actual Lymphocyte (%)')\n",
    "ax.set_ylabel('Predicted Lymphocyte (%)')\n",
    "\n",
    "#Title of the plot\n",
    "ax.set_title('Multi-Monkey Lymphocyte Predictions Using Single Monkey Model\\nIterations: {}'\n",
    "             .format(model7.get_param('iterations')), \n",
    "             fontsize=15\n",
    ")\n",
    "\n",
    "#Plotting the R2 score\n",
    "ax.annotate(\"R2: {}\".format(str(r2_score(mreg_y_validation, msreg_a_df).round(2))),\n",
    "           xy=(20,75), fontsize=12,\n",
    "            bbox={'facecolor': 'white', 'alpha': 1, 'pad': 10}\n",
    ")\n",
    "\n",
    "plt.show()"
   ]
  },
  {
   "cell_type": "code",
   "execution_count": 179,
   "id": "22def4e7-52cf-4efc-89f1-be4bdf8b6268",
   "metadata": {
    "tags": []
   },
   "outputs": [
    {
     "name": "stderr",
     "output_type": "stream",
     "text": [
      "iteritems is deprecated and will be removed in a future version. Use .items instead.\n"
     ]
    },
    {
     "name": "stdout",
     "output_type": "stream",
     "text": [
      "0:\tlearn: 11.2460441\ttotal: 4.89ms\tremaining: 8m 8s\n",
      "10000:\tlearn: 0.0000000\ttotal: 3.24s\tremaining: 29.2s\n",
      "20000:\tlearn: 0.0000000\ttotal: 6.11s\tremaining: 24.4s\n",
      "30000:\tlearn: 0.0000000\ttotal: 9.06s\tremaining: 21.1s\n",
      "40000:\tlearn: 0.0000000\ttotal: 12.8s\tremaining: 19.2s\n",
      "50000:\tlearn: 0.0000000\ttotal: 15.9s\tremaining: 15.9s\n",
      "60000:\tlearn: 0.0000000\ttotal: 18.8s\tremaining: 12.6s\n",
      "70000:\tlearn: 0.0000000\ttotal: 21.9s\tremaining: 9.37s\n",
      "80000:\tlearn: 0.0000000\ttotal: 24.8s\tremaining: 6.21s\n",
      "90000:\tlearn: 0.0000000\ttotal: 27.8s\tremaining: 3.09s\n",
      "99999:\tlearn: 0.0000000\ttotal: 30.8s\tremaining: 0us\n"
     ]
    },
    {
     "data": {
      "text/plain": [
       "<catboost.core.CatBoostRegressor at 0x7fb3fefdfd90>"
      ]
     },
     "execution_count": 179,
     "metadata": {},
     "output_type": "execute_result"
    }
   ],
   "source": [
    "### Seeing if more iterations will better predict the multi monkey data\n",
    "# Model for predicting lymphocyte counts for a singel monkey\n",
    "model9= CatBoostRegressor(iterations=100000,\n",
    "    learning_rate=0.5,\n",
    "    early_stopping_rounds=5\n",
    ")\n",
    "\n",
    "\n",
    "model9.fit(sreg_X, \n",
    "           sreg_y, \n",
    "           cat_features=cat_features,\n",
    "           verbose=10000\n",
    "         )"
   ]
  },
  {
   "cell_type": "code",
   "execution_count": 193,
   "id": "522d9d99-1f8e-4f02-ab9c-82d8a17906fb",
   "metadata": {
    "tags": []
   },
   "outputs": [
    {
     "name": "stderr",
     "output_type": "stream",
     "text": [
      "iteritems is deprecated and will be removed in a future version. Use .items instead.\n"
     ]
    },
    {
     "name": "stdout",
     "output_type": "stream",
     "text": [
      "1366\n"
     ]
    },
    {
     "data": {
      "image/png": "[encoded data removed]",
      "text/plain": [
       "<Figure size 640x480 with 1 Axes>"
      ]
     },
     "metadata": {},
     "output_type": "display_data"
    }
   ],
   "source": [
    "### Predicting the multi monkey lymphocytes using the single monkey overfitted model\n",
    "\n",
    "#Model making predicions\n",
    "msreg_a = model9.predict(mreg_X_validation)\n",
    "msreg_a_df = pd.DataFrame(msreg_a)\n",
    "\n",
    "#Plot The predictions\n",
    "fig, ax = plt.subplots()\n",
    "ax.scatter(mreg_y_validation, msreg_a_df)\n",
    "\n",
    "ax.plot([mreg_y.min(), mreg_y.max()], [mreg_y.min(), mreg_y.max()], \n",
    "        'k-', \n",
    "        linewidth=1, \n",
    "        markersize=120\n",
    ")\n",
    "\n",
    "#Plot axis titles\n",
    "ax.set_xlabel('Actual Lymphocyte (%)')\n",
    "ax.set_ylabel('Predicted Lymphocyte (%)')\n",
    "\n",
    "#Title of the plot\n",
    "ax.set_title('Multi-Monkey Lymphocyte Predictions Using Single Monkey Model\\nIterations: {}'\n",
    "             .format(model9.get_param('iterations')), \n",
    "             fontsize=15\n",
    ")\n",
    "\n",
    "#Plotting the R2 score\n",
    "ax.annotate(\"R2: {}\".format(str(r2_score(mreg_y_validation, msreg_a_df).round(2))),\n",
    "           xy=(20,75), fontsize=12,\n",
    "            bbox={'facecolor': 'white', 'alpha': 1, 'pad': 10}\n",
    ")\n",
    "\n",
    "plt.show()"
   ]
  },
  {
   "cell_type": "markdown",
   "id": "d8a91244-5666-4577-9c38-1d2cec5b29bd",
   "metadata": {},
   "source": [
    "### C. Predictions using only the top 5 important features\n",
    "top 5 features found in section 1.a. Using the top 5 features found from each model (single v. multi monkey)"
   ]
  },
  {
   "cell_type": "markdown",
   "id": "2e2ea566-ffe4-47c0-b7bb-631b3fed17a8",
   "metadata": {},
   "source": [
    "### Single Monkey:\n",
    "Top 5 features: \n",
    "- 0 NEUT_(%)\t26.502043\n",
    "- 1\tTYPE\t12.952220\n",
    "- 2\tABS_LYMPH_(/uL)\t12.820068\n",
    "- 3\tEOS_(%)\t11.754037\n",
    "- 4\tRBC_(M/uL)\t11.554449\n"
   ]
  },
  {
   "cell_type": "markdown",
   "id": "8e1cc587-d284-487d-bd7f-66795ec04eda",
   "metadata": {},
   "source": [
    "#### Data Processing"
   ]
  },
  {
   "cell_type": "code",
   "execution_count": 207,
   "id": "76c068b3-f0e4-4720-b8bc-899f65d137c1",
   "metadata": {
    "tags": []
   },
   "outputs": [
    {
     "data": {
      "text/html": [
       "<div>\n",
       "<style scoped>\n",
       "    .dataframe tbody tr th:only-of-type {\n",
       "        vertical-align: middle;\n",
       "    }\n",
       "\n",
       "    .dataframe tbody tr th {\n",
       "        vertical-align: top;\n",
       "    }\n",
       "\n",
       "    .dataframe thead th {\n",
       "        text-align: right;\n",
       "    }\n",
       "</style>\n",
       "<table border=\"1\" class=\"dataframe\">\n",
       "  <thead>\n",
       "    <tr style=\"text-align: right;\">\n",
       "      <th></th>\n",
       "      <th>ID</th>\n",
       "      <th>TYPE</th>\n",
       "      <th>NEUT_(%)</th>\n",
       "      <th>ABS_LYMPH_(/uL)</th>\n",
       "      <th>EOS_(%)</th>\n",
       "      <th>RBC_(M/uL)</th>\n",
       "      <th>LYMPHOCYTES_(%)</th>\n",
       "    </tr>\n",
       "  </thead>\n",
       "  <tbody>\n",
       "    <tr>\n",
       "      <th>49</th>\n",
       "      <td>2046</td>\n",
       "      <td>Clinical</td>\n",
       "      <td>36.9</td>\n",
       "      <td>5130</td>\n",
       "      <td>0.2</td>\n",
       "      <td>6.55</td>\n",
       "      <td>58.3</td>\n",
       "    </tr>\n",
       "    <tr>\n",
       "      <th>50</th>\n",
       "      <td>2046</td>\n",
       "      <td>Research</td>\n",
       "      <td>45.9</td>\n",
       "      <td>3897</td>\n",
       "      <td>0.3</td>\n",
       "      <td>5.56</td>\n",
       "      <td>52.8</td>\n",
       "    </tr>\n",
       "  </tbody>\n",
       "</table>\n",
       "</div>"
      ],
      "text/plain": [
       "      ID      TYPE  NEUT_(%)  ABS_LYMPH_(/uL)  EOS_(%)  RBC_(M/uL)  \\\n",
       "49  2046  Clinical      36.9             5130      0.2        6.55   \n",
       "50  2046  Research      45.9             3897      0.3        5.56   \n",
       "\n",
       "    LYMPHOCYTES_(%)  \n",
       "49             58.3  \n",
       "50             52.8  "
      ]
     },
     "execution_count": 207,
     "metadata": {},
     "output_type": "execute_result"
    }
   ],
   "source": [
    "### Make the reduced df\n",
    "\n",
    "#make a parent df\n",
    "single_minbio_df.copy()\n",
    "sred_reg_df = single_minbio_df[['ID', 'TYPE', 'NEUT_(%)', 'ABS_LYMPH_(/uL)',\n",
    "                                'EOS_(%)','RBC_(M/uL)', 'LYMPHOCYTES_(%)']]\n",
    "sred_reg_df.tail(2)\n"
   ]
  },
  {
   "cell_type": "code",
   "execution_count": 208,
   "id": "2841a17f-eb6e-49ba-a22c-63a47e7e3f44",
   "metadata": {
    "tags": []
   },
   "outputs": [
    {
     "name": "stdout",
     "output_type": "stream",
     "text": [
      "[0]\n"
     ]
    },
    {
     "name": "stderr",
     "output_type": "stream",
     "text": [
      "iteritems is deprecated and will be removed in a future version. Use .items instead.\n"
     ]
    }
   ],
   "source": [
    "### Process data for ML\n",
    "#make train/testdf\n",
    "(sred_reg_train_df, sred_reg_test_df)= sred_reg_df, sred_reg_df\n",
    "\n",
    "# label values extraction\n",
    "sred_reg_y=sred_reg_train_df['LYMPHOCYTES_(%)']\n",
    "sred_reg_X=sred_reg_train_df.drop(['ID','LYMPHOCYTES_(%)'],axis=1)\n",
    "\n",
    "# Declare catagorical features - first column\n",
    "cat_features= list(range(0,sred_reg_X[sred_reg_X.columns[:1]].shape[1]))\n",
    "\n",
    "print(cat_features)\n",
    "\n",
    "#put the data into the pool\n",
    "sred_reg_pool = Pool(data=sred_reg_X, label=sred_reg_y, cat_features=cat_features)\n",
    "\n",
    "\n",
    "#train tesr split - 30% test\n",
    "sred_reg_data= train_test_split(sred_reg_X, sred_reg_y, test_size=0.3, random_state=0)\n",
    "\n",
    "#### The order of this matters###\n",
    "sred_reg_X_train, sred_reg_X_validation, sred_reg_y_train, sred_reg_y_validation= sred_reg_data\n",
    "\n",
    "sred_reg_train_pool = Pool(\n",
    "    data = sred_reg_X_train,\n",
    "    label = sred_reg_y_train,\n",
    "    cat_features = cat_features\n",
    ")\n",
    "\n",
    "sred_reg_validation_pool = Pool(\n",
    "    data = sred_reg_X_validation,\n",
    "    label = sred_reg_y_validation,\n",
    "    cat_features = cat_features\n",
    ")\n",
    "\n"
   ]
  },
  {
   "cell_type": "markdown",
   "id": "67472455-3c18-41b9-bda5-e152ed1440bd",
   "metadata": {},
   "source": [
    "#### Model Formation"
   ]
  },
  {
   "cell_type": "code",
   "execution_count": 209,
   "id": "a39ac917-6188-4195-8ffb-e2cd1f0eee25",
   "metadata": {
    "tags": []
   },
   "outputs": [
    {
     "name": "stdout",
     "output_type": "stream",
     "text": [
      "0:\tlearn: 10.8658171\ttotal: 228us\tremaining: 684us\n",
      "1:\tlearn: 8.3596623\ttotal: 366us\tremaining: 366us\n",
      "2:\tlearn: 7.1663548\ttotal: 554us\tremaining: 184us\n",
      "3:\tlearn: 6.1039802\ttotal: 732us\tremaining: 0us\n"
     ]
    },
    {
     "data": {
      "text/plain": [
       "<catboost.core.CatBoostRegressor at 0x7fb3d2981090>"
      ]
     },
     "execution_count": 209,
     "metadata": {},
     "output_type": "execute_result"
    }
   ],
   "source": [
    "### Making a model with the same perameters but with only the top 5 important features\n",
    "# rEgression for multiple monkey predicitons\n",
    "model10= CatBoostRegressor(iterations=4,\n",
    "    learning_rate=0.5,\n",
    "    early_stopping_rounds=5\n",
    ")\n",
    "\n",
    "model10.fit(sred_reg_X, \n",
    "           sred_reg_y, \n",
    "           cat_features=cat_features,\n",
    "         )\n"
   ]
  },
  {
   "cell_type": "markdown",
   "id": "56b13a31-bdcf-4871-987a-34818e680de6",
   "metadata": {},
   "source": [
    "#### Predictions"
   ]
  },
  {
   "cell_type": "code",
   "execution_count": 234,
   "id": "00874cd4-69a0-4e88-8dda-3a5c9e41f5de",
   "metadata": {
    "tags": []
   },
   "outputs": [
    {
     "name": "stderr",
     "output_type": "stream",
     "text": [
      "iteritems is deprecated and will be removed in a future version. Use .items instead.\n"
     ]
    },
    {
     "data": {
      "image/png": "[encoded data removed]",
      "text/plain": [
       "<Figure size 640x480 with 1 Axes>"
      ]
     },
     "metadata": {},
     "output_type": "display_data"
    }
   ],
   "source": [
    "### Predicting the single monkey lymphocyte levels using the top 5 parameters\n",
    "\n",
    "#Model making predicions\n",
    "sred_reg_a = model10.predict(sred_reg_X_validation)\n",
    "sred_reg_a_df = pd.DataFrame(sred_reg_a)\n",
    "\n",
    "#Plot The predictions\n",
    "fig, ax = plt.subplots()\n",
    "ax.scatter(sred_reg_y_validation, sred_reg_a_df)\n",
    "\n",
    "ax.plot([sred_reg_y.min(), sred_reg_y.max()], [sred_reg_y.min(), sred_reg_y.max()], \n",
    "        'k-', \n",
    "        linewidth=1, \n",
    "        markersize=120\n",
    ")\n",
    "\n",
    "#Plot axis titles\n",
    "ax.set_xlabel('Actual Lymphocyte (%)')\n",
    "ax.set_ylabel('Predicted Lymphocyte (%)')\n",
    "\n",
    "#Title of the plot\n",
    "ax.set_title('Single Monkey Lymphocyte Predictions Using 5 Parameters\\nIterations: {}'\n",
    "             .format(model10.get_param('iterations')), \n",
    "             fontsize=15\n",
    ")\n",
    "\n",
    "#Plotting the R2 score\n",
    "ax.annotate(\"R2: {}\".format(str(r2_score(sred_reg_y_validation, sred_reg_a_df).round(2))),\n",
    "           xy=(22,52), fontsize=12,\n",
    "            bbox={'facecolor': 'white', 'alpha': 1, 'pad': 10}\n",
    ")\n",
    "\n",
    "plt.show()"
   ]
  },
  {
   "cell_type": "markdown",
   "id": "8f3e1fcf-87c6-4789-ac6f-1c4f8c491d82",
   "metadata": {},
   "source": [
    "### Multi Monkey\n",
    "Top 5 features:\n",
    "- 0 NEUT_(%)\t92.324836\n",
    "- 1\tABS_LYMPH_(/uL)\t3.185803\n",
    "- 2\tABS_MONO_(/uL)\t2.682848\n",
    "-  3\tEOS_(%)\t1.198216\n",
    "- 4\tHemaglobin_(HGB_g/dL)\t0.559005\n"
   ]
  },
  {
   "cell_type": "markdown",
   "id": "c7dbc043-f499-434b-b826-5109ad43551a",
   "metadata": {},
   "source": [
    "#### Data Processing"
   ]
  },
  {
   "cell_type": "code",
   "execution_count": 218,
   "id": "4f9211c7-9806-428a-b499-5f6bf3c26503",
   "metadata": {
    "tags": []
   },
   "outputs": [
    {
     "data": {
      "text/html": [
       "<div>\n",
       "<style scoped>\n",
       "    .dataframe tbody tr th:only-of-type {\n",
       "        vertical-align: middle;\n",
       "    }\n",
       "\n",
       "    .dataframe tbody tr th {\n",
       "        vertical-align: top;\n",
       "    }\n",
       "\n",
       "    .dataframe thead th {\n",
       "        text-align: right;\n",
       "    }\n",
       "</style>\n",
       "<table border=\"1\" class=\"dataframe\">\n",
       "  <thead>\n",
       "    <tr style=\"text-align: right;\">\n",
       "      <th></th>\n",
       "      <th>ID</th>\n",
       "      <th>ABS_MONO_(/uL)</th>\n",
       "      <th>NEUT_(%)</th>\n",
       "      <th>ABS_LYMPH_(/uL)</th>\n",
       "      <th>EOS_(%)</th>\n",
       "      <th>Hemaglobin_(HGB_g/dL)</th>\n",
       "      <th>LYMPHOCYTES_(%)</th>\n",
       "    </tr>\n",
       "  </thead>\n",
       "  <tbody>\n",
       "    <tr>\n",
       "      <th>4550</th>\n",
       "      <td>2210</td>\n",
       "      <td>632</td>\n",
       "      <td>51.2</td>\n",
       "      <td>2100</td>\n",
       "      <td>1.7</td>\n",
       "      <td>13.2</td>\n",
       "      <td>36.2</td>\n",
       "    </tr>\n",
       "    <tr>\n",
       "      <th>4551</th>\n",
       "      <td>2210</td>\n",
       "      <td>1176</td>\n",
       "      <td>60.0</td>\n",
       "      <td>896</td>\n",
       "      <td>3.0</td>\n",
       "      <td>13.2</td>\n",
       "      <td>16.0</td>\n",
       "    </tr>\n",
       "  </tbody>\n",
       "</table>\n",
       "</div>"
      ],
      "text/plain": [
       "        ID  ABS_MONO_(/uL)  NEUT_(%)  ABS_LYMPH_(/uL)  EOS_(%)  \\\n",
       "4550  2210             632      51.2             2100      1.7   \n",
       "4551  2210            1176      60.0              896      3.0   \n",
       "\n",
       "      Hemaglobin_(HGB_g/dL)  LYMPHOCYTES_(%)  \n",
       "4550                   13.2             36.2  \n",
       "4551                   13.2             16.0  "
      ]
     },
     "execution_count": 218,
     "metadata": {},
     "output_type": "execute_result"
    }
   ],
   "source": [
    "### Make the reduced df\n",
    "\n",
    "#make a parent df\n",
    "minbio_monkey_df.copy()\n",
    "mred_reg_df = minbio_monkey_df[['ID', 'ABS_MONO_(/uL)', 'NEUT_(%)', 'ABS_LYMPH_(/uL)',\n",
    "                                'EOS_(%)','Hemaglobin_(HGB_g/dL)', 'LYMPHOCYTES_(%)']]\n",
    "mred_reg_df.tail(2)\n"
   ]
  },
  {
   "cell_type": "code",
   "execution_count": 219,
   "id": "e1d8ef0a-06be-4a0c-9fd0-8195d7085c84",
   "metadata": {
    "tags": []
   },
   "outputs": [
    {
     "name": "stdout",
     "output_type": "stream",
     "text": [
      "[0]\n"
     ]
    },
    {
     "name": "stderr",
     "output_type": "stream",
     "text": [
      "iteritems is deprecated and will be removed in a future version. Use .items instead.\n"
     ]
    }
   ],
   "source": [
    "### Process data for ML\n",
    "#make train/testdf\n",
    "(mred_reg_train_df, mred_reg_test_df)= mred_reg_df, mred_reg_df\n",
    "\n",
    "\n",
    "# label values extraction\n",
    "mred_reg_y=mred_reg_train_df['LYMPHOCYTES_(%)']\n",
    "mred_reg_X=mred_reg_train_df.drop(['ID','LYMPHOCYTES_(%)'],axis=1)\n",
    "\n",
    "\n",
    "# Declare catagorical features - first & second column\n",
    "cat_features= list(range(0,mred_reg_X[mred_reg_X.columns[:1]].shape[1]))\n",
    "\n",
    "print(cat_features)\n",
    "\n",
    "\n",
    "#put the data into the pool\n",
    "mred_reg_pool = Pool(data=mred_reg_X, label=mred_reg_y, cat_features=cat_features)\n",
    "\n",
    "\n",
    "#train tesr split - 30% test\n",
    "mred_reg_data= train_test_split(mred_reg_X, mred_reg_y, test_size=0.3, random_state=0)\n",
    "\n",
    "#### The order of this matters###\n",
    "mred_reg_X_train, mred_reg_X_validation, mred_reg_y_train, mred_reg_y_validation= mred_reg_data\n",
    "\n",
    "mred_reg_train_pool = Pool(\n",
    "    data = mred_reg_X_train,\n",
    "    label = mred_reg_y_train,\n",
    "    cat_features = cat_features\n",
    ")\n",
    "\n",
    "mred_reg_validation_pool = Pool(\n",
    "    data = mred_reg_X_validation,\n",
    "    label = mred_reg_y_validation,\n",
    "    cat_features = cat_features\n",
    ")\n",
    "\n"
   ]
  },
  {
   "cell_type": "markdown",
   "id": "fc8b8513-5742-4b6c-b595-d9347a2aec19",
   "metadata": {},
   "source": [
    "#### Model Formation"
   ]
  },
  {
   "cell_type": "code",
   "execution_count": 220,
   "id": "4bb12fb9-e0cf-4782-9b76-8eb157a2f260",
   "metadata": {
    "tags": []
   },
   "outputs": [
    {
     "name": "stdout",
     "output_type": "stream",
     "text": [
      "0:\tlearn: 9.0561659\ttotal: 2.21ms\tremaining: 2.21ms\n",
      "1:\tlearn: 5.6939955\ttotal: 4.5ms\tremaining: 0us\n"
     ]
    },
    {
     "data": {
      "text/plain": [
       "<catboost.core.CatBoostRegressor at 0x7fb3d3537ac0>"
      ]
     },
     "execution_count": 220,
     "metadata": {},
     "output_type": "execute_result"
    }
   ],
   "source": [
    "### Making a model with the same perameters but with only the top 5 important features\n",
    "# regression for multiple monkey predicitons\n",
    "model11= CatBoostRegressor(iterations=2,\n",
    "    learning_rate=0.5,\n",
    "    early_stopping_rounds=5,\n",
    ")\n",
    "\n",
    "model11.fit(mred_reg_X, \n",
    "           mred_reg_y, \n",
    "           cat_features=cat_features,\n",
    "         )\n"
   ]
  },
  {
   "cell_type": "markdown",
   "id": "e23650a5-8fa3-4e96-bdce-c3db6ce2ea00",
   "metadata": {},
   "source": [
    "#### Predicting multi-monkey lymphocytes"
   ]
  },
  {
   "cell_type": "code",
   "execution_count": 233,
   "id": "b2de9a3d-013f-4b69-a2da-eca94fcd0f02",
   "metadata": {
    "tags": []
   },
   "outputs": [
    {
     "name": "stderr",
     "output_type": "stream",
     "text": [
      "iteritems is deprecated and will be removed in a future version. Use .items instead.\n"
     ]
    },
    {
     "data": {
      "image/png": "[encoded data removed]",
      "text/plain": [
       "<Figure size 640x480 with 1 Axes>"
      ]
     },
     "metadata": {},
     "output_type": "display_data"
    }
   ],
   "source": [
    "### Predicting the multi monkey lymphocyte levels using top 5 parameters\n",
    "\n",
    "#Model making predicions\n",
    "mred_reg_a = model11.predict(mred_reg_X_validation)\n",
    "mred_reg_a_df = pd.DataFrame(mred_reg_a)\n",
    "\n",
    "#Plot The predictions\n",
    "fig, ax = plt.subplots()\n",
    "ax.scatter(mred_reg_y_validation, mred_reg_a_df)\n",
    "\n",
    "ax.plot([mred_reg_y.min(), mred_reg_y.max()], [mred_reg_y.min(), mred_reg_y.max()], \n",
    "        'k-', \n",
    "        linewidth=1, \n",
    "        markersize=120\n",
    ")\n",
    "\n",
    "#Plot axis titles\n",
    "ax.set_xlabel('Actual Lymphocyte (%)')\n",
    "ax.set_ylabel('Predicted Lymphocyte (%)')\n",
    "\n",
    "#Title of the plot\n",
    "ax.set_title('Multi-Monkey Lymphocyte Predictions Using 5 Parameters\\nIterations: {}'\n",
    "             .format(model11.get_param('iterations')), \n",
    "             fontsize=15\n",
    ")\n",
    "\n",
    "#Plotting the R2 score\n",
    "ax.annotate(\"R2: {}\".format(str(r2_score(mred_reg_y_validation, mred_reg_a_df).round(2))),\n",
    "           xy=(22,75), fontsize=12,\n",
    "            bbox={'facecolor': 'white', 'alpha': 1, 'pad': 10}\n",
    ")\n",
    "\n",
    "\n",
    "plt.show()"
   ]
  },
  {
   "cell_type": "markdown",
   "id": "60a01f7b-e40d-4839-ad36-5afa5ab2aed4",
   "metadata": {},
   "source": [
    "### D. Predicting lymphocytes with only the irradiation data\n"
   ]
  },
  {
   "cell_type": "markdown",
   "id": "18951e2b-6fe7-4e1f-8965-c37cd1c7776e",
   "metadata": {},
   "source": [
    "#### Multi Monkey only\n",
    "No variation for single monkey model formation"
   ]
  },
  {
   "cell_type": "markdown",
   "id": "e0e9c1a1-9c13-4e56-a243-f3f503bdabe0",
   "metadata": {},
   "source": [
    "##### Data processing"
   ]
  },
  {
   "cell_type": "code",
   "execution_count": 79,
   "id": "80bbab3e-7419-47bc-9553-13db330a34e0",
   "metadata": {
    "tags": []
   },
   "outputs": [
    {
     "data": {
      "text/html": [
       "<div>\n",
       "<style scoped>\n",
       "    .dataframe tbody tr th:only-of-type {\n",
       "        vertical-align: middle;\n",
       "    }\n",
       "\n",
       "    .dataframe tbody tr th {\n",
       "        vertical-align: top;\n",
       "    }\n",
       "\n",
       "    .dataframe thead th {\n",
       "        text-align: right;\n",
       "    }\n",
       "</style>\n",
       "<table border=\"1\" class=\"dataframe\">\n",
       "  <thead>\n",
       "    <tr style=\"text-align: right;\">\n",
       "      <th></th>\n",
       "      <th>ID</th>\n",
       "      <th>IRRAD</th>\n",
       "      <th>SEX</th>\n",
       "      <th>DAYS_SINCE_IRRAD</th>\n",
       "      <th>MONTHS_SINCE_IRRAD</th>\n",
       "      <th>MONTHS AT IRRAD</th>\n",
       "      <th>DOSE_(Gy)</th>\n",
       "      <th>AGE</th>\n",
       "      <th>LYMPHOCYTES_(%)</th>\n",
       "    </tr>\n",
       "  </thead>\n",
       "  <tbody>\n",
       "    <tr>\n",
       "      <th>4550</th>\n",
       "      <td>2210</td>\n",
       "      <td>No</td>\n",
       "      <td>F</td>\n",
       "      <td>NaN</td>\n",
       "      <td>NaN</td>\n",
       "      <td>NaN</td>\n",
       "      <td>NaN</td>\n",
       "      <td>25.5</td>\n",
       "      <td>36.2</td>\n",
       "    </tr>\n",
       "    <tr>\n",
       "      <th>4551</th>\n",
       "      <td>2210</td>\n",
       "      <td>No</td>\n",
       "      <td>F</td>\n",
       "      <td>NaN</td>\n",
       "      <td>NaN</td>\n",
       "      <td>NaN</td>\n",
       "      <td>NaN</td>\n",
       "      <td>22.8</td>\n",
       "      <td>16.0</td>\n",
       "    </tr>\n",
       "  </tbody>\n",
       "</table>\n",
       "</div>"
      ],
      "text/plain": [
       "        ID IRRAD SEX  DAYS_SINCE_IRRAD  MONTHS_SINCE_IRRAD  MONTHS AT IRRAD  \\\n",
       "4550  2210    No   F               NaN                 NaN              NaN   \n",
       "4551  2210    No   F               NaN                 NaN              NaN   \n",
       "\n",
       "      DOSE_(Gy)   AGE  LYMPHOCYTES_(%)  \n",
       "4550        NaN  25.5             36.2  \n",
       "4551        NaN  22.8             16.0  "
      ]
     },
     "execution_count": 79,
     "metadata": {},
     "output_type": "execute_result"
    }
   ],
   "source": [
    "### Make the irrad only df\n",
    "\n",
    "#make a parent df\n",
    "minbio_monkey_df.copy()\n",
    "mrad_reg_df = minbio_monkey_df[['ID', 'IRRAD', 'SEX', 'DAYS_SINCE_IRRAD', 'MONTHS_SINCE_IRRAD', 'MONTHS AT IRRAD',\n",
    "       'DOSE_(Gy)', 'AGE', 'LYMPHOCYTES_(%)']]\n",
    "mrad_reg_df.tail(2)\n"
   ]
  },
  {
   "cell_type": "code",
   "execution_count": 80,
   "id": "a8d05c08-c2a1-4ee7-aa23-9e1698403f37",
   "metadata": {
    "tags": []
   },
   "outputs": [
    {
     "name": "stdout",
     "output_type": "stream",
     "text": [
      "[0, 1]\n"
     ]
    },
    {
     "name": "stderr",
     "output_type": "stream",
     "text": [
      "iteritems is deprecated and will be removed in a future version. Use .items instead.\n"
     ]
    }
   ],
   "source": [
    "### Process data for ML\n",
    "#make train/testdf\n",
    "(mrad_reg_train_df, mrad_reg_test_df)= mrad_reg_df, mrad_reg_df\n",
    "\n",
    "\n",
    "# label values extraction\n",
    "mrad_reg_y=mrad_reg_train_df['LYMPHOCYTES_(%)']\n",
    "mrad_reg_X=mrad_reg_train_df.drop(['ID','LYMPHOCYTES_(%)'],axis=1)\n",
    "\n",
    "\n",
    "# Declare catagorical features - first & second column\n",
    "cat_features= list(range(0,mrad_reg_X[mrad_reg_X.columns[:2]].shape[1]))\n",
    "\n",
    "print(cat_features)\n",
    "\n",
    "\n",
    "#put the data into the pool\n",
    "mrad_reg_pool = Pool(data=mrad_reg_X, label=mrad_reg_y, cat_features=cat_features)\n",
    "\n",
    "\n",
    "#train tesr split - 30% test\n",
    "mrad_reg_data= train_test_split(mrad_reg_X, mrad_reg_y, test_size=0.3, random_state=0)\n",
    "\n",
    "#### The order of this matters###\n",
    "mrad_reg_X_train, mrad_reg_X_validation, mrad_reg_y_train, mrad_reg_y_validation= mrad_reg_data\n",
    "\n",
    "mrad_reg_train_pool = Pool(\n",
    "    data = mrad_reg_X_train,\n",
    "    label = mrad_reg_y_train,\n",
    "    cat_features = cat_features\n",
    ")\n",
    "\n",
    "mrad_reg_validation_pool = Pool(\n",
    "    data = mrad_reg_X_validation,\n",
    "    label = mrad_reg_y_validation,\n",
    "    cat_features = cat_features\n",
    ")\n",
    "\n"
   ]
  },
  {
   "cell_type": "markdown",
   "id": "fcbe8b92-19ff-402f-9a40-0b1258bc70e9",
   "metadata": {},
   "source": [
    "##### Model Formation"
   ]
  },
  {
   "cell_type": "code",
   "execution_count": 81,
   "id": "d010dbc3-5b5c-4929-bc8c-91f0fdb1a057",
   "metadata": {
    "tags": []
   },
   "outputs": [
    {
     "name": "stdout",
     "output_type": "stream",
     "text": [
      "0:\tlearn: 14.8524382\ttotal: 2.48ms\tremaining: 2.48s\n",
      "100:\tlearn: 11.4650605\ttotal: 364ms\tremaining: 3.24s\n",
      "200:\tlearn: 10.4762500\ttotal: 499ms\tremaining: 1.98s\n",
      "300:\tlearn: 9.8396659\ttotal: 621ms\tremaining: 1.44s\n",
      "400:\tlearn: 9.3452165\ttotal: 726ms\tremaining: 1.08s\n",
      "500:\tlearn: 8.9539214\ttotal: 825ms\tremaining: 822ms\n",
      "600:\tlearn: 8.6488356\ttotal: 927ms\tremaining: 615ms\n",
      "700:\tlearn: 8.4305616\ttotal: 1.03s\tremaining: 439ms\n",
      "800:\tlearn: 8.2397296\ttotal: 1.13s\tremaining: 280ms\n",
      "900:\tlearn: 8.0563111\ttotal: 1.23s\tremaining: 135ms\n",
      "999:\tlearn: 7.9163296\ttotal: 1.34s\tremaining: 0us\n"
     ]
    },
    {
     "data": {
      "text/plain": [
       "<catboost.core.CatBoostRegressor at 0x7fa2562b3eb0>"
      ]
     },
     "execution_count": 81,
     "metadata": {},
     "output_type": "execute_result"
    }
   ],
   "source": [
    "### Making a model with the same perameters but with only the top 5 important features\n",
    "# regression for multiple monkey predicitons\n",
    "model12= CatBoostRegressor(iterations=1000,\n",
    "    learning_rate=0.5,\n",
    "    early_stopping_rounds=5,\n",
    ")\n",
    "\n",
    "model12.fit(mrad_reg_X, \n",
    "           mrad_reg_y, \n",
    "           cat_features=cat_features, \n",
    "           verbose=100\n",
    "         )"
   ]
  },
  {
   "cell_type": "markdown",
   "id": "746ad821-d4f7-4b03-a9ac-4afff6bdb1b4",
   "metadata": {},
   "source": [
    "##### Predicting multi-monkey lymphocytes"
   ]
  },
  {
   "cell_type": "code",
   "execution_count": 82,
   "id": "5eecdeb3-b057-4ed5-a774-ed213738ee3b",
   "metadata": {
    "tags": []
   },
   "outputs": [
    {
     "name": "stdout",
     "output_type": "stream",
     "text": [
      "1366\n"
     ]
    },
    {
     "data": {
      "image/png": "[encoded data removed]",
      "text/plain": [
       "<Figure size 640x480 with 1 Axes>"
      ]
     },
     "metadata": {},
     "output_type": "display_data"
    }
   ],
   "source": [
    "### Predicting the single monkey lymphocyte levels using the mult monkey model\n",
    "## 1000 iteration, 0.5 learning rate\n",
    "\n",
    "mrad_reg_a = model12.predict(mrad_reg_X_validation)\n",
    "print(len(mrad_reg_a), \n",
    "     )\n",
    "mrad_reg_a_df = pd.DataFrame(mrad_reg_a)\n",
    "\n",
    "\n",
    "# Plot the predictions vs. actual with the R2 score\n",
    "fig, ax = plt.subplots()\n",
    "ax.scatter(mrad_reg_y_validation, mrad_reg_a_df)\n",
    "\n",
    "\n",
    "ax.plot([mrad_reg_y.min(), mrad_reg_y.max()], [mrad_reg_y.min(), mrad_reg_y.max()], \n",
    "        'k-', \n",
    "        linewidth=1, \n",
    "        markersize=120\n",
    ")\n",
    "\n",
    "ax.set_xlabel('Actual Lymphocyte (%)')\n",
    "ax.set_ylabel('Predicted Lymphocyte (%)')\n",
    "ax.set_title('R2: ' + str(r2_score(mrad_reg_y_validation, mrad_reg_a_df)))\n",
    "\n",
    "plt.show()"
   ]
  },
  {
   "cell_type": "markdown",
   "id": "68009613-64cf-4d48-948a-8e8c1824f750",
   "metadata": {},
   "source": [
    "##### Predicting single-monkey lymphocytes"
   ]
  },
  {
   "cell_type": "code",
   "execution_count": 83,
   "id": "90d41aea-589f-4084-9b44-0cdf86855b69",
   "metadata": {
    "tags": []
   },
   "outputs": [
    {
     "data": {
      "text/html": [
       "<div>\n",
       "<style scoped>\n",
       "    .dataframe tbody tr th:only-of-type {\n",
       "        vertical-align: middle;\n",
       "    }\n",
       "\n",
       "    .dataframe tbody tr th {\n",
       "        vertical-align: top;\n",
       "    }\n",
       "\n",
       "    .dataframe thead th {\n",
       "        text-align: right;\n",
       "    }\n",
       "</style>\n",
       "<table border=\"1\" class=\"dataframe\">\n",
       "  <thead>\n",
       "    <tr style=\"text-align: right;\">\n",
       "      <th></th>\n",
       "      <th>ID</th>\n",
       "      <th>IRRAD</th>\n",
       "      <th>SEX</th>\n",
       "      <th>DAYS_SINCE_IRRAD</th>\n",
       "      <th>MONTHS_SINCE_IRRAD</th>\n",
       "      <th>MONTHS AT IRRAD</th>\n",
       "      <th>DOSE_(Gy)</th>\n",
       "      <th>AGE</th>\n",
       "      <th>LYMPHOCYTES_(%)</th>\n",
       "    </tr>\n",
       "  </thead>\n",
       "  <tbody>\n",
       "    <tr>\n",
       "      <th>49</th>\n",
       "      <td>2046</td>\n",
       "      <td>Yes</td>\n",
       "      <td>F</td>\n",
       "      <td>2570.0</td>\n",
       "      <td>84.0</td>\n",
       "      <td>81.0</td>\n",
       "      <td>1.14</td>\n",
       "      <td>13.8</td>\n",
       "      <td>58.3</td>\n",
       "    </tr>\n",
       "    <tr>\n",
       "      <th>50</th>\n",
       "      <td>2046</td>\n",
       "      <td>Yes</td>\n",
       "      <td>F</td>\n",
       "      <td>2738.0</td>\n",
       "      <td>90.0</td>\n",
       "      <td>81.0</td>\n",
       "      <td>1.14</td>\n",
       "      <td>14.3</td>\n",
       "      <td>52.8</td>\n",
       "    </tr>\n",
       "  </tbody>\n",
       "</table>\n",
       "</div>"
      ],
      "text/plain": [
       "      ID IRRAD SEX  DAYS_SINCE_IRRAD  MONTHS_SINCE_IRRAD  MONTHS AT IRRAD  \\\n",
       "49  2046   Yes   F            2570.0                84.0             81.0   \n",
       "50  2046   Yes   F            2738.0                90.0             81.0   \n",
       "\n",
       "    DOSE_(Gy)   AGE  LYMPHOCYTES_(%)  \n",
       "49       1.14  13.8             58.3  \n",
       "50       1.14  14.3             52.8  "
      ]
     },
     "execution_count": 83,
     "metadata": {},
     "output_type": "execute_result"
    }
   ],
   "source": [
    "### Make the reduced df\n",
    "\n",
    "#make a parent df\n",
    "single_minbio_df.copy()\n",
    "srad_reg_df = single_minbio_df[['ID', 'IRRAD', 'SEX', 'DAYS_SINCE_IRRAD', 'MONTHS_SINCE_IRRAD', 'MONTHS AT IRRAD',\n",
    "       'DOSE_(Gy)', 'AGE', 'LYMPHOCYTES_(%)']]\n",
    "srad_reg_df.tail(2)"
   ]
  },
  {
   "cell_type": "code",
   "execution_count": 84,
   "id": "52832631-bfee-431b-9021-0af90c9c7aba",
   "metadata": {
    "tags": []
   },
   "outputs": [
    {
     "name": "stdout",
     "output_type": "stream",
     "text": [
      "[0, 1]\n"
     ]
    },
    {
     "name": "stderr",
     "output_type": "stream",
     "text": [
      "iteritems is deprecated and will be removed in a future version. Use .items instead.\n"
     ]
    }
   ],
   "source": [
    "### Process data for ML\n",
    "#make train/testdf\n",
    "(srad_reg_train_df, srad_reg_test_df)= srad_reg_df, srad_reg_df\n",
    "\n",
    "\n",
    "# label values extraction\n",
    "srad_reg_y=srad_reg_train_df['LYMPHOCYTES_(%)']\n",
    "srad_reg_X=srad_reg_train_df.drop(['ID','LYMPHOCYTES_(%)'],axis=1)\n",
    "\n",
    "\n",
    "# Declare catagorical features - first & second column\n",
    "cat_features= list(range(0,srad_reg_X[srad_reg_X.columns[:2]].shape[1]))\n",
    "\n",
    "print(cat_features)\n",
    "\n",
    "\n",
    "#put the data into the pool\n",
    "srad_reg_pool = Pool(data=srad_reg_X, label=srad_reg_y, cat_features=cat_features)\n",
    "\n",
    "\n",
    "#train tesr split - 30% test\n",
    "srad_reg_data= train_test_split(srad_reg_X, srad_reg_y, test_size=0.3, random_state=0)\n",
    "\n",
    "#### The order of this matters###\n",
    "srad_reg_X_train, srad_reg_X_validation, srad_reg_y_train, srad_reg_y_validation= srad_reg_data\n",
    "\n",
    "srad_reg_train_pool = Pool(\n",
    "    data = srad_reg_X_train,\n",
    "    label = srad_reg_y_train,\n",
    "    cat_features = cat_features\n",
    ")\n",
    "\n",
    "srad_reg_validation_pool = Pool(\n",
    "    data = srad_reg_X_validation,\n",
    "    label = srad_reg_y_validation,\n",
    "    cat_features = cat_features\n",
    ")\n",
    "\n"
   ]
  },
  {
   "cell_type": "code",
   "execution_count": 85,
   "id": "ba150bf1-fa22-4fda-b4e4-fe51a27512bc",
   "metadata": {
    "tags": []
   },
   "outputs": [
    {
     "name": "stdout",
     "output_type": "stream",
     "text": [
      "6\n"
     ]
    },
    {
     "data": {
      "image/png": "[encoded data removed]",
      "text/plain": [
       "<Figure size 640x480 with 1 Axes>"
      ]
     },
     "metadata": {},
     "output_type": "display_data"
    }
   ],
   "source": [
    "### Predicting the single monkey lymphocyte levels using the mult monkey model\n",
    "## 1000 iteration, 0.5 learning rate\n",
    "\n",
    "smrad_reg_a = model12.predict(srad_reg_X_validation)\n",
    "print(len(smrad_reg_a), \n",
    "     )\n",
    "smrad_reg_a_df = pd.DataFrame(smrad_reg_a)\n",
    "\n",
    "\n",
    "# Plot the predictions vs. actual with the R2 score\n",
    "fig, ax = plt.subplots()\n",
    "ax.scatter(srad_reg_y_validation, smrad_reg_a_df)\n",
    "\n",
    "\n",
    "ax.plot([srad_reg_y.min(), srad_reg_y.max()], [srad_reg_y.min(), srad_reg_y.max()], \n",
    "        'k-', \n",
    "        linewidth=1, \n",
    "        markersize=120\n",
    ")\n",
    "\n",
    "ax.set_xlabel('Actual Lymphocyte (%)')\n",
    "ax.set_ylabel('Predicted Lymphocyte (%)')\n",
    "ax.set_title('R2: ' + str(r2_score(srad_reg_y_validation, smrad_reg_a_df)))\n",
    "\n",
    "plt.show()"
   ]
  },
  {
   "cell_type": "markdown",
   "id": "6d1a9160-b41f-419e-8511-aa851106a519",
   "metadata": {},
   "source": [
    "### E. Predictions with data that excludes the individual\n",
    "See if excluding the target individual from the dataset still gives accurate predictions"
   ]
  },
  {
   "cell_type": "markdown",
   "id": "9adbba5b-a384-437e-9cdb-663d003d8eea",
   "metadata": {
    "tags": []
   },
   "source": [
    "#### Data Processing"
   ]
  },
  {
   "cell_type": "code",
   "execution_count": 9,
   "id": "5308c84f-d947-4634-a0c0-247060c51dd5",
   "metadata": {
    "tags": []
   },
   "outputs": [
    {
     "data": {
      "text/html": [
       "<div>\n",
       "<style scoped>\n",
       "    .dataframe tbody tr th:only-of-type {\n",
       "        vertical-align: middle;\n",
       "    }\n",
       "\n",
       "    .dataframe tbody tr th {\n",
       "        vertical-align: top;\n",
       "    }\n",
       "\n",
       "    .dataframe thead th {\n",
       "        text-align: right;\n",
       "    }\n",
       "</style>\n",
       "<table border=\"1\" class=\"dataframe\">\n",
       "  <thead>\n",
       "    <tr style=\"text-align: right;\">\n",
       "      <th></th>\n",
       "      <th>ID</th>\n",
       "      <th>Species</th>\n",
       "      <th>SAMPLE_DATE</th>\n",
       "      <th>IRRAD</th>\n",
       "      <th>IRRAD_DATE</th>\n",
       "      <th>DOB</th>\n",
       "      <th>SEX</th>\n",
       "      <th>TYPE</th>\n",
       "      <th>DAYS_SINCE_IRRAD</th>\n",
       "      <th>MONTHS_SINCE_IRRAD</th>\n",
       "      <th>...</th>\n",
       "      <th>LYMPHOCYTES_(%)</th>\n",
       "      <th>MONO_(%)</th>\n",
       "      <th>EOS_(%)</th>\n",
       "      <th>BASO_(%)</th>\n",
       "      <th>ABS_NEUT_(/uL)</th>\n",
       "      <th>ABS_LYMPH_(/uL)</th>\n",
       "      <th>ABS_MONO_(/uL)</th>\n",
       "      <th>ABS_EOS_(/uL)</th>\n",
       "      <th>ABS_BASO_(/uL)</th>\n",
       "      <th>PLATLET_COUNT_(K/uL)</th>\n",
       "    </tr>\n",
       "  </thead>\n",
       "  <tbody>\n",
       "    <tr>\n",
       "      <th>4532</th>\n",
       "      <td>2210</td>\n",
       "      <td>Rhesus-Indian</td>\n",
       "      <td>2021-09-20 00:00:00</td>\n",
       "      <td>No</td>\n",
       "      <td>NaT</td>\n",
       "      <td>1999-01-01</td>\n",
       "      <td>F</td>\n",
       "      <td>Research</td>\n",
       "      <td>NaN</td>\n",
       "      <td>NaN</td>\n",
       "      <td>...</td>\n",
       "      <td>36.2</td>\n",
       "      <td>10.9</td>\n",
       "      <td>1.7</td>\n",
       "      <td>0.0</td>\n",
       "      <td>2970</td>\n",
       "      <td>2100</td>\n",
       "      <td>632</td>\n",
       "      <td>99</td>\n",
       "      <td>0</td>\n",
       "      <td>348</td>\n",
       "    </tr>\n",
       "    <tr>\n",
       "      <th>4533</th>\n",
       "      <td>2210</td>\n",
       "      <td>Rhesus-Indian</td>\n",
       "      <td>2021-10-07 00:00:00</td>\n",
       "      <td>No</td>\n",
       "      <td>NaT</td>\n",
       "      <td>1999-01-01</td>\n",
       "      <td>F</td>\n",
       "      <td>Research</td>\n",
       "      <td>NaN</td>\n",
       "      <td>NaN</td>\n",
       "      <td>...</td>\n",
       "      <td>16.0</td>\n",
       "      <td>21.0</td>\n",
       "      <td>3.0</td>\n",
       "      <td>0.0</td>\n",
       "      <td>3360</td>\n",
       "      <td>896</td>\n",
       "      <td>1176</td>\n",
       "      <td>168</td>\n",
       "      <td>0</td>\n",
       "      <td>329</td>\n",
       "    </tr>\n",
       "  </tbody>\n",
       "</table>\n",
       "<p>2 rows × 31 columns</p>\n",
       "</div>"
      ],
      "text/plain": [
       "        ID        Species          SAMPLE_DATE IRRAD IRRAD_DATE        DOB  \\\n",
       "4532  2210  Rhesus-Indian  2021-09-20 00:00:00    No        NaT 1999-01-01   \n",
       "4533  2210  Rhesus-Indian  2021-10-07 00:00:00    No        NaT 1999-01-01   \n",
       "\n",
       "     SEX      TYPE  DAYS_SINCE_IRRAD  MONTHS_SINCE_IRRAD  ...  \\\n",
       "4532   F  Research               NaN                 NaN  ...   \n",
       "4533   F  Research               NaN                 NaN  ...   \n",
       "\n",
       "      LYMPHOCYTES_(%)  MONO_(%)  EOS_(%)  BASO_(%)  ABS_NEUT_(/uL)  \\\n",
       "4532             36.2      10.9      1.7       0.0            2970   \n",
       "4533             16.0      21.0      3.0       0.0            3360   \n",
       "\n",
       "      ABS_LYMPH_(/uL)  ABS_MONO_(/uL)  ABS_EOS_(/uL)  ABS_BASO_(/uL)  \\\n",
       "4532             2100             632             99               0   \n",
       "4533              896            1176            168               0   \n",
       "\n",
       "      PLATLET_COUNT_(K/uL)  \n",
       "4532                   348  \n",
       "4533                   329  \n",
       "\n",
       "[2 rows x 31 columns]"
      ]
     },
     "execution_count": 9,
     "metadata": {},
     "output_type": "execute_result"
    }
   ],
   "source": [
    "### setting up the multi monkey df without the single monkey \n",
    "oneless_df.tail(2)\n"
   ]
  },
  {
   "cell_type": "code",
   "execution_count": null,
   "id": "e9095152-7c83-4e94-9964-6c81572adf19",
   "metadata": {
    "tags": []
   },
   "outputs": [],
   "source": [
    "### Processing the data for ML\n",
    "### Process data for ML\n",
    "#make train/testdf\n",
    "(oneless_train_df, oneless_test_df)= oneless_df, oneless_df\n",
    "\n",
    "\n",
    "# label values extraction\n",
    "oneless_y=oneless_train_df['LYMPHOCYTES_(%)']\n",
    "oneless_X=oneless_train_df.drop(['ID','IRRAD_DATE','DOB','SAMPLE_DATE','LYMPHOCYTES_(%)'],axis=1)\n",
    "\n",
    "\n",
    "# Declare catagorical features - first & second column\n",
    "cat_features= list(range(0,oneless_X[oneless_X.columns[:4]].shape[1]))\n",
    "\n",
    "print(cat_features)\n",
    "\n",
    "\n",
    "#put the data into the pool\n",
    "oneless_pool = Pool(data=oneless_X, label=oneless_y, cat_features=cat_features)\n",
    "\n",
    "\n",
    "#train tesr split - 30% test\n",
    "oneless_data= train_test_split(oneless_X, oneless_y, test_size=0.3, random_state=0)\n",
    "\n",
    "#### The order of this matters###\n",
    "oneless_X_train, oneless_X_validation, oneless_y_train, oneless_y_validation= oneless_data\n",
    "\n",
    "oneless_train_pool = Pool(\n",
    "    data = oneless_X_train,\n",
    "    label = oneless_y_train,\n",
    "    cat_features = cat_features\n",
    ")\n",
    "\n",
    "oneless_validation_pool = Pool(\n",
    "    data = oneless_X_validation,\n",
    "    label = oneless_y_validation,\n",
    "    cat_features = cat_features\n",
    ")\n"
   ]
  },
  {
   "cell_type": "markdown",
   "id": "10764a26-8ef5-494b-af42-96fbc266b2dd",
   "metadata": {},
   "source": [
    "#### Model Formation"
   ]
  },
  {
   "cell_type": "code",
   "execution_count": 88,
   "id": "cc49492c-ce32-4c83-9680-5ef588b31889",
   "metadata": {
    "tags": []
   },
   "outputs": [
    {
     "name": "stdout",
     "output_type": "stream",
     "text": [
      "0:\tlearn: 9.6225247\ttotal: 8.9ms\tremaining: 8.9ms\n",
      "1:\tlearn: 6.0610900\ttotal: 15.3ms\tremaining: 0us\n"
     ]
    },
    {
     "data": {
      "text/plain": [
       "<catboost.core.CatBoostRegressor at 0x7fa256396a70>"
      ]
     },
     "execution_count": 88,
     "metadata": {},
     "output_type": "execute_result"
    }
   ],
   "source": [
    "### Making a model with the same perameters but without the single monkey data\n",
    "# regression for multiple monkey predicitons\n",
    "model13= CatBoostRegressor(iterations=2,\n",
    "    learning_rate=0.5,\n",
    "    early_stopping_rounds=5,\n",
    ")\n",
    "\n",
    "model13.fit(oneless_X, \n",
    "           oneless_y, \n",
    "           cat_features=cat_features, \n",
    "           verbose=100\n",
    "         )"
   ]
  },
  {
   "cell_type": "markdown",
   "id": "dce20eaf-4be0-41b0-92de-ef6aa300f4fd",
   "metadata": {},
   "source": [
    "#### Predictions\n",
    "Just predicting the single monkey data in this case"
   ]
  },
  {
   "cell_type": "code",
   "execution_count": 89,
   "id": "72637cd4-8939-48db-9e7e-9aa0e4bb7bf3",
   "metadata": {
    "tags": []
   },
   "outputs": [
    {
     "name": "stdout",
     "output_type": "stream",
     "text": [
      "6\n"
     ]
    },
    {
     "data": {
      "image/png": "[encoded data removed]",
      "text/plain": [
       "<Figure size 640x480 with 1 Axes>"
      ]
     },
     "metadata": {},
     "output_type": "display_data"
    }
   ],
   "source": [
    "### Predicting the single monkey lymphocyte levels using the mult monkey minus single model\n",
    "## 2 iteration, 0.5 learning rate\n",
    "\n",
    "onless_a = model13.predict(sreg_X_validation)\n",
    "print(len(onless_a), \n",
    "     )\n",
    "onless_a_df = pd.DataFrame(onless_a)\n",
    "\n",
    "\n",
    "# Plot the predictions vs. actual with the R2 score\n",
    "fig, ax = plt.subplots()\n",
    "ax.scatter(sreg_y_validation, onless_a_df)\n",
    "\n",
    "\n",
    "ax.plot([sreg_y.min(), sreg_y.max()], [sreg_y.min(), sreg_y.max()], \n",
    "        'k-', \n",
    "        linewidth=1, \n",
    "        markersize=120\n",
    ")\n",
    "\n",
    "ax.set_xlabel('Actual Lymphocyte (%)')\n",
    "ax.set_ylabel('Predicted Lymphocyte (%)')\n",
    "ax.set_title('R2: ' + str(r2_score(sreg_y_validation, onless_a_df)))\n",
    "\n",
    "plt.show()"
   ]
  },
  {
   "cell_type": "markdown",
   "id": "3dd7c6c9-5ff0-4cd1-9826-74030fbed411",
   "metadata": {},
   "source": [
    "### Summary\n",
    "- A.) A single monkey's lymphocyte levels can be accurately predicted (R2=0.85) using the model trained on all the monkeys.\n",
    "- B.) A single monkey's model does not accurately predict the other monkey's lymphocyte counts\n",
    "- C.) Only using the top 5 important features for each model gives highly accurate predictions (R2=0.85-0.91) but the multi-monkey model was unable to predict the single monkey lymphocyte levels because the model needs the same features between the datasets and they were different (different top 5 features)\n",
    "- D.) Only using the non-timeseries, radiation-related data was abel to accurately predict the multi-monkey lymphocyte levels (R2=0.73) and the single monkey lymphocyte levels (R2=0.85). I only trained a multi monkey model because there would be no variance for a single monkey model\n",
    "- E.) A single monkey's lymphocyte levels were accurately predicted (R2=0.902) using a model trained on data that did not include the single monkey's data. In fact, the \"oneless\" model predicted more accurately than when using all the data (R2=0.855)\n",
    "\n",
    "What does this mean? That an individuals biomarker levels can be very accurately predicted using models that take little energy and time. Additionally, that the individual doesn't need to be part of the collected data (they can be novel). Furthermore, a very small amount of data can make accurate predictions, and non-datetime irradiation (with sex and age) data can be used to make accurate predictions. "
   ]
  },
  {
   "cell_type": "markdown",
   "id": "1aa18387-705d-44cd-8ef2-bf170534de40",
   "metadata": {},
   "source": [
    "## 1.c. Predictions of the health data (tumorogenesis)\n",
    "Doesn't make sense to predict or use single monkey moels/data becuase there is only one observation per monkey"
   ]
  },
  {
   "cell_type": "markdown",
   "id": "fc0d9823-0c1e-42dc-9a02-a6173a577e7d",
   "metadata": {},
   "source": [
    "### Predictions using only the top 5 features"
   ]
  },
  {
   "cell_type": "markdown",
   "id": "c9987208-edc0-4feb-81f7-79ac53555fa6",
   "metadata": {},
   "source": [
    "#### Multi Monkey\n",
    "- 0. Dose_(Gy)\t14.984810\n",
    "- 1\tHeart_(Y/N)\t14.908153\n",
    "- 2\tTime_Under_Observation_(yrs)\t13.851867\n",
    "- 3\tOverweight_(Y/N)\t11.484527\n",
    "- 4\tYears_Since_Irrad\t11.038610"
   ]
  },
  {
   "cell_type": "markdown",
   "id": "49f4ae53-ee1e-4798-adeb-70da572d866b",
   "metadata": {},
   "source": [
    "##### Data processing"
   ]
  },
  {
   "cell_type": "code",
   "execution_count": 96,
   "id": "673e6b4b-59fe-4c92-981a-d26c9b80ddd7",
   "metadata": {
    "tags": []
   },
   "outputs": [
    {
     "data": {
      "text/html": [
       "<div>\n",
       "<style scoped>\n",
       "    .dataframe tbody tr th:only-of-type {\n",
       "        vertical-align: middle;\n",
       "    }\n",
       "\n",
       "    .dataframe tbody tr th {\n",
       "        vertical-align: top;\n",
       "    }\n",
       "\n",
       "    .dataframe thead th {\n",
       "        text-align: right;\n",
       "    }\n",
       "</style>\n",
       "<table border=\"1\" class=\"dataframe\">\n",
       "  <thead>\n",
       "    <tr style=\"text-align: right;\">\n",
       "      <th></th>\n",
       "      <th>ID</th>\n",
       "      <th>Dose_(Gy)</th>\n",
       "      <th>Heart_(Y/N)</th>\n",
       "      <th>Time_Under_Observation_(yrs)</th>\n",
       "      <th>Overweight_(Y/N)</th>\n",
       "      <th>Years_Since_Irrad</th>\n",
       "      <th>Tumor_(Y/N)</th>\n",
       "    </tr>\n",
       "  </thead>\n",
       "  <tbody>\n",
       "    <tr>\n",
       "      <th>0</th>\n",
       "      <td>1423</td>\n",
       "      <td>0.00</td>\n",
       "      <td>0</td>\n",
       "      <td>1.380822</td>\n",
       "      <td>1</td>\n",
       "      <td>NaN</td>\n",
       "      <td>0</td>\n",
       "    </tr>\n",
       "    <tr>\n",
       "      <th>1</th>\n",
       "      <td>1484</td>\n",
       "      <td>0.00</td>\n",
       "      <td>0</td>\n",
       "      <td>11.868493</td>\n",
       "      <td>1</td>\n",
       "      <td>NaN</td>\n",
       "      <td>0</td>\n",
       "    </tr>\n",
       "    <tr>\n",
       "      <th>2</th>\n",
       "      <td>1574</td>\n",
       "      <td>7.55</td>\n",
       "      <td>1</td>\n",
       "      <td>13.030137</td>\n",
       "      <td>0</td>\n",
       "      <td>13.358904</td>\n",
       "      <td>1</td>\n",
       "    </tr>\n",
       "    <tr>\n",
       "      <th>3</th>\n",
       "      <td>1575</td>\n",
       "      <td>7.85</td>\n",
       "      <td>1</td>\n",
       "      <td>14.139726</td>\n",
       "      <td>0</td>\n",
       "      <td>14.372603</td>\n",
       "      <td>0</td>\n",
       "    </tr>\n",
       "    <tr>\n",
       "      <th>4</th>\n",
       "      <td>1576</td>\n",
       "      <td>8.05</td>\n",
       "      <td>1</td>\n",
       "      <td>6.394521</td>\n",
       "      <td>1</td>\n",
       "      <td>6.723288</td>\n",
       "      <td>1</td>\n",
       "    </tr>\n",
       "    <tr>\n",
       "      <th>5</th>\n",
       "      <td>1577</td>\n",
       "      <td>7.55</td>\n",
       "      <td>1</td>\n",
       "      <td>12.109589</td>\n",
       "      <td>1</td>\n",
       "      <td>12.438356</td>\n",
       "      <td>1</td>\n",
       "    </tr>\n",
       "    <tr>\n",
       "      <th>6</th>\n",
       "      <td>1578</td>\n",
       "      <td>7.20</td>\n",
       "      <td>1</td>\n",
       "      <td>11.682192</td>\n",
       "      <td>0</td>\n",
       "      <td>12.010959</td>\n",
       "      <td>0</td>\n",
       "    </tr>\n",
       "    <tr>\n",
       "      <th>7</th>\n",
       "      <td>1597</td>\n",
       "      <td>8.40</td>\n",
       "      <td>0</td>\n",
       "      <td>15.501370</td>\n",
       "      <td>0</td>\n",
       "      <td>15.868493</td>\n",
       "      <td>1</td>\n",
       "    </tr>\n",
       "    <tr>\n",
       "      <th>8</th>\n",
       "      <td>1611</td>\n",
       "      <td>7.55</td>\n",
       "      <td>1</td>\n",
       "      <td>11.712329</td>\n",
       "      <td>0</td>\n",
       "      <td>12.090411</td>\n",
       "      <td>1</td>\n",
       "    </tr>\n",
       "    <tr>\n",
       "      <th>9</th>\n",
       "      <td>1612</td>\n",
       "      <td>6.75</td>\n",
       "      <td>1</td>\n",
       "      <td>11.846575</td>\n",
       "      <td>1</td>\n",
       "      <td>12.147945</td>\n",
       "      <td>0</td>\n",
       "    </tr>\n",
       "  </tbody>\n",
       "</table>\n",
       "</div>"
      ],
      "text/plain": [
       "     ID  Dose_(Gy)  Heart_(Y/N)  Time_Under_Observation_(yrs)  \\\n",
       "0  1423       0.00            0                      1.380822   \n",
       "1  1484       0.00            0                     11.868493   \n",
       "2  1574       7.55            1                     13.030137   \n",
       "3  1575       7.85            1                     14.139726   \n",
       "4  1576       8.05            1                      6.394521   \n",
       "5  1577       7.55            1                     12.109589   \n",
       "6  1578       7.20            1                     11.682192   \n",
       "7  1597       8.40            0                     15.501370   \n",
       "8  1611       7.55            1                     11.712329   \n",
       "9  1612       6.75            1                     11.846575   \n",
       "\n",
       "   Overweight_(Y/N)  Years_Since_Irrad  Tumor_(Y/N)  \n",
       "0                 1                NaN            0  \n",
       "1                 1                NaN            0  \n",
       "2                 0          13.358904            1  \n",
       "3                 0          14.372603            0  \n",
       "4                 1           6.723288            1  \n",
       "5                 1          12.438356            1  \n",
       "6                 0          12.010959            0  \n",
       "7                 0          15.868493            1  \n",
       "8                 0          12.090411            1  \n",
       "9                 1          12.147945            0  "
      ]
     },
     "execution_count": 96,
     "metadata": {},
     "output_type": "execute_result"
    }
   ],
   "source": [
    "### Make the reduced df\n",
    "\n",
    "#make a parent df\n",
    "minhealth_monkey_df.copy()\n",
    "five_health_df = minhealth_monkey_df[['ID', 'Dose_(Gy)', 'Heart_(Y/N)', 'Time_Under_Observation_(yrs)',\n",
    "                                'Overweight_(Y/N)','Years_Since_Irrad', 'Tumor_(Y/N)']]\n",
    "five_health_df.head(10)\n"
   ]
  },
  {
   "cell_type": "code",
   "execution_count": 97,
   "id": "7de14244-f3d7-4ecd-96d7-c769f04d9713",
   "metadata": {},
   "outputs": [
    {
     "name": "stdout",
     "output_type": "stream",
     "text": [
      "[0]\n"
     ]
    },
    {
     "name": "stderr",
     "output_type": "stream",
     "text": [
      "iteritems is deprecated and will be removed in a future version. Use .items instead.\n"
     ]
    }
   ],
   "source": [
    "### Process data for ML\n",
    "#make train/testdf\n",
    "(five_health_train_df, five_health_test_df)= five_health_df, five_health_df\n",
    "\n",
    "\n",
    "# label values extraction\n",
    "five_health_y=five_health_train_df['Tumor_(Y/N)']\n",
    "five_health_X=five_health_train_df.drop(['Tumor_(Y/N)'],axis=1)\n",
    "\n",
    "\n",
    "# Declare catagorical features - first & second column\n",
    "cat_features= list(range(0,five_health_X[five_health_X.columns[:1]].shape[1]))\n",
    "\n",
    "print(cat_features)\n",
    "\n",
    "\n",
    "#put the data into the pool\n",
    "five_health_pool = Pool(data=five_health_X, label=five_health_y, cat_features=cat_features)\n",
    "\n",
    "\n",
    "#train tesr split - 30% test\n",
    "five_health_data= train_test_split(five_health_X, five_health_y, test_size=0.3, random_state=0)\n",
    "\n",
    "#### The order of this matters###\n",
    "five_health_X_train, five_health_X_validation, five_health_y_train, five_health_y_validation= five_health_data\n",
    "\n",
    "five_health_train_pool = Pool(\n",
    "    data = five_health_X_train,\n",
    "    label = five_health_y_train,\n",
    "    cat_features = cat_features\n",
    ")\n",
    "\n",
    "five_health_validation_pool = Pool(\n",
    "    data = five_health_X_validation,\n",
    "    label = five_health_y_validation,\n",
    "    cat_features = cat_features\n",
    ")\n",
    "\n"
   ]
  },
  {
   "cell_type": "markdown",
   "id": "8e01ee4a-7fd0-4b76-9d00-321a08fc1a29",
   "metadata": {},
   "source": [
    "##### Model Formation"
   ]
  },
  {
   "cell_type": "code",
   "execution_count": 98,
   "id": "3b61cace-2744-4be7-87a5-b1f017e3e2b7",
   "metadata": {},
   "outputs": [
    {
     "name": "stdout",
     "output_type": "stream",
     "text": [
      "0:\tlearn: 0.4373074\ttotal: 5.21ms\tremaining: 10.4s\n",
      "500:\tlearn: 0.0106493\ttotal: 365ms\tremaining: 1.09s\n",
      "1000:\tlearn: 0.0102648\ttotal: 706ms\tremaining: 705ms\n",
      "1500:\tlearn: 0.0100648\ttotal: 1s\tremaining: 333ms\n",
      "1999:\tlearn: 0.0099811\ttotal: 1.3s\tremaining: 0us\n"
     ]
    },
    {
     "data": {
      "text/plain": [
       "<catboost.core.CatBoostClassifier at 0x7fa27275f760>"
      ]
     },
     "execution_count": 98,
     "metadata": {},
     "output_type": "execute_result"
    }
   ],
   "source": [
    "# Model for Tumor occurance \n",
    "# loss_function = logloss becuase it's binary\n",
    "\n",
    "tumor_model= CatBoostClassifier(iterations=2000,\n",
    "    learning_rate=0.5,\n",
    "    loss_function='Logloss',\n",
    "    custom_loss=['AUC','Accuracy'],\n",
    "    early_stopping_rounds=5,\n",
    ")\n",
    "\n",
    "\n",
    "tumor_model.fit(five_health_X, \n",
    "           five_health_y, \n",
    "           cat_features=cat_features, \n",
    "           verbose=500\n",
    "         )"
   ]
  },
  {
   "cell_type": "markdown",
   "id": "c74a13f8-fce2-4e75-bad6-82c935c58639",
   "metadata": {},
   "source": [
    "##### Predictions"
   ]
  },
  {
   "cell_type": "code",
   "execution_count": 133,
   "id": "4c7ff0c2-b9ab-4218-a164-0c6d623cda50",
   "metadata": {},
   "outputs": [
    {
     "name": "stdout",
     "output_type": "stream",
     "text": [
      "46\n"
     ]
    },
    {
     "name": "stderr",
     "output_type": "stream",
     "text": [
      "iteritems is deprecated and will be removed in a future version. Use .items instead.\n"
     ]
    },
    {
     "data": {
      "image/png": "[encoded data removed]",
      "text/plain": [
       "<Figure size 640x480 with 2 Axes>"
      ]
     },
     "metadata": {},
     "output_type": "display_data"
    },
    {
     "name": "stdout",
     "output_type": "stream",
     "text": [
      "Accuracy: 0.9782608695652174 Precision: 0.9\n",
      "              precision    recall  f1-score   support\n",
      "\n",
      "           0       1.00      0.97      0.99        37\n",
      "           1       0.90      1.00      0.95         9\n",
      "\n",
      "    accuracy                           0.98        46\n",
      "   macro avg       0.95      0.99      0.97        46\n",
      "weighted avg       0.98      0.98      0.98        46\n",
      "\n"
     ]
    }
   ],
   "source": [
    "from sklearn.metrics import plot_confusion_matrix\n",
    "from sklearn.metrics import confusion_matrix, ConfusionMatrixDisplay\n",
    "\n",
    "#Predict the test occurence of tumors\n",
    "\n",
    "five_health_a = tumor_model.predict(five_health_X_validation)\n",
    "print(len(five_health_a), \n",
    "     )\n",
    "\n",
    "five_health_a_df = pd.DataFrame(five_health_a)\n",
    "\n",
    "\n",
    "# make confusion matrix\n",
    "cm = confusion_matrix(five_health_y_validation, five_health_a_df)\n",
    "disp = ConfusionMatrixDisplay(confusion_matrix=cm,\n",
    "                              #display_labels=clf.classes_\n",
    "                             )\n",
    "disp.plot()\n",
    "plt.show()\n",
    "\n",
    "from sklearn import metrics\n",
    "\n",
    "Accuracy = metrics.accuracy_score(five_health_y_validation, five_health_a_df)\n",
    "Precision = metrics.precision_score(five_health_y_validation, five_health_a_df)\n",
    "\n",
    "print('Accuracy:',Accuracy, 'Precision:',Precision)\n",
    "\n",
    "from sklearn.metrics import classification_report\n",
    "\n",
    "print(classification_report(five_health_y_validation, five_health_a_df))"
   ]
  },
  {
   "cell_type": "markdown",
   "id": "7f04fafa-0076-4d3e-81e6-f2a5424bed82",
   "metadata": {},
   "source": [
    "### C. Predicting Tumorogenesis with only the radiation data"
   ]
  },
  {
   "cell_type": "markdown",
   "id": "d5a10806-a3ab-435e-84fc-6ba7e6b61790",
   "metadata": {},
   "source": [
    "##### Data processing"
   ]
  },
  {
   "cell_type": "code",
   "execution_count": 101,
   "id": "ede2afa8-7ae4-4579-b015-21ff0dc92662",
   "metadata": {},
   "outputs": [
    {
     "data": {
      "text/html": [
       "<div>\n",
       "<style scoped>\n",
       "    .dataframe tbody tr th:only-of-type {\n",
       "        vertical-align: middle;\n",
       "    }\n",
       "\n",
       "    .dataframe tbody tr th {\n",
       "        vertical-align: top;\n",
       "    }\n",
       "\n",
       "    .dataframe thead th {\n",
       "        text-align: right;\n",
       "    }\n",
       "</style>\n",
       "<table border=\"1\" class=\"dataframe\">\n",
       "  <thead>\n",
       "    <tr style=\"text-align: right;\">\n",
       "      <th></th>\n",
       "      <th>ID</th>\n",
       "      <th>Dose_(Gy)</th>\n",
       "      <th>Irrad_Age_(months)</th>\n",
       "      <th>Years_Since_Irrad</th>\n",
       "      <th>Current_Age_(years)</th>\n",
       "      <th>Tumor_(Y/N)</th>\n",
       "    </tr>\n",
       "  </thead>\n",
       "  <tbody>\n",
       "    <tr>\n",
       "      <th>0</th>\n",
       "      <td>1423</td>\n",
       "      <td>0.00</td>\n",
       "      <td>NaN</td>\n",
       "      <td>NaN</td>\n",
       "      <td>9.947945</td>\n",
       "      <td>0</td>\n",
       "    </tr>\n",
       "    <tr>\n",
       "      <th>1</th>\n",
       "      <td>1484</td>\n",
       "      <td>0.00</td>\n",
       "      <td>NaN</td>\n",
       "      <td>NaN</td>\n",
       "      <td>19.276712</td>\n",
       "      <td>0</td>\n",
       "    </tr>\n",
       "    <tr>\n",
       "      <th>2</th>\n",
       "      <td>1574</td>\n",
       "      <td>7.55</td>\n",
       "      <td>52.9</td>\n",
       "      <td>13.358904</td>\n",
       "      <td>17.767123</td>\n",
       "      <td>1</td>\n",
       "    </tr>\n",
       "    <tr>\n",
       "      <th>3</th>\n",
       "      <td>1575</td>\n",
       "      <td>7.85</td>\n",
       "      <td>40.2</td>\n",
       "      <td>14.372603</td>\n",
       "      <td>17.726027</td>\n",
       "      <td>0</td>\n",
       "    </tr>\n",
       "    <tr>\n",
       "      <th>4</th>\n",
       "      <td>1576</td>\n",
       "      <td>8.05</td>\n",
       "      <td>51.4</td>\n",
       "      <td>6.723288</td>\n",
       "      <td>11.005479</td>\n",
       "      <td>1</td>\n",
       "    </tr>\n",
       "    <tr>\n",
       "      <th>5</th>\n",
       "      <td>1577</td>\n",
       "      <td>7.55</td>\n",
       "      <td>37.0</td>\n",
       "      <td>12.438356</td>\n",
       "      <td>15.520548</td>\n",
       "      <td>1</td>\n",
       "    </tr>\n",
       "    <tr>\n",
       "      <th>6</th>\n",
       "      <td>1578</td>\n",
       "      <td>7.20</td>\n",
       "      <td>39.4</td>\n",
       "      <td>12.010959</td>\n",
       "      <td>15.295890</td>\n",
       "      <td>0</td>\n",
       "    </tr>\n",
       "    <tr>\n",
       "      <th>7</th>\n",
       "      <td>1597</td>\n",
       "      <td>8.40</td>\n",
       "      <td>52.9</td>\n",
       "      <td>15.868493</td>\n",
       "      <td>20.273973</td>\n",
       "      <td>1</td>\n",
       "    </tr>\n",
       "    <tr>\n",
       "      <th>8</th>\n",
       "      <td>1611</td>\n",
       "      <td>7.55</td>\n",
       "      <td>46.4</td>\n",
       "      <td>12.090411</td>\n",
       "      <td>15.961644</td>\n",
       "      <td>1</td>\n",
       "    </tr>\n",
       "    <tr>\n",
       "      <th>9</th>\n",
       "      <td>1612</td>\n",
       "      <td>6.75</td>\n",
       "      <td>84.2</td>\n",
       "      <td>12.147945</td>\n",
       "      <td>19.161644</td>\n",
       "      <td>0</td>\n",
       "    </tr>\n",
       "  </tbody>\n",
       "</table>\n",
       "</div>"
      ],
      "text/plain": [
       "     ID  Dose_(Gy)  Irrad_Age_(months)  Years_Since_Irrad  \\\n",
       "0  1423       0.00                 NaN                NaN   \n",
       "1  1484       0.00                 NaN                NaN   \n",
       "2  1574       7.55                52.9          13.358904   \n",
       "3  1575       7.85                40.2          14.372603   \n",
       "4  1576       8.05                51.4           6.723288   \n",
       "5  1577       7.55                37.0          12.438356   \n",
       "6  1578       7.20                39.4          12.010959   \n",
       "7  1597       8.40                52.9          15.868493   \n",
       "8  1611       7.55                46.4          12.090411   \n",
       "9  1612       6.75                84.2          12.147945   \n",
       "\n",
       "   Current_Age_(years)  Tumor_(Y/N)  \n",
       "0             9.947945            0  \n",
       "1            19.276712            0  \n",
       "2            17.767123            1  \n",
       "3            17.726027            0  \n",
       "4            11.005479            1  \n",
       "5            15.520548            1  \n",
       "6            15.295890            0  \n",
       "7            20.273973            1  \n",
       "8            15.961644            1  \n",
       "9            19.161644            0  "
      ]
     },
     "execution_count": 101,
     "metadata": {},
     "output_type": "execute_result"
    }
   ],
   "source": [
    "### Make the reduced df\n",
    "\n",
    "#make a parent df\n",
    "minhealth_monkey_df.copy()\n",
    "rad_health_df = minhealth_monkey_df[['ID', 'Dose_(Gy)', 'Irrad_Age_(months)',\n",
    "                                           'Years_Since_Irrad', 'Current_Age_(years)', 'Tumor_(Y/N)']]\n",
    "rad_health_df.head(10)\n",
    "\n"
   ]
  },
  {
   "cell_type": "code",
   "execution_count": 102,
   "id": "981f0ff7-a0bb-48a6-922f-223840e46b7d",
   "metadata": {},
   "outputs": [
    {
     "name": "stdout",
     "output_type": "stream",
     "text": [
      "[0]\n"
     ]
    },
    {
     "name": "stderr",
     "output_type": "stream",
     "text": [
      "iteritems is deprecated and will be removed in a future version. Use .items instead.\n"
     ]
    }
   ],
   "source": [
    "### Process data for ML\n",
    "#make train/testdf\n",
    "(rad_health_train_df, rad_health_test_df)= rad_health_df, rad_health_df\n",
    "\n",
    "\n",
    "# label values extraction\n",
    "rad_health_y=rad_health_train_df['Tumor_(Y/N)']\n",
    "rad_health_X=rad_health_train_df.drop(['Tumor_(Y/N)'],axis=1)\n",
    "\n",
    "\n",
    "# Declare catagorical features - first & second column\n",
    "cat_features= list(range(0,rad_health_X[rad_health_X.columns[:1]].shape[1]))\n",
    "\n",
    "print(cat_features)\n",
    "\n",
    "\n",
    "#put the data into the pool\n",
    "rad_health_pool = Pool(data=rad_health_X, label=rad_health_y, cat_features=cat_features)\n",
    "\n",
    "\n",
    "#train tesr split - 30% test\n",
    "rad_health_data= train_test_split(rad_health_X, rad_health_y, test_size=0.3, random_state=0)\n",
    "\n",
    "#### The order of this matters###\n",
    "rad_health_X_train, rad_health_X_validation, rad_health_y_train, rad_health_y_validation= rad_health_data\n",
    "\n",
    "rad_health_train_pool = Pool(\n",
    "    data = rad_health_X_train,\n",
    "    label = rad_health_y_train,\n",
    "    cat_features = cat_features\n",
    ")\n",
    "\n",
    "rad_health_validation_pool = Pool(\n",
    "    data = rad_health_X_validation,\n",
    "    label = rad_health_y_validation,\n",
    "    cat_features = cat_features\n",
    ")\n",
    "\n"
   ]
  },
  {
   "cell_type": "markdown",
   "id": "7c0e3658-4a92-43a2-94e9-fe17cb6f1462",
   "metadata": {},
   "source": [
    "##### Model Formation"
   ]
  },
  {
   "cell_type": "code",
   "execution_count": 103,
   "id": "715ec14d-ff26-42d0-b663-546a76e42385",
   "metadata": {},
   "outputs": [
    {
     "name": "stdout",
     "output_type": "stream",
     "text": [
      "0:\tlearn: 0.4678788\ttotal: 3.62ms\tremaining: 721ms\n",
      "199:\tlearn: 0.0052452\ttotal: 181ms\tremaining: 0us\n"
     ]
    },
    {
     "data": {
      "text/plain": [
       "<catboost.core.CatBoostClassifier at 0x7fa27275d150>"
      ]
     },
     "execution_count": 103,
     "metadata": {},
     "output_type": "execute_result"
    }
   ],
   "source": [
    "# Model for Tumor occurance \n",
    "# loss_function = logloss becuase it's binary\n",
    "\n",
    "rad_tumor_model= CatBoostClassifier(iterations=200,\n",
    "    learning_rate=0.5,\n",
    "    loss_function='Logloss',\n",
    "    custom_loss=['AUC','Accuracy'],\n",
    "    early_stopping_rounds=5,\n",
    ")\n",
    "\n",
    "\n",
    "rad_tumor_model.fit(rad_health_X, \n",
    "           rad_health_y, \n",
    "           cat_features=cat_features, \n",
    "           verbose=500\n",
    "                   )"
   ]
  },
  {
   "cell_type": "markdown",
   "id": "72abff3e-e610-4136-8ddf-74946ca40fe6",
   "metadata": {},
   "source": [
    "##### Predictions"
   ]
  },
  {
   "cell_type": "code",
   "execution_count": 104,
   "id": "be10382d-06a6-4d9c-a3ef-68a692206297",
   "metadata": {},
   "outputs": [
    {
     "name": "stdout",
     "output_type": "stream",
     "text": [
      "46\n"
     ]
    },
    {
     "data": {
      "image/png": "[encoded data removed]",
      "text/plain": [
       "<Figure size 640x480 with 2 Axes>"
      ]
     },
     "metadata": {},
     "output_type": "display_data"
    },
    {
     "name": "stdout",
     "output_type": "stream",
     "text": [
      "Accuracy: 1.0 Precision: 1.0\n",
      "              precision    recall  f1-score   support\n",
      "\n",
      "           0       1.00      1.00      1.00        37\n",
      "           1       1.00      1.00      1.00         9\n",
      "\n",
      "    accuracy                           1.00        46\n",
      "   macro avg       1.00      1.00      1.00        46\n",
      "weighted avg       1.00      1.00      1.00        46\n",
      "\n"
     ]
    }
   ],
   "source": [
    "#from sklearn.metrics import plot_confusion_matrix\n",
    "from sklearn.metrics import confusion_matrix, ConfusionMatrixDisplay\n",
    "\n",
    "#Predict the test occurence of tumors\n",
    "\n",
    "rad_health_a = rad_tumor_model.predict(rad_health_X_validation)\n",
    "print(len(rad_health_a), \n",
    "     )\n",
    "rad_health_a_df = pd.DataFrame(rad_health_a)\n",
    "\n",
    "\n",
    "\n",
    "# make confusion matrix\n",
    "cm = confusion_matrix(rad_health_y_validation, rad_health_a_df)\n",
    "disp = ConfusionMatrixDisplay(confusion_matrix=cm,\n",
    "                             )\n",
    "disp.plot()\n",
    "plt.show()\n",
    "\n",
    "from sklearn import metrics\n",
    "\n",
    "Accuracy = metrics.accuracy_score(rad_health_y_validation, rad_health_a_df)\n",
    "Precision = metrics.precision_score(rad_health_y_validation, rad_health_a_df)\n",
    "\n",
    "print('Accuracy:',Accuracy, 'Precision:',Precision)\n",
    "\n",
    "from sklearn.metrics import classification_report\n",
    "\n",
    "print(classification_report(rad_health_y_validation, rad_health_a_df))"
   ]
  },
  {
   "cell_type": "markdown",
   "id": "1f46bba1-501a-480c-bf74-a21d2a10fbf6",
   "metadata": {},
   "source": [
    "### Summary"
   ]
  },
  {
   "cell_type": "markdown",
   "id": "ab90df6c-6b2e-415b-a41d-750e17bfe4e3",
   "metadata": {
    "tags": []
   },
   "source": [
    "## 1.d. Predicting dose "
   ]
  },
  {
   "cell_type": "markdown",
   "id": "ca7cb8d3-1eb0-4b37-b5f8-25f6f6904194",
   "metadata": {
    "tags": []
   },
   "source": [
    "#### Data Processing"
   ]
  },
  {
   "cell_type": "code",
   "execution_count": 105,
   "id": "08069988-1c93-4361-96a1-9c184d5f1dd9",
   "metadata": {},
   "outputs": [
    {
     "data": {
      "text/plain": [
       "0       0.0\n",
       "1       0.0\n",
       "2       0.0\n",
       "3       0.0\n",
       "4       0.0\n",
       "       ... \n",
       "4547    0.0\n",
       "4548    0.0\n",
       "4549    0.0\n",
       "4550    0.0\n",
       "4551    0.0\n",
       "Name: DOSE_(Gy), Length: 4552, dtype: float64"
      ]
     },
     "execution_count": 105,
     "metadata": {},
     "output_type": "execute_result"
    }
   ],
   "source": [
    "#make single monkey\n",
    "single_minbio_df.copy()\n",
    "single_dose_df = single_minbio_df\n",
    "\n",
    "#fill na values to 0\n",
    "single_dose_df[['DOSE_(Gy)']]= single_dose_df[['DOSE_(Gy)']].fillna(0, #inplace=True\n",
    ")\n",
    "\n",
    "\n",
    "\n",
    "#make multi monkey df\n",
    "minbio_monkey_df.copy()\n",
    "dose_df = minbio_monkey_df\n",
    "\n",
    "#fill na values to 0\n",
    "dose_df[['DOSE_(Gy)']]= dose_df[['DOSE_(Gy)']].fillna(0, #inplace=True\n",
    ")\n",
    "\n",
    "dose_df['DOSE_(Gy)']"
   ]
  },
  {
   "cell_type": "code",
   "execution_count": 106,
   "id": "5fd070fc-79f0-4bef-aed7-9b41a6f6b0f3",
   "metadata": {},
   "outputs": [
    {
     "name": "stdout",
     "output_type": "stream",
     "text": [
      "[0, 1, 2, 3]\n"
     ]
    },
    {
     "name": "stderr",
     "output_type": "stream",
     "text": [
      "iteritems is deprecated and will be removed in a future version. Use .items instead.\n"
     ]
    }
   ],
   "source": [
    "##### Multi Monkey ####\n",
    "\n",
    "### Processing the data for ML\n",
    "\n",
    "#make train/testdf\n",
    "(dose_train_df, dose_test_df)= dose_df, dose_df\n",
    "\n",
    "\n",
    "# label values extraction\n",
    "dose_y=dose_train_df['DOSE_(Gy)']\n",
    "dose_X=dose_train_df.drop(['ID','IRRAD_DATE','DOB','SAMPLE_DATE','DOSE_(Gy)'],axis=1)\n",
    "\n",
    "\n",
    "# Declare catagorical features - first & second column\n",
    "cat_features= list(range(0,dose_X[dose_X.columns[:4]].shape[1]))\n",
    "\n",
    "print(cat_features)\n",
    "\n",
    "\n",
    "#put the data into the pool\n",
    "dose_pool = Pool(data=dose_X, label=dose_y, cat_features=cat_features)\n",
    "\n",
    "\n",
    "#train tesr split - 30% test\n",
    "dose_data= train_test_split(dose_X, dose_y, test_size=0.3, random_state=0)\n",
    "\n",
    "#### The order of this matters###\n",
    "dose_X_train, dose_X_validation, dose_y_train, dose_y_validation= dose_data\n",
    "\n",
    "dose_train_pool = Pool(\n",
    "    data = dose_X_train,\n",
    "    label = dose_y_train,\n",
    "    cat_features = cat_features\n",
    ")\n",
    "\n",
    "dose_validation_pool = Pool(\n",
    "    data = dose_X_validation,\n",
    "    label = dose_y_validation,\n",
    "    cat_features = cat_features\n",
    ")\n"
   ]
  },
  {
   "cell_type": "code",
   "execution_count": 107,
   "id": "8cd1e51f-c5a9-4ee1-95e3-d5ff13fa33f7",
   "metadata": {},
   "outputs": [
    {
     "name": "stdout",
     "output_type": "stream",
     "text": [
      "[0, 1, 2, 3]\n"
     ]
    },
    {
     "name": "stderr",
     "output_type": "stream",
     "text": [
      "iteritems is deprecated and will be removed in a future version. Use .items instead.\n"
     ]
    }
   ],
   "source": [
    "##### Multi Monkey ####\n",
    "\n",
    "### Processing the data for ML\n",
    "\n",
    "#make train/testdf\n",
    "(single_dose_train_df, single_dose_test_df)= single_dose_df, single_dose_df\n",
    "\n",
    "\n",
    "# label values extraction\n",
    "single_dose_y=single_dose_train_df['DOSE_(Gy)']\n",
    "single_dose_X=single_dose_train_df.drop(['ID','IRRAD_DATE','DOB','SAMPLE_DATE','DOSE_(Gy)'],axis=1)\n",
    "\n",
    "\n",
    "# Declare catagorical features - first & second column\n",
    "cat_features= list(range(0,single_dose_X[single_dose_X.columns[:4]].shape[1]))\n",
    "\n",
    "print(cat_features)\n",
    "\n",
    "\n",
    "#put the data into the pool\n",
    "single_dose_pool = Pool(data=single_dose_X, label=single_dose_y, cat_features=cat_features)\n",
    "\n",
    "\n",
    "#train tesr split - 30% test\n",
    "single_dose_data= train_test_split(single_dose_X, single_dose_y, test_size=0.3, random_state=0)\n",
    "\n",
    "#### The order of this matters###\n",
    "single_dose_X_train, single_dose_X_validation, single_dose_y_train, single_dose_y_validation= single_dose_data\n",
    "\n",
    "single_dose_train_pool = Pool(\n",
    "    data = single_dose_X_train,\n",
    "    label = single_dose_y_train,\n",
    "    cat_features = cat_features\n",
    ")\n",
    "\n",
    "single_dose_validation_pool = Pool(\n",
    "    data = single_dose_X_validation,\n",
    "    label = single_dose_y_validation,\n",
    "    cat_features = cat_features\n",
    ")\n"
   ]
  },
  {
   "cell_type": "markdown",
   "id": "7d1b041c-237d-4cf0-8e39-a565a81515f8",
   "metadata": {},
   "source": [
    "#### Model Formation"
   ]
  },
  {
   "cell_type": "code",
   "execution_count": 108,
   "id": "2b09284a-9bb6-431d-8ae6-60d7ebd89054",
   "metadata": {},
   "outputs": [
    {
     "name": "stdout",
     "output_type": "stream",
     "text": [
      "0:\tlearn: 1.8015170\ttotal: 7.91ms\tremaining: 783ms\n",
      "99:\tlearn: 0.3432601\ttotal: 409ms\tremaining: 0us\n"
     ]
    },
    {
     "data": {
      "text/plain": [
       "<catboost.core.CatBoostRegressor at 0x7fa273ca6350>"
      ]
     },
     "execution_count": 108,
     "metadata": {},
     "output_type": "execute_result"
    }
   ],
   "source": [
    "### Making a model with the same perameters but without the single monkey data\n",
    "# regression for multiple monkey predicitons\n",
    "dose_model= CatBoostRegressor(iterations=100,\n",
    "    learning_rate=0.5,\n",
    ")\n",
    "\n",
    "dose_model.fit(dose_X, \n",
    "           dose_y, \n",
    "           cat_features=cat_features, \n",
    "           verbose=100\n",
    "         )"
   ]
  },
  {
   "cell_type": "markdown",
   "id": "378ca223-bb8b-4330-9974-996177d104ec",
   "metadata": {},
   "source": [
    "#### Predictions\n"
   ]
  },
  {
   "cell_type": "markdown",
   "id": "3ff4eb64-1c60-4aab-8365-017801559268",
   "metadata": {
    "tags": []
   },
   "source": [
    "##### Multi Monkey Predictions"
   ]
  },
  {
   "cell_type": "code",
   "execution_count": 109,
   "id": "7632ba07-71ca-46e4-bcf2-d1467a293b2c",
   "metadata": {},
   "outputs": [
    {
     "name": "stdout",
     "output_type": "stream",
     "text": [
      "1366\n"
     ]
    },
    {
     "data": {
      "image/png": "[encoded data removed]",
      "text/plain": [
       "<Figure size 640x480 with 1 Axes>"
      ]
     },
     "metadata": {},
     "output_type": "display_data"
    }
   ],
   "source": [
    "### Predicting the single monkey dose levels\n",
    "\n",
    "dose_a = dose_model.predict(dose_X_validation)\n",
    "print(len(dose_a), \n",
    "     )\n",
    "dose_a_df = pd.DataFrame(dose_a)\n",
    "\n",
    "\n",
    "# Plot the predictions vs. actual with the R2 score\n",
    "fig, ax = plt.subplots()\n",
    "ax.scatter(dose_y_validation, dose_a_df)\n",
    "\n",
    "\n",
    "ax.plot([dose_y.min(), dose_y.max()], [dose_y.min(), dose_y.max()], \n",
    "        'k-', \n",
    "        linewidth=1, \n",
    "        markersize=120\n",
    ")\n",
    "\n",
    "ax.set_xlabel('Actual Dose (Gy)')\n",
    "ax.set_ylabel('Predicted Dose (Gy)')\n",
    "ax.set_title('R2: ' + str(r2_score(dose_y_validation, dose_a_df)))\n",
    "\n",
    "plt.show()"
   ]
  },
  {
   "cell_type": "markdown",
   "id": "153c2118-af56-40f4-a1d1-3b1f8ba48fd0",
   "metadata": {},
   "source": [
    "##### Single Monkey\n",
    "\n",
    "A little weird, figure out how to give the model only one row/line of data"
   ]
  },
  {
   "cell_type": "code",
   "execution_count": 110,
   "id": "badf346b-6bfc-4aa8-9960-19f53ab8a611",
   "metadata": {},
   "outputs": [
    {
     "name": "stdout",
     "output_type": "stream",
     "text": [
      "1366\n"
     ]
    },
    {
     "name": "stderr",
     "output_type": "stream",
     "text": [
      "iteritems is deprecated and will be removed in a future version. Use .items instead.\n"
     ]
    },
    {
     "data": {
      "image/png": "[encoded data removed]",
      "text/plain": [
       "<Figure size 640x480 with 1 Axes>"
      ]
     },
     "metadata": {},
     "output_type": "display_data"
    }
   ],
   "source": [
    "### Predicting the single monkey dose levels\n",
    "## 2 iteration, 0.5 learning rate\n",
    "\n",
    "single_dose_a = dose_model.predict(single_dose_X_validation)\n",
    "print(len(dose_a), \n",
    "     )\n",
    "single_dose_a_df = pd.DataFrame(single_dose_a)\n",
    "\n",
    "\n",
    "# Plot the predictions vs. actual with the R2 score\n",
    "fig, ax = plt.subplots()\n",
    "ax.scatter(single_dose_y_validation, single_dose_a_df)\n",
    "\n",
    "\n",
    "ax.plot([single_dose_y.min(), single_dose_y.max()], [single_dose_y.min(), single_dose_y.max()], \n",
    "        'k-', \n",
    "        linewidth=1, \n",
    "        markersize=120\n",
    ")\n",
    "\n",
    "ax.set_xlabel('Actual Dose (Gy)')\n",
    "ax.set_ylabel('Predicted Dose (Gy)')\n",
    "ax.set_title('R2: ' + str(r2_score(single_dose_y_validation, single_dose_a_df)))\n",
    "\n",
    "plt.show()"
   ]
  },
  {
   "cell_type": "markdown",
   "id": "d474c1cd-5246-4a1c-b958-5c18a6354ff6",
   "metadata": {
    "tags": []
   },
   "source": [
    "#### Feature Analysis"
   ]
  },
  {
   "cell_type": "markdown",
   "id": "7ca27e83-cb2f-4b3c-b8d3-7f8e5dd45aa7",
   "metadata": {},
   "source": [
    "##### Multi Monkey"
   ]
  },
  {
   "cell_type": "code",
   "execution_count": 111,
   "id": "de900cb9-91f7-428b-bd0c-29212aab334a",
   "metadata": {},
   "outputs": [
    {
     "data": {
      "text/html": [
       "<div>\n",
       "<style scoped>\n",
       "    .dataframe tbody tr th:only-of-type {\n",
       "        vertical-align: middle;\n",
       "    }\n",
       "\n",
       "    .dataframe tbody tr th {\n",
       "        vertical-align: top;\n",
       "    }\n",
       "\n",
       "    .dataframe thead th {\n",
       "        text-align: right;\n",
       "    }\n",
       "</style>\n",
       "<table border=\"1\" class=\"dataframe\">\n",
       "  <thead>\n",
       "    <tr style=\"text-align: right;\">\n",
       "      <th></th>\n",
       "      <th>Feature Id</th>\n",
       "      <th>Importances</th>\n",
       "    </tr>\n",
       "  </thead>\n",
       "  <tbody>\n",
       "    <tr>\n",
       "      <th>0</th>\n",
       "      <td>MONTHS AT IRRAD</td>\n",
       "      <td>78.373332</td>\n",
       "    </tr>\n",
       "    <tr>\n",
       "      <th>1</th>\n",
       "      <td>MONTHS_SINCE_IRRAD</td>\n",
       "      <td>4.828723</td>\n",
       "    </tr>\n",
       "    <tr>\n",
       "      <th>2</th>\n",
       "      <td>DAYS_SINCE_IRRAD</td>\n",
       "      <td>2.651864</td>\n",
       "    </tr>\n",
       "    <tr>\n",
       "      <th>3</th>\n",
       "      <td>SEX</td>\n",
       "      <td>2.217122</td>\n",
       "    </tr>\n",
       "    <tr>\n",
       "      <th>4</th>\n",
       "      <td>AGE</td>\n",
       "      <td>1.883568</td>\n",
       "    </tr>\n",
       "    <tr>\n",
       "      <th>5</th>\n",
       "      <td>Mean_corpuscular_hemaglobin_(MCH_pg)</td>\n",
       "      <td>1.730285</td>\n",
       "    </tr>\n",
       "    <tr>\n",
       "      <th>6</th>\n",
       "      <td>Hemocrit_(HCT_%)</td>\n",
       "      <td>1.326405</td>\n",
       "    </tr>\n",
       "    <tr>\n",
       "      <th>7</th>\n",
       "      <td>Mean_corpuscular_volume_(MCV_fL)</td>\n",
       "      <td>0.835481</td>\n",
       "    </tr>\n",
       "    <tr>\n",
       "      <th>8</th>\n",
       "      <td>PLATLET_COUNT_(K/uL)</td>\n",
       "      <td>0.768381</td>\n",
       "    </tr>\n",
       "    <tr>\n",
       "      <th>9</th>\n",
       "      <td>Mean_corpuscular_hemaglobin_concentration_(MCH...</td>\n",
       "      <td>0.746726</td>\n",
       "    </tr>\n",
       "    <tr>\n",
       "      <th>10</th>\n",
       "      <td>Species</td>\n",
       "      <td>0.718196</td>\n",
       "    </tr>\n",
       "    <tr>\n",
       "      <th>11</th>\n",
       "      <td>Hemaglobin_(HGB_g/dL)</td>\n",
       "      <td>0.715697</td>\n",
       "    </tr>\n",
       "    <tr>\n",
       "      <th>12</th>\n",
       "      <td>RBC_(M/uL)</td>\n",
       "      <td>0.644539</td>\n",
       "    </tr>\n",
       "    <tr>\n",
       "      <th>13</th>\n",
       "      <td>ABS_MONO_(/uL)</td>\n",
       "      <td>0.522805</td>\n",
       "    </tr>\n",
       "    <tr>\n",
       "      <th>14</th>\n",
       "      <td>WBC_(K/uL)</td>\n",
       "      <td>0.396812</td>\n",
       "    </tr>\n",
       "    <tr>\n",
       "      <th>15</th>\n",
       "      <td>ABS_EOS_(/uL)</td>\n",
       "      <td>0.342749</td>\n",
       "    </tr>\n",
       "    <tr>\n",
       "      <th>16</th>\n",
       "      <td>ABS_NEUT_(/uL)</td>\n",
       "      <td>0.278216</td>\n",
       "    </tr>\n",
       "    <tr>\n",
       "      <th>17</th>\n",
       "      <td>MONO_(%)</td>\n",
       "      <td>0.273330</td>\n",
       "    </tr>\n",
       "    <tr>\n",
       "      <th>18</th>\n",
       "      <td>EOS_(%)</td>\n",
       "      <td>0.215890</td>\n",
       "    </tr>\n",
       "    <tr>\n",
       "      <th>19</th>\n",
       "      <td>ABS_LYMPH_(/uL)</td>\n",
       "      <td>0.193182</td>\n",
       "    </tr>\n",
       "    <tr>\n",
       "      <th>20</th>\n",
       "      <td>LYMPHOCYTES_(%)</td>\n",
       "      <td>0.110297</td>\n",
       "    </tr>\n",
       "    <tr>\n",
       "      <th>21</th>\n",
       "      <td>ABS_BASO_(/uL)</td>\n",
       "      <td>0.080556</td>\n",
       "    </tr>\n",
       "    <tr>\n",
       "      <th>22</th>\n",
       "      <td>NEUT_(%)</td>\n",
       "      <td>0.068405</td>\n",
       "    </tr>\n",
       "    <tr>\n",
       "      <th>23</th>\n",
       "      <td>BASO_(%)</td>\n",
       "      <td>0.042424</td>\n",
       "    </tr>\n",
       "    <tr>\n",
       "      <th>24</th>\n",
       "      <td>TYPE</td>\n",
       "      <td>0.035016</td>\n",
       "    </tr>\n",
       "    <tr>\n",
       "      <th>25</th>\n",
       "      <td>IRRAD</td>\n",
       "      <td>0.000000</td>\n",
       "    </tr>\n",
       "  </tbody>\n",
       "</table>\n",
       "</div>"
      ],
      "text/plain": [
       "                                           Feature Id  Importances\n",
       "0                                     MONTHS AT IRRAD    78.373332\n",
       "1                                  MONTHS_SINCE_IRRAD     4.828723\n",
       "2                                    DAYS_SINCE_IRRAD     2.651864\n",
       "3                                                 SEX     2.217122\n",
       "4                                                 AGE     1.883568\n",
       "5                Mean_corpuscular_hemaglobin_(MCH_pg)     1.730285\n",
       "6                                    Hemocrit_(HCT_%)     1.326405\n",
       "7                    Mean_corpuscular_volume_(MCV_fL)     0.835481\n",
       "8                                PLATLET_COUNT_(K/uL)     0.768381\n",
       "9   Mean_corpuscular_hemaglobin_concentration_(MCH...     0.746726\n",
       "10                                            Species     0.718196\n",
       "11                              Hemaglobin_(HGB_g/dL)     0.715697\n",
       "12                                         RBC_(M/uL)     0.644539\n",
       "13                                     ABS_MONO_(/uL)     0.522805\n",
       "14                                         WBC_(K/uL)     0.396812\n",
       "15                                      ABS_EOS_(/uL)     0.342749\n",
       "16                                     ABS_NEUT_(/uL)     0.278216\n",
       "17                                           MONO_(%)     0.273330\n",
       "18                                            EOS_(%)     0.215890\n",
       "19                                    ABS_LYMPH_(/uL)     0.193182\n",
       "20                                    LYMPHOCYTES_(%)     0.110297\n",
       "21                                     ABS_BASO_(/uL)     0.080556\n",
       "22                                           NEUT_(%)     0.068405\n",
       "23                                           BASO_(%)     0.042424\n",
       "24                                               TYPE     0.035016\n",
       "25                                              IRRAD     0.000000"
      ]
     },
     "execution_count": 111,
     "metadata": {},
     "output_type": "execute_result"
    }
   ],
   "source": [
    "# Find the feature importance for predicting the lmphocyte counts is a single monkey\n",
    "dose_model.get_feature_importance(data=dose_pool,\n",
    "                       prettified=True,\n",
    ")\n",
    "\n",
    "#MONTHS AT IRRAD may be beecause the protocols had a standdard age to irradiate"
   ]
  },
  {
   "cell_type": "markdown",
   "id": "80c75d4a-7fc5-4f7d-99aa-c65adc3ea198",
   "metadata": {},
   "source": [
    "##### Single Monkey"
   ]
  },
  {
   "cell_type": "code",
   "execution_count": 112,
   "id": "f3dce5bf-974a-4765-a5df-4f7bb0ab3e87",
   "metadata": {},
   "outputs": [
    {
     "data": {
      "text/html": [
       "<div>\n",
       "<style scoped>\n",
       "    .dataframe tbody tr th:only-of-type {\n",
       "        vertical-align: middle;\n",
       "    }\n",
       "\n",
       "    .dataframe tbody tr th {\n",
       "        vertical-align: top;\n",
       "    }\n",
       "\n",
       "    .dataframe thead th {\n",
       "        text-align: right;\n",
       "    }\n",
       "</style>\n",
       "<table border=\"1\" class=\"dataframe\">\n",
       "  <thead>\n",
       "    <tr style=\"text-align: right;\">\n",
       "      <th></th>\n",
       "      <th>Feature Id</th>\n",
       "      <th>Importances</th>\n",
       "    </tr>\n",
       "  </thead>\n",
       "  <tbody>\n",
       "    <tr>\n",
       "      <th>0</th>\n",
       "      <td>Hemocrit_(HCT_%)</td>\n",
       "      <td>35.232249</td>\n",
       "    </tr>\n",
       "    <tr>\n",
       "      <th>1</th>\n",
       "      <td>Mean_corpuscular_hemaglobin_(MCH_pg)</td>\n",
       "      <td>18.636849</td>\n",
       "    </tr>\n",
       "    <tr>\n",
       "      <th>2</th>\n",
       "      <td>Hemaglobin_(HGB_g/dL)</td>\n",
       "      <td>14.508487</td>\n",
       "    </tr>\n",
       "    <tr>\n",
       "      <th>3</th>\n",
       "      <td>ABS_NEUT_(/uL)</td>\n",
       "      <td>4.630418</td>\n",
       "    </tr>\n",
       "    <tr>\n",
       "      <th>4</th>\n",
       "      <td>AGE</td>\n",
       "      <td>3.569756</td>\n",
       "    </tr>\n",
       "    <tr>\n",
       "      <th>5</th>\n",
       "      <td>PLATLET_COUNT_(K/uL)</td>\n",
       "      <td>3.119549</td>\n",
       "    </tr>\n",
       "    <tr>\n",
       "      <th>6</th>\n",
       "      <td>MONO_(%)</td>\n",
       "      <td>3.037803</td>\n",
       "    </tr>\n",
       "    <tr>\n",
       "      <th>7</th>\n",
       "      <td>Mean_corpuscular_hemaglobin_concentration_(MCH...</td>\n",
       "      <td>2.834909</td>\n",
       "    </tr>\n",
       "    <tr>\n",
       "      <th>8</th>\n",
       "      <td>DAYS_SINCE_IRRAD</td>\n",
       "      <td>2.623971</td>\n",
       "    </tr>\n",
       "    <tr>\n",
       "      <th>9</th>\n",
       "      <td>Mean_corpuscular_volume_(MCV_fL)</td>\n",
       "      <td>2.353940</td>\n",
       "    </tr>\n",
       "    <tr>\n",
       "      <th>10</th>\n",
       "      <td>ABS_LYMPH_(/uL)</td>\n",
       "      <td>2.189167</td>\n",
       "    </tr>\n",
       "    <tr>\n",
       "      <th>11</th>\n",
       "      <td>ABS_MONO_(/uL)</td>\n",
       "      <td>2.155941</td>\n",
       "    </tr>\n",
       "    <tr>\n",
       "      <th>12</th>\n",
       "      <td>RBC_(M/uL)</td>\n",
       "      <td>1.965176</td>\n",
       "    </tr>\n",
       "    <tr>\n",
       "      <th>13</th>\n",
       "      <td>WBC_(K/uL)</td>\n",
       "      <td>0.877902</td>\n",
       "    </tr>\n",
       "    <tr>\n",
       "      <th>14</th>\n",
       "      <td>ABS_EOS_(/uL)</td>\n",
       "      <td>0.771527</td>\n",
       "    </tr>\n",
       "    <tr>\n",
       "      <th>15</th>\n",
       "      <td>MONTHS_SINCE_IRRAD</td>\n",
       "      <td>0.698583</td>\n",
       "    </tr>\n",
       "    <tr>\n",
       "      <th>16</th>\n",
       "      <td>LYMPHOCYTES_(%)</td>\n",
       "      <td>0.161055</td>\n",
       "    </tr>\n",
       "    <tr>\n",
       "      <th>17</th>\n",
       "      <td>EOS_(%)</td>\n",
       "      <td>0.161004</td>\n",
       "    </tr>\n",
       "    <tr>\n",
       "      <th>18</th>\n",
       "      <td>NEUT_(%)</td>\n",
       "      <td>0.137982</td>\n",
       "    </tr>\n",
       "    <tr>\n",
       "      <th>19</th>\n",
       "      <td>ABS_BASO_(/uL)</td>\n",
       "      <td>0.131066</td>\n",
       "    </tr>\n",
       "    <tr>\n",
       "      <th>20</th>\n",
       "      <td>BASO_(%)</td>\n",
       "      <td>0.105956</td>\n",
       "    </tr>\n",
       "    <tr>\n",
       "      <th>21</th>\n",
       "      <td>TYPE</td>\n",
       "      <td>0.096709</td>\n",
       "    </tr>\n",
       "    <tr>\n",
       "      <th>22</th>\n",
       "      <td>Species</td>\n",
       "      <td>0.000000</td>\n",
       "    </tr>\n",
       "    <tr>\n",
       "      <th>23</th>\n",
       "      <td>IRRAD</td>\n",
       "      <td>0.000000</td>\n",
       "    </tr>\n",
       "    <tr>\n",
       "      <th>24</th>\n",
       "      <td>SEX</td>\n",
       "      <td>0.000000</td>\n",
       "    </tr>\n",
       "    <tr>\n",
       "      <th>25</th>\n",
       "      <td>MONTHS AT IRRAD</td>\n",
       "      <td>0.000000</td>\n",
       "    </tr>\n",
       "  </tbody>\n",
       "</table>\n",
       "</div>"
      ],
      "text/plain": [
       "                                           Feature Id  Importances\n",
       "0                                    Hemocrit_(HCT_%)    35.232249\n",
       "1                Mean_corpuscular_hemaglobin_(MCH_pg)    18.636849\n",
       "2                               Hemaglobin_(HGB_g/dL)    14.508487\n",
       "3                                      ABS_NEUT_(/uL)     4.630418\n",
       "4                                                 AGE     3.569756\n",
       "5                                PLATLET_COUNT_(K/uL)     3.119549\n",
       "6                                            MONO_(%)     3.037803\n",
       "7   Mean_corpuscular_hemaglobin_concentration_(MCH...     2.834909\n",
       "8                                    DAYS_SINCE_IRRAD     2.623971\n",
       "9                    Mean_corpuscular_volume_(MCV_fL)     2.353940\n",
       "10                                    ABS_LYMPH_(/uL)     2.189167\n",
       "11                                     ABS_MONO_(/uL)     2.155941\n",
       "12                                         RBC_(M/uL)     1.965176\n",
       "13                                         WBC_(K/uL)     0.877902\n",
       "14                                      ABS_EOS_(/uL)     0.771527\n",
       "15                                 MONTHS_SINCE_IRRAD     0.698583\n",
       "16                                    LYMPHOCYTES_(%)     0.161055\n",
       "17                                            EOS_(%)     0.161004\n",
       "18                                           NEUT_(%)     0.137982\n",
       "19                                     ABS_BASO_(/uL)     0.131066\n",
       "20                                           BASO_(%)     0.105956\n",
       "21                                               TYPE     0.096709\n",
       "22                                            Species     0.000000\n",
       "23                                              IRRAD     0.000000\n",
       "24                                                SEX     0.000000\n",
       "25                                    MONTHS AT IRRAD     0.000000"
      ]
     },
     "execution_count": 112,
     "metadata": {},
     "output_type": "execute_result"
    }
   ],
   "source": [
    "dose_model.get_feature_importance(data=single_dose_pool,\n",
    "                       prettified=True,\n",
    ")"
   ]
  },
  {
   "cell_type": "markdown",
   "id": "c7c5fc91-5cde-4dfd-ac2b-4f12ca916477",
   "metadata": {},
   "source": [
    "#### Summary\n",
    "We were able to accurately predict dose for the multi monkey data, but unsuccessful for the single monkey. This could be due to not giving the model properly formatted data, but is important for the first paper and as a diagnostic tool. The feature analysis seemed to produce feasible most important features for the accurate (multi monnkey) model."
   ]
  }
 ],
 "metadata": {
  "kernelspec": {
   "display_name": "Python 3 (ipykernel)",
   "language": "python",
   "name": "python3"
  },
  "language_info": {
   "codemirror_mode": {
    "name": "ipython",
    "version": 3
   },
   "file_extension": ".py",
   "mimetype": "text/x-python",
   "name": "python",
   "nbconvert_exporter": "python",
   "pygments_lexer": "ipython3",
   "version": "3.10.9"
  },
  "toc-showtags": false
 },
 "nbformat": 4,
 "nbformat_minor": 5
}
