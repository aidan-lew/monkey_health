{
 "cells": [
  {
   "cell_type": "markdown",
   "id": "5d893800-3c2b-4f9f-8823-f0807eeed520",
   "metadata": {},
   "source": [
    "# Irradiated Monkeys Cont.\n",
    "In this notebook I will elaborte on the work with the A_monkeys_preliminary findings\n",
    "\n",
    "Specifically, I will focus on the following:\n",
    "\n",
    "\n",
    "1.) Predicting aspects of the monkey's biomarkers and health outcomes with reducted and critical features\n",
    "   \n",
    "   - a.) Using regression predictions instead of classification for continuous variables\n",
    "   \n",
    "   - b.) Predicting single monkey data based on a model trained on multi monkey data, and vise versa\n",
    "   \n",
    "   - c.) Predicting using only top 5 most important features\n",
    "   \n",
    "   - d.) Predicting using only irradiation data\n",
    "   \n",
    "   - e.) Predicting dose exposure\n",
    "   \n",
    "   \n",
    "2.) Clustering the data through other methods\n",
    "\n",
    "3.) Combining the biomarker and health-outcome data in more complex ways \n",
    "\n",
    "4.) Utilizing dimentionality reduction for vizualization and training\n",
    "\n",
    "5.) Automate the cycling through of predictions"
   ]
  },
  {
   "cell_type": "code",
   "execution_count": 47,
   "id": "61b31074-d811-4d41-87a4-fcb4a4a14efc",
   "metadata": {
    "tags": []
   },
   "outputs": [
    {
     "name": "stdout",
     "output_type": "stream",
     "text": [
      "Setup Complete\n"
     ]
    }
   ],
   "source": [
    "### Using monkey_env/ ###\n",
    "\n",
    "# handling data\n",
    "import pandas as pd\n",
    "import numpy as np\n",
    "import datetime\n",
    "\n",
    "# visualizing data\n",
    "import seaborn as sns\n",
    "import matplotlib.pyplot as plt\n",
    "sns.set_style(\"darkgrid\")\n",
    "\n",
    "# Statistics\n",
    "from scipy import stats\n",
    "#import statsmodels.api as sm\n",
    "#import statsmodels.imputation.mice as smi\n",
    "#import scipy.cluster.hierarchy as hac\n",
    "#from statsmodels.stats.multicomp import pairwise_tukeyhsd\n",
    "import matplotlib.gridspec as gridspec\n",
    "import math\n",
    "import random\n",
    "\n",
    "\n",
    "#SHAP Value stuff\n",
    "import shap\n",
    "from shap import TreeExplainer\n",
    "from shap import GradientExplainer\n",
    "from shap import DeepExplainer\n",
    "from shap import KernelExplainer\n",
    "from shap import SamplingExplainer\n",
    "from shap import PartitionExplainer\n",
    "\n",
    "#ML stuff\n",
    "import catboost\n",
    "from catboost import CatBoostClassifier, Pool, CatBoostRegressor, CatBoost\n",
    "\n",
    "#language handling\n",
    "#import bert\n",
    "\n",
    "\n",
    "#from mxnet import nd, autograd, gluon\n",
    "#from mxnet.gluon import nn, rnn\n",
    "#import mxnet as mx\n",
    "\n",
    "#fix the error that pops up about ipwydgets \n",
    "from tqdm import tqdm\n",
    "#from .autonotebook import tqdm as notebook_tqdm\n",
    "\n",
    "print(\"Setup Complete\")\n"
   ]
  },
  {
   "cell_type": "code",
   "execution_count": 48,
   "id": "e00cc34c-47b9-4f9d-bfe6-e966d68ca3f2",
   "metadata": {
    "tags": []
   },
   "outputs": [
    {
     "data": {
      "text/plain": [
       "'/Users/aidanlew/Documents'"
      ]
     },
     "execution_count": 48,
     "metadata": {},
     "output_type": "execute_result"
    }
   ],
   "source": [
    "pwd"
   ]
  },
  {
   "cell_type": "code",
   "execution_count": 49,
   "id": "e9ce1b54-5b33-4412-aa04-ebf99673515b",
   "metadata": {
    "tags": []
   },
   "outputs": [
    {
     "name": "stdout",
     "output_type": "stream",
     "text": [
      "/Users/aidanlew/Documents\n"
     ]
    }
   ],
   "source": [
    "cd '/Users/aidanlew/Documents'"
   ]
  },
  {
   "cell_type": "code",
   "execution_count": 50,
   "id": "c119fb2b-e508-4411-9aff-fa9b9befe6ff",
   "metadata": {
    "tags": []
   },
   "outputs": [],
   "source": [
    "def parser(x):\n",
    "    return datetime.datetime.strptime(x,'%d-%m-%y')\n"
   ]
  },
  {
   "cell_type": "markdown",
   "id": "a1119e59-1182-482a-9d72-41bc1b6e6073",
   "metadata": {},
   "source": [
    "# Regression, forcasting, & clustering"
   ]
  },
  {
   "cell_type": "markdown",
   "id": "887172ec-adc5-42e6-a110-709f60f8230e",
   "metadata": {},
   "source": [
    "## 1.a.) Regression prediction for continuous variables"
   ]
  },
  {
   "cell_type": "markdown",
   "id": "57aaecd0-7978-4d0f-91b5-229cb0224192",
   "metadata": {},
   "source": [
    "## Data loading"
   ]
  },
  {
   "cell_type": "code",
   "execution_count": 92,
   "id": "e705abd7-59d5-4ce4-bf96-ad23d3c40b90",
   "metadata": {
    "tags": []
   },
   "outputs": [
    {
     "data": {
      "text/html": [
       "<div>\n",
       "<style scoped>\n",
       "    .dataframe tbody tr th:only-of-type {\n",
       "        vertical-align: middle;\n",
       "    }\n",
       "\n",
       "    .dataframe tbody tr th {\n",
       "        vertical-align: top;\n",
       "    }\n",
       "\n",
       "    .dataframe thead th {\n",
       "        text-align: right;\n",
       "    }\n",
       "</style>\n",
       "<table border=\"1\" class=\"dataframe\">\n",
       "  <thead>\n",
       "    <tr style=\"text-align: right;\">\n",
       "      <th></th>\n",
       "      <th>ID</th>\n",
       "      <th>Time_Under_Observation_(yrs)</th>\n",
       "      <th>Dose_(Gy)</th>\n",
       "      <th>Irrad_Age_(months)</th>\n",
       "      <th>Years_Since_Irrad</th>\n",
       "      <th>Current_Age_(years)</th>\n",
       "      <th>Animal_Status</th>\n",
       "      <th>Diabetes_(Y/N)</th>\n",
       "      <th>Cataracts_(Y/N)</th>\n",
       "      <th>Arthritis_(Y/N)</th>\n",
       "      <th>...</th>\n",
       "      <th>Hypertension_(Y/N)</th>\n",
       "      <th>Testicular Atrophy_(Y/N)</th>\n",
       "      <th>Ovarian Dysfunction_(Y/N)</th>\n",
       "      <th>Hepatic_(Y/N)</th>\n",
       "      <th>Kidney_(Y/N)</th>\n",
       "      <th>Lung_(Y/N)</th>\n",
       "      <th>Bone_(Y/N)</th>\n",
       "      <th>Overweight_(Y/N)</th>\n",
       "      <th>Underweight_(Y/N)</th>\n",
       "      <th>Brain Lesion_(Y/N)</th>\n",
       "    </tr>\n",
       "  </thead>\n",
       "  <tbody>\n",
       "    <tr>\n",
       "      <th>0</th>\n",
       "      <td>1423</td>\n",
       "      <td>1.380822</td>\n",
       "      <td>0.00</td>\n",
       "      <td>NaN</td>\n",
       "      <td>NaN</td>\n",
       "      <td>9.947945</td>\n",
       "      <td>0</td>\n",
       "      <td>0</td>\n",
       "      <td>1</td>\n",
       "      <td>0</td>\n",
       "      <td>...</td>\n",
       "      <td>0</td>\n",
       "      <td>0</td>\n",
       "      <td>0</td>\n",
       "      <td>0</td>\n",
       "      <td>0</td>\n",
       "      <td>0</td>\n",
       "      <td>0</td>\n",
       "      <td>1</td>\n",
       "      <td>0</td>\n",
       "      <td>0</td>\n",
       "    </tr>\n",
       "    <tr>\n",
       "      <th>1</th>\n",
       "      <td>1484</td>\n",
       "      <td>11.868493</td>\n",
       "      <td>0.00</td>\n",
       "      <td>NaN</td>\n",
       "      <td>NaN</td>\n",
       "      <td>19.276712</td>\n",
       "      <td>1</td>\n",
       "      <td>0</td>\n",
       "      <td>1</td>\n",
       "      <td>1</td>\n",
       "      <td>...</td>\n",
       "      <td>0</td>\n",
       "      <td>0</td>\n",
       "      <td>0</td>\n",
       "      <td>0</td>\n",
       "      <td>0</td>\n",
       "      <td>1</td>\n",
       "      <td>0</td>\n",
       "      <td>1</td>\n",
       "      <td>0</td>\n",
       "      <td>0</td>\n",
       "    </tr>\n",
       "    <tr>\n",
       "      <th>2</th>\n",
       "      <td>1574</td>\n",
       "      <td>13.030137</td>\n",
       "      <td>7.55</td>\n",
       "      <td>52.9</td>\n",
       "      <td>13.358904</td>\n",
       "      <td>17.767123</td>\n",
       "      <td>0</td>\n",
       "      <td>0</td>\n",
       "      <td>0</td>\n",
       "      <td>1</td>\n",
       "      <td>...</td>\n",
       "      <td>0</td>\n",
       "      <td>0</td>\n",
       "      <td>0</td>\n",
       "      <td>0</td>\n",
       "      <td>1</td>\n",
       "      <td>0</td>\n",
       "      <td>0</td>\n",
       "      <td>0</td>\n",
       "      <td>0</td>\n",
       "      <td>1</td>\n",
       "    </tr>\n",
       "    <tr>\n",
       "      <th>3</th>\n",
       "      <td>1575</td>\n",
       "      <td>14.139726</td>\n",
       "      <td>7.85</td>\n",
       "      <td>40.2</td>\n",
       "      <td>14.372603</td>\n",
       "      <td>17.726027</td>\n",
       "      <td>0</td>\n",
       "      <td>0</td>\n",
       "      <td>1</td>\n",
       "      <td>1</td>\n",
       "      <td>...</td>\n",
       "      <td>1</td>\n",
       "      <td>1</td>\n",
       "      <td>0</td>\n",
       "      <td>0</td>\n",
       "      <td>1</td>\n",
       "      <td>1</td>\n",
       "      <td>0</td>\n",
       "      <td>0</td>\n",
       "      <td>0</td>\n",
       "      <td>1</td>\n",
       "    </tr>\n",
       "    <tr>\n",
       "      <th>4</th>\n",
       "      <td>1576</td>\n",
       "      <td>6.394521</td>\n",
       "      <td>8.05</td>\n",
       "      <td>51.4</td>\n",
       "      <td>6.723288</td>\n",
       "      <td>11.005479</td>\n",
       "      <td>0</td>\n",
       "      <td>0</td>\n",
       "      <td>1</td>\n",
       "      <td>0</td>\n",
       "      <td>...</td>\n",
       "      <td>0</td>\n",
       "      <td>1</td>\n",
       "      <td>0</td>\n",
       "      <td>0</td>\n",
       "      <td>0</td>\n",
       "      <td>0</td>\n",
       "      <td>0</td>\n",
       "      <td>1</td>\n",
       "      <td>0</td>\n",
       "      <td>0</td>\n",
       "    </tr>\n",
       "    <tr>\n",
       "      <th>5</th>\n",
       "      <td>1577</td>\n",
       "      <td>12.109589</td>\n",
       "      <td>7.55</td>\n",
       "      <td>37.0</td>\n",
       "      <td>12.438356</td>\n",
       "      <td>15.520548</td>\n",
       "      <td>0</td>\n",
       "      <td>1</td>\n",
       "      <td>1</td>\n",
       "      <td>1</td>\n",
       "      <td>...</td>\n",
       "      <td>1</td>\n",
       "      <td>1</td>\n",
       "      <td>0</td>\n",
       "      <td>0</td>\n",
       "      <td>1</td>\n",
       "      <td>0</td>\n",
       "      <td>0</td>\n",
       "      <td>1</td>\n",
       "      <td>0</td>\n",
       "      <td>1</td>\n",
       "    </tr>\n",
       "    <tr>\n",
       "      <th>6</th>\n",
       "      <td>1578</td>\n",
       "      <td>11.682192</td>\n",
       "      <td>7.20</td>\n",
       "      <td>39.4</td>\n",
       "      <td>12.010959</td>\n",
       "      <td>15.295890</td>\n",
       "      <td>0</td>\n",
       "      <td>0</td>\n",
       "      <td>1</td>\n",
       "      <td>1</td>\n",
       "      <td>...</td>\n",
       "      <td>0</td>\n",
       "      <td>1</td>\n",
       "      <td>0</td>\n",
       "      <td>0</td>\n",
       "      <td>0</td>\n",
       "      <td>0</td>\n",
       "      <td>0</td>\n",
       "      <td>0</td>\n",
       "      <td>1</td>\n",
       "      <td>0</td>\n",
       "    </tr>\n",
       "    <tr>\n",
       "      <th>7</th>\n",
       "      <td>1597</td>\n",
       "      <td>15.501370</td>\n",
       "      <td>8.40</td>\n",
       "      <td>52.9</td>\n",
       "      <td>15.868493</td>\n",
       "      <td>20.273973</td>\n",
       "      <td>1</td>\n",
       "      <td>0</td>\n",
       "      <td>1</td>\n",
       "      <td>0</td>\n",
       "      <td>...</td>\n",
       "      <td>1</td>\n",
       "      <td>1</td>\n",
       "      <td>0</td>\n",
       "      <td>0</td>\n",
       "      <td>1</td>\n",
       "      <td>1</td>\n",
       "      <td>0</td>\n",
       "      <td>0</td>\n",
       "      <td>0</td>\n",
       "      <td>1</td>\n",
       "    </tr>\n",
       "    <tr>\n",
       "      <th>8</th>\n",
       "      <td>1611</td>\n",
       "      <td>11.712329</td>\n",
       "      <td>7.55</td>\n",
       "      <td>46.4</td>\n",
       "      <td>12.090411</td>\n",
       "      <td>15.961644</td>\n",
       "      <td>0</td>\n",
       "      <td>0</td>\n",
       "      <td>0</td>\n",
       "      <td>0</td>\n",
       "      <td>...</td>\n",
       "      <td>1</td>\n",
       "      <td>1</td>\n",
       "      <td>0</td>\n",
       "      <td>0</td>\n",
       "      <td>1</td>\n",
       "      <td>1</td>\n",
       "      <td>0</td>\n",
       "      <td>0</td>\n",
       "      <td>0</td>\n",
       "      <td>0</td>\n",
       "    </tr>\n",
       "    <tr>\n",
       "      <th>9</th>\n",
       "      <td>1612</td>\n",
       "      <td>11.846575</td>\n",
       "      <td>6.75</td>\n",
       "      <td>84.2</td>\n",
       "      <td>12.147945</td>\n",
       "      <td>19.161644</td>\n",
       "      <td>0</td>\n",
       "      <td>1</td>\n",
       "      <td>0</td>\n",
       "      <td>1</td>\n",
       "      <td>...</td>\n",
       "      <td>1</td>\n",
       "      <td>1</td>\n",
       "      <td>0</td>\n",
       "      <td>1</td>\n",
       "      <td>1</td>\n",
       "      <td>1</td>\n",
       "      <td>0</td>\n",
       "      <td>1</td>\n",
       "      <td>0</td>\n",
       "      <td>0</td>\n",
       "    </tr>\n",
       "    <tr>\n",
       "      <th>10</th>\n",
       "      <td>1614</td>\n",
       "      <td>8.306849</td>\n",
       "      <td>6.75</td>\n",
       "      <td>36.6</td>\n",
       "      <td>8.684932</td>\n",
       "      <td>11.734247</td>\n",
       "      <td>0</td>\n",
       "      <td>0</td>\n",
       "      <td>1</td>\n",
       "      <td>1</td>\n",
       "      <td>...</td>\n",
       "      <td>0</td>\n",
       "      <td>0</td>\n",
       "      <td>0</td>\n",
       "      <td>0</td>\n",
       "      <td>0</td>\n",
       "      <td>1</td>\n",
       "      <td>0</td>\n",
       "      <td>0</td>\n",
       "      <td>1</td>\n",
       "      <td>0</td>\n",
       "    </tr>\n",
       "    <tr>\n",
       "      <th>11</th>\n",
       "      <td>1636</td>\n",
       "      <td>11.986301</td>\n",
       "      <td>6.50</td>\n",
       "      <td>91.6</td>\n",
       "      <td>14.139726</td>\n",
       "      <td>21.769863</td>\n",
       "      <td>0</td>\n",
       "      <td>1</td>\n",
       "      <td>1</td>\n",
       "      <td>1</td>\n",
       "      <td>...</td>\n",
       "      <td>0</td>\n",
       "      <td>0</td>\n",
       "      <td>0</td>\n",
       "      <td>0</td>\n",
       "      <td>0</td>\n",
       "      <td>0</td>\n",
       "      <td>0</td>\n",
       "      <td>1</td>\n",
       "      <td>0</td>\n",
       "      <td>0</td>\n",
       "    </tr>\n",
       "    <tr>\n",
       "      <th>12</th>\n",
       "      <td>1643</td>\n",
       "      <td>11.158904</td>\n",
       "      <td>7.20</td>\n",
       "      <td>35.9</td>\n",
       "      <td>11.594521</td>\n",
       "      <td>14.583562</td>\n",
       "      <td>0</td>\n",
       "      <td>1</td>\n",
       "      <td>1</td>\n",
       "      <td>1</td>\n",
       "      <td>...</td>\n",
       "      <td>0</td>\n",
       "      <td>1</td>\n",
       "      <td>0</td>\n",
       "      <td>1</td>\n",
       "      <td>1</td>\n",
       "      <td>0</td>\n",
       "      <td>0</td>\n",
       "      <td>1</td>\n",
       "      <td>0</td>\n",
       "      <td>0</td>\n",
       "    </tr>\n",
       "    <tr>\n",
       "      <th>13</th>\n",
       "      <td>1644</td>\n",
       "      <td>8.413699</td>\n",
       "      <td>6.75</td>\n",
       "      <td>51.2</td>\n",
       "      <td>8.791781</td>\n",
       "      <td>13.063014</td>\n",
       "      <td>0</td>\n",
       "      <td>1</td>\n",
       "      <td>0</td>\n",
       "      <td>1</td>\n",
       "      <td>...</td>\n",
       "      <td>0</td>\n",
       "      <td>1</td>\n",
       "      <td>0</td>\n",
       "      <td>0</td>\n",
       "      <td>0</td>\n",
       "      <td>0</td>\n",
       "      <td>0</td>\n",
       "      <td>1</td>\n",
       "      <td>0</td>\n",
       "      <td>0</td>\n",
       "    </tr>\n",
       "    <tr>\n",
       "      <th>14</th>\n",
       "      <td>1646</td>\n",
       "      <td>11.558904</td>\n",
       "      <td>8.05</td>\n",
       "      <td>39.1</td>\n",
       "      <td>12.071233</td>\n",
       "      <td>15.331507</td>\n",
       "      <td>0</td>\n",
       "      <td>1</td>\n",
       "      <td>1</td>\n",
       "      <td>1</td>\n",
       "      <td>...</td>\n",
       "      <td>0</td>\n",
       "      <td>1</td>\n",
       "      <td>0</td>\n",
       "      <td>0</td>\n",
       "      <td>1</td>\n",
       "      <td>0</td>\n",
       "      <td>0</td>\n",
       "      <td>1</td>\n",
       "      <td>0</td>\n",
       "      <td>0</td>\n",
       "    </tr>\n",
       "  </tbody>\n",
       "</table>\n",
       "<p>15 rows × 25 columns</p>\n",
       "</div>"
      ],
      "text/plain": [
       "      ID  Time_Under_Observation_(yrs)  Dose_(Gy)  Irrad_Age_(months)  \\\n",
       "0   1423                      1.380822       0.00                 NaN   \n",
       "1   1484                     11.868493       0.00                 NaN   \n",
       "2   1574                     13.030137       7.55                52.9   \n",
       "3   1575                     14.139726       7.85                40.2   \n",
       "4   1576                      6.394521       8.05                51.4   \n",
       "5   1577                     12.109589       7.55                37.0   \n",
       "6   1578                     11.682192       7.20                39.4   \n",
       "7   1597                     15.501370       8.40                52.9   \n",
       "8   1611                     11.712329       7.55                46.4   \n",
       "9   1612                     11.846575       6.75                84.2   \n",
       "10  1614                      8.306849       6.75                36.6   \n",
       "11  1636                     11.986301       6.50                91.6   \n",
       "12  1643                     11.158904       7.20                35.9   \n",
       "13  1644                      8.413699       6.75                51.2   \n",
       "14  1646                     11.558904       8.05                39.1   \n",
       "\n",
       "    Years_Since_Irrad  Current_Age_(years)  Animal_Status  Diabetes_(Y/N)  \\\n",
       "0                 NaN             9.947945              0               0   \n",
       "1                 NaN            19.276712              1               0   \n",
       "2           13.358904            17.767123              0               0   \n",
       "3           14.372603            17.726027              0               0   \n",
       "4            6.723288            11.005479              0               0   \n",
       "5           12.438356            15.520548              0               1   \n",
       "6           12.010959            15.295890              0               0   \n",
       "7           15.868493            20.273973              1               0   \n",
       "8           12.090411            15.961644              0               0   \n",
       "9           12.147945            19.161644              0               1   \n",
       "10           8.684932            11.734247              0               0   \n",
       "11          14.139726            21.769863              0               1   \n",
       "12          11.594521            14.583562              0               1   \n",
       "13           8.791781            13.063014              0               1   \n",
       "14          12.071233            15.331507              0               1   \n",
       "\n",
       "    Cataracts_(Y/N)  Arthritis_(Y/N)  ...  Hypertension_(Y/N)  \\\n",
       "0                 1                0  ...                   0   \n",
       "1                 1                1  ...                   0   \n",
       "2                 0                1  ...                   0   \n",
       "3                 1                1  ...                   1   \n",
       "4                 1                0  ...                   0   \n",
       "5                 1                1  ...                   1   \n",
       "6                 1                1  ...                   0   \n",
       "7                 1                0  ...                   1   \n",
       "8                 0                0  ...                   1   \n",
       "9                 0                1  ...                   1   \n",
       "10                1                1  ...                   0   \n",
       "11                1                1  ...                   0   \n",
       "12                1                1  ...                   0   \n",
       "13                0                1  ...                   0   \n",
       "14                1                1  ...                   0   \n",
       "\n",
       "    Testicular Atrophy_(Y/N)  Ovarian Dysfunction_(Y/N)  Hepatic_(Y/N)  \\\n",
       "0                          0                          0              0   \n",
       "1                          0                          0              0   \n",
       "2                          0                          0              0   \n",
       "3                          1                          0              0   \n",
       "4                          1                          0              0   \n",
       "5                          1                          0              0   \n",
       "6                          1                          0              0   \n",
       "7                          1                          0              0   \n",
       "8                          1                          0              0   \n",
       "9                          1                          0              1   \n",
       "10                         0                          0              0   \n",
       "11                         0                          0              0   \n",
       "12                         1                          0              1   \n",
       "13                         1                          0              0   \n",
       "14                         1                          0              0   \n",
       "\n",
       "    Kidney_(Y/N)  Lung_(Y/N)  Bone_(Y/N)  Overweight_(Y/N)  Underweight_(Y/N)  \\\n",
       "0              0           0           0                 1                  0   \n",
       "1              0           1           0                 1                  0   \n",
       "2              1           0           0                 0                  0   \n",
       "3              1           1           0                 0                  0   \n",
       "4              0           0           0                 1                  0   \n",
       "5              1           0           0                 1                  0   \n",
       "6              0           0           0                 0                  1   \n",
       "7              1           1           0                 0                  0   \n",
       "8              1           1           0                 0                  0   \n",
       "9              1           1           0                 1                  0   \n",
       "10             0           1           0                 0                  1   \n",
       "11             0           0           0                 1                  0   \n",
       "12             1           0           0                 1                  0   \n",
       "13             0           0           0                 1                  0   \n",
       "14             1           0           0                 1                  0   \n",
       "\n",
       "    Brain Lesion_(Y/N)  \n",
       "0                    0  \n",
       "1                    0  \n",
       "2                    1  \n",
       "3                    1  \n",
       "4                    0  \n",
       "5                    1  \n",
       "6                    0  \n",
       "7                    1  \n",
       "8                    0  \n",
       "9                    0  \n",
       "10                   0  \n",
       "11                   0  \n",
       "12                   0  \n",
       "13                   0  \n",
       "14                   0  \n",
       "\n",
       "[15 rows x 25 columns]"
      ]
     },
     "execution_count": 92,
     "metadata": {},
     "output_type": "execute_result"
    }
   ],
   "source": [
    "# Make a df of the binary health data of the monkeys\n",
    "minhealth_monkey_df = pd.read_excel('../Documents/demographic_data_r2.xlsx',\n",
    "                    sheet_name=2,\n",
    "                    skiprows = 0,\n",
    "                    #usecols = ,\n",
    "                    engine = 'openpyxl',\n",
    "                    date_parser=parser\n",
    "                         )\n",
    "\n",
    "minhealth_monkey_df['Animal_Status'] = minhealth_monkey_df['Animal_Status'].map({'LIVING':1, 'DECEASED': 0})\n",
    "minhealth_monkey_df.head(15)"
   ]
  },
  {
   "cell_type": "code",
   "execution_count": 93,
   "id": "5a6a6a40-2f5a-47c6-8a7a-d4e4a46876dd",
   "metadata": {
    "tags": []
   },
   "outputs": [
    {
     "name": "stderr",
     "output_type": "stream",
     "text": [
      "Cannot parse header or footer so it will be ignored\n"
     ]
    },
    {
     "data": {
      "text/html": [
       "<div>\n",
       "<style scoped>\n",
       "    .dataframe tbody tr th:only-of-type {\n",
       "        vertical-align: middle;\n",
       "    }\n",
       "\n",
       "    .dataframe tbody tr th {\n",
       "        vertical-align: top;\n",
       "    }\n",
       "\n",
       "    .dataframe thead th {\n",
       "        text-align: right;\n",
       "    }\n",
       "</style>\n",
       "<table border=\"1\" class=\"dataframe\">\n",
       "  <thead>\n",
       "    <tr style=\"text-align: right;\">\n",
       "      <th></th>\n",
       "      <th>ID</th>\n",
       "      <th>Species</th>\n",
       "      <th>SAMPLE_DATE</th>\n",
       "      <th>IRRAD</th>\n",
       "      <th>IRRAD_DATE</th>\n",
       "      <th>DOB</th>\n",
       "      <th>SEX</th>\n",
       "      <th>TYPE</th>\n",
       "      <th>DAYS_SINCE_IRRAD</th>\n",
       "      <th>MONTHS_SINCE_IRRAD</th>\n",
       "      <th>...</th>\n",
       "      <th>LYMPHOCYTES_(%)</th>\n",
       "      <th>MONO_(%)</th>\n",
       "      <th>EOS_(%)</th>\n",
       "      <th>BASO_(%)</th>\n",
       "      <th>ABS_NEUT_(/uL)</th>\n",
       "      <th>ABS_LYMPH_(/uL)</th>\n",
       "      <th>ABS_MONO_(/uL)</th>\n",
       "      <th>ABS_EOS_(/uL)</th>\n",
       "      <th>ABS_BASO_(/uL)</th>\n",
       "      <th>PLATLET_COUNT_(K/uL)</th>\n",
       "    </tr>\n",
       "  </thead>\n",
       "  <tbody>\n",
       "    <tr>\n",
       "      <th>4547</th>\n",
       "      <td>2112</td>\n",
       "      <td>Rhesus-Chinese</td>\n",
       "      <td>2020-09-23</td>\n",
       "      <td>No</td>\n",
       "      <td>NaT</td>\n",
       "      <td>1999-09-28</td>\n",
       "      <td>M</td>\n",
       "      <td>Research</td>\n",
       "      <td>NaN</td>\n",
       "      <td>NaN</td>\n",
       "      <td>...</td>\n",
       "      <td>67.0</td>\n",
       "      <td>6.2</td>\n",
       "      <td>1.1</td>\n",
       "      <td>0.0</td>\n",
       "      <td>1696</td>\n",
       "      <td>4422</td>\n",
       "      <td>409</td>\n",
       "      <td>73</td>\n",
       "      <td>0</td>\n",
       "      <td>289</td>\n",
       "    </tr>\n",
       "    <tr>\n",
       "      <th>4548</th>\n",
       "      <td>2112</td>\n",
       "      <td>Rhesus-Chinese</td>\n",
       "      <td>2021-03-04</td>\n",
       "      <td>No</td>\n",
       "      <td>NaT</td>\n",
       "      <td>1999-09-28</td>\n",
       "      <td>M</td>\n",
       "      <td>Research</td>\n",
       "      <td>NaN</td>\n",
       "      <td>NaN</td>\n",
       "      <td>...</td>\n",
       "      <td>56.1</td>\n",
       "      <td>9.1</td>\n",
       "      <td>1.5</td>\n",
       "      <td>0.0</td>\n",
       "      <td>1312</td>\n",
       "      <td>2210</td>\n",
       "      <td>359</td>\n",
       "      <td>59</td>\n",
       "      <td>0</td>\n",
       "      <td>284</td>\n",
       "    </tr>\n",
       "    <tr>\n",
       "      <th>4549</th>\n",
       "      <td>2210</td>\n",
       "      <td>Rhesus-Indian</td>\n",
       "      <td>2021-09-07</td>\n",
       "      <td>No</td>\n",
       "      <td>NaT</td>\n",
       "      <td>1999-01-01</td>\n",
       "      <td>F</td>\n",
       "      <td>Research</td>\n",
       "      <td>NaN</td>\n",
       "      <td>NaN</td>\n",
       "      <td>...</td>\n",
       "      <td>26.8</td>\n",
       "      <td>12.3</td>\n",
       "      <td>1.2</td>\n",
       "      <td>0.0</td>\n",
       "      <td>3104</td>\n",
       "      <td>1394</td>\n",
       "      <td>640</td>\n",
       "      <td>62</td>\n",
       "      <td>0</td>\n",
       "      <td>311</td>\n",
       "    </tr>\n",
       "    <tr>\n",
       "      <th>4550</th>\n",
       "      <td>2210</td>\n",
       "      <td>Rhesus-Indian</td>\n",
       "      <td>2021-09-20</td>\n",
       "      <td>No</td>\n",
       "      <td>NaT</td>\n",
       "      <td>1999-01-01</td>\n",
       "      <td>F</td>\n",
       "      <td>Research</td>\n",
       "      <td>NaN</td>\n",
       "      <td>NaN</td>\n",
       "      <td>...</td>\n",
       "      <td>36.2</td>\n",
       "      <td>10.9</td>\n",
       "      <td>1.7</td>\n",
       "      <td>0.0</td>\n",
       "      <td>2970</td>\n",
       "      <td>2100</td>\n",
       "      <td>632</td>\n",
       "      <td>99</td>\n",
       "      <td>0</td>\n",
       "      <td>348</td>\n",
       "    </tr>\n",
       "    <tr>\n",
       "      <th>4551</th>\n",
       "      <td>2210</td>\n",
       "      <td>Rhesus-Indian</td>\n",
       "      <td>2021-10-07</td>\n",
       "      <td>No</td>\n",
       "      <td>NaT</td>\n",
       "      <td>1999-01-01</td>\n",
       "      <td>F</td>\n",
       "      <td>Research</td>\n",
       "      <td>NaN</td>\n",
       "      <td>NaN</td>\n",
       "      <td>...</td>\n",
       "      <td>16.0</td>\n",
       "      <td>21.0</td>\n",
       "      <td>3.0</td>\n",
       "      <td>0.0</td>\n",
       "      <td>3360</td>\n",
       "      <td>896</td>\n",
       "      <td>1176</td>\n",
       "      <td>168</td>\n",
       "      <td>0</td>\n",
       "      <td>329</td>\n",
       "    </tr>\n",
       "  </tbody>\n",
       "</table>\n",
       "<p>5 rows × 31 columns</p>\n",
       "</div>"
      ],
      "text/plain": [
       "        ID         Species SAMPLE_DATE IRRAD IRRAD_DATE        DOB SEX  \\\n",
       "4547  2112  Rhesus-Chinese  2020-09-23    No        NaT 1999-09-28   M   \n",
       "4548  2112  Rhesus-Chinese  2021-03-04    No        NaT 1999-09-28   M   \n",
       "4549  2210   Rhesus-Indian  2021-09-07    No        NaT 1999-01-01   F   \n",
       "4550  2210   Rhesus-Indian  2021-09-20    No        NaT 1999-01-01   F   \n",
       "4551  2210   Rhesus-Indian  2021-10-07    No        NaT 1999-01-01   F   \n",
       "\n",
       "          TYPE  DAYS_SINCE_IRRAD  MONTHS_SINCE_IRRAD  ...  LYMPHOCYTES_(%)  \\\n",
       "4547  Research               NaN                 NaN  ...             67.0   \n",
       "4548  Research               NaN                 NaN  ...             56.1   \n",
       "4549  Research               NaN                 NaN  ...             26.8   \n",
       "4550  Research               NaN                 NaN  ...             36.2   \n",
       "4551  Research               NaN                 NaN  ...             16.0   \n",
       "\n",
       "      MONO_(%)  EOS_(%)  BASO_(%)  ABS_NEUT_(/uL)  ABS_LYMPH_(/uL)  \\\n",
       "4547       6.2      1.1       0.0            1696             4422   \n",
       "4548       9.1      1.5       0.0            1312             2210   \n",
       "4549      12.3      1.2       0.0            3104             1394   \n",
       "4550      10.9      1.7       0.0            2970             2100   \n",
       "4551      21.0      3.0       0.0            3360              896   \n",
       "\n",
       "      ABS_MONO_(/uL)  ABS_EOS_(/uL)  ABS_BASO_(/uL)  PLATLET_COUNT_(K/uL)  \n",
       "4547             409             73               0                   289  \n",
       "4548             359             59               0                   284  \n",
       "4549             640             62               0                   311  \n",
       "4550             632             99               0                   348  \n",
       "4551            1176            168               0                   329  \n",
       "\n",
       "[5 rows x 31 columns]"
      ]
     },
     "execution_count": 93,
     "metadata": {},
     "output_type": "execute_result"
    }
   ],
   "source": [
    "#Makee a df for the blood analytic data\n",
    "minbio_monkey_df = pd.read_excel('../Documents/full_monkey_data_r2.xlsx',\n",
    "                    #sheet_name=1,\n",
    "                    skiprows = 0,\n",
    "                    usecols = ['ID', 'Species', 'SAMPLE_DATE', 'IRRAD', 'IRRAD_DATE', 'DOB', 'SEX',\n",
    "       'TYPE', 'DAYS_SINCE_IRRAD', 'MONTHS_SINCE_IRRAD', 'MONTHS AT IRRAD',\n",
    "       'DOSE_(Gy)', 'AGE', 'WBC_(K/uL)', 'RBC_(M/uL)', 'Hemaglobin_(HGB_g/dL)',\n",
    "       'Hemocrit_(HCT_%)', 'Mean_corpuscular_volume_(MCV_fL)',\n",
    "       'Mean_corpuscular_hemaglobin_(MCH_pg)',\n",
    "       'Mean_corpuscular_hemaglobin_concentration_(MCHC_g/dL)', 'NEUT_(%)',\n",
    "       'LYMPHOCYTES_(%)', 'MONO_(%)', 'EOS_(%)', 'BASO_(%)', 'ABS_NEUT_(/uL)',\n",
    "       'ABS_LYMPH_(/uL)', 'ABS_MONO_(/uL)', 'ABS_EOS_(/uL)', 'ABS_BASO_(/uL)',\n",
    "       'PLATLET_COUNT_(K/uL)'],\n",
    "                    engine = 'openpyxl',\n",
    "                    date_parser=parser\n",
    "                         )\n",
    "\n",
    "#Set the index to the monkey ID and make the labels not read as integers\n",
    "minbio_monkey_df.set_index(['ID'])\n",
    "minbio_monkey_df['ID'] = minbio_monkey_df['ID'].astype(str)\n",
    "\n",
    "#minbio_monkey_df.dropna(axis=0, inplace=True) \n",
    "\n",
    "#minbio_monkey_df.columns\n",
    "minbio_monkey_df.tail()\n"
   ]
  },
  {
   "cell_type": "code",
   "execution_count": 94,
   "id": "af2ac7a2-a5eb-4b4d-a99c-aad18d3d111d",
   "metadata": {
    "tags": []
   },
   "outputs": [
    {
     "name": "stderr",
     "output_type": "stream",
     "text": [
      "Cannot parse header or footer so it will be ignored\n"
     ]
    },
    {
     "data": {
      "text/html": [
       "<div>\n",
       "<style scoped>\n",
       "    .dataframe tbody tr th:only-of-type {\n",
       "        vertical-align: middle;\n",
       "    }\n",
       "\n",
       "    .dataframe tbody tr th {\n",
       "        vertical-align: top;\n",
       "    }\n",
       "\n",
       "    .dataframe thead th {\n",
       "        text-align: right;\n",
       "    }\n",
       "</style>\n",
       "<table border=\"1\" class=\"dataframe\">\n",
       "  <thead>\n",
       "    <tr style=\"text-align: right;\">\n",
       "      <th></th>\n",
       "      <th>ID</th>\n",
       "      <th>Species</th>\n",
       "      <th>SAMPLE_DATE</th>\n",
       "      <th>IRRAD</th>\n",
       "      <th>IRRAD_DATE</th>\n",
       "      <th>DOB</th>\n",
       "      <th>SEX</th>\n",
       "      <th>TYPE</th>\n",
       "      <th>DAYS_SINCE_IRRAD</th>\n",
       "      <th>MONTHS_SINCE_IRRAD</th>\n",
       "      <th>...</th>\n",
       "      <th>LYMPHOCYTES_(%)</th>\n",
       "      <th>MONO_(%)</th>\n",
       "      <th>EOS_(%)</th>\n",
       "      <th>BASO_(%)</th>\n",
       "      <th>ABS_NEUT_(/uL)</th>\n",
       "      <th>ABS_LYMPH_(/uL)</th>\n",
       "      <th>ABS_MONO_(/uL)</th>\n",
       "      <th>ABS_EOS_(/uL)</th>\n",
       "      <th>ABS_BASO_(/uL)</th>\n",
       "      <th>PLATLET_COUNT_(K/uL)</th>\n",
       "    </tr>\n",
       "  </thead>\n",
       "  <tbody>\n",
       "    <tr>\n",
       "      <th>4529</th>\n",
       "      <td>2112</td>\n",
       "      <td>Rhesus-Chinese</td>\n",
       "      <td>2020-09-23 00:00:00</td>\n",
       "      <td>No</td>\n",
       "      <td>NaT</td>\n",
       "      <td>1999-09-28</td>\n",
       "      <td>M</td>\n",
       "      <td>Research</td>\n",
       "      <td>NaN</td>\n",
       "      <td>NaN</td>\n",
       "      <td>...</td>\n",
       "      <td>67.0</td>\n",
       "      <td>6.2</td>\n",
       "      <td>1.1</td>\n",
       "      <td>0.0</td>\n",
       "      <td>1696</td>\n",
       "      <td>4422</td>\n",
       "      <td>409</td>\n",
       "      <td>73</td>\n",
       "      <td>0</td>\n",
       "      <td>289</td>\n",
       "    </tr>\n",
       "    <tr>\n",
       "      <th>4530</th>\n",
       "      <td>2112</td>\n",
       "      <td>Rhesus-Chinese</td>\n",
       "      <td>2021-03-04 00:00:00</td>\n",
       "      <td>No</td>\n",
       "      <td>NaT</td>\n",
       "      <td>1999-09-28</td>\n",
       "      <td>M</td>\n",
       "      <td>Research</td>\n",
       "      <td>NaN</td>\n",
       "      <td>NaN</td>\n",
       "      <td>...</td>\n",
       "      <td>56.1</td>\n",
       "      <td>9.1</td>\n",
       "      <td>1.5</td>\n",
       "      <td>0.0</td>\n",
       "      <td>1312</td>\n",
       "      <td>2210</td>\n",
       "      <td>359</td>\n",
       "      <td>59</td>\n",
       "      <td>0</td>\n",
       "      <td>284</td>\n",
       "    </tr>\n",
       "    <tr>\n",
       "      <th>4531</th>\n",
       "      <td>2210</td>\n",
       "      <td>Rhesus-Indian</td>\n",
       "      <td>2021-09-07 00:00:00</td>\n",
       "      <td>No</td>\n",
       "      <td>NaT</td>\n",
       "      <td>1999-01-01</td>\n",
       "      <td>F</td>\n",
       "      <td>Research</td>\n",
       "      <td>NaN</td>\n",
       "      <td>NaN</td>\n",
       "      <td>...</td>\n",
       "      <td>26.8</td>\n",
       "      <td>12.3</td>\n",
       "      <td>1.2</td>\n",
       "      <td>0.0</td>\n",
       "      <td>3104</td>\n",
       "      <td>1394</td>\n",
       "      <td>640</td>\n",
       "      <td>62</td>\n",
       "      <td>0</td>\n",
       "      <td>311</td>\n",
       "    </tr>\n",
       "    <tr>\n",
       "      <th>4532</th>\n",
       "      <td>2210</td>\n",
       "      <td>Rhesus-Indian</td>\n",
       "      <td>2021-09-20 00:00:00</td>\n",
       "      <td>No</td>\n",
       "      <td>NaT</td>\n",
       "      <td>1999-01-01</td>\n",
       "      <td>F</td>\n",
       "      <td>Research</td>\n",
       "      <td>NaN</td>\n",
       "      <td>NaN</td>\n",
       "      <td>...</td>\n",
       "      <td>36.2</td>\n",
       "      <td>10.9</td>\n",
       "      <td>1.7</td>\n",
       "      <td>0.0</td>\n",
       "      <td>2970</td>\n",
       "      <td>2100</td>\n",
       "      <td>632</td>\n",
       "      <td>99</td>\n",
       "      <td>0</td>\n",
       "      <td>348</td>\n",
       "    </tr>\n",
       "    <tr>\n",
       "      <th>4533</th>\n",
       "      <td>2210</td>\n",
       "      <td>Rhesus-Indian</td>\n",
       "      <td>2021-10-07 00:00:00</td>\n",
       "      <td>No</td>\n",
       "      <td>NaT</td>\n",
       "      <td>1999-01-01</td>\n",
       "      <td>F</td>\n",
       "      <td>Research</td>\n",
       "      <td>NaN</td>\n",
       "      <td>NaN</td>\n",
       "      <td>...</td>\n",
       "      <td>16.0</td>\n",
       "      <td>21.0</td>\n",
       "      <td>3.0</td>\n",
       "      <td>0.0</td>\n",
       "      <td>3360</td>\n",
       "      <td>896</td>\n",
       "      <td>1176</td>\n",
       "      <td>168</td>\n",
       "      <td>0</td>\n",
       "      <td>329</td>\n",
       "    </tr>\n",
       "  </tbody>\n",
       "</table>\n",
       "<p>5 rows × 31 columns</p>\n",
       "</div>"
      ],
      "text/plain": [
       "        ID         Species          SAMPLE_DATE IRRAD IRRAD_DATE        DOB  \\\n",
       "4529  2112  Rhesus-Chinese  2020-09-23 00:00:00    No        NaT 1999-09-28   \n",
       "4530  2112  Rhesus-Chinese  2021-03-04 00:00:00    No        NaT 1999-09-28   \n",
       "4531  2210   Rhesus-Indian  2021-09-07 00:00:00    No        NaT 1999-01-01   \n",
       "4532  2210   Rhesus-Indian  2021-09-20 00:00:00    No        NaT 1999-01-01   \n",
       "4533  2210   Rhesus-Indian  2021-10-07 00:00:00    No        NaT 1999-01-01   \n",
       "\n",
       "     SEX      TYPE  DAYS_SINCE_IRRAD  MONTHS_SINCE_IRRAD  ...  \\\n",
       "4529   M  Research               NaN                 NaN  ...   \n",
       "4530   M  Research               NaN                 NaN  ...   \n",
       "4531   F  Research               NaN                 NaN  ...   \n",
       "4532   F  Research               NaN                 NaN  ...   \n",
       "4533   F  Research               NaN                 NaN  ...   \n",
       "\n",
       "      LYMPHOCYTES_(%)  MONO_(%)  EOS_(%)  BASO_(%)  ABS_NEUT_(/uL)  \\\n",
       "4529             67.0       6.2      1.1       0.0            1696   \n",
       "4530             56.1       9.1      1.5       0.0            1312   \n",
       "4531             26.8      12.3      1.2       0.0            3104   \n",
       "4532             36.2      10.9      1.7       0.0            2970   \n",
       "4533             16.0      21.0      3.0       0.0            3360   \n",
       "\n",
       "      ABS_LYMPH_(/uL)  ABS_MONO_(/uL)  ABS_EOS_(/uL)  ABS_BASO_(/uL)  \\\n",
       "4529             4422             409             73               0   \n",
       "4530             2210             359             59               0   \n",
       "4531             1394             640             62               0   \n",
       "4532             2100             632             99               0   \n",
       "4533              896            1176            168               0   \n",
       "\n",
       "      PLATLET_COUNT_(K/uL)  \n",
       "4529                   289  \n",
       "4530                   284  \n",
       "4531                   311  \n",
       "4532                   348  \n",
       "4533                   329  \n",
       "\n",
       "[5 rows x 31 columns]"
      ]
     },
     "execution_count": 94,
     "metadata": {},
     "output_type": "execute_result"
    }
   ],
   "source": [
    "#Makee a df were there is one monkey's data missing (the same in the single_monkey_df)\n",
    "oneless_df = pd.read_excel('../Documents/full_monkey_data_r2.xlsx',\n",
    "                    sheet_name=1,\n",
    "                    skiprows = 0,\n",
    "                    usecols = ['ID', 'Species', 'SAMPLE_DATE', 'IRRAD', 'IRRAD_DATE', 'DOB', 'SEX',\n",
    "       'TYPE', 'DAYS_SINCE_IRRAD', 'MONTHS_SINCE_IRRAD', 'MONTHS AT IRRAD',\n",
    "       'DOSE_(Gy)', 'AGE', 'WBC_(K/uL)', 'RBC_(M/uL)', 'Hemaglobin_(HGB_g/dL)',\n",
    "       'Hemocrit_(HCT_%)', 'Mean_corpuscular_volume_(MCV_fL)',\n",
    "       'Mean_corpuscular_hemaglobin_(MCH_pg)',\n",
    "       'Mean_corpuscular_hemaglobin_concentration_(MCHC_g/dL)', 'NEUT_(%)',\n",
    "       'LYMPHOCYTES_(%)', 'MONO_(%)', 'EOS_(%)', 'BASO_(%)', 'ABS_NEUT_(/uL)',\n",
    "       'ABS_LYMPH_(/uL)', 'ABS_MONO_(/uL)', 'ABS_EOS_(/uL)', 'ABS_BASO_(/uL)',\n",
    "       'PLATLET_COUNT_(K/uL)'],\n",
    "                    engine = 'openpyxl',\n",
    "                    date_parser=parser\n",
    "                         )\n",
    "\n",
    "#Set the index to the monkey ID and make the labels not read as integers\n",
    "oneless_df.set_index(['ID'])\n",
    "\n",
    "oneless_df['ID'] = oneless_df['ID'].astype(str)\n",
    "\n",
    "#oneless_dff.dropna(axis=0, inplace=True) \n",
    "\n",
    "#oneless_df.columns\n",
    "oneless_df.tail()"
   ]
  },
  {
   "cell_type": "code",
   "execution_count": 95,
   "id": "9d8edfdb-bdad-46cd-8190-4074b8284891",
   "metadata": {
    "tags": []
   },
   "outputs": [
    {
     "data": {
      "text/html": [
       "<div>\n",
       "<style scoped>\n",
       "    .dataframe tbody tr th:only-of-type {\n",
       "        vertical-align: middle;\n",
       "    }\n",
       "\n",
       "    .dataframe tbody tr th {\n",
       "        vertical-align: top;\n",
       "    }\n",
       "\n",
       "    .dataframe thead th {\n",
       "        text-align: right;\n",
       "    }\n",
       "</style>\n",
       "<table border=\"1\" class=\"dataframe\">\n",
       "  <thead>\n",
       "    <tr style=\"text-align: right;\">\n",
       "      <th></th>\n",
       "      <th>ID</th>\n",
       "      <th>Species</th>\n",
       "      <th>SAMPLE_DATE</th>\n",
       "      <th>IRRAD</th>\n",
       "      <th>IRRAD_DATE</th>\n",
       "      <th>DOB</th>\n",
       "      <th>SEX</th>\n",
       "      <th>TYPE</th>\n",
       "      <th>DAYS_SINCE_IRRAD</th>\n",
       "      <th>MONTHS_SINCE_IRRAD</th>\n",
       "      <th>...</th>\n",
       "      <th>LYMPHOCYTES_(%)</th>\n",
       "      <th>MONO_(%)</th>\n",
       "      <th>EOS_(%)</th>\n",
       "      <th>BASO_(%)</th>\n",
       "      <th>ABS_NEUT_(/uL)</th>\n",
       "      <th>ABS_LYMPH_(/uL)</th>\n",
       "      <th>ABS_MONO_(/uL)</th>\n",
       "      <th>ABS_EOS_(/uL)</th>\n",
       "      <th>ABS_BASO_(/uL)</th>\n",
       "      <th>PLATLET_COUNT_(K/uL)</th>\n",
       "    </tr>\n",
       "  </thead>\n",
       "  <tbody>\n",
       "    <tr>\n",
       "      <th>33</th>\n",
       "      <td>2046</td>\n",
       "      <td>Rhesus-Chinese</td>\n",
       "      <td>2017-11-02</td>\n",
       "      <td>Yes</td>\n",
       "      <td>2014-04-09</td>\n",
       "      <td>2007-07-03</td>\n",
       "      <td>F</td>\n",
       "      <td>Clinical</td>\n",
       "      <td>1303.0</td>\n",
       "      <td>43.0</td>\n",
       "      <td>...</td>\n",
       "      <td>44.6</td>\n",
       "      <td>5.5</td>\n",
       "      <td>0.5</td>\n",
       "      <td>0.0</td>\n",
       "      <td>1877</td>\n",
       "      <td>1695</td>\n",
       "      <td>209</td>\n",
       "      <td>19</td>\n",
       "      <td>0</td>\n",
       "      <td>276</td>\n",
       "    </tr>\n",
       "    <tr>\n",
       "      <th>34</th>\n",
       "      <td>2046</td>\n",
       "      <td>Rhesus-Chinese</td>\n",
       "      <td>2017-12-13</td>\n",
       "      <td>Yes</td>\n",
       "      <td>2014-04-09</td>\n",
       "      <td>2007-07-03</td>\n",
       "      <td>F</td>\n",
       "      <td>Clinical</td>\n",
       "      <td>1344.0</td>\n",
       "      <td>44.0</td>\n",
       "      <td>...</td>\n",
       "      <td>40.5</td>\n",
       "      <td>7.4</td>\n",
       "      <td>0.0</td>\n",
       "      <td>0.0</td>\n",
       "      <td>3647</td>\n",
       "      <td>2835</td>\n",
       "      <td>518</td>\n",
       "      <td>0</td>\n",
       "      <td>0</td>\n",
       "      <td>386</td>\n",
       "    </tr>\n",
       "    <tr>\n",
       "      <th>35</th>\n",
       "      <td>2046</td>\n",
       "      <td>Rhesus-Chinese</td>\n",
       "      <td>2018-01-02</td>\n",
       "      <td>Yes</td>\n",
       "      <td>2014-04-09</td>\n",
       "      <td>2007-07-03</td>\n",
       "      <td>F</td>\n",
       "      <td>Research</td>\n",
       "      <td>1364.0</td>\n",
       "      <td>45.0</td>\n",
       "      <td>...</td>\n",
       "      <td>39.9</td>\n",
       "      <td>6.0</td>\n",
       "      <td>0.3</td>\n",
       "      <td>0.3</td>\n",
       "      <td>2140</td>\n",
       "      <td>1596</td>\n",
       "      <td>240</td>\n",
       "      <td>12</td>\n",
       "      <td>12</td>\n",
       "      <td>309</td>\n",
       "    </tr>\n",
       "    <tr>\n",
       "      <th>36</th>\n",
       "      <td>2046</td>\n",
       "      <td>Rhesus-Chinese</td>\n",
       "      <td>2018-01-31</td>\n",
       "      <td>Yes</td>\n",
       "      <td>2014-04-09</td>\n",
       "      <td>2007-07-03</td>\n",
       "      <td>F</td>\n",
       "      <td>Research</td>\n",
       "      <td>1393.0</td>\n",
       "      <td>46.0</td>\n",
       "      <td>...</td>\n",
       "      <td>46.8</td>\n",
       "      <td>5.6</td>\n",
       "      <td>0.5</td>\n",
       "      <td>0.0</td>\n",
       "      <td>2025</td>\n",
       "      <td>2012</td>\n",
       "      <td>241</td>\n",
       "      <td>22</td>\n",
       "      <td>0</td>\n",
       "      <td>275</td>\n",
       "    </tr>\n",
       "    <tr>\n",
       "      <th>37</th>\n",
       "      <td>2046</td>\n",
       "      <td>Rhesus-Chinese</td>\n",
       "      <td>2018-04-05</td>\n",
       "      <td>Yes</td>\n",
       "      <td>2014-04-09</td>\n",
       "      <td>2007-07-03</td>\n",
       "      <td>F</td>\n",
       "      <td>Research</td>\n",
       "      <td>1457.0</td>\n",
       "      <td>48.0</td>\n",
       "      <td>...</td>\n",
       "      <td>22.8</td>\n",
       "      <td>5.8</td>\n",
       "      <td>0.1</td>\n",
       "      <td>0.1</td>\n",
       "      <td>6123</td>\n",
       "      <td>1961</td>\n",
       "      <td>499</td>\n",
       "      <td>9</td>\n",
       "      <td>9</td>\n",
       "      <td>325</td>\n",
       "    </tr>\n",
       "  </tbody>\n",
       "</table>\n",
       "<p>5 rows × 31 columns</p>\n",
       "</div>"
      ],
      "text/plain": [
       "      ID         Species SAMPLE_DATE IRRAD IRRAD_DATE        DOB SEX  \\\n",
       "33  2046  Rhesus-Chinese  2017-11-02   Yes 2014-04-09 2007-07-03   F   \n",
       "34  2046  Rhesus-Chinese  2017-12-13   Yes 2014-04-09 2007-07-03   F   \n",
       "35  2046  Rhesus-Chinese  2018-01-02   Yes 2014-04-09 2007-07-03   F   \n",
       "36  2046  Rhesus-Chinese  2018-01-31   Yes 2014-04-09 2007-07-03   F   \n",
       "37  2046  Rhesus-Chinese  2018-04-05   Yes 2014-04-09 2007-07-03   F   \n",
       "\n",
       "        TYPE  DAYS_SINCE_IRRAD  MONTHS_SINCE_IRRAD  ...  LYMPHOCYTES_(%)  \\\n",
       "33  Clinical            1303.0                43.0  ...             44.6   \n",
       "34  Clinical            1344.0                44.0  ...             40.5   \n",
       "35  Research            1364.0                45.0  ...             39.9   \n",
       "36  Research            1393.0                46.0  ...             46.8   \n",
       "37  Research            1457.0                48.0  ...             22.8   \n",
       "\n",
       "    MONO_(%)  EOS_(%)  BASO_(%)  ABS_NEUT_(/uL)  ABS_LYMPH_(/uL)  \\\n",
       "33       5.5      0.5       0.0            1877             1695   \n",
       "34       7.4      0.0       0.0            3647             2835   \n",
       "35       6.0      0.3       0.3            2140             1596   \n",
       "36       5.6      0.5       0.0            2025             2012   \n",
       "37       5.8      0.1       0.1            6123             1961   \n",
       "\n",
       "    ABS_MONO_(/uL)  ABS_EOS_(/uL)  ABS_BASO_(/uL)  PLATLET_COUNT_(K/uL)  \n",
       "33             209             19               0                   276  \n",
       "34             518              0               0                   386  \n",
       "35             240             12              12                   309  \n",
       "36             241             22               0                   275  \n",
       "37             499              9               9                   325  \n",
       "\n",
       "[5 rows x 31 columns]"
      ]
     },
     "execution_count": 95,
     "metadata": {},
     "output_type": "execute_result"
    }
   ],
   "source": [
    "# Make a df of a single monkey's blood analytic data\n",
    "single_minbio_df = minbio_monkey_df.copy()\n",
    "single_minbio_df = single_minbio_df[single_minbio_df['ID'] == '2046']\n",
    "single_minbio_df.set_index(['ID'])\n",
    "#single_minbio_df.reset_index()\n",
    "single_minbio_df.head()\n"
   ]
  },
  {
   "cell_type": "markdown",
   "id": "193aa2ad-4040-4a95-bed3-c344a6f39387",
   "metadata": {
    "tags": []
   },
   "source": [
    "### Single Monkey"
   ]
  },
  {
   "cell_type": "markdown",
   "id": "9fc2b01a-a857-46dc-adf1-031d10ee6f9e",
   "metadata": {},
   "source": [
    "#### Data processing for ML"
   ]
  },
  {
   "cell_type": "code",
   "execution_count": 55,
   "id": "a87632c7-999c-4ebf-8709-6c02ef8f93aa",
   "metadata": {
    "tags": []
   },
   "outputs": [
    {
     "name": "stdout",
     "output_type": "stream",
     "text": [
      "[0, 1, 2, 3]\n"
     ]
    }
   ],
   "source": [
    "#make a parent df\n",
    "single_minbio_df.copy()\n",
    "sreg_df = single_minbio_df\n",
    "#sreg_df.tail(2)\n",
    "\n",
    "#make train/testdf\n",
    "(sreg_train_df, sreg_test_df)= sreg_df, sreg_df\n",
    "\n",
    "#sreg_test_df.tail(2)\n",
    "\n",
    "# label values extraction\n",
    "sreg_y=sreg_train_df['LYMPHOCYTES_(%)']\n",
    "sreg_X=sreg_train_df.drop(['ID','IRRAD_DATE','DOB','SAMPLE_DATE','LYMPHOCYTES_(%)'],axis=1)\n",
    "\n",
    "#sreg_y.tail()\n",
    "#sreg_X.columns\n",
    "\n",
    "#sreg_y.to_numpy()\n",
    "\n",
    "# Declare catagorical features - first column\n",
    "cat_features= list(range(0,sreg_X[sreg_X.columns[:4]].shape[1]))\n",
    "\n",
    "print(cat_features)\n",
    "\n",
    "# all of our labels are catagorical"
   ]
  },
  {
   "cell_type": "code",
   "execution_count": 56,
   "id": "50754b5a-7e45-41c4-8f59-9a4c7a9656f3",
   "metadata": {
    "tags": []
   },
   "outputs": [
    {
     "name": "stderr",
     "output_type": "stream",
     "text": [
      "iteritems is deprecated and will be removed in a future version. Use .items instead.\n"
     ]
    }
   ],
   "source": [
    "from catboost import Pool\n",
    "from sklearn.model_selection import train_test_split\n",
    "\n",
    "#put the data into the pool\n",
    "sreg_pool = Pool(data=sreg_X, label=sreg_y, cat_features=cat_features)\n",
    "\n",
    "\n",
    "#train tesr split - 30% test\n",
    "sreg_data= train_test_split(sreg_X, sreg_y, test_size=0.3, random_state=0)\n",
    "\n",
    "#### The order of this matters###\n",
    "sreg_X_train, sreg_X_validation,sreg_y_train, sreg_y_validation= sreg_data\n",
    "\n",
    "sreg_train_pool = Pool(\n",
    "    data = sreg_X_train,\n",
    "    label = sreg_y_train,\n",
    "    cat_features = cat_features\n",
    ")\n",
    "\n",
    "sreg_validation_pool = Pool(\n",
    "    data = sreg_X_validation,\n",
    "    label = sreg_y_validation,\n",
    "    cat_features = cat_features\n",
    ")\n"
   ]
  },
  {
   "cell_type": "markdown",
   "id": "7f379388-a8a2-45b5-81ab-d33e10264bce",
   "metadata": {},
   "source": [
    "#### Model Formation"
   ]
  },
  {
   "cell_type": "code",
   "execution_count": 57,
   "id": "4279007c-46da-4568-bef9-8ab8288a675c",
   "metadata": {
    "tags": []
   },
   "outputs": [
    {
     "name": "stdout",
     "output_type": "stream",
     "text": [
      "0:\tlearn: 11.2460441\ttotal: 670us\tremaining: 6.03ms\n",
      "9:\tlearn: 2.4032194\ttotal: 5.64ms\tremaining: 0us\n"
     ]
    },
    {
     "data": {
      "text/plain": [
       "<catboost.core.CatBoostRegressor at 0x7fa27275d0c0>"
      ]
     },
     "execution_count": 57,
     "metadata": {},
     "output_type": "execute_result"
    }
   ],
   "source": [
    "from catboost import CatBoostRegressor\n",
    "\n",
    "# Model for predicting lymphocyte counts for a singel monkey\n",
    "model7= CatBoostRegressor(iterations=10,\n",
    "    learning_rate=0.5,\n",
    "    #loss_function='MultiClass',\n",
    "    #custom_loss=['AUC','Accuracy'],\n",
    "    early_stopping_rounds=5,\n",
    "                        \n",
    "    #use_best_model=True,\n",
    "    #save_snapshot = True,\n",
    "    #snapshot_file='monkey_snapshot.bkp',\n",
    "    #interval is seconds\n",
    "    #snapshot_interval=120\n",
    ")\n",
    "\n",
    "\n",
    "model7.fit(sreg_X, \n",
    "           sreg_y, \n",
    "           cat_features=cat_features,\n",
    "           #plot=True,\n",
    "           verbose=100 #tells how many iterations to print\n",
    "         )\n",
    "\n",
    "####1000 iter gives R2=1\n",
    "###1 iter gives R2=0.057\n",
    "###2 iters gives R2=0.51\n",
    "###3 iters gives R2=0.65\n",
    "###4 iters gives R2=0.81\n",
    "###10 iters gives r2=0.99"
   ]
  },
  {
   "cell_type": "markdown",
   "id": "60a829d4-b8a2-4275-839a-3bfedc9d2af8",
   "metadata": {},
   "source": [
    "#### Predictions"
   ]
  },
  {
   "cell_type": "code",
   "execution_count": 58,
   "id": "5ebb6f35-5638-4e84-ab0b-d70f16e957db",
   "metadata": {
    "tags": []
   },
   "outputs": [
    {
     "name": "stdout",
     "output_type": "stream",
     "text": [
      "6\n",
      "           0\n",
      "0  39.671566\n",
      "1  34.189990\n",
      "2  22.662013\n",
      "3  20.551448\n",
      "4  38.130019\n",
      "5  23.762847\n",
      "34    40.5\n",
      "39    35.1\n",
      "41    21.8\n",
      "43    20.1\n",
      "47    38.2\n",
      "37    22.8\n",
      "Name: LYMPHOCYTES_(%), dtype: float64\n",
      "The r2 score for the model is: 0.9919249270480266\n"
     ]
    }
   ],
   "source": [
    "from sklearn.metrics import r2_score\n",
    "#Predict the test Lymphocyte percentages\n",
    "\n",
    "sreg_a = model7.predict(sreg_X_validation)\n",
    "print(len(sreg_a), \n",
    "     )\n",
    "sreg_a_df = pd.DataFrame(sreg_a)\n",
    "print(sreg_a_df)\n",
    "print(sreg_y_validation)\n",
    "\n",
    "#r2 is the best metric for accuracy of predictions with continuous data\n",
    "print('The r2 score for the model is:',r2_score(sreg_y_validation, sreg_a_df))\n"
   ]
  },
  {
   "cell_type": "code",
   "execution_count": 59,
   "id": "fad569f4-2f8e-4f3e-942a-4a44878f11df",
   "metadata": {
    "tags": []
   },
   "outputs": [
    {
     "data": {
      "image/png": "[encoded data removed]",
      "text/plain": [
       "<Figure size 640x480 with 1 Axes>"
      ]
     },
     "metadata": {},
     "output_type": "display_data"
    }
   ],
   "source": [
    "# Plot the predictions vs. actual with the R2 score\n",
    "\n",
    "fig, ax = plt.subplots()\n",
    "ax.scatter(sreg_y_validation, sreg_a_df)\n",
    "\n",
    "\n",
    "ax.plot([sreg_y.min(), sreg_y.max()], [sreg_y.min(), sreg_y.max()], \n",
    "        'k-', \n",
    "        linewidth=1, \n",
    "        markersize=120\n",
    ")\n",
    "\n",
    "ax.set_xlabel('Actual Lymphocyte (%)')\n",
    "ax.set_ylabel('Predicted Lymphocyte (%)')\n",
    "\n",
    "#regression line\n",
    "#sreg_y_validation, sreg_a_df = sreg_y_validation.reshape(-1,1), sreg_a_df.reshape(-1,1)\n",
    "#ax.plot(sreg_y_validation, LinearRegression().fit(sreg_y_validation, sreg_a_df).predict(sreg_y_validation))\n",
    "\n",
    "\n",
    "\n",
    "ax.set_title('R2: ' + str(r2_score(sreg_y_validation, sreg_a_df)))\n",
    "\n",
    "\n",
    "plt.show()"
   ]
  },
  {
   "cell_type": "markdown",
   "id": "0ac59a65-019f-4804-8fe8-d645bb7934a1",
   "metadata": {},
   "source": [
    "#### Feature importance"
   ]
  },
  {
   "cell_type": "code",
   "execution_count": 60,
   "id": "2f79f65e-37ca-4e85-ad12-5b9d079a8e81",
   "metadata": {
    "tags": []
   },
   "outputs": [
    {
     "data": {
      "text/html": [
       "<div>\n",
       "<style scoped>\n",
       "    .dataframe tbody tr th:only-of-type {\n",
       "        vertical-align: middle;\n",
       "    }\n",
       "\n",
       "    .dataframe tbody tr th {\n",
       "        vertical-align: top;\n",
       "    }\n",
       "\n",
       "    .dataframe thead th {\n",
       "        text-align: right;\n",
       "    }\n",
       "</style>\n",
       "<table border=\"1\" class=\"dataframe\">\n",
       "  <thead>\n",
       "    <tr style=\"text-align: right;\">\n",
       "      <th></th>\n",
       "      <th>Feature Id</th>\n",
       "      <th>Importances</th>\n",
       "    </tr>\n",
       "  </thead>\n",
       "  <tbody>\n",
       "    <tr>\n",
       "      <th>0</th>\n",
       "      <td>NEUT_(%)</td>\n",
       "      <td>25.791263</td>\n",
       "    </tr>\n",
       "    <tr>\n",
       "      <th>1</th>\n",
       "      <td>TYPE</td>\n",
       "      <td>13.162456</td>\n",
       "    </tr>\n",
       "    <tr>\n",
       "      <th>2</th>\n",
       "      <td>ABS_LYMPH_(/uL)</td>\n",
       "      <td>13.094777</td>\n",
       "    </tr>\n",
       "    <tr>\n",
       "      <th>3</th>\n",
       "      <td>EOS_(%)</td>\n",
       "      <td>11.994731</td>\n",
       "    </tr>\n",
       "    <tr>\n",
       "      <th>4</th>\n",
       "      <td>RBC_(M/uL)</td>\n",
       "      <td>11.799281</td>\n",
       "    </tr>\n",
       "    <tr>\n",
       "      <th>5</th>\n",
       "      <td>Hemocrit_(HCT_%)</td>\n",
       "      <td>4.794531</td>\n",
       "    </tr>\n",
       "    <tr>\n",
       "      <th>6</th>\n",
       "      <td>Mean_corpuscular_hemaglobin_concentration_(MCH...</td>\n",
       "      <td>4.392843</td>\n",
       "    </tr>\n",
       "    <tr>\n",
       "      <th>7</th>\n",
       "      <td>MONTHS_SINCE_IRRAD</td>\n",
       "      <td>3.730368</td>\n",
       "    </tr>\n",
       "    <tr>\n",
       "      <th>8</th>\n",
       "      <td>WBC_(K/uL)</td>\n",
       "      <td>3.359482</td>\n",
       "    </tr>\n",
       "    <tr>\n",
       "      <th>9</th>\n",
       "      <td>ABS_NEUT_(/uL)</td>\n",
       "      <td>2.996981</td>\n",
       "    </tr>\n",
       "    <tr>\n",
       "      <th>10</th>\n",
       "      <td>DAYS_SINCE_IRRAD</td>\n",
       "      <td>1.910935</td>\n",
       "    </tr>\n",
       "    <tr>\n",
       "      <th>11</th>\n",
       "      <td>ABS_EOS_(/uL)</td>\n",
       "      <td>0.933172</td>\n",
       "    </tr>\n",
       "    <tr>\n",
       "      <th>12</th>\n",
       "      <td>AGE</td>\n",
       "      <td>0.755005</td>\n",
       "    </tr>\n",
       "    <tr>\n",
       "      <th>13</th>\n",
       "      <td>Mean_corpuscular_hemaglobin_(MCH_pg)</td>\n",
       "      <td>0.731431</td>\n",
       "    </tr>\n",
       "    <tr>\n",
       "      <th>14</th>\n",
       "      <td>MONO_(%)</td>\n",
       "      <td>0.169930</td>\n",
       "    </tr>\n",
       "    <tr>\n",
       "      <th>15</th>\n",
       "      <td>ABS_BASO_(/uL)</td>\n",
       "      <td>0.166500</td>\n",
       "    </tr>\n",
       "    <tr>\n",
       "      <th>16</th>\n",
       "      <td>BASO_(%)</td>\n",
       "      <td>0.150382</td>\n",
       "    </tr>\n",
       "    <tr>\n",
       "      <th>17</th>\n",
       "      <td>PLATLET_COUNT_(K/uL)</td>\n",
       "      <td>0.047663</td>\n",
       "    </tr>\n",
       "    <tr>\n",
       "      <th>18</th>\n",
       "      <td>Mean_corpuscular_volume_(MCV_fL)</td>\n",
       "      <td>0.018269</td>\n",
       "    </tr>\n",
       "    <tr>\n",
       "      <th>19</th>\n",
       "      <td>Species</td>\n",
       "      <td>0.000000</td>\n",
       "    </tr>\n",
       "    <tr>\n",
       "      <th>20</th>\n",
       "      <td>IRRAD</td>\n",
       "      <td>0.000000</td>\n",
       "    </tr>\n",
       "    <tr>\n",
       "      <th>21</th>\n",
       "      <td>SEX</td>\n",
       "      <td>0.000000</td>\n",
       "    </tr>\n",
       "    <tr>\n",
       "      <th>22</th>\n",
       "      <td>MONTHS AT IRRAD</td>\n",
       "      <td>0.000000</td>\n",
       "    </tr>\n",
       "    <tr>\n",
       "      <th>23</th>\n",
       "      <td>DOSE_(Gy)</td>\n",
       "      <td>0.000000</td>\n",
       "    </tr>\n",
       "    <tr>\n",
       "      <th>24</th>\n",
       "      <td>Hemaglobin_(HGB_g/dL)</td>\n",
       "      <td>0.000000</td>\n",
       "    </tr>\n",
       "    <tr>\n",
       "      <th>25</th>\n",
       "      <td>ABS_MONO_(/uL)</td>\n",
       "      <td>0.000000</td>\n",
       "    </tr>\n",
       "  </tbody>\n",
       "</table>\n",
       "</div>"
      ],
      "text/plain": [
       "                                           Feature Id  Importances\n",
       "0                                            NEUT_(%)    25.791263\n",
       "1                                                TYPE    13.162456\n",
       "2                                     ABS_LYMPH_(/uL)    13.094777\n",
       "3                                             EOS_(%)    11.994731\n",
       "4                                          RBC_(M/uL)    11.799281\n",
       "5                                    Hemocrit_(HCT_%)     4.794531\n",
       "6   Mean_corpuscular_hemaglobin_concentration_(MCH...     4.392843\n",
       "7                                  MONTHS_SINCE_IRRAD     3.730368\n",
       "8                                          WBC_(K/uL)     3.359482\n",
       "9                                      ABS_NEUT_(/uL)     2.996981\n",
       "10                                   DAYS_SINCE_IRRAD     1.910935\n",
       "11                                      ABS_EOS_(/uL)     0.933172\n",
       "12                                                AGE     0.755005\n",
       "13               Mean_corpuscular_hemaglobin_(MCH_pg)     0.731431\n",
       "14                                           MONO_(%)     0.169930\n",
       "15                                     ABS_BASO_(/uL)     0.166500\n",
       "16                                           BASO_(%)     0.150382\n",
       "17                               PLATLET_COUNT_(K/uL)     0.047663\n",
       "18                   Mean_corpuscular_volume_(MCV_fL)     0.018269\n",
       "19                                            Species     0.000000\n",
       "20                                              IRRAD     0.000000\n",
       "21                                                SEX     0.000000\n",
       "22                                    MONTHS AT IRRAD     0.000000\n",
       "23                                          DOSE_(Gy)     0.000000\n",
       "24                              Hemaglobin_(HGB_g/dL)     0.000000\n",
       "25                                     ABS_MONO_(/uL)     0.000000"
      ]
     },
     "execution_count": 60,
     "metadata": {},
     "output_type": "execute_result"
    }
   ],
   "source": [
    "# Find the feature importance for predicting the lmphocyte counts is a single monkey\n",
    "model7.get_feature_importance(data=sreg_pool,\n",
    "                       #reference_data=None,\n",
    "                       #type=EFstrType.ShapValues,\n",
    "                       prettified=True,\n",
    "                       #thread_count=-1,\n",
    "                       #verbose=False,\n",
    "                       #log_cout=sys.stdout,\n",
    "                       #log_cerr=sys.stderr\n",
    ")\n"
   ]
  },
  {
   "cell_type": "markdown",
   "id": "86d314d7-6b2b-4f27-9a2c-f02afc720fa1",
   "metadata": {},
   "source": [
    "### Multi Monkey"
   ]
  },
  {
   "cell_type": "markdown",
   "id": "b3a9f5bf-85f4-4e3a-9afd-71d7ee6ddf15",
   "metadata": {},
   "source": [
    "#### Data processing for ML"
   ]
  },
  {
   "cell_type": "code",
   "execution_count": 61,
   "id": "b410558d-263a-4ef8-8fbf-5ec2805a8806",
   "metadata": {
    "tags": []
   },
   "outputs": [
    {
     "name": "stdout",
     "output_type": "stream",
     "text": [
      "[0, 1, 2, 3]\n"
     ]
    }
   ],
   "source": [
    "#make a parent df\n",
    "minbio_monkey_df.copy()\n",
    "mreg_df = minbio_monkey_df\n",
    "#sreg_df.tail(2)\n",
    "\n",
    "#make train/testdf\n",
    "(mreg_train_df, mreg_test_df)= mreg_df, mreg_df\n",
    "\n",
    "#mreg_test_df.tail(2)\n",
    "\n",
    "# label values extraction\n",
    "mreg_y=mreg_train_df['LYMPHOCYTES_(%)']\n",
    "mreg_X=mreg_train_df.drop(['ID','IRRAD_DATE','DOB','SAMPLE_DATE','LYMPHOCYTES_(%)'],axis=1)\n",
    "\n",
    "#mreg_y.tail()\n",
    "#mreg_X.columns\n",
    "\n",
    "#mreg_y.to_numpy()\n",
    "\n",
    "# Declare catagorical features - first column\n",
    "cat_features= list(range(0,mreg_X[mreg_X.columns[:4]].shape[1]))\n",
    "\n",
    "\n",
    "print(cat_features)\n",
    "\n",
    "# all of our labels are catagorical"
   ]
  },
  {
   "cell_type": "code",
   "execution_count": 62,
   "id": "acee9a7f-1987-4d48-a2f4-d72260a9ab59",
   "metadata": {
    "tags": []
   },
   "outputs": [
    {
     "name": "stderr",
     "output_type": "stream",
     "text": [
      "iteritems is deprecated and will be removed in a future version. Use .items instead.\n"
     ]
    }
   ],
   "source": [
    "#put the data into the pool\n",
    "mreg_pool = Pool(data=mreg_X, label=mreg_y, cat_features=cat_features)\n",
    "\n",
    "\n",
    "#train tesr split - 30% test\n",
    "mreg_data= train_test_split(mreg_X, mreg_y, test_size=0.3, random_state=0)\n",
    "\n",
    "#### The order of this matters###\n",
    "mreg_X_train, mreg_X_validation,mreg_y_train, mreg_y_validation= mreg_data\n",
    "\n",
    "mreg_train_pool = Pool(\n",
    "    data = mreg_X_train,\n",
    "    label = mreg_y_train,\n",
    "    cat_features = cat_features\n",
    ")\n",
    "\n",
    "mreg_validation_pool = Pool(\n",
    "    data = mreg_X_validation,\n",
    "    label = mreg_y_validation,\n",
    "    cat_features = cat_features\n",
    ")\n"
   ]
  },
  {
   "cell_type": "markdown",
   "id": "d290a712-ac8a-4d8a-833e-aa29d76fb940",
   "metadata": {},
   "source": [
    "#### Model Formation"
   ]
  },
  {
   "cell_type": "code",
   "execution_count": 63,
   "id": "985a578f-e0cc-4aef-96f3-1542c34260b7",
   "metadata": {
    "tags": []
   },
   "outputs": [
    {
     "name": "stdout",
     "output_type": "stream",
     "text": [
      "0:\tlearn: 8.9546285\ttotal: 5.29ms\tremaining: 47.6ms\n",
      "1:\tlearn: 5.6638343\ttotal: 8.65ms\tremaining: 34.6ms\n",
      "2:\tlearn: 4.0121201\ttotal: 12ms\tremaining: 28.1ms\n",
      "3:\tlearn: 3.0209193\ttotal: 15.8ms\tremaining: 23.8ms\n",
      "4:\tlearn: 2.5326614\ttotal: 18.9ms\tremaining: 18.9ms\n",
      "5:\tlearn: 2.2299779\ttotal: 21.8ms\tremaining: 14.5ms\n",
      "6:\tlearn: 2.0293479\ttotal: 24.9ms\tremaining: 10.7ms\n",
      "7:\tlearn: 1.9160268\ttotal: 28ms\tremaining: 6.99ms\n",
      "8:\tlearn: 1.8753615\ttotal: 32.6ms\tremaining: 3.62ms\n",
      "9:\tlearn: 1.7568019\ttotal: 36.2ms\tremaining: 0us\n"
     ]
    },
    {
     "data": {
      "text/plain": [
       "<catboost.core.CatBoostRegressor at 0x7fa2565fd5d0>"
      ]
     },
     "execution_count": 63,
     "metadata": {},
     "output_type": "execute_result"
    }
   ],
   "source": [
    "# rEgression for multiple monkey predicitons\n",
    "model8= CatBoostRegressor(iterations=10\n",
    "                          ,\n",
    "    learning_rate=0.5,\n",
    "    #loss_function='MultiClass',\n",
    "    #custom_loss=['AUC','Accuracy'],\n",
    "    early_stopping_rounds=5,\n",
    "    #use_best_model=True,\n",
    "    #save_snapshot = True,\n",
    "    #snapshot_file='monkey_snapshot.bkp',\n",
    "    #interval is seconds\n",
    "    #snapshot_interval=120\n",
    ")\n",
    "\n",
    "model8.fit(mreg_X, \n",
    "           mreg_y, \n",
    "           cat_features=cat_features, \n",
    "          # verbose=100 #tells how many iterations to print\n",
    "         )\n",
    "### 200 iters takes 3 seconds and gives 0.2436142 loss\n",
    "### 1000 iters takes 12 seconds and gives 0.0214503 loss\n",
    "### 10000 iters takes 1.5 min and has 2.8X10^-6 loss \n",
    "\n",
    "#### 200 gives very accurate results for predicting lymphocyte %\n",
    "### 100 gives R2 of almost 1\n",
    "# 10 iterations gives R2 of 0.98\n",
    "# 1 iteration gives R2 of 0.65!!!\n",
    "# 2 iterations gives R2 of 0.86!!!!!"
   ]
  },
  {
   "cell_type": "markdown",
   "id": "00bf23e8-d5c7-4251-bf5f-875c7402bc30",
   "metadata": {},
   "source": [
    "#### Predictions"
   ]
  },
  {
   "cell_type": "code",
   "execution_count": 64,
   "id": "e21d85cf-f295-4308-bc9a-00127b61b353",
   "metadata": {
    "tags": []
   },
   "outputs": [
    {
     "name": "stdout",
     "output_type": "stream",
     "text": [
      "1366\n",
      "              0\n",
      "0     19.774720\n",
      "1     33.581875\n",
      "2     34.684135\n",
      "3     11.069925\n",
      "4     61.795744\n",
      "...         ...\n",
      "1361  46.202982\n",
      "1362  40.846701\n",
      "1363  12.598577\n",
      "1364  45.180812\n",
      "1365  42.727875\n",
      "\n",
      "[1366 rows x 1 columns]\n",
      "2438    17.9\n",
      "3343    36.1\n",
      "1895    36.0\n",
      "3501    10.2\n",
      "3256    61.1\n",
      "        ... \n",
      "3878    49.0\n",
      "3037    39.0\n",
      "4250    15.3\n",
      "1770    46.4\n",
      "2735    44.1\n",
      "Name: LYMPHOCYTES_(%), Length: 1366, dtype: float64\n",
      "The r2 score for the model is: 0.9871703342291999\n"
     ]
    }
   ],
   "source": [
    "#Predict the test Lymphocyte percentages\n",
    "\n",
    "mreg_a = model8.predict(mreg_X_validation)\n",
    "print(len(mreg_a), \n",
    "     )\n",
    "mreg_a_df = pd.DataFrame(mreg_a)\n",
    "print(mreg_a_df)\n",
    "print(mreg_y_validation)\n",
    "\n",
    "#r2 is the best metric for accuracy of predictions with continuous data\n",
    "print('The r2 score for the model is:',r2_score(mreg_y_validation, mreg_a_df))\n"
   ]
  },
  {
   "cell_type": "code",
   "execution_count": 65,
   "id": "1f906edd-fe82-4398-9a40-f08b1735a285",
   "metadata": {
    "tags": []
   },
   "outputs": [
    {
     "data": {
      "image/png": "[encoded data removed]",
      "text/plain": [
       "<Figure size 640x480 with 1 Axes>"
      ]
     },
     "metadata": {},
     "output_type": "display_data"
    }
   ],
   "source": [
    "# Plot the predictions vs. actual with the R2 score\n",
    "\n",
    "fig, ax = plt.subplots()\n",
    "ax.scatter(mreg_y_validation, mreg_a_df)\n",
    "\n",
    "\n",
    "ax.plot([mreg_y.min(), mreg_y.max()], [mreg_y.min(), mreg_y.max()], \n",
    "        'k-', \n",
    "        linewidth=1, \n",
    "        markersize=120\n",
    ")\n",
    "\n",
    "ax.set_xlabel('Actual Lymphocyte (%)')\n",
    "ax.set_ylabel('Predicted Lymphocyte (%)')\n",
    "#regression line\n",
    "#single_y_validation, single_a_df = single_y_validation.reshape(-1,1), single_a_df.reshape(-1,1)\n",
    "#ax.plot(single_y_validation, LinearRegression().fit(single_y_validation, single_a_df).predict(single_y_validation))\n",
    "\n",
    "\n",
    "\n",
    "ax.set_title('R2: ' + str(r2_score(mreg_y_validation, mreg_a_df)))\n",
    "\n",
    "\n",
    "plt.show()"
   ]
  },
  {
   "cell_type": "markdown",
   "id": "a28bf3f3-7f53-4a5a-bf3d-c23631f3e4da",
   "metadata": {},
   "source": [
    "#### Feature Analysis"
   ]
  },
  {
   "cell_type": "code",
   "execution_count": 66,
   "id": "46095b23-eb7c-41a6-b6af-a0149794ab20",
   "metadata": {
    "tags": []
   },
   "outputs": [
    {
     "data": {
      "text/html": [
       "<div>\n",
       "<style scoped>\n",
       "    .dataframe tbody tr th:only-of-type {\n",
       "        vertical-align: middle;\n",
       "    }\n",
       "\n",
       "    .dataframe tbody tr th {\n",
       "        vertical-align: top;\n",
       "    }\n",
       "\n",
       "    .dataframe thead th {\n",
       "        text-align: right;\n",
       "    }\n",
       "</style>\n",
       "<table border=\"1\" class=\"dataframe\">\n",
       "  <thead>\n",
       "    <tr style=\"text-align: right;\">\n",
       "      <th></th>\n",
       "      <th>Feature Id</th>\n",
       "      <th>Importances</th>\n",
       "    </tr>\n",
       "  </thead>\n",
       "  <tbody>\n",
       "    <tr>\n",
       "      <th>0</th>\n",
       "      <td>NEUT_(%)</td>\n",
       "      <td>86.690265</td>\n",
       "    </tr>\n",
       "    <tr>\n",
       "      <th>1</th>\n",
       "      <td>ABS_LYMPH_(/uL)</td>\n",
       "      <td>4.309505</td>\n",
       "    </tr>\n",
       "    <tr>\n",
       "      <th>2</th>\n",
       "      <td>ABS_MONO_(/uL)</td>\n",
       "      <td>2.908496</td>\n",
       "    </tr>\n",
       "    <tr>\n",
       "      <th>3</th>\n",
       "      <td>MONO_(%)</td>\n",
       "      <td>2.536824</td>\n",
       "    </tr>\n",
       "    <tr>\n",
       "      <th>4</th>\n",
       "      <td>EOS_(%)</td>\n",
       "      <td>1.749061</td>\n",
       "    </tr>\n",
       "    <tr>\n",
       "      <th>5</th>\n",
       "      <td>ABS_EOS_(/uL)</td>\n",
       "      <td>0.948118</td>\n",
       "    </tr>\n",
       "    <tr>\n",
       "      <th>6</th>\n",
       "      <td>Hemaglobin_(HGB_g/dL)</td>\n",
       "      <td>0.429481</td>\n",
       "    </tr>\n",
       "    <tr>\n",
       "      <th>7</th>\n",
       "      <td>ABS_NEUT_(/uL)</td>\n",
       "      <td>0.275921</td>\n",
       "    </tr>\n",
       "    <tr>\n",
       "      <th>8</th>\n",
       "      <td>Hemocrit_(HCT_%)</td>\n",
       "      <td>0.072630</td>\n",
       "    </tr>\n",
       "    <tr>\n",
       "      <th>9</th>\n",
       "      <td>Mean_corpuscular_volume_(MCV_fL)</td>\n",
       "      <td>0.037872</td>\n",
       "    </tr>\n",
       "    <tr>\n",
       "      <th>10</th>\n",
       "      <td>BASO_(%)</td>\n",
       "      <td>0.034285</td>\n",
       "    </tr>\n",
       "    <tr>\n",
       "      <th>11</th>\n",
       "      <td>Mean_corpuscular_hemaglobin_concentration_(MCH...</td>\n",
       "      <td>0.007542</td>\n",
       "    </tr>\n",
       "    <tr>\n",
       "      <th>12</th>\n",
       "      <td>Species</td>\n",
       "      <td>0.000000</td>\n",
       "    </tr>\n",
       "    <tr>\n",
       "      <th>13</th>\n",
       "      <td>IRRAD</td>\n",
       "      <td>0.000000</td>\n",
       "    </tr>\n",
       "    <tr>\n",
       "      <th>14</th>\n",
       "      <td>SEX</td>\n",
       "      <td>0.000000</td>\n",
       "    </tr>\n",
       "    <tr>\n",
       "      <th>15</th>\n",
       "      <td>TYPE</td>\n",
       "      <td>0.000000</td>\n",
       "    </tr>\n",
       "    <tr>\n",
       "      <th>16</th>\n",
       "      <td>DAYS_SINCE_IRRAD</td>\n",
       "      <td>0.000000</td>\n",
       "    </tr>\n",
       "    <tr>\n",
       "      <th>17</th>\n",
       "      <td>MONTHS_SINCE_IRRAD</td>\n",
       "      <td>0.000000</td>\n",
       "    </tr>\n",
       "    <tr>\n",
       "      <th>18</th>\n",
       "      <td>MONTHS AT IRRAD</td>\n",
       "      <td>0.000000</td>\n",
       "    </tr>\n",
       "    <tr>\n",
       "      <th>19</th>\n",
       "      <td>DOSE_(Gy)</td>\n",
       "      <td>0.000000</td>\n",
       "    </tr>\n",
       "    <tr>\n",
       "      <th>20</th>\n",
       "      <td>AGE</td>\n",
       "      <td>0.000000</td>\n",
       "    </tr>\n",
       "    <tr>\n",
       "      <th>21</th>\n",
       "      <td>WBC_(K/uL)</td>\n",
       "      <td>0.000000</td>\n",
       "    </tr>\n",
       "    <tr>\n",
       "      <th>22</th>\n",
       "      <td>RBC_(M/uL)</td>\n",
       "      <td>0.000000</td>\n",
       "    </tr>\n",
       "    <tr>\n",
       "      <th>23</th>\n",
       "      <td>Mean_corpuscular_hemaglobin_(MCH_pg)</td>\n",
       "      <td>0.000000</td>\n",
       "    </tr>\n",
       "    <tr>\n",
       "      <th>24</th>\n",
       "      <td>ABS_BASO_(/uL)</td>\n",
       "      <td>0.000000</td>\n",
       "    </tr>\n",
       "    <tr>\n",
       "      <th>25</th>\n",
       "      <td>PLATLET_COUNT_(K/uL)</td>\n",
       "      <td>0.000000</td>\n",
       "    </tr>\n",
       "  </tbody>\n",
       "</table>\n",
       "</div>"
      ],
      "text/plain": [
       "                                           Feature Id  Importances\n",
       "0                                            NEUT_(%)    86.690265\n",
       "1                                     ABS_LYMPH_(/uL)     4.309505\n",
       "2                                      ABS_MONO_(/uL)     2.908496\n",
       "3                                            MONO_(%)     2.536824\n",
       "4                                             EOS_(%)     1.749061\n",
       "5                                       ABS_EOS_(/uL)     0.948118\n",
       "6                               Hemaglobin_(HGB_g/dL)     0.429481\n",
       "7                                      ABS_NEUT_(/uL)     0.275921\n",
       "8                                    Hemocrit_(HCT_%)     0.072630\n",
       "9                    Mean_corpuscular_volume_(MCV_fL)     0.037872\n",
       "10                                           BASO_(%)     0.034285\n",
       "11  Mean_corpuscular_hemaglobin_concentration_(MCH...     0.007542\n",
       "12                                            Species     0.000000\n",
       "13                                              IRRAD     0.000000\n",
       "14                                                SEX     0.000000\n",
       "15                                               TYPE     0.000000\n",
       "16                                   DAYS_SINCE_IRRAD     0.000000\n",
       "17                                 MONTHS_SINCE_IRRAD     0.000000\n",
       "18                                    MONTHS AT IRRAD     0.000000\n",
       "19                                          DOSE_(Gy)     0.000000\n",
       "20                                                AGE     0.000000\n",
       "21                                         WBC_(K/uL)     0.000000\n",
       "22                                         RBC_(M/uL)     0.000000\n",
       "23               Mean_corpuscular_hemaglobin_(MCH_pg)     0.000000\n",
       "24                                     ABS_BASO_(/uL)     0.000000\n",
       "25                               PLATLET_COUNT_(K/uL)     0.000000"
      ]
     },
     "execution_count": 66,
     "metadata": {},
     "output_type": "execute_result"
    }
   ],
   "source": [
    "# Find the feature importance for predicting the lmphocyte counts is a single monkey\n",
    "model8.get_feature_importance(data=mreg_pool,\n",
    "                       #reference_data=None,\n",
    "                       #type=EFstrType.ShapValues,\n",
    "                       prettified=True,\n",
    "                       #thread_count=-1,\n",
    "                       #verbose=False,\n",
    "                       #log_cout=sys.stdout,\n",
    "                       #log_cerr=sys.stderr\n",
    ")\n"
   ]
  },
  {
   "cell_type": "markdown",
   "id": "5d67b02c-bdf0-44cf-9829-cf52c45b40e6",
   "metadata": {},
   "source": [
    "### Summary\n",
    "Using Regression for predicitng values generates more accurate (based on iterations) and much quiker results compared to classifier. It is interesting how the feature importance does change a little though. Even with all the biological data, only 2 iterations gives R2=0.86 which is absolutely insane. I think this is probably due to the amount of data. This is very promising for the power of these models and the scalability of the applications. But super easy to overfit."
   ]
  },
  {
   "cell_type": "markdown",
   "id": "e2ba5529-d8b1-4f04-a6f4-f54eab6a439e",
   "metadata": {},
   "source": [
    "## 1.b.) Prediction of different data\n",
    "- Using the multi monkey model to predict the single monkey data and vise versa\n",
    "- Using just the top 5 features to make the models and make the predicitons\n",
    "- See if using irrad data only can make accurate predictions\n",
    "- How to make predictions of different features withthout making a new model every time???\n",
    "\n",
    "Note: see if there is a way to streamline this process - pipelines?"
   ]
  },
  {
   "cell_type": "markdown",
   "id": "f1b9c225-8507-427e-95b8-6d539410a605",
   "metadata": {},
   "source": [
    "### A. Predicting the single monkey lymphocytes using the multi-monkey model"
   ]
  },
  {
   "cell_type": "code",
   "execution_count": 67,
   "id": "15f90bb8-e777-43e0-86b7-cd9341578ba8",
   "metadata": {},
   "outputs": [
    {
     "name": "stdout",
     "output_type": "stream",
     "text": [
      "6\n"
     ]
    },
    {
     "name": "stderr",
     "output_type": "stream",
     "text": [
      "iteritems is deprecated and will be removed in a future version. Use .items instead.\n"
     ]
    },
    {
     "data": {
      "image/png": "[encoded data removed]",
      "text/plain": [
       "<Figure size 640x480 with 1 Axes>"
      ]
     },
     "metadata": {},
     "output_type": "display_data"
    }
   ],
   "source": [
    "### Predicting the single monkey lymphocyte levels using the mult monkey model\n",
    "## 2 iteration, 0.5 learning rate\n",
    "\n",
    "smreg_a = model8.predict(sreg_X_validation)\n",
    "print(len(smreg_a), \n",
    "     )\n",
    "smreg_a_df = pd.DataFrame(smreg_a)\n",
    "#print(smreg_a_df)\n",
    "#print(sreg_y_validation)\n",
    "\n",
    "#r2 is the best metric for accuracy of predictions with continuous data\n",
    "#print('The r2 score for the model is:',r2_score(sreg_y_validation, smreg_a_df))\n",
    "\n",
    "# Plot the predictions vs. actual with the R2 score\n",
    "\n",
    "fig, ax = plt.subplots()\n",
    "ax.scatter(sreg_y_validation, smreg_a_df)\n",
    "\n",
    "\n",
    "ax.plot([sreg_y.min(), sreg_y.max()], [sreg_y.min(), sreg_y.max()], \n",
    "        'k-', \n",
    "        linewidth=1, \n",
    "        markersize=120\n",
    ")\n",
    "\n",
    "ax.set_xlabel('Actual')\n",
    "ax.set_ylabel('Predicted')\n",
    "#regression line\n",
    "#single_y_validation, single_a_df = single_y_validation.reshape(-1,1), single_a_df.reshape(-1,1)\n",
    "#ax.plot(single_y_validation, LinearRegression().fit(single_y_validation, single_a_df).predict(single_y_validation))\n",
    "\n",
    "\n",
    "\n",
    "ax.set_title('R2: ' + str(r2_score(sreg_y_validation, smreg_a_df)))\n",
    "\n",
    "plt.show()"
   ]
  },
  {
   "cell_type": "markdown",
   "id": "4c23f0ad-0a68-4bf3-9c8f-8dbe8f069559",
   "metadata": {},
   "source": [
    "### B. Predicting the multi-monkey lymphocytes using the single-monkey model"
   ]
  },
  {
   "cell_type": "code",
   "execution_count": 68,
   "id": "887ac113-fbb6-4e95-824d-f41ba2256489",
   "metadata": {
    "tags": []
   },
   "outputs": [
    {
     "name": "stderr",
     "output_type": "stream",
     "text": [
      "iteritems is deprecated and will be removed in a future version. Use .items instead.\n"
     ]
    },
    {
     "name": "stdout",
     "output_type": "stream",
     "text": [
      "1366\n"
     ]
    },
    {
     "data": {
      "image/png": "[encoded data removed]",
      "text/plain": [
       "<Figure size 640x480 with 1 Axes>"
      ]
     },
     "metadata": {},
     "output_type": "display_data"
    }
   ],
   "source": [
    "### Predicting if the apropriately fitted single monkey model can predict the multi mokey lymphocytes\n",
    "## 4 iteration, 0.5 learning rate\n",
    "msreg_a = model7.predict(mreg_X_validation)\n",
    "print(len(msreg_a), \n",
    "     )\n",
    "msreg_a_df = pd.DataFrame(msreg_a)\n",
    "#print(msreg_a_df)\n",
    "#print(mreg_y_validation)\n",
    "\n",
    "#r2 is the best metric for accuracy of predictions with continuous data\n",
    "#print('The r2 score for the model is:',r2_score(mreg_y_validation, msreg_a_df))\n",
    "\n",
    "# Plot the predictions vs. actual with the R2 score\n",
    "\n",
    "fig, ax = plt.subplots()\n",
    "ax.scatter(mreg_y_validation, msreg_a_df)\n",
    "\n",
    "\n",
    "ax.plot([mreg_y.min(), mreg_y.max()], [mreg_y.min(), mreg_y.max()], \n",
    "        'k-', \n",
    "        linewidth=1, \n",
    "        markersize=120\n",
    ")\n",
    "\n",
    "ax.set_xlabel('Actual')\n",
    "ax.set_ylabel('Predicted')\n",
    "#regression line\n",
    "#single_y_validation, single_a_df = single_y_validation.reshape(-1,1), single_a_df.reshape(-1,1)\n",
    "#ax.plot(single_y_validation, LinearRegression().fit(single_y_validation, single_a_df).predict(single_y_validation))\n",
    "\n",
    "\n",
    "\n",
    "ax.set_title('R2: ' + str(r2_score(mreg_y_validation, msreg_a_df)))\n",
    "\n",
    "plt.show()"
   ]
  },
  {
   "cell_type": "code",
   "execution_count": 69,
   "id": "22def4e7-52cf-4efc-89f1-be4bdf8b6268",
   "metadata": {
    "tags": []
   },
   "outputs": [
    {
     "name": "stderr",
     "output_type": "stream",
     "text": [
      "iteritems is deprecated and will be removed in a future version. Use .items instead.\n"
     ]
    },
    {
     "name": "stdout",
     "output_type": "stream",
     "text": [
      "0:\tlearn: 11.2460441\ttotal: 879us\tremaining: 1m 27s\n",
      "10000:\tlearn: 0.0000000\ttotal: 3.53s\tremaining: 31.8s\n",
      "20000:\tlearn: 0.0000000\ttotal: 7.18s\tremaining: 28.7s\n",
      "30000:\tlearn: 0.0000000\ttotal: 10.8s\tremaining: 25.2s\n",
      "40000:\tlearn: 0.0000000\ttotal: 14.5s\tremaining: 21.7s\n",
      "50000:\tlearn: 0.0000000\ttotal: 18.3s\tremaining: 18.3s\n",
      "60000:\tlearn: 0.0000000\ttotal: 21.8s\tremaining: 14.5s\n"
     ]
    },
    {
     "ename": "KeyboardInterrupt",
     "evalue": "",
     "output_type": "error",
     "traceback": [
      "\u001b[0;31m---------------------------------------------------------------------------\u001b[0m",
      "\u001b[0;31mKeyboardInterrupt\u001b[0m                         Traceback (most recent call last)",
      "Cell \u001b[0;32mIn[69], line 16\u001b[0m\n\u001b[1;32m      1\u001b[0m \u001b[38;5;66;03m### Seeing if more iterations will better predict the multi monkey data\u001b[39;00m\n\u001b[1;32m      2\u001b[0m \u001b[38;5;66;03m# Model for predicting lymphocyte counts for a singel monkey\u001b[39;00m\n\u001b[1;32m      3\u001b[0m model9\u001b[38;5;241m=\u001b[39m CatBoostRegressor(iterations\u001b[38;5;241m=\u001b[39m\u001b[38;5;241m100000\u001b[39m,\n\u001b[1;32m      4\u001b[0m     learning_rate\u001b[38;5;241m=\u001b[39m\u001b[38;5;241m0.5\u001b[39m,\n\u001b[1;32m      5\u001b[0m     \u001b[38;5;66;03m#loss_function='MultiClass',\u001b[39;00m\n\u001b[0;32m   (...)\u001b[0m\n\u001b[1;32m     12\u001b[0m     \u001b[38;5;66;03m#snapshot_interval=120\u001b[39;00m\n\u001b[1;32m     13\u001b[0m )\n\u001b[0;32m---> 16\u001b[0m \u001b[43mmodel9\u001b[49m\u001b[38;5;241;43m.\u001b[39;49m\u001b[43mfit\u001b[49m\u001b[43m(\u001b[49m\u001b[43msreg_X\u001b[49m\u001b[43m,\u001b[49m\u001b[43m \u001b[49m\n\u001b[1;32m     17\u001b[0m \u001b[43m           \u001b[49m\u001b[43msreg_y\u001b[49m\u001b[43m,\u001b[49m\u001b[43m \u001b[49m\n\u001b[1;32m     18\u001b[0m \u001b[43m           \u001b[49m\u001b[43mcat_features\u001b[49m\u001b[38;5;241;43m=\u001b[39;49m\u001b[43mcat_features\u001b[49m\u001b[43m,\u001b[49m\n\u001b[1;32m     19\u001b[0m \u001b[43m           \u001b[49m\u001b[38;5;66;43;03m#plot=True,\u001b[39;49;00m\n\u001b[1;32m     20\u001b[0m \u001b[43m           \u001b[49m\u001b[43mverbose\u001b[49m\u001b[38;5;241;43m=\u001b[39;49m\u001b[38;5;241;43m10000\u001b[39;49m\u001b[43m \u001b[49m\u001b[38;5;66;43;03m#tells how many iterations to print\u001b[39;49;00m\n\u001b[1;32m     21\u001b[0m \u001b[43m         \u001b[49m\u001b[43m)\u001b[49m\n",
      "File \u001b[0;32m~/Desktop/cmb/codes/monkey_env/lib/python3.10/site-packages/catboost/core.py:5590\u001b[0m, in \u001b[0;36mCatBoostRegressor.fit\u001b[0;34m(self, X, y, cat_features, sample_weight, baseline, use_best_model, eval_set, verbose, logging_level, plot, column_description, verbose_eval, metric_period, silent, early_stopping_rounds, save_snapshot, snapshot_file, snapshot_interval, init_model, callbacks, log_cout, log_cerr)\u001b[0m\n\u001b[1;32m   5587\u001b[0m \u001b[38;5;28;01mif\u001b[39;00m \u001b[38;5;124m'\u001b[39m\u001b[38;5;124mloss_function\u001b[39m\u001b[38;5;124m'\u001b[39m \u001b[38;5;129;01min\u001b[39;00m params:\n\u001b[1;32m   5588\u001b[0m     CatBoostRegressor\u001b[38;5;241m.\u001b[39m_check_is_compatible_loss(params[\u001b[38;5;124m'\u001b[39m\u001b[38;5;124mloss_function\u001b[39m\u001b[38;5;124m'\u001b[39m])\n\u001b[0;32m-> 5590\u001b[0m \u001b[38;5;28;01mreturn\u001b[39;00m \u001b[38;5;28;43mself\u001b[39;49m\u001b[38;5;241;43m.\u001b[39;49m\u001b[43m_fit\u001b[49m\u001b[43m(\u001b[49m\u001b[43mX\u001b[49m\u001b[43m,\u001b[49m\u001b[43m \u001b[49m\u001b[43my\u001b[49m\u001b[43m,\u001b[49m\u001b[43m \u001b[49m\u001b[43mcat_features\u001b[49m\u001b[43m,\u001b[49m\u001b[43m \u001b[49m\u001b[38;5;28;43;01mNone\u001b[39;49;00m\u001b[43m,\u001b[49m\u001b[43m \u001b[49m\u001b[38;5;28;43;01mNone\u001b[39;49;00m\u001b[43m,\u001b[49m\u001b[43m \u001b[49m\u001b[38;5;28;43;01mNone\u001b[39;49;00m\u001b[43m,\u001b[49m\u001b[43m \u001b[49m\u001b[43msample_weight\u001b[49m\u001b[43m,\u001b[49m\u001b[43m \u001b[49m\u001b[38;5;28;43;01mNone\u001b[39;49;00m\u001b[43m,\u001b[49m\u001b[43m \u001b[49m\u001b[38;5;28;43;01mNone\u001b[39;49;00m\u001b[43m,\u001b[49m\u001b[43m \u001b[49m\u001b[38;5;28;43;01mNone\u001b[39;49;00m\u001b[43m,\u001b[49m\u001b[43m \u001b[49m\u001b[38;5;28;43;01mNone\u001b[39;49;00m\u001b[43m,\u001b[49m\u001b[43m \u001b[49m\u001b[43mbaseline\u001b[49m\u001b[43m,\u001b[49m\n\u001b[1;32m   5591\u001b[0m \u001b[43m                 \u001b[49m\u001b[43muse_best_model\u001b[49m\u001b[43m,\u001b[49m\u001b[43m \u001b[49m\u001b[43meval_set\u001b[49m\u001b[43m,\u001b[49m\u001b[43m \u001b[49m\u001b[43mverbose\u001b[49m\u001b[43m,\u001b[49m\u001b[43m \u001b[49m\u001b[43mlogging_level\u001b[49m\u001b[43m,\u001b[49m\u001b[43m \u001b[49m\u001b[43mplot\u001b[49m\u001b[43m,\u001b[49m\u001b[43m \u001b[49m\u001b[43mcolumn_description\u001b[49m\u001b[43m,\u001b[49m\n\u001b[1;32m   5592\u001b[0m \u001b[43m                 \u001b[49m\u001b[43mverbose_eval\u001b[49m\u001b[43m,\u001b[49m\u001b[43m \u001b[49m\u001b[43mmetric_period\u001b[49m\u001b[43m,\u001b[49m\u001b[43m \u001b[49m\u001b[43msilent\u001b[49m\u001b[43m,\u001b[49m\u001b[43m \u001b[49m\u001b[43mearly_stopping_rounds\u001b[49m\u001b[43m,\u001b[49m\n\u001b[1;32m   5593\u001b[0m \u001b[43m                 \u001b[49m\u001b[43msave_snapshot\u001b[49m\u001b[43m,\u001b[49m\u001b[43m \u001b[49m\u001b[43msnapshot_file\u001b[49m\u001b[43m,\u001b[49m\u001b[43m \u001b[49m\u001b[43msnapshot_interval\u001b[49m\u001b[43m,\u001b[49m\u001b[43m \u001b[49m\u001b[43minit_model\u001b[49m\u001b[43m,\u001b[49m\u001b[43m \u001b[49m\u001b[43mcallbacks\u001b[49m\u001b[43m,\u001b[49m\u001b[43m \u001b[49m\u001b[43mlog_cout\u001b[49m\u001b[43m,\u001b[49m\u001b[43m \u001b[49m\u001b[43mlog_cerr\u001b[49m\u001b[43m)\u001b[49m\n",
      "File \u001b[0;32m~/Desktop/cmb/codes/monkey_env/lib/python3.10/site-packages/catboost/core.py:2278\u001b[0m, in \u001b[0;36mCatBoost._fit\u001b[0;34m(self, X, y, cat_features, text_features, embedding_features, pairs, sample_weight, group_id, group_weight, subgroup_id, pairs_weight, baseline, use_best_model, eval_set, verbose, logging_level, plot, column_description, verbose_eval, metric_period, silent, early_stopping_rounds, save_snapshot, snapshot_file, snapshot_interval, init_model, callbacks, log_cout, log_cerr)\u001b[0m\n\u001b[1;32m   2274\u001b[0m allow_clear_pool \u001b[38;5;241m=\u001b[39m train_params[\u001b[38;5;124m\"\u001b[39m\u001b[38;5;124mallow_clear_pool\u001b[39m\u001b[38;5;124m\"\u001b[39m]\n\u001b[1;32m   2276\u001b[0m \u001b[38;5;28;01mwith\u001b[39;00m log_fixup(log_cout, log_cerr), \\\n\u001b[1;32m   2277\u001b[0m     plot_wrapper(plot, [_get_train_dir(\u001b[38;5;28mself\u001b[39m\u001b[38;5;241m.\u001b[39mget_params())]):\n\u001b[0;32m-> 2278\u001b[0m     \u001b[38;5;28;43mself\u001b[39;49m\u001b[38;5;241;43m.\u001b[39;49m\u001b[43m_train\u001b[49m\u001b[43m(\u001b[49m\n\u001b[1;32m   2279\u001b[0m \u001b[43m        \u001b[49m\u001b[43mtrain_pool\u001b[49m\u001b[43m,\u001b[49m\n\u001b[1;32m   2280\u001b[0m \u001b[43m        \u001b[49m\u001b[43mtrain_params\u001b[49m\u001b[43m[\u001b[49m\u001b[38;5;124;43m\"\u001b[39;49m\u001b[38;5;124;43meval_sets\u001b[39;49m\u001b[38;5;124;43m\"\u001b[39;49m\u001b[43m]\u001b[49m\u001b[43m,\u001b[49m\n\u001b[1;32m   2281\u001b[0m \u001b[43m        \u001b[49m\u001b[43mparams\u001b[49m\u001b[43m,\u001b[49m\n\u001b[1;32m   2282\u001b[0m \u001b[43m        \u001b[49m\u001b[43mallow_clear_pool\u001b[49m\u001b[43m,\u001b[49m\n\u001b[1;32m   2283\u001b[0m \u001b[43m        \u001b[49m\u001b[43mtrain_params\u001b[49m\u001b[43m[\u001b[49m\u001b[38;5;124;43m\"\u001b[39;49m\u001b[38;5;124;43minit_model\u001b[39;49m\u001b[38;5;124;43m\"\u001b[39;49m\u001b[43m]\u001b[49m\n\u001b[1;32m   2284\u001b[0m \u001b[43m    \u001b[49m\u001b[43m)\u001b[49m\n\u001b[1;32m   2286\u001b[0m \u001b[38;5;66;03m# Have property feature_importance possibly set\u001b[39;00m\n\u001b[1;32m   2287\u001b[0m loss \u001b[38;5;241m=\u001b[39m \u001b[38;5;28mself\u001b[39m\u001b[38;5;241m.\u001b[39m_object\u001b[38;5;241m.\u001b[39m_get_loss_function_name()\n",
      "File \u001b[0;32m~/Desktop/cmb/codes/monkey_env/lib/python3.10/site-packages/catboost/core.py:1705\u001b[0m, in \u001b[0;36m_CatBoostBase._train\u001b[0;34m(self, train_pool, test_pool, params, allow_clear_pool, init_model)\u001b[0m\n\u001b[1;32m   1704\u001b[0m \u001b[38;5;28;01mdef\u001b[39;00m \u001b[38;5;21m_train\u001b[39m(\u001b[38;5;28mself\u001b[39m, train_pool, test_pool, params, allow_clear_pool, init_model):\n\u001b[0;32m-> 1705\u001b[0m     \u001b[38;5;28;43mself\u001b[39;49m\u001b[38;5;241;43m.\u001b[39;49m\u001b[43m_object\u001b[49m\u001b[38;5;241;43m.\u001b[39;49m\u001b[43m_train\u001b[49m\u001b[43m(\u001b[49m\u001b[43mtrain_pool\u001b[49m\u001b[43m,\u001b[49m\u001b[43m \u001b[49m\u001b[43mtest_pool\u001b[49m\u001b[43m,\u001b[49m\u001b[43m \u001b[49m\u001b[43mparams\u001b[49m\u001b[43m,\u001b[49m\u001b[43m \u001b[49m\u001b[43mallow_clear_pool\u001b[49m\u001b[43m,\u001b[49m\u001b[43m \u001b[49m\u001b[43minit_model\u001b[49m\u001b[38;5;241;43m.\u001b[39;49m\u001b[43m_object\u001b[49m\u001b[43m \u001b[49m\u001b[38;5;28;43;01mif\u001b[39;49;00m\u001b[43m \u001b[49m\u001b[43minit_model\u001b[49m\u001b[43m \u001b[49m\u001b[38;5;28;43;01melse\u001b[39;49;00m\u001b[43m \u001b[49m\u001b[38;5;28;43;01mNone\u001b[39;49;00m\u001b[43m)\u001b[49m\n\u001b[1;32m   1706\u001b[0m     \u001b[38;5;28mself\u001b[39m\u001b[38;5;241m.\u001b[39m_set_trained_model_attributes()\n",
      "File \u001b[0;32m_catboost.pyx:4585\u001b[0m, in \u001b[0;36m_catboost._CatBoost._train\u001b[0;34m()\u001b[0m\n",
      "File \u001b[0;32m_catboost.pyx:4634\u001b[0m, in \u001b[0;36m_catboost._CatBoost._train\u001b[0;34m()\u001b[0m\n",
      "\u001b[0;31mKeyboardInterrupt\u001b[0m: "
     ]
    }
   ],
   "source": [
    "### Seeing if more iterations will better predict the multi monkey data\n",
    "# Model for predicting lymphocyte counts for a singel monkey\n",
    "model9= CatBoostRegressor(iterations=100000,\n",
    "    learning_rate=0.5,\n",
    "    #loss_function='MultiClass',\n",
    "    #custom_loss=['AUC','Accuracy'],\n",
    "    early_stopping_rounds=5,\n",
    "    #use_best_model=True,\n",
    "    #save_snapshot = True,\n",
    "    #snapshot_file='monkey_snapshot.bkp',\n",
    "    #interval is seconds\n",
    "    #snapshot_interval=120\n",
    ")\n",
    "\n",
    "\n",
    "model9.fit(sreg_X, \n",
    "           sreg_y, \n",
    "           cat_features=cat_features,\n",
    "           #plot=True,\n",
    "           verbose=10000 #tells how many iterations to print\n",
    "         )"
   ]
  },
  {
   "cell_type": "code",
   "execution_count": null,
   "id": "522d9d99-1f8e-4f02-ab9c-82d8a17906fb",
   "metadata": {
    "tags": []
   },
   "outputs": [],
   "source": [
    "### Predicting the multi monkey lymphocytes using the single monkey overfitted model\n",
    "## 100000 iteration, 0.5 learning rate\n",
    "\n",
    "\n",
    "msreg_a = model9.predict(mreg_X_validation)\n",
    "print(len(msreg_a), \n",
    "     )\n",
    "msreg_a_df = pd.DataFrame(msreg_a)\n",
    "#print(msreg_a_df)\n",
    "#print(mreg_y_validation)\n",
    "\n",
    "#r2 is the best metric for accuracy of predictions with continuous data\n",
    "#print('The r2 score for the model is:',r2_score(mreg_y_validation, msreg_a_df))\n",
    "\n",
    "# Plot the predictions vs. actual with the R2 score\n",
    "\n",
    "fig, ax = plt.subplots()\n",
    "ax.scatter(mreg_y_validation, msreg_a_df)\n",
    "\n",
    "\n",
    "ax.plot([mreg_y.min(), mreg_y.max()], [mreg_y.min(), mreg_y.max()], \n",
    "        'k-', \n",
    "        linewidth=1, \n",
    "        markersize=120\n",
    ")\n",
    "\n",
    "ax.set_xlabel('Actual')\n",
    "ax.set_ylabel('Predicted')\n",
    "#regression line\n",
    "#single_y_validation, single_a_df = single_y_validation.reshape(-1,1), single_a_df.reshape(-1,1)\n",
    "#ax.plot(single_y_validation, LinearRegression().fit(single_y_validation, single_a_df).predict(single_y_validation))\n",
    "\n",
    "\n",
    "\n",
    "ax.set_title('R2: ' + str(r2_score(mreg_y_validation, msreg_a_df)))\n",
    "\n",
    "plt.show()"
   ]
  },
  {
   "cell_type": "markdown",
   "id": "d8a91244-5666-4577-9c38-1d2cec5b29bd",
   "metadata": {},
   "source": [
    "### C. Predictions using only the top 5 important features\n",
    "top 5 features found in section 1.a. Using the top 5 features found from each model (single v. multi monkey)"
   ]
  },
  {
   "cell_type": "markdown",
   "id": "2e2ea566-ffe4-47c0-b7bb-631b3fed17a8",
   "metadata": {},
   "source": [
    "### Single Monkey:\n",
    "Top 5 features: \n",
    "- 0 NEUT_(%)\t26.502043\n",
    "- 1\tTYPE\t12.952220\n",
    "- 2\tABS_LYMPH_(/uL)\t12.820068\n",
    "- 3\tEOS_(%)\t11.754037\n",
    "- 4\tRBC_(M/uL)\t11.554449\n"
   ]
  },
  {
   "cell_type": "markdown",
   "id": "8e1cc587-d284-487d-bd7f-66795ec04eda",
   "metadata": {},
   "source": [
    "#### Data Processing"
   ]
  },
  {
   "cell_type": "code",
   "execution_count": 70,
   "id": "76c068b3-f0e4-4720-b8bc-899f65d137c1",
   "metadata": {
    "tags": []
   },
   "outputs": [
    {
     "data": {
      "text/html": [
       "<div>\n",
       "<style scoped>\n",
       "    .dataframe tbody tr th:only-of-type {\n",
       "        vertical-align: middle;\n",
       "    }\n",
       "\n",
       "    .dataframe tbody tr th {\n",
       "        vertical-align: top;\n",
       "    }\n",
       "\n",
       "    .dataframe thead th {\n",
       "        text-align: right;\n",
       "    }\n",
       "</style>\n",
       "<table border=\"1\" class=\"dataframe\">\n",
       "  <thead>\n",
       "    <tr style=\"text-align: right;\">\n",
       "      <th></th>\n",
       "      <th>ID</th>\n",
       "      <th>TYPE</th>\n",
       "      <th>NEUT_(%)</th>\n",
       "      <th>ABS_LYMPH_(/uL)</th>\n",
       "      <th>EOS_(%)</th>\n",
       "      <th>RBC_(M/uL)</th>\n",
       "      <th>LYMPHOCYTES_(%)</th>\n",
       "    </tr>\n",
       "  </thead>\n",
       "  <tbody>\n",
       "    <tr>\n",
       "      <th>49</th>\n",
       "      <td>2046</td>\n",
       "      <td>Clinical</td>\n",
       "      <td>36.9</td>\n",
       "      <td>5130</td>\n",
       "      <td>0.2</td>\n",
       "      <td>6.55</td>\n",
       "      <td>58.3</td>\n",
       "    </tr>\n",
       "    <tr>\n",
       "      <th>50</th>\n",
       "      <td>2046</td>\n",
       "      <td>Research</td>\n",
       "      <td>45.9</td>\n",
       "      <td>3897</td>\n",
       "      <td>0.3</td>\n",
       "      <td>5.56</td>\n",
       "      <td>52.8</td>\n",
       "    </tr>\n",
       "  </tbody>\n",
       "</table>\n",
       "</div>"
      ],
      "text/plain": [
       "      ID      TYPE  NEUT_(%)  ABS_LYMPH_(/uL)  EOS_(%)  RBC_(M/uL)  \\\n",
       "49  2046  Clinical      36.9             5130      0.2        6.55   \n",
       "50  2046  Research      45.9             3897      0.3        5.56   \n",
       "\n",
       "    LYMPHOCYTES_(%)  \n",
       "49             58.3  \n",
       "50             52.8  "
      ]
     },
     "execution_count": 70,
     "metadata": {},
     "output_type": "execute_result"
    }
   ],
   "source": [
    "### Make the reduced df\n",
    "\n",
    "#make a parent df\n",
    "single_minbio_df.copy()\n",
    "sred_reg_df = single_minbio_df[['ID', 'TYPE', 'NEUT_(%)', 'ABS_LYMPH_(/uL)',\n",
    "                                'EOS_(%)','RBC_(M/uL)', 'LYMPHOCYTES_(%)']]\n",
    "sred_reg_df.tail(2)\n"
   ]
  },
  {
   "cell_type": "code",
   "execution_count": 71,
   "id": "2841a17f-eb6e-49ba-a22c-63a47e7e3f44",
   "metadata": {
    "tags": []
   },
   "outputs": [
    {
     "name": "stdout",
     "output_type": "stream",
     "text": [
      "[0]\n"
     ]
    },
    {
     "name": "stderr",
     "output_type": "stream",
     "text": [
      "iteritems is deprecated and will be removed in a future version. Use .items instead.\n"
     ]
    }
   ],
   "source": [
    "### Process data for ML\n",
    "#make train/testdf\n",
    "(sred_reg_train_df, sred_reg_test_df)= sred_reg_df, sred_reg_df\n",
    "\n",
    "#sreg_test_df.tail(2)\n",
    "\n",
    "# label values extraction\n",
    "sred_reg_y=sred_reg_train_df['LYMPHOCYTES_(%)']\n",
    "sred_reg_X=sred_reg_train_df.drop(['ID','LYMPHOCYTES_(%)'],axis=1)\n",
    "\n",
    "#reg_y.tail()\n",
    "#sred_reg_X.columns\n",
    "\n",
    "#sred_reg_y.to_numpy()\n",
    "\n",
    "# Declare catagorical features - first column\n",
    "cat_features= list(range(0,sred_reg_X[sred_reg_X.columns[:1]].shape[1]))\n",
    "\n",
    "print(cat_features)\n",
    "\n",
    "# all of our labels are catagorical\n",
    "\n",
    "#put the data into the pool\n",
    "sred_reg_pool = Pool(data=sred_reg_X, label=sred_reg_y, cat_features=cat_features)\n",
    "\n",
    "\n",
    "#train tesr split - 30% test\n",
    "sred_reg_data= train_test_split(sred_reg_X, sred_reg_y, test_size=0.3, random_state=0)\n",
    "\n",
    "#### The order of this matters###\n",
    "sred_reg_X_train, sred_reg_X_validation, sred_reg_y_train, sred_reg_y_validation= sred_reg_data\n",
    "\n",
    "sred_reg_train_pool = Pool(\n",
    "    data = sred_reg_X_train,\n",
    "    label = sred_reg_y_train,\n",
    "    cat_features = cat_features\n",
    ")\n",
    "\n",
    "sred_reg_validation_pool = Pool(\n",
    "    data = sred_reg_X_validation,\n",
    "    label = sred_reg_y_validation,\n",
    "    cat_features = cat_features\n",
    ")\n",
    "\n"
   ]
  },
  {
   "cell_type": "markdown",
   "id": "67472455-3c18-41b9-bda5-e152ed1440bd",
   "metadata": {},
   "source": [
    "#### Model Formation"
   ]
  },
  {
   "cell_type": "code",
   "execution_count": 72,
   "id": "a39ac917-6188-4195-8ffb-e2cd1f0eee25",
   "metadata": {
    "tags": []
   },
   "outputs": [
    {
     "name": "stdout",
     "output_type": "stream",
     "text": [
      "0:\tlearn: 10.8658171\ttotal: 224us\tremaining: 672us\n",
      "1:\tlearn: 8.3596623\ttotal: 406us\tremaining: 406us\n",
      "2:\tlearn: 7.1663548\ttotal: 637us\tremaining: 212us\n",
      "3:\tlearn: 6.1039802\ttotal: 1.39ms\tremaining: 0us\n"
     ]
    },
    {
     "data": {
      "text/plain": [
       "<catboost.core.CatBoostRegressor at 0x7fa2714dfaf0>"
      ]
     },
     "execution_count": 72,
     "metadata": {},
     "output_type": "execute_result"
    }
   ],
   "source": [
    "### Making a model with the same perameters but with only the top 5 important features\n",
    "# rEgression for multiple monkey predicitons\n",
    "model10= CatBoostRegressor(iterations=4,\n",
    "    learning_rate=0.5,\n",
    "    #loss_function='MultiClass',\n",
    "    #custom_loss=['AUC','Accuracy'],\n",
    "    early_stopping_rounds=5,\n",
    "    #use_best_model=True,\n",
    "    #save_snapshot = True,\n",
    "    #snapshot_file='monkey_snapshot.bkp',\n",
    "    #interval is seconds\n",
    "    #snapshot_interval=120\n",
    ")\n",
    "\n",
    "model10.fit(sred_reg_X, \n",
    "           sred_reg_y, \n",
    "           cat_features=cat_features, \n",
    "          # verbose=100 #tells how many iterations to print\n",
    "         )\n"
   ]
  },
  {
   "cell_type": "markdown",
   "id": "56b13a31-bdcf-4871-987a-34818e680de6",
   "metadata": {},
   "source": [
    "#### Predictions"
   ]
  },
  {
   "cell_type": "code",
   "execution_count": 73,
   "id": "00874cd4-69a0-4e88-8dda-3a5c9e41f5de",
   "metadata": {
    "tags": []
   },
   "outputs": [
    {
     "name": "stdout",
     "output_type": "stream",
     "text": [
      "6\n"
     ]
    },
    {
     "data": {
      "image/png": "[encoded data removed]",
      "text/plain": [
       "<Figure size 640x480 with 1 Axes>"
      ]
     },
     "metadata": {},
     "output_type": "display_data"
    }
   ],
   "source": [
    "### Predicting the single monkey lymphocyte levels using the mult monkey model\n",
    "## 2 iteration, 0.5 learning rate\n",
    "\n",
    "sred_reg_a = model10.predict(sred_reg_X_validation)\n",
    "print(len(sred_reg_a), \n",
    "     )\n",
    "sred_reg_a_df = pd.DataFrame(sred_reg_a)\n",
    "#print(sred_reg_a_df)\n",
    "#print(sred_reg_y_validation)\n",
    "\n",
    "#r2 is the best metric for accuracy of predictions with continuous data\n",
    "#print('The r2 score for the model is:',r2_score(sreg_y_validation, smreg_a_df))\n",
    "\n",
    "# Plot the predictions vs. actual with the R2 score\n",
    "\n",
    "fig, ax = plt.subplots()\n",
    "ax.scatter(sred_reg_y_validation, sred_reg_a_df)\n",
    "\n",
    "\n",
    "ax.plot([sred_reg_y.min(), sred_reg_y.max()], [sred_reg_y.min(), sred_reg_y.max()], \n",
    "        'k-', \n",
    "        linewidth=1, \n",
    "        markersize=120\n",
    ")\n",
    "\n",
    "ax.set_xlabel('Actual')\n",
    "ax.set_ylabel('Predicted')\n",
    "#regression line\n",
    "#single_y_validation, single_a_df = single_y_validation.reshape(-1,1), single_a_df.reshape(-1,1)\n",
    "#ax.plot(single_y_validation, LinearRegression().fit(single_y_validation, single_a_df).predict(single_y_validation))\n",
    "\n",
    "\n",
    "\n",
    "ax.set_title('R2: ' + str(r2_score(sred_reg_y_validation, sred_reg_a_df)))\n",
    "\n",
    "plt.show()"
   ]
  },
  {
   "cell_type": "markdown",
   "id": "8f3e1fcf-87c6-4789-ac6f-1c4f8c491d82",
   "metadata": {},
   "source": [
    "### Multi Monkey\n",
    "Top 5 features:\n",
    "- 0 NEUT_(%)\t92.324836\n",
    "- 1\tABS_LYMPH_(/uL)\t3.185803\n",
    "- 2\tABS_MONO_(/uL)\t2.682848\n",
    "-  3\tEOS_(%)\t1.198216\n",
    "- 4\tHemaglobin_(HGB_g/dL)\t0.559005\n",
    "\n",
    "Also try with just NEUT_(%) since it is so heavily weighted"
   ]
  },
  {
   "cell_type": "markdown",
   "id": "c7dbc043-f499-434b-b826-5109ad43551a",
   "metadata": {},
   "source": [
    "#### Data Processing"
   ]
  },
  {
   "cell_type": "code",
   "execution_count": 74,
   "id": "4f9211c7-9806-428a-b499-5f6bf3c26503",
   "metadata": {
    "tags": []
   },
   "outputs": [
    {
     "data": {
      "text/html": [
       "<div>\n",
       "<style scoped>\n",
       "    .dataframe tbody tr th:only-of-type {\n",
       "        vertical-align: middle;\n",
       "    }\n",
       "\n",
       "    .dataframe tbody tr th {\n",
       "        vertical-align: top;\n",
       "    }\n",
       "\n",
       "    .dataframe thead th {\n",
       "        text-align: right;\n",
       "    }\n",
       "</style>\n",
       "<table border=\"1\" class=\"dataframe\">\n",
       "  <thead>\n",
       "    <tr style=\"text-align: right;\">\n",
       "      <th></th>\n",
       "      <th>ID</th>\n",
       "      <th>ABS_MONO_(/uL)</th>\n",
       "      <th>NEUT_(%)</th>\n",
       "      <th>ABS_LYMPH_(/uL)</th>\n",
       "      <th>EOS_(%)</th>\n",
       "      <th>Hemaglobin_(HGB_g/dL)</th>\n",
       "      <th>LYMPHOCYTES_(%)</th>\n",
       "    </tr>\n",
       "  </thead>\n",
       "  <tbody>\n",
       "    <tr>\n",
       "      <th>4550</th>\n",
       "      <td>2210</td>\n",
       "      <td>632</td>\n",
       "      <td>51.2</td>\n",
       "      <td>2100</td>\n",
       "      <td>1.7</td>\n",
       "      <td>13.2</td>\n",
       "      <td>36.2</td>\n",
       "    </tr>\n",
       "    <tr>\n",
       "      <th>4551</th>\n",
       "      <td>2210</td>\n",
       "      <td>1176</td>\n",
       "      <td>60.0</td>\n",
       "      <td>896</td>\n",
       "      <td>3.0</td>\n",
       "      <td>13.2</td>\n",
       "      <td>16.0</td>\n",
       "    </tr>\n",
       "  </tbody>\n",
       "</table>\n",
       "</div>"
      ],
      "text/plain": [
       "        ID  ABS_MONO_(/uL)  NEUT_(%)  ABS_LYMPH_(/uL)  EOS_(%)  \\\n",
       "4550  2210             632      51.2             2100      1.7   \n",
       "4551  2210            1176      60.0              896      3.0   \n",
       "\n",
       "      Hemaglobin_(HGB_g/dL)  LYMPHOCYTES_(%)  \n",
       "4550                   13.2             36.2  \n",
       "4551                   13.2             16.0  "
      ]
     },
     "execution_count": 74,
     "metadata": {},
     "output_type": "execute_result"
    }
   ],
   "source": [
    "### Make the reduced df\n",
    "\n",
    "#make a parent df\n",
    "minbio_monkey_df.copy()\n",
    "mred_reg_df = minbio_monkey_df[['ID', 'ABS_MONO_(/uL)', 'NEUT_(%)', 'ABS_LYMPH_(/uL)',\n",
    "                                'EOS_(%)','Hemaglobin_(HGB_g/dL)', 'LYMPHOCYTES_(%)']]\n",
    "mred_reg_df.tail(2)\n"
   ]
  },
  {
   "cell_type": "code",
   "execution_count": 75,
   "id": "e1d8ef0a-06be-4a0c-9fd0-8195d7085c84",
   "metadata": {
    "tags": []
   },
   "outputs": [
    {
     "name": "stdout",
     "output_type": "stream",
     "text": [
      "[0]\n"
     ]
    },
    {
     "name": "stderr",
     "output_type": "stream",
     "text": [
      "iteritems is deprecated and will be removed in a future version. Use .items instead.\n"
     ]
    }
   ],
   "source": [
    "### Process data for ML\n",
    "#make train/testdf\n",
    "(mred_reg_train_df, mred_reg_test_df)= mred_reg_df, mred_reg_df\n",
    "\n",
    "\n",
    "# label values extraction\n",
    "mred_reg_y=mred_reg_train_df['LYMPHOCYTES_(%)']\n",
    "mred_reg_X=mred_reg_train_df.drop(['ID','LYMPHOCYTES_(%)'],axis=1)\n",
    "\n",
    "\n",
    "# Declare catagorical features - first & second column\n",
    "cat_features= list(range(0,mred_reg_X[mred_reg_X.columns[:1]].shape[1]))\n",
    "\n",
    "print(cat_features)\n",
    "\n",
    "\n",
    "#put the data into the pool\n",
    "mred_reg_pool = Pool(data=mred_reg_X, label=mred_reg_y, cat_features=cat_features)\n",
    "\n",
    "\n",
    "#train tesr split - 30% test\n",
    "mred_reg_data= train_test_split(mred_reg_X, mred_reg_y, test_size=0.3, random_state=0)\n",
    "\n",
    "#### The order of this matters###\n",
    "mred_reg_X_train, mred_reg_X_validation, mred_reg_y_train, mred_reg_y_validation= mred_reg_data\n",
    "\n",
    "mred_reg_train_pool = Pool(\n",
    "    data = mred_reg_X_train,\n",
    "    label = mred_reg_y_train,\n",
    "    cat_features = cat_features\n",
    ")\n",
    "\n",
    "mred_reg_validation_pool = Pool(\n",
    "    data = mred_reg_X_validation,\n",
    "    label = mred_reg_y_validation,\n",
    "    cat_features = cat_features\n",
    ")\n",
    "\n"
   ]
  },
  {
   "cell_type": "markdown",
   "id": "fc8b8513-5742-4b6c-b595-d9347a2aec19",
   "metadata": {},
   "source": [
    "#### Model Formation"
   ]
  },
  {
   "cell_type": "code",
   "execution_count": 76,
   "id": "4bb12fb9-e0cf-4782-9b76-8eb157a2f260",
   "metadata": {
    "tags": []
   },
   "outputs": [
    {
     "name": "stdout",
     "output_type": "stream",
     "text": [
      "0:\tlearn: 9.0561659\ttotal: 2.12ms\tremaining: 2.12ms\n",
      "1:\tlearn: 5.6939955\ttotal: 3.92ms\tremaining: 0us\n"
     ]
    },
    {
     "data": {
      "text/plain": [
       "<catboost.core.CatBoostRegressor at 0x7fa256109bd0>"
      ]
     },
     "execution_count": 76,
     "metadata": {},
     "output_type": "execute_result"
    }
   ],
   "source": [
    "### Making a model with the same perameters but with only the top 5 important features\n",
    "# regression for multiple monkey predicitons\n",
    "model11= CatBoostRegressor(iterations=2,\n",
    "    learning_rate=0.5,\n",
    "    #loss_function='MultiClass',\n",
    "    #custom_loss=['AUC','Accuracy'],\n",
    "    early_stopping_rounds=5,\n",
    "    #use_best_model=True,\n",
    "    #save_snapshot = True,\n",
    "    #snapshot_file='monkey_snapshot.bkp',\n",
    "    #interval is seconds\n",
    "    #snapshot_interval=120\n",
    ")\n",
    "\n",
    "model11.fit(mred_reg_X, \n",
    "           mred_reg_y, \n",
    "           cat_features=cat_features, \n",
    "          # verbose=100 #tells how many iterations to print\n",
    "         )\n"
   ]
  },
  {
   "cell_type": "markdown",
   "id": "e23650a5-8fa3-4e96-bdce-c3db6ce2ea00",
   "metadata": {},
   "source": [
    "#### Predicting multi-monkey lymphocytes"
   ]
  },
  {
   "cell_type": "code",
   "execution_count": 77,
   "id": "b2de9a3d-013f-4b69-a2da-eca94fcd0f02",
   "metadata": {
    "tags": []
   },
   "outputs": [
    {
     "name": "stdout",
     "output_type": "stream",
     "text": [
      "1366\n"
     ]
    },
    {
     "data": {
      "image/png": "[encoded data removed]",
      "text/plain": [
       "<Figure size 640x480 with 1 Axes>"
      ]
     },
     "metadata": {},
     "output_type": "display_data"
    }
   ],
   "source": [
    "### Predicting the single monkey lymphocyte levels using the mult monkey model\n",
    "## 2 iteration, 0.5 learning rate\n",
    "\n",
    "mred_reg_a = model11.predict(mred_reg_X_validation)\n",
    "print(len(mred_reg_a), \n",
    "     )\n",
    "mred_reg_a_df = pd.DataFrame(mred_reg_a)\n",
    "#print(sred_reg_a_df)\n",
    "#print(sred_reg_y_validation)\n",
    "\n",
    "#r2 is the best metric for accuracy of predictions with continuous data\n",
    "#print('The r2 score for the model is:',r2_score(sreg_y_validation, smreg_a_df))\n",
    "\n",
    "# Plot the predictions vs. actual with the R2 score\n",
    "\n",
    "fig, ax = plt.subplots()\n",
    "ax.scatter(mred_reg_y_validation, mred_reg_a_df)\n",
    "\n",
    "\n",
    "ax.plot([mred_reg_y.min(), mred_reg_y.max()], [mred_reg_y.min(), mred_reg_y.max()], \n",
    "        'k-', \n",
    "        linewidth=1, \n",
    "        markersize=120\n",
    ")\n",
    "\n",
    "ax.set_xlabel('Actual')\n",
    "ax.set_ylabel('Predicted')\n",
    "#regression line\n",
    "#single_y_validation, single_a_df = single_y_validation.reshape(-1,1), single_a_df.reshape(-1,1)\n",
    "#ax.plot(single_y_validation, LinearRegression().fit(single_y_validation, single_a_df).predict(single_y_validation))\n",
    "\n",
    "\n",
    "\n",
    "ax.set_title('R2: ' + str(r2_score(mred_reg_y_validation, mred_reg_a_df)))\n",
    "\n",
    "plt.show()"
   ]
  },
  {
   "cell_type": "markdown",
   "id": "02984847-c405-4f83-901e-166b9c89cc6c",
   "metadata": {},
   "source": [
    "#### Predicting single-monkey lymphocytes\n",
    "Needs the same features to directly compare"
   ]
  },
  {
   "cell_type": "code",
   "execution_count": 78,
   "id": "dc530ddb-b8e0-4148-b8d8-52d52958d628",
   "metadata": {
    "tags": []
   },
   "outputs": [
    {
     "name": "stderr",
     "output_type": "stream",
     "text": [
      "iteritems is deprecated and will be removed in a future version. Use .items instead.\n"
     ]
    },
    {
     "ename": "CatBoostError",
     "evalue": "catboost/libs/data/model_dataset_compatibility.cpp:81: At position 4 should be feature with name Hemaglobin_(HGB_g/dL) (found RBC_(M/uL)).",
     "output_type": "error",
     "traceback": [
      "\u001b[0;31m---------------------------------------------------------------------------\u001b[0m",
      "\u001b[0;31mCatBoostError\u001b[0m                             Traceback (most recent call last)",
      "Cell \u001b[0;32mIn[78], line 4\u001b[0m\n\u001b[1;32m      1\u001b[0m \u001b[38;5;66;03m### Predicting the single monkey lymphocyte levels using the mult monkey model\u001b[39;00m\n\u001b[1;32m      2\u001b[0m \u001b[38;5;66;03m## 2 iteration, 0.5 learning rate\u001b[39;00m\n\u001b[0;32m----> 4\u001b[0m smred_reg_a \u001b[38;5;241m=\u001b[39m \u001b[43mmodel11\u001b[49m\u001b[38;5;241;43m.\u001b[39;49m\u001b[43mpredict\u001b[49m\u001b[43m(\u001b[49m\u001b[43msred_reg_X_validation\u001b[49m\u001b[43m)\u001b[49m\n\u001b[1;32m      5\u001b[0m \u001b[38;5;28mprint\u001b[39m(\u001b[38;5;28mlen\u001b[39m(smred_reg_a), \n\u001b[1;32m      6\u001b[0m      )\n\u001b[1;32m      7\u001b[0m smred_reg_a_df \u001b[38;5;241m=\u001b[39m pd\u001b[38;5;241m.\u001b[39mDataFrame(smred_reg_a)\n",
      "File \u001b[0;32m~/Desktop/cmb/codes/monkey_env/lib/python3.10/site-packages/catboost/core.py:5635\u001b[0m, in \u001b[0;36mCatBoostRegressor.predict\u001b[0;34m(self, data, prediction_type, ntree_start, ntree_end, thread_count, verbose, task_type)\u001b[0m\n\u001b[1;32m   5633\u001b[0m \u001b[38;5;28;01mif\u001b[39;00m prediction_type \u001b[38;5;129;01mis\u001b[39;00m \u001b[38;5;28;01mNone\u001b[39;00m:\n\u001b[1;32m   5634\u001b[0m     prediction_type \u001b[38;5;241m=\u001b[39m \u001b[38;5;28mself\u001b[39m\u001b[38;5;241m.\u001b[39m_get_default_prediction_type()\n\u001b[0;32m-> 5635\u001b[0m \u001b[38;5;28;01mreturn\u001b[39;00m \u001b[38;5;28;43mself\u001b[39;49m\u001b[38;5;241;43m.\u001b[39;49m\u001b[43m_predict\u001b[49m\u001b[43m(\u001b[49m\u001b[43mdata\u001b[49m\u001b[43m,\u001b[49m\u001b[43m \u001b[49m\u001b[43mprediction_type\u001b[49m\u001b[43m,\u001b[49m\u001b[43m \u001b[49m\u001b[43mntree_start\u001b[49m\u001b[43m,\u001b[49m\u001b[43m \u001b[49m\u001b[43mntree_end\u001b[49m\u001b[43m,\u001b[49m\u001b[43m \u001b[49m\u001b[43mthread_count\u001b[49m\u001b[43m,\u001b[49m\u001b[43m \u001b[49m\u001b[43mverbose\u001b[49m\u001b[43m,\u001b[49m\u001b[43m \u001b[49m\u001b[38;5;124;43m'\u001b[39;49m\u001b[38;5;124;43mpredict\u001b[39;49m\u001b[38;5;124;43m'\u001b[39;49m\u001b[43m,\u001b[49m\u001b[43m \u001b[49m\u001b[43mtask_type\u001b[49m\u001b[43m)\u001b[49m\n",
      "File \u001b[0;32m~/Desktop/cmb/codes/monkey_env/lib/python3.10/site-packages/catboost/core.py:2461\u001b[0m, in \u001b[0;36mCatBoost._predict\u001b[0;34m(self, data, prediction_type, ntree_start, ntree_end, thread_count, verbose, parent_method_name, task_type)\u001b[0m\n\u001b[1;32m   2458\u001b[0m data, data_is_single_object \u001b[38;5;241m=\u001b[39m \u001b[38;5;28mself\u001b[39m\u001b[38;5;241m.\u001b[39m_process_predict_input_data(data, parent_method_name, thread_count)\n\u001b[1;32m   2459\u001b[0m \u001b[38;5;28mself\u001b[39m\u001b[38;5;241m.\u001b[39m_validate_prediction_type(prediction_type)\n\u001b[0;32m-> 2461\u001b[0m predictions \u001b[38;5;241m=\u001b[39m \u001b[38;5;28;43mself\u001b[39;49m\u001b[38;5;241;43m.\u001b[39;49m\u001b[43m_base_predict\u001b[49m\u001b[43m(\u001b[49m\u001b[43mdata\u001b[49m\u001b[43m,\u001b[49m\u001b[43m \u001b[49m\u001b[43mprediction_type\u001b[49m\u001b[43m,\u001b[49m\u001b[43m \u001b[49m\u001b[43mntree_start\u001b[49m\u001b[43m,\u001b[49m\u001b[43m \u001b[49m\u001b[43mntree_end\u001b[49m\u001b[43m,\u001b[49m\u001b[43m \u001b[49m\u001b[43mthread_count\u001b[49m\u001b[43m,\u001b[49m\u001b[43m \u001b[49m\u001b[43mverbose\u001b[49m\u001b[43m,\u001b[49m\u001b[43m \u001b[49m\u001b[43mtask_type\u001b[49m\u001b[43m)\u001b[49m\n\u001b[1;32m   2462\u001b[0m \u001b[38;5;28;01mreturn\u001b[39;00m predictions[\u001b[38;5;241m0\u001b[39m] \u001b[38;5;28;01mif\u001b[39;00m data_is_single_object \u001b[38;5;28;01melse\u001b[39;00m predictions\n",
      "File \u001b[0;32m~/Desktop/cmb/codes/monkey_env/lib/python3.10/site-packages/catboost/core.py:1757\u001b[0m, in \u001b[0;36m_CatBoostBase._base_predict\u001b[0;34m(self, pool, prediction_type, ntree_start, ntree_end, thread_count, verbose, task_type)\u001b[0m\n\u001b[1;32m   1756\u001b[0m \u001b[38;5;28;01mdef\u001b[39;00m \u001b[38;5;21m_base_predict\u001b[39m(\u001b[38;5;28mself\u001b[39m, pool, prediction_type, ntree_start, ntree_end, thread_count, verbose, task_type):\n\u001b[0;32m-> 1757\u001b[0m     \u001b[38;5;28;01mreturn\u001b[39;00m \u001b[38;5;28;43mself\u001b[39;49m\u001b[38;5;241;43m.\u001b[39;49m\u001b[43m_object\u001b[49m\u001b[38;5;241;43m.\u001b[39;49m\u001b[43m_base_predict\u001b[49m\u001b[43m(\u001b[49m\u001b[43mpool\u001b[49m\u001b[43m,\u001b[49m\u001b[43m \u001b[49m\u001b[43mprediction_type\u001b[49m\u001b[43m,\u001b[49m\u001b[43m \u001b[49m\u001b[43mntree_start\u001b[49m\u001b[43m,\u001b[49m\u001b[43m \u001b[49m\u001b[43mntree_end\u001b[49m\u001b[43m,\u001b[49m\u001b[43m \u001b[49m\u001b[43mthread_count\u001b[49m\u001b[43m,\u001b[49m\u001b[43m \u001b[49m\u001b[43mverbose\u001b[49m\u001b[43m,\u001b[49m\u001b[43m \u001b[49m\u001b[43mtask_type\u001b[49m\u001b[43m)\u001b[49m\n",
      "File \u001b[0;32m_catboost.pyx:4721\u001b[0m, in \u001b[0;36m_catboost._CatBoost._base_predict\u001b[0;34m()\u001b[0m\n",
      "File \u001b[0;32m_catboost.pyx:4728\u001b[0m, in \u001b[0;36m_catboost._CatBoost._base_predict\u001b[0;34m()\u001b[0m\n",
      "\u001b[0;31mCatBoostError\u001b[0m: catboost/libs/data/model_dataset_compatibility.cpp:81: At position 4 should be feature with name Hemaglobin_(HGB_g/dL) (found RBC_(M/uL))."
     ]
    }
   ],
   "source": [
    "### Predicting the single monkey lymphocyte levels using the mult monkey model\n",
    "## 2 iteration, 0.5 learning rate\n",
    "\n",
    "smred_reg_a = model11.predict(sred_reg_X_validation)\n",
    "print(len(smred_reg_a), \n",
    "     )\n",
    "smred_reg_a_df = pd.DataFrame(smred_reg_a)\n",
    "#print(sred_reg_a_df)\n",
    "#print(sred_reg_y_validation)\n",
    "\n",
    "#r2 is the best metric for accuracy of predictions with continuous data\n",
    "#print('The r2 score for the model is:',r2_score(sreg_y_validation, smreg_a_df))\n",
    "\n",
    "# Plot the predictions vs. actual with the R2 score\n",
    "\n",
    "fig, ax = plt.subplots()\n",
    "ax.scatter(sred_reg_y_validation, smred_reg_a_df)\n",
    "\n",
    "\n",
    "ax.plot([sred_reg_y.min(), sred_reg_y.max()], [sred_reg_y.min(), sred_reg_y.max()], \n",
    "        'k-', \n",
    "        linewidth=1, \n",
    "        markersize=120\n",
    ")\n",
    "\n",
    "ax.set_xlabel('Actual')\n",
    "ax.set_ylabel('Predicted')\n",
    "#regression line\n",
    "#single_y_validation, single_a_df = single_y_validation.reshape(-1,1), single_a_df.reshape(-1,1)\n",
    "#ax.plot(single_y_validation, LinearRegression().fit(single_y_validation, single_a_df).predict(single_y_validation))\n",
    "\n",
    "\n",
    "\n",
    "ax.set_title('R2: ' + str(r2_score(sred_reg_y_validation, smred_reg_a_df)))\n",
    "\n",
    "plt.show()"
   ]
  },
  {
   "cell_type": "markdown",
   "id": "60a01f7b-e40d-4839-ad36-5afa5ab2aed4",
   "metadata": {},
   "source": [
    "### D. Predicting lymphocytes with only the irradiation data\n"
   ]
  },
  {
   "cell_type": "markdown",
   "id": "18951e2b-6fe7-4e1f-8965-c37cd1c7776e",
   "metadata": {},
   "source": [
    "#### Multi Monkey only\n",
    "No variation for single monkey model formation"
   ]
  },
  {
   "cell_type": "markdown",
   "id": "e0e9c1a1-9c13-4e56-a243-f3f503bdabe0",
   "metadata": {},
   "source": [
    "##### Data processing"
   ]
  },
  {
   "cell_type": "code",
   "execution_count": 79,
   "id": "80bbab3e-7419-47bc-9553-13db330a34e0",
   "metadata": {
    "tags": []
   },
   "outputs": [
    {
     "data": {
      "text/html": [
       "<div>\n",
       "<style scoped>\n",
       "    .dataframe tbody tr th:only-of-type {\n",
       "        vertical-align: middle;\n",
       "    }\n",
       "\n",
       "    .dataframe tbody tr th {\n",
       "        vertical-align: top;\n",
       "    }\n",
       "\n",
       "    .dataframe thead th {\n",
       "        text-align: right;\n",
       "    }\n",
       "</style>\n",
       "<table border=\"1\" class=\"dataframe\">\n",
       "  <thead>\n",
       "    <tr style=\"text-align: right;\">\n",
       "      <th></th>\n",
       "      <th>ID</th>\n",
       "      <th>IRRAD</th>\n",
       "      <th>SEX</th>\n",
       "      <th>DAYS_SINCE_IRRAD</th>\n",
       "      <th>MONTHS_SINCE_IRRAD</th>\n",
       "      <th>MONTHS AT IRRAD</th>\n",
       "      <th>DOSE_(Gy)</th>\n",
       "      <th>AGE</th>\n",
       "      <th>LYMPHOCYTES_(%)</th>\n",
       "    </tr>\n",
       "  </thead>\n",
       "  <tbody>\n",
       "    <tr>\n",
       "      <th>4550</th>\n",
       "      <td>2210</td>\n",
       "      <td>No</td>\n",
       "      <td>F</td>\n",
       "      <td>NaN</td>\n",
       "      <td>NaN</td>\n",
       "      <td>NaN</td>\n",
       "      <td>NaN</td>\n",
       "      <td>25.5</td>\n",
       "      <td>36.2</td>\n",
       "    </tr>\n",
       "    <tr>\n",
       "      <th>4551</th>\n",
       "      <td>2210</td>\n",
       "      <td>No</td>\n",
       "      <td>F</td>\n",
       "      <td>NaN</td>\n",
       "      <td>NaN</td>\n",
       "      <td>NaN</td>\n",
       "      <td>NaN</td>\n",
       "      <td>22.8</td>\n",
       "      <td>16.0</td>\n",
       "    </tr>\n",
       "  </tbody>\n",
       "</table>\n",
       "</div>"
      ],
      "text/plain": [
       "        ID IRRAD SEX  DAYS_SINCE_IRRAD  MONTHS_SINCE_IRRAD  MONTHS AT IRRAD  \\\n",
       "4550  2210    No   F               NaN                 NaN              NaN   \n",
       "4551  2210    No   F               NaN                 NaN              NaN   \n",
       "\n",
       "      DOSE_(Gy)   AGE  LYMPHOCYTES_(%)  \n",
       "4550        NaN  25.5             36.2  \n",
       "4551        NaN  22.8             16.0  "
      ]
     },
     "execution_count": 79,
     "metadata": {},
     "output_type": "execute_result"
    }
   ],
   "source": [
    "### Make the reduced df\n",
    "\n",
    "#make a parent df\n",
    "minbio_monkey_df.copy()\n",
    "mrad_reg_df = minbio_monkey_df[['ID', 'IRRAD', 'SEX', 'DAYS_SINCE_IRRAD', 'MONTHS_SINCE_IRRAD', 'MONTHS AT IRRAD',\n",
    "       'DOSE_(Gy)', 'AGE', 'LYMPHOCYTES_(%)']]\n",
    "mrad_reg_df.tail(2)\n"
   ]
  },
  {
   "cell_type": "code",
   "execution_count": 80,
   "id": "a8d05c08-c2a1-4ee7-aa23-9e1698403f37",
   "metadata": {
    "tags": []
   },
   "outputs": [
    {
     "name": "stdout",
     "output_type": "stream",
     "text": [
      "[0, 1]\n"
     ]
    },
    {
     "name": "stderr",
     "output_type": "stream",
     "text": [
      "iteritems is deprecated and will be removed in a future version. Use .items instead.\n"
     ]
    }
   ],
   "source": [
    "### Process data for ML\n",
    "#make train/testdf\n",
    "(mrad_reg_train_df, mrad_reg_test_df)= mrad_reg_df, mrad_reg_df\n",
    "\n",
    "\n",
    "# label values extraction\n",
    "mrad_reg_y=mrad_reg_train_df['LYMPHOCYTES_(%)']\n",
    "mrad_reg_X=mrad_reg_train_df.drop(['ID','LYMPHOCYTES_(%)'],axis=1)\n",
    "\n",
    "\n",
    "# Declare catagorical features - first & second column\n",
    "cat_features= list(range(0,mrad_reg_X[mrad_reg_X.columns[:2]].shape[1]))\n",
    "\n",
    "print(cat_features)\n",
    "\n",
    "\n",
    "#put the data into the pool\n",
    "mrad_reg_pool = Pool(data=mrad_reg_X, label=mrad_reg_y, cat_features=cat_features)\n",
    "\n",
    "\n",
    "#train tesr split - 30% test\n",
    "mrad_reg_data= train_test_split(mrad_reg_X, mrad_reg_y, test_size=0.3, random_state=0)\n",
    "\n",
    "#### The order of this matters###\n",
    "mrad_reg_X_train, mrad_reg_X_validation, mrad_reg_y_train, mrad_reg_y_validation= mrad_reg_data\n",
    "\n",
    "mrad_reg_train_pool = Pool(\n",
    "    data = mrad_reg_X_train,\n",
    "    label = mrad_reg_y_train,\n",
    "    cat_features = cat_features\n",
    ")\n",
    "\n",
    "mrad_reg_validation_pool = Pool(\n",
    "    data = mrad_reg_X_validation,\n",
    "    label = mrad_reg_y_validation,\n",
    "    cat_features = cat_features\n",
    ")\n",
    "\n"
   ]
  },
  {
   "cell_type": "markdown",
   "id": "fcbe8b92-19ff-402f-9a40-0b1258bc70e9",
   "metadata": {},
   "source": [
    "##### Model Formation"
   ]
  },
  {
   "cell_type": "code",
   "execution_count": 81,
   "id": "d010dbc3-5b5c-4929-bc8c-91f0fdb1a057",
   "metadata": {
    "tags": []
   },
   "outputs": [
    {
     "name": "stdout",
     "output_type": "stream",
     "text": [
      "0:\tlearn: 14.8524382\ttotal: 2.48ms\tremaining: 2.48s\n",
      "100:\tlearn: 11.4650605\ttotal: 364ms\tremaining: 3.24s\n",
      "200:\tlearn: 10.4762500\ttotal: 499ms\tremaining: 1.98s\n",
      "300:\tlearn: 9.8396659\ttotal: 621ms\tremaining: 1.44s\n",
      "400:\tlearn: 9.3452165\ttotal: 726ms\tremaining: 1.08s\n",
      "500:\tlearn: 8.9539214\ttotal: 825ms\tremaining: 822ms\n",
      "600:\tlearn: 8.6488356\ttotal: 927ms\tremaining: 615ms\n",
      "700:\tlearn: 8.4305616\ttotal: 1.03s\tremaining: 439ms\n",
      "800:\tlearn: 8.2397296\ttotal: 1.13s\tremaining: 280ms\n",
      "900:\tlearn: 8.0563111\ttotal: 1.23s\tremaining: 135ms\n",
      "999:\tlearn: 7.9163296\ttotal: 1.34s\tremaining: 0us\n"
     ]
    },
    {
     "data": {
      "text/plain": [
       "<catboost.core.CatBoostRegressor at 0x7fa2562b3eb0>"
      ]
     },
     "execution_count": 81,
     "metadata": {},
     "output_type": "execute_result"
    }
   ],
   "source": [
    "### Making a model with the same perameters but with only the top 5 important features\n",
    "# regression for multiple monkey predicitons\n",
    "model12= CatBoostRegressor(iterations=1000,\n",
    "    learning_rate=0.5,\n",
    "    #loss_function='MultiClass',\n",
    "    #custom_loss=['AUC','Accuracy'],\n",
    "    early_stopping_rounds=5,\n",
    "    #use_best_model=True,\n",
    "    #save_snapshot = True,\n",
    "    #snapshot_file='monkey_snapshot.bkp',\n",
    "    #interval is seconds\n",
    "    #snapshot_interval=120\n",
    ")\n",
    "\n",
    "model12.fit(mrad_reg_X, \n",
    "           mrad_reg_y, \n",
    "           cat_features=cat_features, \n",
    "           verbose=100 #tells how many iterations to print\n",
    "         )\n",
    "### 2 iters gives R2 = 0.12\n",
    "### 10 iters gives R2 = 0.2\n",
    "### 100 iters gives R2 = 0.4\n",
    "### 1000 iters gives R2 = 0.73"
   ]
  },
  {
   "cell_type": "markdown",
   "id": "746ad821-d4f7-4b03-a9ac-4afff6bdb1b4",
   "metadata": {},
   "source": [
    "##### Predicting multi-monkey lymphocytes"
   ]
  },
  {
   "cell_type": "code",
   "execution_count": 82,
   "id": "5eecdeb3-b057-4ed5-a774-ed213738ee3b",
   "metadata": {
    "tags": []
   },
   "outputs": [
    {
     "name": "stdout",
     "output_type": "stream",
     "text": [
      "1366\n"
     ]
    },
    {
     "data": {
      "image/png": "[encoded data removed]",
      "text/plain": [
       "<Figure size 640x480 with 1 Axes>"
      ]
     },
     "metadata": {},
     "output_type": "display_data"
    }
   ],
   "source": [
    "### Predicting the single monkey lymphocyte levels using the mult monkey model\n",
    "## 1000 iteration, 0.5 learning rate\n",
    "\n",
    "mrad_reg_a = model12.predict(mrad_reg_X_validation)\n",
    "print(len(mrad_reg_a), \n",
    "     )\n",
    "mrad_reg_a_df = pd.DataFrame(mrad_reg_a)\n",
    "\n",
    "\n",
    "# Plot the predictions vs. actual with the R2 score\n",
    "fig, ax = plt.subplots()\n",
    "ax.scatter(mrad_reg_y_validation, mrad_reg_a_df)\n",
    "\n",
    "\n",
    "ax.plot([mrad_reg_y.min(), mrad_reg_y.max()], [mrad_reg_y.min(), mrad_reg_y.max()], \n",
    "        'k-', \n",
    "        linewidth=1, \n",
    "        markersize=120\n",
    ")\n",
    "\n",
    "ax.set_xlabel('Actual')\n",
    "ax.set_ylabel('Predicted')\n",
    "#regression line\n",
    "#single_y_validation, single_a_df = single_y_validation.reshape(-1,1), single_a_df.reshape(-1,1)\n",
    "#ax.plot(single_y_validation, LinearRegression().fit(single_y_validation, single_a_df).predict(single_y_validation))\n",
    "\n",
    "\n",
    "\n",
    "ax.set_title('R2: ' + str(r2_score(mrad_reg_y_validation, mrad_reg_a_df)))\n",
    "\n",
    "plt.show()"
   ]
  },
  {
   "cell_type": "markdown",
   "id": "68009613-64cf-4d48-948a-8e8c1824f750",
   "metadata": {},
   "source": [
    "##### Predicting single-monkey lymphocytes"
   ]
  },
  {
   "cell_type": "code",
   "execution_count": 83,
   "id": "90d41aea-589f-4084-9b44-0cdf86855b69",
   "metadata": {
    "tags": []
   },
   "outputs": [
    {
     "data": {
      "text/html": [
       "<div>\n",
       "<style scoped>\n",
       "    .dataframe tbody tr th:only-of-type {\n",
       "        vertical-align: middle;\n",
       "    }\n",
       "\n",
       "    .dataframe tbody tr th {\n",
       "        vertical-align: top;\n",
       "    }\n",
       "\n",
       "    .dataframe thead th {\n",
       "        text-align: right;\n",
       "    }\n",
       "</style>\n",
       "<table border=\"1\" class=\"dataframe\">\n",
       "  <thead>\n",
       "    <tr style=\"text-align: right;\">\n",
       "      <th></th>\n",
       "      <th>ID</th>\n",
       "      <th>IRRAD</th>\n",
       "      <th>SEX</th>\n",
       "      <th>DAYS_SINCE_IRRAD</th>\n",
       "      <th>MONTHS_SINCE_IRRAD</th>\n",
       "      <th>MONTHS AT IRRAD</th>\n",
       "      <th>DOSE_(Gy)</th>\n",
       "      <th>AGE</th>\n",
       "      <th>LYMPHOCYTES_(%)</th>\n",
       "    </tr>\n",
       "  </thead>\n",
       "  <tbody>\n",
       "    <tr>\n",
       "      <th>49</th>\n",
       "      <td>2046</td>\n",
       "      <td>Yes</td>\n",
       "      <td>F</td>\n",
       "      <td>2570.0</td>\n",
       "      <td>84.0</td>\n",
       "      <td>81.0</td>\n",
       "      <td>1.14</td>\n",
       "      <td>13.8</td>\n",
       "      <td>58.3</td>\n",
       "    </tr>\n",
       "    <tr>\n",
       "      <th>50</th>\n",
       "      <td>2046</td>\n",
       "      <td>Yes</td>\n",
       "      <td>F</td>\n",
       "      <td>2738.0</td>\n",
       "      <td>90.0</td>\n",
       "      <td>81.0</td>\n",
       "      <td>1.14</td>\n",
       "      <td>14.3</td>\n",
       "      <td>52.8</td>\n",
       "    </tr>\n",
       "  </tbody>\n",
       "</table>\n",
       "</div>"
      ],
      "text/plain": [
       "      ID IRRAD SEX  DAYS_SINCE_IRRAD  MONTHS_SINCE_IRRAD  MONTHS AT IRRAD  \\\n",
       "49  2046   Yes   F            2570.0                84.0             81.0   \n",
       "50  2046   Yes   F            2738.0                90.0             81.0   \n",
       "\n",
       "    DOSE_(Gy)   AGE  LYMPHOCYTES_(%)  \n",
       "49       1.14  13.8             58.3  \n",
       "50       1.14  14.3             52.8  "
      ]
     },
     "execution_count": 83,
     "metadata": {},
     "output_type": "execute_result"
    }
   ],
   "source": [
    "### Make the reduced df\n",
    "\n",
    "#make a parent df\n",
    "single_minbio_df.copy()\n",
    "srad_reg_df = single_minbio_df[['ID', 'IRRAD', 'SEX', 'DAYS_SINCE_IRRAD', 'MONTHS_SINCE_IRRAD', 'MONTHS AT IRRAD',\n",
    "       'DOSE_(Gy)', 'AGE', 'LYMPHOCYTES_(%)']]\n",
    "srad_reg_df.tail(2)"
   ]
  },
  {
   "cell_type": "code",
   "execution_count": 84,
   "id": "52832631-bfee-431b-9021-0af90c9c7aba",
   "metadata": {
    "tags": []
   },
   "outputs": [
    {
     "name": "stdout",
     "output_type": "stream",
     "text": [
      "[0, 1]\n"
     ]
    },
    {
     "name": "stderr",
     "output_type": "stream",
     "text": [
      "iteritems is deprecated and will be removed in a future version. Use .items instead.\n"
     ]
    }
   ],
   "source": [
    "### Process data for ML\n",
    "#make train/testdf\n",
    "(srad_reg_train_df, srad_reg_test_df)= srad_reg_df, srad_reg_df\n",
    "\n",
    "\n",
    "# label values extraction\n",
    "srad_reg_y=srad_reg_train_df['LYMPHOCYTES_(%)']\n",
    "srad_reg_X=srad_reg_train_df.drop(['ID','LYMPHOCYTES_(%)'],axis=1)\n",
    "\n",
    "\n",
    "# Declare catagorical features - first & second column\n",
    "cat_features= list(range(0,srad_reg_X[srad_reg_X.columns[:2]].shape[1]))\n",
    "\n",
    "print(cat_features)\n",
    "\n",
    "\n",
    "#put the data into the pool\n",
    "srad_reg_pool = Pool(data=srad_reg_X, label=srad_reg_y, cat_features=cat_features)\n",
    "\n",
    "\n",
    "#train tesr split - 30% test\n",
    "srad_reg_data= train_test_split(srad_reg_X, srad_reg_y, test_size=0.3, random_state=0)\n",
    "\n",
    "#### The order of this matters###\n",
    "srad_reg_X_train, srad_reg_X_validation, srad_reg_y_train, srad_reg_y_validation= srad_reg_data\n",
    "\n",
    "srad_reg_train_pool = Pool(\n",
    "    data = srad_reg_X_train,\n",
    "    label = srad_reg_y_train,\n",
    "    cat_features = cat_features\n",
    ")\n",
    "\n",
    "srad_reg_validation_pool = Pool(\n",
    "    data = srad_reg_X_validation,\n",
    "    label = srad_reg_y_validation,\n",
    "    cat_features = cat_features\n",
    ")\n",
    "\n"
   ]
  },
  {
   "cell_type": "code",
   "execution_count": 85,
   "id": "ba150bf1-fa22-4fda-b4e4-fe51a27512bc",
   "metadata": {
    "tags": []
   },
   "outputs": [
    {
     "name": "stdout",
     "output_type": "stream",
     "text": [
      "6\n"
     ]
    },
    {
     "data": {
      "image/png": "[encoded data removed]",
      "text/plain": [
       "<Figure size 640x480 with 1 Axes>"
      ]
     },
     "metadata": {},
     "output_type": "display_data"
    }
   ],
   "source": [
    "### Predicting the single monkey lymphocyte levels using the mult monkey model\n",
    "## 1000 iteration, 0.5 learning rate\n",
    "\n",
    "smrad_reg_a = model12.predict(srad_reg_X_validation)\n",
    "print(len(smrad_reg_a), \n",
    "     )\n",
    "smrad_reg_a_df = pd.DataFrame(smrad_reg_a)\n",
    "\n",
    "\n",
    "# Plot the predictions vs. actual with the R2 score\n",
    "fig, ax = plt.subplots()\n",
    "ax.scatter(srad_reg_y_validation, smrad_reg_a_df)\n",
    "\n",
    "\n",
    "ax.plot([srad_reg_y.min(), srad_reg_y.max()], [srad_reg_y.min(), srad_reg_y.max()], \n",
    "        'k-', \n",
    "        linewidth=1, \n",
    "        markersize=120\n",
    ")\n",
    "\n",
    "ax.set_xlabel('Actual')\n",
    "ax.set_ylabel('Predicted')\n",
    "#regression line\n",
    "#single_y_validation, single_a_df = single_y_validation.reshape(-1,1), single_a_df.reshape(-1,1)\n",
    "#ax.plot(single_y_validation, LinearRegression().fit(single_y_validation, single_a_df).predict(single_y_validation))\n",
    "\n",
    "\n",
    "\n",
    "ax.set_title('R2: ' + str(r2_score(srad_reg_y_validation, smrad_reg_a_df)))\n",
    "\n",
    "plt.show()"
   ]
  },
  {
   "cell_type": "markdown",
   "id": "6d1a9160-b41f-419e-8511-aa851106a519",
   "metadata": {},
   "source": [
    "### E. Predictions with data that excludes the individual\n",
    "See if excluding the target individual from the dataset still gives accurate predictions"
   ]
  },
  {
   "cell_type": "markdown",
   "id": "9adbba5b-a384-437e-9cdb-663d003d8eea",
   "metadata": {
    "tags": []
   },
   "source": [
    "#### Data Processing"
   ]
  },
  {
   "cell_type": "code",
   "execution_count": 86,
   "id": "5308c84f-d947-4634-a0c0-247060c51dd5",
   "metadata": {
    "tags": []
   },
   "outputs": [
    {
     "data": {
      "text/html": [
       "<div>\n",
       "<style scoped>\n",
       "    .dataframe tbody tr th:only-of-type {\n",
       "        vertical-align: middle;\n",
       "    }\n",
       "\n",
       "    .dataframe tbody tr th {\n",
       "        vertical-align: top;\n",
       "    }\n",
       "\n",
       "    .dataframe thead th {\n",
       "        text-align: right;\n",
       "    }\n",
       "</style>\n",
       "<table border=\"1\" class=\"dataframe\">\n",
       "  <thead>\n",
       "    <tr style=\"text-align: right;\">\n",
       "      <th></th>\n",
       "      <th>ID</th>\n",
       "      <th>Species</th>\n",
       "      <th>SAMPLE_DATE</th>\n",
       "      <th>IRRAD</th>\n",
       "      <th>IRRAD_DATE</th>\n",
       "      <th>DOB</th>\n",
       "      <th>SEX</th>\n",
       "      <th>TYPE</th>\n",
       "      <th>DAYS_SINCE_IRRAD</th>\n",
       "      <th>MONTHS_SINCE_IRRAD</th>\n",
       "      <th>...</th>\n",
       "      <th>LYMPHOCYTES_(%)</th>\n",
       "      <th>MONO_(%)</th>\n",
       "      <th>EOS_(%)</th>\n",
       "      <th>BASO_(%)</th>\n",
       "      <th>ABS_NEUT_(/uL)</th>\n",
       "      <th>ABS_LYMPH_(/uL)</th>\n",
       "      <th>ABS_MONO_(/uL)</th>\n",
       "      <th>ABS_EOS_(/uL)</th>\n",
       "      <th>ABS_BASO_(/uL)</th>\n",
       "      <th>PLATLET_COUNT_(K/uL)</th>\n",
       "    </tr>\n",
       "  </thead>\n",
       "  <tbody>\n",
       "    <tr>\n",
       "      <th>4532</th>\n",
       "      <td>2210</td>\n",
       "      <td>Rhesus-Indian</td>\n",
       "      <td>2021-09-20 00:00:00</td>\n",
       "      <td>No</td>\n",
       "      <td>NaT</td>\n",
       "      <td>1999-01-01</td>\n",
       "      <td>F</td>\n",
       "      <td>Research</td>\n",
       "      <td>NaN</td>\n",
       "      <td>NaN</td>\n",
       "      <td>...</td>\n",
       "      <td>36.2</td>\n",
       "      <td>10.9</td>\n",
       "      <td>1.7</td>\n",
       "      <td>0.0</td>\n",
       "      <td>2970</td>\n",
       "      <td>2100</td>\n",
       "      <td>632</td>\n",
       "      <td>99</td>\n",
       "      <td>0</td>\n",
       "      <td>348</td>\n",
       "    </tr>\n",
       "    <tr>\n",
       "      <th>4533</th>\n",
       "      <td>2210</td>\n",
       "      <td>Rhesus-Indian</td>\n",
       "      <td>2021-10-07 00:00:00</td>\n",
       "      <td>No</td>\n",
       "      <td>NaT</td>\n",
       "      <td>1999-01-01</td>\n",
       "      <td>F</td>\n",
       "      <td>Research</td>\n",
       "      <td>NaN</td>\n",
       "      <td>NaN</td>\n",
       "      <td>...</td>\n",
       "      <td>16.0</td>\n",
       "      <td>21.0</td>\n",
       "      <td>3.0</td>\n",
       "      <td>0.0</td>\n",
       "      <td>3360</td>\n",
       "      <td>896</td>\n",
       "      <td>1176</td>\n",
       "      <td>168</td>\n",
       "      <td>0</td>\n",
       "      <td>329</td>\n",
       "    </tr>\n",
       "  </tbody>\n",
       "</table>\n",
       "<p>2 rows × 31 columns</p>\n",
       "</div>"
      ],
      "text/plain": [
       "        ID        Species          SAMPLE_DATE IRRAD IRRAD_DATE        DOB  \\\n",
       "4532  2210  Rhesus-Indian  2021-09-20 00:00:00    No        NaT 1999-01-01   \n",
       "4533  2210  Rhesus-Indian  2021-10-07 00:00:00    No        NaT 1999-01-01   \n",
       "\n",
       "     SEX      TYPE  DAYS_SINCE_IRRAD  MONTHS_SINCE_IRRAD  ...  \\\n",
       "4532   F  Research               NaN                 NaN  ...   \n",
       "4533   F  Research               NaN                 NaN  ...   \n",
       "\n",
       "      LYMPHOCYTES_(%)  MONO_(%)  EOS_(%)  BASO_(%)  ABS_NEUT_(/uL)  \\\n",
       "4532             36.2      10.9      1.7       0.0            2970   \n",
       "4533             16.0      21.0      3.0       0.0            3360   \n",
       "\n",
       "      ABS_LYMPH_(/uL)  ABS_MONO_(/uL)  ABS_EOS_(/uL)  ABS_BASO_(/uL)  \\\n",
       "4532             2100             632             99               0   \n",
       "4533              896            1176            168               0   \n",
       "\n",
       "      PLATLET_COUNT_(K/uL)  \n",
       "4532                   348  \n",
       "4533                   329  \n",
       "\n",
       "[2 rows x 31 columns]"
      ]
     },
     "execution_count": 86,
     "metadata": {},
     "output_type": "execute_result"
    }
   ],
   "source": [
    "### setting up the multi monkey df without the single monkey \n",
    "oneless_df.tail(2)\n"
   ]
  },
  {
   "cell_type": "code",
   "execution_count": 87,
   "id": "6724bfa6-9185-426e-b396-d5ccf7561905",
   "metadata": {
    "tags": []
   },
   "outputs": [
    {
     "name": "stdout",
     "output_type": "stream",
     "text": [
      "[0, 1, 2, 3]\n"
     ]
    },
    {
     "name": "stderr",
     "output_type": "stream",
     "text": [
      "iteritems is deprecated and will be removed in a future version. Use .items instead.\n"
     ]
    }
   ],
   "source": [
    "### Processing the data for ML\n",
    "### Process data for ML\n",
    "#make train/testdf\n",
    "(oneless_train_df, oneless_test_df)= oneless_df, oneless_df\n",
    "\n",
    "\n",
    "# label values extraction\n",
    "oneless_y=oneless_train_df['LYMPHOCYTES_(%)']\n",
    "oneless_X=oneless_train_df.drop(['ID','IRRAD_DATE','DOB','SAMPLE_DATE','LYMPHOCYTES_(%)'],axis=1)\n",
    "\n",
    "\n",
    "# Declare catagorical features - first & second column\n",
    "cat_features= list(range(0,oneless_X[oneless_X.columns[:4]].shape[1]))\n",
    "\n",
    "print(cat_features)\n",
    "\n",
    "\n",
    "#put the data into the pool\n",
    "oneless_pool = Pool(data=oneless_X, label=oneless_y, cat_features=cat_features)\n",
    "\n",
    "\n",
    "#train tesr split - 30% test\n",
    "oneless_data= train_test_split(oneless_X, oneless_y, test_size=0.3, random_state=0)\n",
    "\n",
    "#### The order of this matters###\n",
    "oneless_X_train, oneless_X_validation, oneless_y_train, oneless_y_validation= oneless_data\n",
    "\n",
    "oneless_train_pool = Pool(\n",
    "    data = oneless_X_train,\n",
    "    label = oneless_y_train,\n",
    "    cat_features = cat_features\n",
    ")\n",
    "\n",
    "oneless_validation_pool = Pool(\n",
    "    data = oneless_X_validation,\n",
    "    label = oneless_y_validation,\n",
    "    cat_features = cat_features\n",
    ")\n"
   ]
  },
  {
   "cell_type": "markdown",
   "id": "10764a26-8ef5-494b-af42-96fbc266b2dd",
   "metadata": {},
   "source": [
    "#### Model Formation"
   ]
  },
  {
   "cell_type": "code",
   "execution_count": 88,
   "id": "cc49492c-ce32-4c83-9680-5ef588b31889",
   "metadata": {
    "tags": []
   },
   "outputs": [
    {
     "name": "stdout",
     "output_type": "stream",
     "text": [
      "0:\tlearn: 9.6225247\ttotal: 8.9ms\tremaining: 8.9ms\n",
      "1:\tlearn: 6.0610900\ttotal: 15.3ms\tremaining: 0us\n"
     ]
    },
    {
     "data": {
      "text/plain": [
       "<catboost.core.CatBoostRegressor at 0x7fa256396a70>"
      ]
     },
     "execution_count": 88,
     "metadata": {},
     "output_type": "execute_result"
    }
   ],
   "source": [
    "### Making a model with the same perameters but without the single monkey data\n",
    "# regression for multiple monkey predicitons\n",
    "model13= CatBoostRegressor(iterations=2,\n",
    "    learning_rate=0.5,\n",
    "    #loss_function='MultiClass',\n",
    "    #custom_loss=['AUC','Accuracy'],\n",
    "    early_stopping_rounds=5,\n",
    "    #use_best_model=True,\n",
    "    #save_snapshot = True,\n",
    "    #snapshot_file='monkey_snapshot.bkp',\n",
    "    #interval is seconds\n",
    "    #snapshot_interval=120\n",
    ")\n",
    "\n",
    "model13.fit(oneless_X, \n",
    "           oneless_y, \n",
    "           cat_features=cat_features, \n",
    "           verbose=100 #tells how many iterations to print\n",
    "         )\n",
    "### 2 iters gives R2 = 0.12\n"
   ]
  },
  {
   "cell_type": "markdown",
   "id": "dce20eaf-4be0-41b0-92de-ef6aa300f4fd",
   "metadata": {},
   "source": [
    "#### Predictions\n",
    "Just predicting the single monkey data in this case"
   ]
  },
  {
   "cell_type": "code",
   "execution_count": 89,
   "id": "72637cd4-8939-48db-9e7e-9aa0e4bb7bf3",
   "metadata": {
    "tags": []
   },
   "outputs": [
    {
     "name": "stdout",
     "output_type": "stream",
     "text": [
      "6\n"
     ]
    },
    {
     "data": {
      "image/png": "[encoded data removed]",
      "text/plain": [
       "<Figure size 640x480 with 1 Axes>"
      ]
     },
     "metadata": {},
     "output_type": "display_data"
    }
   ],
   "source": [
    "### Predicting the single monkey lymphocyte levels using the mult monkey minus single model\n",
    "## 2 iteration, 0.5 learning rate\n",
    "\n",
    "onless_a = model13.predict(sreg_X_validation)\n",
    "print(len(onless_a), \n",
    "     )\n",
    "onless_a_df = pd.DataFrame(onless_a)\n",
    "\n",
    "\n",
    "# Plot the predictions vs. actual with the R2 score\n",
    "fig, ax = plt.subplots()\n",
    "ax.scatter(sreg_y_validation, onless_a_df)\n",
    "\n",
    "\n",
    "ax.plot([sreg_y.min(), sreg_y.max()], [sreg_y.min(), sreg_y.max()], \n",
    "        'k-', \n",
    "        linewidth=1, \n",
    "        markersize=120\n",
    ")\n",
    "\n",
    "ax.set_xlabel('Actual')\n",
    "ax.set_ylabel('Predicted')\n",
    "#regression line\n",
    "#single_y_validation, single_a_df = single_y_validation.reshape(-1,1), single_a_df.reshape(-1,1)\n",
    "#ax.plot(single_y_validation, LinearRegression().fit(single_y_validation, single_a_df).predict(single_y_validation))\n",
    "\n",
    "\n",
    "\n",
    "ax.set_title('R2: ' + str(r2_score(sreg_y_validation, onless_a_df)))\n",
    "\n",
    "plt.show()"
   ]
  },
  {
   "cell_type": "markdown",
   "id": "3dd7c6c9-5ff0-4cd1-9826-74030fbed411",
   "metadata": {},
   "source": [
    "### Summary\n",
    "- A.) A single monkey's lymphocyte levels can be accurately predicted (R2=0.85) using the model trained on all the monkeys.\n",
    "- B.) A single monkey's model does not accurately predict the other monkey's lymphocyte counts\n",
    "- C.) Only using the top 5 important features for each model gives highly accurate predictions (R2=0.85-0.91) but the multi-monkey model was unable to predict the single monkey lymphocyte levels because the model needs the same features between the datasets and they were different (different top 5 features)\n",
    "- D.) Only using the non-timeseries, radiation-related data was abel to accurately predict the multi-monkey lymphocyte levels (R2=0.73) and the single monkey lymphocyte levels (R2=0.85). I only trained a multi monkey model because there would be no variance for a single monkey model\n",
    "- E.) A single monkey's lymphocyte levels were accurately predicted (R2=0.902) using a model trained on data that did not include the single monkey's data. In fact, the \"oneless\" model predicted more accurately than when using all the data (R2=0.855)\n",
    "\n",
    "What does this mean? That an individuals biomarker levels can be very accurately predicted using models that take little energy and time. Additionally, that the individual doesn't need to be part of the collected data (they can be novel). Furthermore, a very small amount of data can make accurate predictions, and non-datetime irradiation (with sex and age) data can be used to make accurate predictions. "
   ]
  },
  {
   "cell_type": "markdown",
   "id": "1aa18387-705d-44cd-8ef2-bf170534de40",
   "metadata": {},
   "source": [
    "## 1.c. Predictions of the health data (tumorogenesis)\n",
    "Doesn't make sense to predict or use single monkey moels/data becuase there is only one observation per monkey"
   ]
  },
  {
   "cell_type": "markdown",
   "id": "91c62a42-5baf-4e5c-a212-732c1bc3d4f0",
   "metadata": {},
   "source": [
    "### Data forming"
   ]
  },
  {
   "cell_type": "code",
   "execution_count": 113,
   "id": "0cb08f14-3f6c-4dc1-9fc2-aae2b39c785f",
   "metadata": {},
   "outputs": [
    {
     "data": {
      "text/html": [
       "<div>\n",
       "<style scoped>\n",
       "    .dataframe tbody tr th:only-of-type {\n",
       "        vertical-align: middle;\n",
       "    }\n",
       "\n",
       "    .dataframe tbody tr th {\n",
       "        vertical-align: top;\n",
       "    }\n",
       "\n",
       "    .dataframe thead th {\n",
       "        text-align: right;\n",
       "    }\n",
       "</style>\n",
       "<table border=\"1\" class=\"dataframe\">\n",
       "  <thead>\n",
       "    <tr style=\"text-align: right;\">\n",
       "      <th></th>\n",
       "      <th>ID</th>\n",
       "      <th>Time_Under_Observation_(yrs)</th>\n",
       "      <th>Dose_(Gy)</th>\n",
       "      <th>Irrad_Age_(months)</th>\n",
       "      <th>Years_Since_Irrad</th>\n",
       "      <th>Current_Age_(years)</th>\n",
       "      <th>Animal_Status</th>\n",
       "      <th>Diabetes_(Y/N)</th>\n",
       "      <th>Cataracts_(Y/N)</th>\n",
       "      <th>Arthritis_(Y/N)</th>\n",
       "      <th>...</th>\n",
       "      <th>Hypertension_(Y/N)</th>\n",
       "      <th>Testicular Atrophy_(Y/N)</th>\n",
       "      <th>Ovarian Dysfunction_(Y/N)</th>\n",
       "      <th>Hepatic_(Y/N)</th>\n",
       "      <th>Kidney_(Y/N)</th>\n",
       "      <th>Lung_(Y/N)</th>\n",
       "      <th>Bone_(Y/N)</th>\n",
       "      <th>Overweight_(Y/N)</th>\n",
       "      <th>Underweight_(Y/N)</th>\n",
       "      <th>Brain Lesion_(Y/N)</th>\n",
       "    </tr>\n",
       "  </thead>\n",
       "  <tbody>\n",
       "    <tr>\n",
       "      <th>0</th>\n",
       "      <td>1423</td>\n",
       "      <td>1.380822</td>\n",
       "      <td>0.0</td>\n",
       "      <td>NaN</td>\n",
       "      <td>NaN</td>\n",
       "      <td>9.947945</td>\n",
       "      <td>0</td>\n",
       "      <td>0</td>\n",
       "      <td>1</td>\n",
       "      <td>0</td>\n",
       "      <td>...</td>\n",
       "      <td>0</td>\n",
       "      <td>0</td>\n",
       "      <td>0</td>\n",
       "      <td>0</td>\n",
       "      <td>0</td>\n",
       "      <td>0</td>\n",
       "      <td>0</td>\n",
       "      <td>1</td>\n",
       "      <td>0</td>\n",
       "      <td>0</td>\n",
       "    </tr>\n",
       "    <tr>\n",
       "      <th>1</th>\n",
       "      <td>1484</td>\n",
       "      <td>11.868493</td>\n",
       "      <td>0.0</td>\n",
       "      <td>NaN</td>\n",
       "      <td>NaN</td>\n",
       "      <td>19.276712</td>\n",
       "      <td>1</td>\n",
       "      <td>0</td>\n",
       "      <td>1</td>\n",
       "      <td>1</td>\n",
       "      <td>...</td>\n",
       "      <td>0</td>\n",
       "      <td>0</td>\n",
       "      <td>0</td>\n",
       "      <td>0</td>\n",
       "      <td>0</td>\n",
       "      <td>1</td>\n",
       "      <td>0</td>\n",
       "      <td>1</td>\n",
       "      <td>0</td>\n",
       "      <td>0</td>\n",
       "    </tr>\n",
       "  </tbody>\n",
       "</table>\n",
       "<p>2 rows × 25 columns</p>\n",
       "</div>"
      ],
      "text/plain": [
       "     ID  Time_Under_Observation_(yrs)  Dose_(Gy)  Irrad_Age_(months)  \\\n",
       "0  1423                      1.380822        0.0                 NaN   \n",
       "1  1484                     11.868493        0.0                 NaN   \n",
       "\n",
       "   Years_Since_Irrad  Current_Age_(years)  Animal_Status  Diabetes_(Y/N)  \\\n",
       "0                NaN             9.947945              0               0   \n",
       "1                NaN            19.276712              1               0   \n",
       "\n",
       "   Cataracts_(Y/N)  Arthritis_(Y/N)  ...  Hypertension_(Y/N)  \\\n",
       "0                1                0  ...                   0   \n",
       "1                1                1  ...                   0   \n",
       "\n",
       "   Testicular Atrophy_(Y/N)  Ovarian Dysfunction_(Y/N)  Hepatic_(Y/N)  \\\n",
       "0                         0                          0              0   \n",
       "1                         0                          0              0   \n",
       "\n",
       "   Kidney_(Y/N)  Lung_(Y/N)  Bone_(Y/N)  Overweight_(Y/N)  Underweight_(Y/N)  \\\n",
       "0             0           0           0                 1                  0   \n",
       "1             0           1           0                 1                  0   \n",
       "\n",
       "   Brain Lesion_(Y/N)  \n",
       "0                   0  \n",
       "1                   0  \n",
       "\n",
       "[2 rows x 25 columns]"
      ]
     },
     "execution_count": 113,
     "metadata": {},
     "output_type": "execute_result"
    }
   ],
   "source": [
    "minhealth_monkey_df.head(2)"
   ]
  },
  {
   "cell_type": "markdown",
   "id": "968d32be-286b-49c5-b7e0-05526cc45aba",
   "metadata": {
    "tags": []
   },
   "source": [
    "### A. Predicting single monkey tumorogenesis using the multi-monkey model"
   ]
  },
  {
   "cell_type": "markdown",
   "id": "fc0d9823-0c1e-42dc-9a02-a6173a577e7d",
   "metadata": {},
   "source": [
    "### B. Predictions using only the top 5 features"
   ]
  },
  {
   "cell_type": "markdown",
   "id": "c9987208-edc0-4feb-81f7-79ac53555fa6",
   "metadata": {},
   "source": [
    "#### Multi Monkey\n",
    "- 0. Dose_(Gy)\t14.984810\n",
    "- 1\tHeart_(Y/N)\t14.908153\n",
    "- 2\tTime_Under_Observation_(yrs)\t13.851867\n",
    "- 3\tOverweight_(Y/N)\t11.484527\n",
    "- 4\tYears_Since_Irrad\t11.038610"
   ]
  },
  {
   "cell_type": "markdown",
   "id": "49f4ae53-ee1e-4798-adeb-70da572d866b",
   "metadata": {},
   "source": [
    "##### Data processing"
   ]
  },
  {
   "cell_type": "code",
   "execution_count": 96,
   "id": "673e6b4b-59fe-4c92-981a-d26c9b80ddd7",
   "metadata": {
    "tags": []
   },
   "outputs": [
    {
     "data": {
      "text/html": [
       "<div>\n",
       "<style scoped>\n",
       "    .dataframe tbody tr th:only-of-type {\n",
       "        vertical-align: middle;\n",
       "    }\n",
       "\n",
       "    .dataframe tbody tr th {\n",
       "        vertical-align: top;\n",
       "    }\n",
       "\n",
       "    .dataframe thead th {\n",
       "        text-align: right;\n",
       "    }\n",
       "</style>\n",
       "<table border=\"1\" class=\"dataframe\">\n",
       "  <thead>\n",
       "    <tr style=\"text-align: right;\">\n",
       "      <th></th>\n",
       "      <th>ID</th>\n",
       "      <th>Dose_(Gy)</th>\n",
       "      <th>Heart_(Y/N)</th>\n",
       "      <th>Time_Under_Observation_(yrs)</th>\n",
       "      <th>Overweight_(Y/N)</th>\n",
       "      <th>Years_Since_Irrad</th>\n",
       "      <th>Tumor_(Y/N)</th>\n",
       "    </tr>\n",
       "  </thead>\n",
       "  <tbody>\n",
       "    <tr>\n",
       "      <th>0</th>\n",
       "      <td>1423</td>\n",
       "      <td>0.00</td>\n",
       "      <td>0</td>\n",
       "      <td>1.380822</td>\n",
       "      <td>1</td>\n",
       "      <td>NaN</td>\n",
       "      <td>0</td>\n",
       "    </tr>\n",
       "    <tr>\n",
       "      <th>1</th>\n",
       "      <td>1484</td>\n",
       "      <td>0.00</td>\n",
       "      <td>0</td>\n",
       "      <td>11.868493</td>\n",
       "      <td>1</td>\n",
       "      <td>NaN</td>\n",
       "      <td>0</td>\n",
       "    </tr>\n",
       "    <tr>\n",
       "      <th>2</th>\n",
       "      <td>1574</td>\n",
       "      <td>7.55</td>\n",
       "      <td>1</td>\n",
       "      <td>13.030137</td>\n",
       "      <td>0</td>\n",
       "      <td>13.358904</td>\n",
       "      <td>1</td>\n",
       "    </tr>\n",
       "    <tr>\n",
       "      <th>3</th>\n",
       "      <td>1575</td>\n",
       "      <td>7.85</td>\n",
       "      <td>1</td>\n",
       "      <td>14.139726</td>\n",
       "      <td>0</td>\n",
       "      <td>14.372603</td>\n",
       "      <td>0</td>\n",
       "    </tr>\n",
       "    <tr>\n",
       "      <th>4</th>\n",
       "      <td>1576</td>\n",
       "      <td>8.05</td>\n",
       "      <td>1</td>\n",
       "      <td>6.394521</td>\n",
       "      <td>1</td>\n",
       "      <td>6.723288</td>\n",
       "      <td>1</td>\n",
       "    </tr>\n",
       "    <tr>\n",
       "      <th>5</th>\n",
       "      <td>1577</td>\n",
       "      <td>7.55</td>\n",
       "      <td>1</td>\n",
       "      <td>12.109589</td>\n",
       "      <td>1</td>\n",
       "      <td>12.438356</td>\n",
       "      <td>1</td>\n",
       "    </tr>\n",
       "    <tr>\n",
       "      <th>6</th>\n",
       "      <td>1578</td>\n",
       "      <td>7.20</td>\n",
       "      <td>1</td>\n",
       "      <td>11.682192</td>\n",
       "      <td>0</td>\n",
       "      <td>12.010959</td>\n",
       "      <td>0</td>\n",
       "    </tr>\n",
       "    <tr>\n",
       "      <th>7</th>\n",
       "      <td>1597</td>\n",
       "      <td>8.40</td>\n",
       "      <td>0</td>\n",
       "      <td>15.501370</td>\n",
       "      <td>0</td>\n",
       "      <td>15.868493</td>\n",
       "      <td>1</td>\n",
       "    </tr>\n",
       "    <tr>\n",
       "      <th>8</th>\n",
       "      <td>1611</td>\n",
       "      <td>7.55</td>\n",
       "      <td>1</td>\n",
       "      <td>11.712329</td>\n",
       "      <td>0</td>\n",
       "      <td>12.090411</td>\n",
       "      <td>1</td>\n",
       "    </tr>\n",
       "    <tr>\n",
       "      <th>9</th>\n",
       "      <td>1612</td>\n",
       "      <td>6.75</td>\n",
       "      <td>1</td>\n",
       "      <td>11.846575</td>\n",
       "      <td>1</td>\n",
       "      <td>12.147945</td>\n",
       "      <td>0</td>\n",
       "    </tr>\n",
       "  </tbody>\n",
       "</table>\n",
       "</div>"
      ],
      "text/plain": [
       "     ID  Dose_(Gy)  Heart_(Y/N)  Time_Under_Observation_(yrs)  \\\n",
       "0  1423       0.00            0                      1.380822   \n",
       "1  1484       0.00            0                     11.868493   \n",
       "2  1574       7.55            1                     13.030137   \n",
       "3  1575       7.85            1                     14.139726   \n",
       "4  1576       8.05            1                      6.394521   \n",
       "5  1577       7.55            1                     12.109589   \n",
       "6  1578       7.20            1                     11.682192   \n",
       "7  1597       8.40            0                     15.501370   \n",
       "8  1611       7.55            1                     11.712329   \n",
       "9  1612       6.75            1                     11.846575   \n",
       "\n",
       "   Overweight_(Y/N)  Years_Since_Irrad  Tumor_(Y/N)  \n",
       "0                 1                NaN            0  \n",
       "1                 1                NaN            0  \n",
       "2                 0          13.358904            1  \n",
       "3                 0          14.372603            0  \n",
       "4                 1           6.723288            1  \n",
       "5                 1          12.438356            1  \n",
       "6                 0          12.010959            0  \n",
       "7                 0          15.868493            1  \n",
       "8                 0          12.090411            1  \n",
       "9                 1          12.147945            0  "
      ]
     },
     "execution_count": 96,
     "metadata": {},
     "output_type": "execute_result"
    }
   ],
   "source": [
    "### Make the reduced df\n",
    "\n",
    "#make a parent df\n",
    "minhealth_monkey_df.copy()\n",
    "five_health_df = minhealth_monkey_df[['ID', 'Dose_(Gy)', 'Heart_(Y/N)', 'Time_Under_Observation_(yrs)',\n",
    "                                'Overweight_(Y/N)','Years_Since_Irrad', 'Tumor_(Y/N)']]\n",
    "five_health_df.head(10)\n"
   ]
  },
  {
   "cell_type": "code",
   "execution_count": 97,
   "id": "7de14244-f3d7-4ecd-96d7-c769f04d9713",
   "metadata": {},
   "outputs": [
    {
     "name": "stdout",
     "output_type": "stream",
     "text": [
      "[0]\n"
     ]
    },
    {
     "name": "stderr",
     "output_type": "stream",
     "text": [
      "iteritems is deprecated and will be removed in a future version. Use .items instead.\n"
     ]
    }
   ],
   "source": [
    "### Process data for ML\n",
    "#make train/testdf\n",
    "(five_health_train_df, five_health_test_df)= five_health_df, five_health_df\n",
    "\n",
    "\n",
    "# label values extraction\n",
    "five_health_y=five_health_train_df['Tumor_(Y/N)']\n",
    "five_health_X=five_health_train_df.drop(['Tumor_(Y/N)'],axis=1)\n",
    "\n",
    "\n",
    "# Declare catagorical features - first & second column\n",
    "cat_features= list(range(0,five_health_X[five_health_X.columns[:1]].shape[1]))\n",
    "\n",
    "print(cat_features)\n",
    "\n",
    "\n",
    "#put the data into the pool\n",
    "five_health_pool = Pool(data=five_health_X, label=five_health_y, cat_features=cat_features)\n",
    "\n",
    "\n",
    "#train tesr split - 30% test\n",
    "five_health_data= train_test_split(five_health_X, five_health_y, test_size=0.3, random_state=0)\n",
    "\n",
    "#### The order of this matters###\n",
    "five_health_X_train, five_health_X_validation, five_health_y_train, five_health_y_validation= five_health_data\n",
    "\n",
    "five_health_train_pool = Pool(\n",
    "    data = five_health_X_train,\n",
    "    label = five_health_y_train,\n",
    "    cat_features = cat_features\n",
    ")\n",
    "\n",
    "five_health_validation_pool = Pool(\n",
    "    data = five_health_X_validation,\n",
    "    label = five_health_y_validation,\n",
    "    cat_features = cat_features\n",
    ")\n",
    "\n"
   ]
  },
  {
   "cell_type": "markdown",
   "id": "8e01ee4a-7fd0-4b76-9d00-321a08fc1a29",
   "metadata": {},
   "source": [
    "##### Model Formation"
   ]
  },
  {
   "cell_type": "code",
   "execution_count": 98,
   "id": "3b61cace-2744-4be7-87a5-b1f017e3e2b7",
   "metadata": {},
   "outputs": [
    {
     "name": "stdout",
     "output_type": "stream",
     "text": [
      "0:\tlearn: 0.4373074\ttotal: 5.21ms\tremaining: 10.4s\n",
      "500:\tlearn: 0.0106493\ttotal: 365ms\tremaining: 1.09s\n",
      "1000:\tlearn: 0.0102648\ttotal: 706ms\tremaining: 705ms\n",
      "1500:\tlearn: 0.0100648\ttotal: 1s\tremaining: 333ms\n",
      "1999:\tlearn: 0.0099811\ttotal: 1.3s\tremaining: 0us\n"
     ]
    },
    {
     "data": {
      "text/plain": [
       "<catboost.core.CatBoostClassifier at 0x7fa27275f760>"
      ]
     },
     "execution_count": 98,
     "metadata": {},
     "output_type": "execute_result"
    }
   ],
   "source": [
    "# Model for Tumor occurance \n",
    "# loss_function = logloss becuase it's binary\n",
    "\n",
    "tumor_model= CatBoostClassifier(iterations=2000,\n",
    "    learning_rate=0.5,\n",
    "    loss_function='Logloss',\n",
    "    custom_loss=['AUC','Accuracy'],\n",
    "    early_stopping_rounds=5,\n",
    "    #use_best_model=True,\n",
    "    #save_snapshot = True,\n",
    "    #snapshot_file='monkey_snapshot.bkp',\n",
    "    #interval is seconds\n",
    "    #snapshot_interval=120\n",
    ")\n",
    "\n",
    "\n",
    "tumor_model.fit(five_health_X, \n",
    "           five_health_y, \n",
    "           cat_features=cat_features, \n",
    "           verbose=500 #tells how many iterations to print\n",
    "         )\n",
    "\n",
    "### 2000 iters takes 6.7 secs and gives 0.0004025 loss"
   ]
  },
  {
   "cell_type": "markdown",
   "id": "c74a13f8-fce2-4e75-bad6-82c935c58639",
   "metadata": {},
   "source": [
    "##### Predictions"
   ]
  },
  {
   "cell_type": "code",
   "execution_count": 133,
   "id": "4c7ff0c2-b9ab-4218-a164-0c6d623cda50",
   "metadata": {},
   "outputs": [
    {
     "name": "stdout",
     "output_type": "stream",
     "text": [
      "46\n"
     ]
    },
    {
     "name": "stderr",
     "output_type": "stream",
     "text": [
      "iteritems is deprecated and will be removed in a future version. Use .items instead.\n"
     ]
    },
    {
     "data": {
      "image/png": "[encoded data removed]",
      "text/plain": [
       "<Figure size 640x480 with 2 Axes>"
      ]
     },
     "metadata": {},
     "output_type": "display_data"
    },
    {
     "name": "stdout",
     "output_type": "stream",
     "text": [
      "Accuracy: 0.9782608695652174 Precision: 0.9\n",
      "              precision    recall  f1-score   support\n",
      "\n",
      "           0       1.00      0.97      0.99        37\n",
      "           1       0.90      1.00      0.95         9\n",
      "\n",
      "    accuracy                           0.98        46\n",
      "   macro avg       0.95      0.99      0.97        46\n",
      "weighted avg       0.98      0.98      0.98        46\n",
      "\n"
     ]
    }
   ],
   "source": [
    "from sklearn.metrics import plot_confusion_matrix\n",
    "from sklearn.metrics import confusion_matrix, ConfusionMatrixDisplay\n",
    "\n",
    "#Predict the test occurence of tumors\n",
    "\n",
    "five_health_a = tumor_model.predict(five_health_X_validation)\n",
    "print(len(five_health_a), \n",
    "     )\n",
    "\n",
    "five_health_a_df = pd.DataFrame(five_health_a)\n",
    "\n",
    "\n",
    "# make confusion matrix\n",
    "cm = confusion_matrix(five_health_y_validation, five_health_a_df)\n",
    "disp = ConfusionMatrixDisplay(confusion_matrix=cm,\n",
    "                              #display_labels=clf.classes_\n",
    "                             )\n",
    "disp.plot()\n",
    "plt.show()\n",
    "\n",
    "from sklearn import metrics\n",
    "\n",
    "Accuracy = metrics.accuracy_score(five_health_y_validation, five_health_a_df)\n",
    "Precision = metrics.precision_score(five_health_y_validation, five_health_a_df)\n",
    "\n",
    "print('Accuracy:',Accuracy, 'Precision:',Precision)\n",
    "\n",
    "from sklearn.metrics import classification_report\n",
    "\n",
    "print(classification_report(five_health_y_validation, five_health_a_df))"
   ]
  },
  {
   "cell_type": "markdown",
   "id": "7f04fafa-0076-4d3e-81e6-f2a5424bed82",
   "metadata": {},
   "source": [
    "### C. Predicting Tumorogenesis with only the radiation data"
   ]
  },
  {
   "cell_type": "markdown",
   "id": "d5a10806-a3ab-435e-84fc-6ba7e6b61790",
   "metadata": {},
   "source": [
    "##### Data processing"
   ]
  },
  {
   "cell_type": "code",
   "execution_count": 101,
   "id": "ede2afa8-7ae4-4579-b015-21ff0dc92662",
   "metadata": {},
   "outputs": [
    {
     "data": {
      "text/html": [
       "<div>\n",
       "<style scoped>\n",
       "    .dataframe tbody tr th:only-of-type {\n",
       "        vertical-align: middle;\n",
       "    }\n",
       "\n",
       "    .dataframe tbody tr th {\n",
       "        vertical-align: top;\n",
       "    }\n",
       "\n",
       "    .dataframe thead th {\n",
       "        text-align: right;\n",
       "    }\n",
       "</style>\n",
       "<table border=\"1\" class=\"dataframe\">\n",
       "  <thead>\n",
       "    <tr style=\"text-align: right;\">\n",
       "      <th></th>\n",
       "      <th>ID</th>\n",
       "      <th>Dose_(Gy)</th>\n",
       "      <th>Irrad_Age_(months)</th>\n",
       "      <th>Years_Since_Irrad</th>\n",
       "      <th>Current_Age_(years)</th>\n",
       "      <th>Tumor_(Y/N)</th>\n",
       "    </tr>\n",
       "  </thead>\n",
       "  <tbody>\n",
       "    <tr>\n",
       "      <th>0</th>\n",
       "      <td>1423</td>\n",
       "      <td>0.00</td>\n",
       "      <td>NaN</td>\n",
       "      <td>NaN</td>\n",
       "      <td>9.947945</td>\n",
       "      <td>0</td>\n",
       "    </tr>\n",
       "    <tr>\n",
       "      <th>1</th>\n",
       "      <td>1484</td>\n",
       "      <td>0.00</td>\n",
       "      <td>NaN</td>\n",
       "      <td>NaN</td>\n",
       "      <td>19.276712</td>\n",
       "      <td>0</td>\n",
       "    </tr>\n",
       "    <tr>\n",
       "      <th>2</th>\n",
       "      <td>1574</td>\n",
       "      <td>7.55</td>\n",
       "      <td>52.9</td>\n",
       "      <td>13.358904</td>\n",
       "      <td>17.767123</td>\n",
       "      <td>1</td>\n",
       "    </tr>\n",
       "    <tr>\n",
       "      <th>3</th>\n",
       "      <td>1575</td>\n",
       "      <td>7.85</td>\n",
       "      <td>40.2</td>\n",
       "      <td>14.372603</td>\n",
       "      <td>17.726027</td>\n",
       "      <td>0</td>\n",
       "    </tr>\n",
       "    <tr>\n",
       "      <th>4</th>\n",
       "      <td>1576</td>\n",
       "      <td>8.05</td>\n",
       "      <td>51.4</td>\n",
       "      <td>6.723288</td>\n",
       "      <td>11.005479</td>\n",
       "      <td>1</td>\n",
       "    </tr>\n",
       "    <tr>\n",
       "      <th>5</th>\n",
       "      <td>1577</td>\n",
       "      <td>7.55</td>\n",
       "      <td>37.0</td>\n",
       "      <td>12.438356</td>\n",
       "      <td>15.520548</td>\n",
       "      <td>1</td>\n",
       "    </tr>\n",
       "    <tr>\n",
       "      <th>6</th>\n",
       "      <td>1578</td>\n",
       "      <td>7.20</td>\n",
       "      <td>39.4</td>\n",
       "      <td>12.010959</td>\n",
       "      <td>15.295890</td>\n",
       "      <td>0</td>\n",
       "    </tr>\n",
       "    <tr>\n",
       "      <th>7</th>\n",
       "      <td>1597</td>\n",
       "      <td>8.40</td>\n",
       "      <td>52.9</td>\n",
       "      <td>15.868493</td>\n",
       "      <td>20.273973</td>\n",
       "      <td>1</td>\n",
       "    </tr>\n",
       "    <tr>\n",
       "      <th>8</th>\n",
       "      <td>1611</td>\n",
       "      <td>7.55</td>\n",
       "      <td>46.4</td>\n",
       "      <td>12.090411</td>\n",
       "      <td>15.961644</td>\n",
       "      <td>1</td>\n",
       "    </tr>\n",
       "    <tr>\n",
       "      <th>9</th>\n",
       "      <td>1612</td>\n",
       "      <td>6.75</td>\n",
       "      <td>84.2</td>\n",
       "      <td>12.147945</td>\n",
       "      <td>19.161644</td>\n",
       "      <td>0</td>\n",
       "    </tr>\n",
       "  </tbody>\n",
       "</table>\n",
       "</div>"
      ],
      "text/plain": [
       "     ID  Dose_(Gy)  Irrad_Age_(months)  Years_Since_Irrad  \\\n",
       "0  1423       0.00                 NaN                NaN   \n",
       "1  1484       0.00                 NaN                NaN   \n",
       "2  1574       7.55                52.9          13.358904   \n",
       "3  1575       7.85                40.2          14.372603   \n",
       "4  1576       8.05                51.4           6.723288   \n",
       "5  1577       7.55                37.0          12.438356   \n",
       "6  1578       7.20                39.4          12.010959   \n",
       "7  1597       8.40                52.9          15.868493   \n",
       "8  1611       7.55                46.4          12.090411   \n",
       "9  1612       6.75                84.2          12.147945   \n",
       "\n",
       "   Current_Age_(years)  Tumor_(Y/N)  \n",
       "0             9.947945            0  \n",
       "1            19.276712            0  \n",
       "2            17.767123            1  \n",
       "3            17.726027            0  \n",
       "4            11.005479            1  \n",
       "5            15.520548            1  \n",
       "6            15.295890            0  \n",
       "7            20.273973            1  \n",
       "8            15.961644            1  \n",
       "9            19.161644            0  "
      ]
     },
     "execution_count": 101,
     "metadata": {},
     "output_type": "execute_result"
    }
   ],
   "source": [
    "### Make the reduced df\n",
    "\n",
    "#make a parent df\n",
    "minhealth_monkey_df.copy()\n",
    "rad_health_df = minhealth_monkey_df[['ID', 'Dose_(Gy)', 'Irrad_Age_(months)',\n",
    "                                           'Years_Since_Irrad', 'Current_Age_(years)', 'Tumor_(Y/N)']]\n",
    "rad_health_df.head(10)\n",
    "\n"
   ]
  },
  {
   "cell_type": "code",
   "execution_count": 102,
   "id": "981f0ff7-a0bb-48a6-922f-223840e46b7d",
   "metadata": {},
   "outputs": [
    {
     "name": "stdout",
     "output_type": "stream",
     "text": [
      "[0]\n"
     ]
    },
    {
     "name": "stderr",
     "output_type": "stream",
     "text": [
      "iteritems is deprecated and will be removed in a future version. Use .items instead.\n"
     ]
    }
   ],
   "source": [
    "### Process data for ML\n",
    "#make train/testdf\n",
    "(rad_health_train_df, rad_health_test_df)= rad_health_df, rad_health_df\n",
    "\n",
    "\n",
    "# label values extraction\n",
    "rad_health_y=rad_health_train_df['Tumor_(Y/N)']\n",
    "rad_health_X=rad_health_train_df.drop(['Tumor_(Y/N)'],axis=1)\n",
    "\n",
    "\n",
    "# Declare catagorical features - first & second column\n",
    "cat_features= list(range(0,rad_health_X[rad_health_X.columns[:1]].shape[1]))\n",
    "\n",
    "print(cat_features)\n",
    "\n",
    "\n",
    "#put the data into the pool\n",
    "rad_health_pool = Pool(data=rad_health_X, label=rad_health_y, cat_features=cat_features)\n",
    "\n",
    "\n",
    "#train tesr split - 30% test\n",
    "rad_health_data= train_test_split(rad_health_X, rad_health_y, test_size=0.3, random_state=0)\n",
    "\n",
    "#### The order of this matters###\n",
    "rad_health_X_train, rad_health_X_validation, rad_health_y_train, rad_health_y_validation= rad_health_data\n",
    "\n",
    "rad_health_train_pool = Pool(\n",
    "    data = rad_health_X_train,\n",
    "    label = rad_health_y_train,\n",
    "    cat_features = cat_features\n",
    ")\n",
    "\n",
    "rad_health_validation_pool = Pool(\n",
    "    data = rad_health_X_validation,\n",
    "    label = rad_health_y_validation,\n",
    "    cat_features = cat_features\n",
    ")\n",
    "\n"
   ]
  },
  {
   "cell_type": "markdown",
   "id": "7c0e3658-4a92-43a2-94e9-fe17cb6f1462",
   "metadata": {},
   "source": [
    "##### Model Formation"
   ]
  },
  {
   "cell_type": "code",
   "execution_count": 103,
   "id": "715ec14d-ff26-42d0-b663-546a76e42385",
   "metadata": {},
   "outputs": [
    {
     "name": "stdout",
     "output_type": "stream",
     "text": [
      "0:\tlearn: 0.4678788\ttotal: 3.62ms\tremaining: 721ms\n",
      "199:\tlearn: 0.0052452\ttotal: 181ms\tremaining: 0us\n"
     ]
    },
    {
     "data": {
      "text/plain": [
       "<catboost.core.CatBoostClassifier at 0x7fa27275d150>"
      ]
     },
     "execution_count": 103,
     "metadata": {},
     "output_type": "execute_result"
    }
   ],
   "source": [
    "# Model for Tumor occurance \n",
    "# loss_function = logloss becuase it's binary\n",
    "\n",
    "rad_tumor_model= CatBoostClassifier(iterations=200\n",
    "                                    ,\n",
    "    learning_rate=0.5,\n",
    "    loss_function='Logloss',\n",
    "    custom_loss=['AUC','Accuracy'],\n",
    "    early_stopping_rounds=5,\n",
    "    #use_best_model=True,\n",
    "    #save_snapshot = True,\n",
    "    #snapshot_file='monkey_snapshot.bkp',\n",
    "    #interval is seconds\n",
    "    #snapshot_interval=120\n",
    ")\n",
    "\n",
    "\n",
    "rad_tumor_model.fit(rad_health_X, \n",
    "           rad_health_y, \n",
    "           cat_features=cat_features, \n",
    "           verbose=500 #tells how many iterations to print\n",
    "         )\n",
    "\n",
    "### 2000 iters takes 6.7 secs and gives 0.0004025 loss"
   ]
  },
  {
   "cell_type": "markdown",
   "id": "72abff3e-e610-4136-8ddf-74946ca40fe6",
   "metadata": {},
   "source": [
    "##### Predictions"
   ]
  },
  {
   "cell_type": "code",
   "execution_count": 104,
   "id": "be10382d-06a6-4d9c-a3ef-68a692206297",
   "metadata": {},
   "outputs": [
    {
     "name": "stdout",
     "output_type": "stream",
     "text": [
      "46\n"
     ]
    },
    {
     "data": {
      "image/png": "[encoded data removed]",
      "text/plain": [
       "<Figure size 640x480 with 2 Axes>"
      ]
     },
     "metadata": {},
     "output_type": "display_data"
    },
    {
     "name": "stdout",
     "output_type": "stream",
     "text": [
      "Accuracy: 1.0 Precision: 1.0\n",
      "              precision    recall  f1-score   support\n",
      "\n",
      "           0       1.00      1.00      1.00        37\n",
      "           1       1.00      1.00      1.00         9\n",
      "\n",
      "    accuracy                           1.00        46\n",
      "   macro avg       1.00      1.00      1.00        46\n",
      "weighted avg       1.00      1.00      1.00        46\n",
      "\n"
     ]
    }
   ],
   "source": [
    "#from sklearn.metrics import plot_confusion_matrix\n",
    "from sklearn.metrics import confusion_matrix, ConfusionMatrixDisplay\n",
    "\n",
    "#Predict the test occurence of tumors\n",
    "\n",
    "rad_health_a = rad_tumor_model.predict(rad_health_X_validation)\n",
    "print(len(rad_health_a), \n",
    "     )\n",
    "rad_health_a_df = pd.DataFrame(rad_health_a)\n",
    "\n",
    "\n",
    "\n",
    "# make confusion matrix\n",
    "cm = confusion_matrix(rad_health_y_validation, rad_health_a_df)\n",
    "disp = ConfusionMatrixDisplay(confusion_matrix=cm,\n",
    "                              #display_labels=clf.classes_\n",
    "                             )\n",
    "disp.plot()\n",
    "plt.show()\n",
    "\n",
    "from sklearn import metrics\n",
    "\n",
    "Accuracy = metrics.accuracy_score(rad_health_y_validation, rad_health_a_df)\n",
    "Precision = metrics.precision_score(rad_health_y_validation, rad_health_a_df)\n",
    "\n",
    "print('Accuracy:',Accuracy, 'Precision:',Precision)\n",
    "\n",
    "from sklearn.metrics import classification_report\n",
    "\n",
    "print(classification_report(rad_health_y_validation, rad_health_a_df))\n",
    "\n",
    "\n",
    "### 2000 iters gives 100%\n",
    "### 1 iters gives 0.93 accuracy annd 0.5 precision\n",
    "### 2 iters gives about the same\n",
    "### for the low iters the loss is predicting the tumors, not predicting the healthy monkeys\n",
    "### between 100 and 200 iters gives 100% for both"
   ]
  },
  {
   "cell_type": "markdown",
   "id": "1f46bba1-501a-480c-bf74-a21d2a10fbf6",
   "metadata": {},
   "source": [
    "### Summary"
   ]
  },
  {
   "cell_type": "markdown",
   "id": "ab90df6c-6b2e-415b-a41d-750e17bfe4e3",
   "metadata": {
    "tags": []
   },
   "source": [
    "## 1.d. Predicting dose "
   ]
  },
  {
   "cell_type": "markdown",
   "id": "ca7cb8d3-1eb0-4b37-b5f8-25f6f6904194",
   "metadata": {
    "tags": []
   },
   "source": [
    "#### Data Processing"
   ]
  },
  {
   "cell_type": "code",
   "execution_count": 105,
   "id": "08069988-1c93-4361-96a1-9c184d5f1dd9",
   "metadata": {},
   "outputs": [
    {
     "data": {
      "text/plain": [
       "0       0.0\n",
       "1       0.0\n",
       "2       0.0\n",
       "3       0.0\n",
       "4       0.0\n",
       "       ... \n",
       "4547    0.0\n",
       "4548    0.0\n",
       "4549    0.0\n",
       "4550    0.0\n",
       "4551    0.0\n",
       "Name: DOSE_(Gy), Length: 4552, dtype: float64"
      ]
     },
     "execution_count": 105,
     "metadata": {},
     "output_type": "execute_result"
    }
   ],
   "source": [
    "#make single monkey\n",
    "single_minbio_df.copy()\n",
    "single_dose_df = single_minbio_df\n",
    "\n",
    "#fill na values to 0\n",
    "single_dose_df[['DOSE_(Gy)']]= single_dose_df[['DOSE_(Gy)']].fillna(0, #inplace=True\n",
    ")\n",
    "\n",
    "\n",
    "\n",
    "#make multi monkey df\n",
    "minbio_monkey_df.copy()\n",
    "dose_df = minbio_monkey_df\n",
    "\n",
    "#fill na values to 0\n",
    "dose_df[['DOSE_(Gy)']]= dose_df[['DOSE_(Gy)']].fillna(0, #inplace=True\n",
    ")\n",
    "\n",
    "dose_df['DOSE_(Gy)']"
   ]
  },
  {
   "cell_type": "code",
   "execution_count": 106,
   "id": "5fd070fc-79f0-4bef-aed7-9b41a6f6b0f3",
   "metadata": {},
   "outputs": [
    {
     "name": "stdout",
     "output_type": "stream",
     "text": [
      "[0, 1, 2, 3]\n"
     ]
    },
    {
     "name": "stderr",
     "output_type": "stream",
     "text": [
      "iteritems is deprecated and will be removed in a future version. Use .items instead.\n"
     ]
    }
   ],
   "source": [
    "##### Multi Monkey ####\n",
    "\n",
    "### Processing the data for ML\n",
    "\n",
    "#make train/testdf\n",
    "(dose_train_df, dose_test_df)= dose_df, dose_df\n",
    "\n",
    "\n",
    "# label values extraction\n",
    "dose_y=dose_train_df['DOSE_(Gy)']\n",
    "dose_X=dose_train_df.drop(['ID','IRRAD_DATE','DOB','SAMPLE_DATE','DOSE_(Gy)'],axis=1)\n",
    "\n",
    "\n",
    "# Declare catagorical features - first & second column\n",
    "cat_features= list(range(0,dose_X[dose_X.columns[:4]].shape[1]))\n",
    "\n",
    "print(cat_features)\n",
    "\n",
    "\n",
    "#put the data into the pool\n",
    "dose_pool = Pool(data=dose_X, label=dose_y, cat_features=cat_features)\n",
    "\n",
    "\n",
    "#train tesr split - 30% test\n",
    "dose_data= train_test_split(dose_X, dose_y, test_size=0.3, random_state=0)\n",
    "\n",
    "#### The order of this matters###\n",
    "dose_X_train, dose_X_validation, dose_y_train, dose_y_validation= dose_data\n",
    "\n",
    "dose_train_pool = Pool(\n",
    "    data = dose_X_train,\n",
    "    label = dose_y_train,\n",
    "    cat_features = cat_features\n",
    ")\n",
    "\n",
    "dose_validation_pool = Pool(\n",
    "    data = dose_X_validation,\n",
    "    label = dose_y_validation,\n",
    "    cat_features = cat_features\n",
    ")\n"
   ]
  },
  {
   "cell_type": "code",
   "execution_count": 107,
   "id": "8cd1e51f-c5a9-4ee1-95e3-d5ff13fa33f7",
   "metadata": {},
   "outputs": [
    {
     "name": "stdout",
     "output_type": "stream",
     "text": [
      "[0, 1, 2, 3]\n"
     ]
    },
    {
     "name": "stderr",
     "output_type": "stream",
     "text": [
      "iteritems is deprecated and will be removed in a future version. Use .items instead.\n"
     ]
    }
   ],
   "source": [
    "##### Multi Monkey ####\n",
    "\n",
    "### Processing the data for ML\n",
    "\n",
    "#make train/testdf\n",
    "(single_dose_train_df, single_dose_test_df)= single_dose_df, single_dose_df\n",
    "\n",
    "\n",
    "# label values extraction\n",
    "single_dose_y=single_dose_train_df['DOSE_(Gy)']\n",
    "single_dose_X=single_dose_train_df.drop(['ID','IRRAD_DATE','DOB','SAMPLE_DATE','DOSE_(Gy)'],axis=1)\n",
    "\n",
    "\n",
    "# Declare catagorical features - first & second column\n",
    "cat_features= list(range(0,single_dose_X[single_dose_X.columns[:4]].shape[1]))\n",
    "\n",
    "print(cat_features)\n",
    "\n",
    "\n",
    "#put the data into the pool\n",
    "single_dose_pool = Pool(data=single_dose_X, label=single_dose_y, cat_features=cat_features)\n",
    "\n",
    "\n",
    "#train tesr split - 30% test\n",
    "single_dose_data= train_test_split(single_dose_X, single_dose_y, test_size=0.3, random_state=0)\n",
    "\n",
    "#### The order of this matters###\n",
    "single_dose_X_train, single_dose_X_validation, single_dose_y_train, single_dose_y_validation= single_dose_data\n",
    "\n",
    "single_dose_train_pool = Pool(\n",
    "    data = single_dose_X_train,\n",
    "    label = single_dose_y_train,\n",
    "    cat_features = cat_features\n",
    ")\n",
    "\n",
    "single_dose_validation_pool = Pool(\n",
    "    data = single_dose_X_validation,\n",
    "    label = single_dose_y_validation,\n",
    "    cat_features = cat_features\n",
    ")\n"
   ]
  },
  {
   "cell_type": "markdown",
   "id": "7d1b041c-237d-4cf0-8e39-a565a81515f8",
   "metadata": {},
   "source": [
    "#### Model Formation"
   ]
  },
  {
   "cell_type": "code",
   "execution_count": 108,
   "id": "2b09284a-9bb6-431d-8ae6-60d7ebd89054",
   "metadata": {},
   "outputs": [
    {
     "name": "stdout",
     "output_type": "stream",
     "text": [
      "0:\tlearn: 1.8015170\ttotal: 7.91ms\tremaining: 783ms\n",
      "99:\tlearn: 0.3432601\ttotal: 409ms\tremaining: 0us\n"
     ]
    },
    {
     "data": {
      "text/plain": [
       "<catboost.core.CatBoostRegressor at 0x7fa273ca6350>"
      ]
     },
     "execution_count": 108,
     "metadata": {},
     "output_type": "execute_result"
    }
   ],
   "source": [
    "### Making a model with the same perameters but without the single monkey data\n",
    "# regression for multiple monkey predicitons\n",
    "dose_model= CatBoostRegressor(iterations=100,\n",
    "    learning_rate=0.5,\n",
    "    #loss_function='MultiClass',\n",
    "    #custom_loss=['AUC','Accuracy'],\n",
    "    early_stopping_rounds=5,\n",
    "    #use_best_model=True,\n",
    "    #save_snapshot = True,\n",
    "    #snapshot_file='monkey_snapshot.bkp',\n",
    "    #interval is seconds\n",
    "    #snapshot_interval=120\n",
    ")\n",
    "\n",
    "dose_model.fit(dose_X, \n",
    "           dose_y, \n",
    "           cat_features=cat_features, \n",
    "           verbose=100 #tells how many iterations to print\n",
    "         )\n",
    "### 2 iters gives R2 = 0.78 but way off\n",
    "### 10 gives R2 = 0.92 but still funky\n",
    "### 100 gives R2 = 0.98 and looking better"
   ]
  },
  {
   "cell_type": "markdown",
   "id": "378ca223-bb8b-4330-9974-996177d104ec",
   "metadata": {},
   "source": [
    "#### Predictions\n"
   ]
  },
  {
   "cell_type": "markdown",
   "id": "3ff4eb64-1c60-4aab-8365-017801559268",
   "metadata": {
    "tags": []
   },
   "source": [
    "##### Multi Monkey Predictions"
   ]
  },
  {
   "cell_type": "code",
   "execution_count": 109,
   "id": "7632ba07-71ca-46e4-bcf2-d1467a293b2c",
   "metadata": {},
   "outputs": [
    {
     "name": "stdout",
     "output_type": "stream",
     "text": [
      "1366\n"
     ]
    },
    {
     "data": {
      "image/png": "[encoded data removed]",
      "text/plain": [
       "<Figure size 640x480 with 1 Axes>"
      ]
     },
     "metadata": {},
     "output_type": "display_data"
    }
   ],
   "source": [
    "### Predicting the single monkey dose levels\n",
    "## 2 iteration, 0.5 learning rate\n",
    "\n",
    "dose_a = dose_model.predict(dose_X_validation)\n",
    "print(len(dose_a), \n",
    "     )\n",
    "dose_a_df = pd.DataFrame(dose_a)\n",
    "\n",
    "\n",
    "# Plot the predictions vs. actual with the R2 score\n",
    "fig, ax = plt.subplots()\n",
    "ax.scatter(dose_y_validation, dose_a_df)\n",
    "\n",
    "\n",
    "ax.plot([dose_y.min(), dose_y.max()], [dose_y.min(), dose_y.max()], \n",
    "        'k-', \n",
    "        linewidth=1, \n",
    "        markersize=120\n",
    ")\n",
    "\n",
    "ax.set_xlabel('Actual')\n",
    "ax.set_ylabel('Predicted')\n",
    "#regression line\n",
    "#single_y_validation, single_a_df = single_y_validation.reshape(-1,1), single_a_df.reshape(-1,1)\n",
    "#ax.plot(single_y_validation, LinearRegression().fit(single_y_validation, single_a_df).predict(single_y_validation))\n",
    "\n",
    "\n",
    "\n",
    "ax.set_title('R2: ' + str(r2_score(dose_y_validation, dose_a_df)))\n",
    "\n",
    "plt.show()"
   ]
  },
  {
   "cell_type": "markdown",
   "id": "153c2118-af56-40f4-a1d1-3b1f8ba48fd0",
   "metadata": {},
   "source": [
    "##### Single Monkey\n",
    "\n",
    "A little weird, figure out how to give the model only one row/line of data"
   ]
  },
  {
   "cell_type": "code",
   "execution_count": 110,
   "id": "badf346b-6bfc-4aa8-9960-19f53ab8a611",
   "metadata": {},
   "outputs": [
    {
     "name": "stdout",
     "output_type": "stream",
     "text": [
      "1366\n"
     ]
    },
    {
     "name": "stderr",
     "output_type": "stream",
     "text": [
      "iteritems is deprecated and will be removed in a future version. Use .items instead.\n"
     ]
    },
    {
     "data": {
      "image/png": "[encoded data removed]",
      "text/plain": [
       "<Figure size 640x480 with 1 Axes>"
      ]
     },
     "metadata": {},
     "output_type": "display_data"
    }
   ],
   "source": [
    "### Predicting the single monkey dose levels\n",
    "## 2 iteration, 0.5 learning rate\n",
    "\n",
    "single_dose_a = dose_model.predict(single_dose_X_validation)\n",
    "print(len(dose_a), \n",
    "     )\n",
    "single_dose_a_df = pd.DataFrame(single_dose_a)\n",
    "\n",
    "\n",
    "# Plot the predictions vs. actual with the R2 score\n",
    "fig, ax = plt.subplots()\n",
    "ax.scatter(single_dose_y_validation, single_dose_a_df)\n",
    "\n",
    "\n",
    "ax.plot([single_dose_y.min(), single_dose_y.max()], [single_dose_y.min(), single_dose_y.max()], \n",
    "        'k-', \n",
    "        linewidth=1, \n",
    "        markersize=120\n",
    ")\n",
    "\n",
    "ax.set_xlabel('Actual')\n",
    "ax.set_ylabel('Predicted')\n",
    "#regression line\n",
    "#single_y_validation, single_a_df = single_y_validation.reshape(-1,1), single_a_df.reshape(-1,1)\n",
    "#ax.plot(single_y_validation, LinearRegression().fit(single_y_validation, single_a_df).predict(single_y_validation))\n",
    "\n",
    "\n",
    "\n",
    "ax.set_title('R2: ' + str(r2_score(single_dose_y_validation, single_dose_a_df)))\n",
    "\n",
    "plt.show()"
   ]
  },
  {
   "cell_type": "markdown",
   "id": "d474c1cd-5246-4a1c-b958-5c18a6354ff6",
   "metadata": {
    "tags": []
   },
   "source": [
    "#### Feature Analysis"
   ]
  },
  {
   "cell_type": "markdown",
   "id": "7ca27e83-cb2f-4b3c-b8d3-7f8e5dd45aa7",
   "metadata": {},
   "source": [
    "##### Multi Monkey"
   ]
  },
  {
   "cell_type": "code",
   "execution_count": 111,
   "id": "de900cb9-91f7-428b-bd0c-29212aab334a",
   "metadata": {},
   "outputs": [
    {
     "data": {
      "text/html": [
       "<div>\n",
       "<style scoped>\n",
       "    .dataframe tbody tr th:only-of-type {\n",
       "        vertical-align: middle;\n",
       "    }\n",
       "\n",
       "    .dataframe tbody tr th {\n",
       "        vertical-align: top;\n",
       "    }\n",
       "\n",
       "    .dataframe thead th {\n",
       "        text-align: right;\n",
       "    }\n",
       "</style>\n",
       "<table border=\"1\" class=\"dataframe\">\n",
       "  <thead>\n",
       "    <tr style=\"text-align: right;\">\n",
       "      <th></th>\n",
       "      <th>Feature Id</th>\n",
       "      <th>Importances</th>\n",
       "    </tr>\n",
       "  </thead>\n",
       "  <tbody>\n",
       "    <tr>\n",
       "      <th>0</th>\n",
       "      <td>MONTHS AT IRRAD</td>\n",
       "      <td>78.373332</td>\n",
       "    </tr>\n",
       "    <tr>\n",
       "      <th>1</th>\n",
       "      <td>MONTHS_SINCE_IRRAD</td>\n",
       "      <td>4.828723</td>\n",
       "    </tr>\n",
       "    <tr>\n",
       "      <th>2</th>\n",
       "      <td>DAYS_SINCE_IRRAD</td>\n",
       "      <td>2.651864</td>\n",
       "    </tr>\n",
       "    <tr>\n",
       "      <th>3</th>\n",
       "      <td>SEX</td>\n",
       "      <td>2.217122</td>\n",
       "    </tr>\n",
       "    <tr>\n",
       "      <th>4</th>\n",
       "      <td>AGE</td>\n",
       "      <td>1.883568</td>\n",
       "    </tr>\n",
       "    <tr>\n",
       "      <th>5</th>\n",
       "      <td>Mean_corpuscular_hemaglobin_(MCH_pg)</td>\n",
       "      <td>1.730285</td>\n",
       "    </tr>\n",
       "    <tr>\n",
       "      <th>6</th>\n",
       "      <td>Hemocrit_(HCT_%)</td>\n",
       "      <td>1.326405</td>\n",
       "    </tr>\n",
       "    <tr>\n",
       "      <th>7</th>\n",
       "      <td>Mean_corpuscular_volume_(MCV_fL)</td>\n",
       "      <td>0.835481</td>\n",
       "    </tr>\n",
       "    <tr>\n",
       "      <th>8</th>\n",
       "      <td>PLATLET_COUNT_(K/uL)</td>\n",
       "      <td>0.768381</td>\n",
       "    </tr>\n",
       "    <tr>\n",
       "      <th>9</th>\n",
       "      <td>Mean_corpuscular_hemaglobin_concentration_(MCH...</td>\n",
       "      <td>0.746726</td>\n",
       "    </tr>\n",
       "    <tr>\n",
       "      <th>10</th>\n",
       "      <td>Species</td>\n",
       "      <td>0.718196</td>\n",
       "    </tr>\n",
       "    <tr>\n",
       "      <th>11</th>\n",
       "      <td>Hemaglobin_(HGB_g/dL)</td>\n",
       "      <td>0.715697</td>\n",
       "    </tr>\n",
       "    <tr>\n",
       "      <th>12</th>\n",
       "      <td>RBC_(M/uL)</td>\n",
       "      <td>0.644539</td>\n",
       "    </tr>\n",
       "    <tr>\n",
       "      <th>13</th>\n",
       "      <td>ABS_MONO_(/uL)</td>\n",
       "      <td>0.522805</td>\n",
       "    </tr>\n",
       "    <tr>\n",
       "      <th>14</th>\n",
       "      <td>WBC_(K/uL)</td>\n",
       "      <td>0.396812</td>\n",
       "    </tr>\n",
       "    <tr>\n",
       "      <th>15</th>\n",
       "      <td>ABS_EOS_(/uL)</td>\n",
       "      <td>0.342749</td>\n",
       "    </tr>\n",
       "    <tr>\n",
       "      <th>16</th>\n",
       "      <td>ABS_NEUT_(/uL)</td>\n",
       "      <td>0.278216</td>\n",
       "    </tr>\n",
       "    <tr>\n",
       "      <th>17</th>\n",
       "      <td>MONO_(%)</td>\n",
       "      <td>0.273330</td>\n",
       "    </tr>\n",
       "    <tr>\n",
       "      <th>18</th>\n",
       "      <td>EOS_(%)</td>\n",
       "      <td>0.215890</td>\n",
       "    </tr>\n",
       "    <tr>\n",
       "      <th>19</th>\n",
       "      <td>ABS_LYMPH_(/uL)</td>\n",
       "      <td>0.193182</td>\n",
       "    </tr>\n",
       "    <tr>\n",
       "      <th>20</th>\n",
       "      <td>LYMPHOCYTES_(%)</td>\n",
       "      <td>0.110297</td>\n",
       "    </tr>\n",
       "    <tr>\n",
       "      <th>21</th>\n",
       "      <td>ABS_BASO_(/uL)</td>\n",
       "      <td>0.080556</td>\n",
       "    </tr>\n",
       "    <tr>\n",
       "      <th>22</th>\n",
       "      <td>NEUT_(%)</td>\n",
       "      <td>0.068405</td>\n",
       "    </tr>\n",
       "    <tr>\n",
       "      <th>23</th>\n",
       "      <td>BASO_(%)</td>\n",
       "      <td>0.042424</td>\n",
       "    </tr>\n",
       "    <tr>\n",
       "      <th>24</th>\n",
       "      <td>TYPE</td>\n",
       "      <td>0.035016</td>\n",
       "    </tr>\n",
       "    <tr>\n",
       "      <th>25</th>\n",
       "      <td>IRRAD</td>\n",
       "      <td>0.000000</td>\n",
       "    </tr>\n",
       "  </tbody>\n",
       "</table>\n",
       "</div>"
      ],
      "text/plain": [
       "                                           Feature Id  Importances\n",
       "0                                     MONTHS AT IRRAD    78.373332\n",
       "1                                  MONTHS_SINCE_IRRAD     4.828723\n",
       "2                                    DAYS_SINCE_IRRAD     2.651864\n",
       "3                                                 SEX     2.217122\n",
       "4                                                 AGE     1.883568\n",
       "5                Mean_corpuscular_hemaglobin_(MCH_pg)     1.730285\n",
       "6                                    Hemocrit_(HCT_%)     1.326405\n",
       "7                    Mean_corpuscular_volume_(MCV_fL)     0.835481\n",
       "8                                PLATLET_COUNT_(K/uL)     0.768381\n",
       "9   Mean_corpuscular_hemaglobin_concentration_(MCH...     0.746726\n",
       "10                                            Species     0.718196\n",
       "11                              Hemaglobin_(HGB_g/dL)     0.715697\n",
       "12                                         RBC_(M/uL)     0.644539\n",
       "13                                     ABS_MONO_(/uL)     0.522805\n",
       "14                                         WBC_(K/uL)     0.396812\n",
       "15                                      ABS_EOS_(/uL)     0.342749\n",
       "16                                     ABS_NEUT_(/uL)     0.278216\n",
       "17                                           MONO_(%)     0.273330\n",
       "18                                            EOS_(%)     0.215890\n",
       "19                                    ABS_LYMPH_(/uL)     0.193182\n",
       "20                                    LYMPHOCYTES_(%)     0.110297\n",
       "21                                     ABS_BASO_(/uL)     0.080556\n",
       "22                                           NEUT_(%)     0.068405\n",
       "23                                           BASO_(%)     0.042424\n",
       "24                                               TYPE     0.035016\n",
       "25                                              IRRAD     0.000000"
      ]
     },
     "execution_count": 111,
     "metadata": {},
     "output_type": "execute_result"
    }
   ],
   "source": [
    "# Find the feature importance for predicting the lmphocyte counts is a single monkey\n",
    "dose_model.get_feature_importance(data=dose_pool,\n",
    "                       #reference_data=None,\n",
    "                       #type=EFstrType.ShapValues,\n",
    "                       prettified=True,\n",
    "                       #thread_count=-1,\n",
    "                       #verbose=False,\n",
    "                       #log_cout=sys.stdout,\n",
    "                       #log_cerr=sys.stderr\n",
    ")\n",
    "\n",
    "#MONTHS AT IRRAD may be beecause the protocols had a standdard age to irradiate"
   ]
  },
  {
   "cell_type": "markdown",
   "id": "80c75d4a-7fc5-4f7d-99aa-c65adc3ea198",
   "metadata": {},
   "source": [
    "##### Single Monkey"
   ]
  },
  {
   "cell_type": "code",
   "execution_count": 112,
   "id": "f3dce5bf-974a-4765-a5df-4f7bb0ab3e87",
   "metadata": {},
   "outputs": [
    {
     "data": {
      "text/html": [
       "<div>\n",
       "<style scoped>\n",
       "    .dataframe tbody tr th:only-of-type {\n",
       "        vertical-align: middle;\n",
       "    }\n",
       "\n",
       "    .dataframe tbody tr th {\n",
       "        vertical-align: top;\n",
       "    }\n",
       "\n",
       "    .dataframe thead th {\n",
       "        text-align: right;\n",
       "    }\n",
       "</style>\n",
       "<table border=\"1\" class=\"dataframe\">\n",
       "  <thead>\n",
       "    <tr style=\"text-align: right;\">\n",
       "      <th></th>\n",
       "      <th>Feature Id</th>\n",
       "      <th>Importances</th>\n",
       "    </tr>\n",
       "  </thead>\n",
       "  <tbody>\n",
       "    <tr>\n",
       "      <th>0</th>\n",
       "      <td>Hemocrit_(HCT_%)</td>\n",
       "      <td>35.232249</td>\n",
       "    </tr>\n",
       "    <tr>\n",
       "      <th>1</th>\n",
       "      <td>Mean_corpuscular_hemaglobin_(MCH_pg)</td>\n",
       "      <td>18.636849</td>\n",
       "    </tr>\n",
       "    <tr>\n",
       "      <th>2</th>\n",
       "      <td>Hemaglobin_(HGB_g/dL)</td>\n",
       "      <td>14.508487</td>\n",
       "    </tr>\n",
       "    <tr>\n",
       "      <th>3</th>\n",
       "      <td>ABS_NEUT_(/uL)</td>\n",
       "      <td>4.630418</td>\n",
       "    </tr>\n",
       "    <tr>\n",
       "      <th>4</th>\n",
       "      <td>AGE</td>\n",
       "      <td>3.569756</td>\n",
       "    </tr>\n",
       "    <tr>\n",
       "      <th>5</th>\n",
       "      <td>PLATLET_COUNT_(K/uL)</td>\n",
       "      <td>3.119549</td>\n",
       "    </tr>\n",
       "    <tr>\n",
       "      <th>6</th>\n",
       "      <td>MONO_(%)</td>\n",
       "      <td>3.037803</td>\n",
       "    </tr>\n",
       "    <tr>\n",
       "      <th>7</th>\n",
       "      <td>Mean_corpuscular_hemaglobin_concentration_(MCH...</td>\n",
       "      <td>2.834909</td>\n",
       "    </tr>\n",
       "    <tr>\n",
       "      <th>8</th>\n",
       "      <td>DAYS_SINCE_IRRAD</td>\n",
       "      <td>2.623971</td>\n",
       "    </tr>\n",
       "    <tr>\n",
       "      <th>9</th>\n",
       "      <td>Mean_corpuscular_volume_(MCV_fL)</td>\n",
       "      <td>2.353940</td>\n",
       "    </tr>\n",
       "    <tr>\n",
       "      <th>10</th>\n",
       "      <td>ABS_LYMPH_(/uL)</td>\n",
       "      <td>2.189167</td>\n",
       "    </tr>\n",
       "    <tr>\n",
       "      <th>11</th>\n",
       "      <td>ABS_MONO_(/uL)</td>\n",
       "      <td>2.155941</td>\n",
       "    </tr>\n",
       "    <tr>\n",
       "      <th>12</th>\n",
       "      <td>RBC_(M/uL)</td>\n",
       "      <td>1.965176</td>\n",
       "    </tr>\n",
       "    <tr>\n",
       "      <th>13</th>\n",
       "      <td>WBC_(K/uL)</td>\n",
       "      <td>0.877902</td>\n",
       "    </tr>\n",
       "    <tr>\n",
       "      <th>14</th>\n",
       "      <td>ABS_EOS_(/uL)</td>\n",
       "      <td>0.771527</td>\n",
       "    </tr>\n",
       "    <tr>\n",
       "      <th>15</th>\n",
       "      <td>MONTHS_SINCE_IRRAD</td>\n",
       "      <td>0.698583</td>\n",
       "    </tr>\n",
       "    <tr>\n",
       "      <th>16</th>\n",
       "      <td>LYMPHOCYTES_(%)</td>\n",
       "      <td>0.161055</td>\n",
       "    </tr>\n",
       "    <tr>\n",
       "      <th>17</th>\n",
       "      <td>EOS_(%)</td>\n",
       "      <td>0.161004</td>\n",
       "    </tr>\n",
       "    <tr>\n",
       "      <th>18</th>\n",
       "      <td>NEUT_(%)</td>\n",
       "      <td>0.137982</td>\n",
       "    </tr>\n",
       "    <tr>\n",
       "      <th>19</th>\n",
       "      <td>ABS_BASO_(/uL)</td>\n",
       "      <td>0.131066</td>\n",
       "    </tr>\n",
       "    <tr>\n",
       "      <th>20</th>\n",
       "      <td>BASO_(%)</td>\n",
       "      <td>0.105956</td>\n",
       "    </tr>\n",
       "    <tr>\n",
       "      <th>21</th>\n",
       "      <td>TYPE</td>\n",
       "      <td>0.096709</td>\n",
       "    </tr>\n",
       "    <tr>\n",
       "      <th>22</th>\n",
       "      <td>Species</td>\n",
       "      <td>0.000000</td>\n",
       "    </tr>\n",
       "    <tr>\n",
       "      <th>23</th>\n",
       "      <td>IRRAD</td>\n",
       "      <td>0.000000</td>\n",
       "    </tr>\n",
       "    <tr>\n",
       "      <th>24</th>\n",
       "      <td>SEX</td>\n",
       "      <td>0.000000</td>\n",
       "    </tr>\n",
       "    <tr>\n",
       "      <th>25</th>\n",
       "      <td>MONTHS AT IRRAD</td>\n",
       "      <td>0.000000</td>\n",
       "    </tr>\n",
       "  </tbody>\n",
       "</table>\n",
       "</div>"
      ],
      "text/plain": [
       "                                           Feature Id  Importances\n",
       "0                                    Hemocrit_(HCT_%)    35.232249\n",
       "1                Mean_corpuscular_hemaglobin_(MCH_pg)    18.636849\n",
       "2                               Hemaglobin_(HGB_g/dL)    14.508487\n",
       "3                                      ABS_NEUT_(/uL)     4.630418\n",
       "4                                                 AGE     3.569756\n",
       "5                                PLATLET_COUNT_(K/uL)     3.119549\n",
       "6                                            MONO_(%)     3.037803\n",
       "7   Mean_corpuscular_hemaglobin_concentration_(MCH...     2.834909\n",
       "8                                    DAYS_SINCE_IRRAD     2.623971\n",
       "9                    Mean_corpuscular_volume_(MCV_fL)     2.353940\n",
       "10                                    ABS_LYMPH_(/uL)     2.189167\n",
       "11                                     ABS_MONO_(/uL)     2.155941\n",
       "12                                         RBC_(M/uL)     1.965176\n",
       "13                                         WBC_(K/uL)     0.877902\n",
       "14                                      ABS_EOS_(/uL)     0.771527\n",
       "15                                 MONTHS_SINCE_IRRAD     0.698583\n",
       "16                                    LYMPHOCYTES_(%)     0.161055\n",
       "17                                            EOS_(%)     0.161004\n",
       "18                                           NEUT_(%)     0.137982\n",
       "19                                     ABS_BASO_(/uL)     0.131066\n",
       "20                                           BASO_(%)     0.105956\n",
       "21                                               TYPE     0.096709\n",
       "22                                            Species     0.000000\n",
       "23                                              IRRAD     0.000000\n",
       "24                                                SEX     0.000000\n",
       "25                                    MONTHS AT IRRAD     0.000000"
      ]
     },
     "execution_count": 112,
     "metadata": {},
     "output_type": "execute_result"
    }
   ],
   "source": [
    "dose_model.get_feature_importance(data=single_dose_pool,\n",
    "                       #reference_data=None,\n",
    "                       #type=EFstrType.ShapValues,\n",
    "                       prettified=True,\n",
    "                       #thread_count=-1,\n",
    "                       #verbose=False,\n",
    "                       #log_cout=sys.stdout,\n",
    "                       #log_cerr=sys.stderr\n",
    ")"
   ]
  },
  {
   "cell_type": "markdown",
   "id": "c7c5fc91-5cde-4dfd-ac2b-4f12ca916477",
   "metadata": {},
   "source": [
    "#### Summary\n",
    "We were able to accurately predict dose for the multi monkey data, but unsuccessful for the single monkey. This could be due to not giving the model properly formatted data, but is important for the first paper and as a diagnostic tool. The feature analysis seemed to produce feasible most important features for the accurate (multi monnkey) model."
   ]
  },
  {
   "cell_type": "markdown",
   "id": "a3503d0a-075d-4468-9a32-e2314358ea09",
   "metadata": {},
   "source": [
    "# 2.) Clusterinng with dendogram"
   ]
  },
  {
   "cell_type": "markdown",
   "id": "bce9f867-ad37-4484-b3c7-539e448f7360",
   "metadata": {},
   "source": [
    "### Data processing for clustering"
   ]
  },
  {
   "cell_type": "code",
   "execution_count": null,
   "id": "4ac2d27f-1d07-4416-8fce-e82c84b05248",
   "metadata": {},
   "outputs": [],
   "source": [
    "minmod_health_monkey_df.copy()\n",
    "clust_health_df = minmod_health_monkey_df\n",
    "\n",
    "clust_health_df = clust_health_df.drop(['Irrad_Age_(months)','Years_Since_Irrad'],axis=1)\n",
    "clust_health_df.head()\n"
   ]
  },
  {
   "cell_type": "code",
   "execution_count": null,
   "id": "0022e67c-5df8-4c28-a62e-d0b43c69a9f0",
   "metadata": {},
   "outputs": [],
   "source": [
    "clust_bio_df.columns"
   ]
  },
  {
   "cell_type": "code",
   "execution_count": null,
   "id": "ef38db82-5d86-40ec-8ec7-f3ecbcc713e4",
   "metadata": {},
   "outputs": [],
   "source": [
    "minbio_monkey_df.copy()\n",
    "clust_bio_df = minbio_monkey_df\n",
    "clust_bio_df = clust_bio_df.drop(['Species','IRRAD_DATE','DOB','SAMPLE_DATE','TYPE'],axis=1)\n",
    "\n",
    "clust_bio_df['IRRAD'] = clust_bio_df['IRRAD'].map({'Yes': 1,'No': 1})\n",
    "clust_bio_df['SEX'] = clust_bio_df['SEX'].map({'F': 0,'M':1})\n",
    "\n",
    "\n",
    "# NaN to 0\n",
    "clust_bio_df[['DOSE_(Gy)','DAYS_SINCE_IRRAD',\n",
    "       'MONTHS_SINCE_IRRAD', 'MONTHS AT IRRAD']]= clust_bio_df[['DOSE_(Gy)','DAYS_SINCE_IRRAD',\n",
    "       'MONTHS_SINCE_IRRAD', 'MONTHS AT IRRAD']].fillna(0, #inplace=True\n",
    ")\n",
    "\n",
    "\n",
    "\n",
    "clust_bio_df.columns"
   ]
  },
  {
   "cell_type": "code",
   "execution_count": null,
   "id": "27a6172a-0cc8-43c5-9142-a2be01eba369",
   "metadata": {},
   "outputs": [],
   "source": [
    "clust_health_df.copy()\n",
    "small_health_df = clust_health_df[['ID','Time_Under_Observation_(yrs)','Dose_(Gy)',\n",
    "                                   'Current_Age_(years)','Animal_Status']]\n",
    "small_health_df.head(2)\n"
   ]
  },
  {
   "cell_type": "code",
   "execution_count": null,
   "id": "a0141543-9bcb-465c-9635-febd6ed42934",
   "metadata": {},
   "outputs": [],
   "source": [
    "clust_bio_df.copy()\n",
    "small_bio_df = clust_bio_df[['ID', 'IRRAD', 'SEX', 'DAYS_SINCE_IRRAD', 'MONTHS_SINCE_IRRAD',\n",
    "       'MONTHS AT IRRAD', 'DOSE_(Gy)', 'AGE']]\n",
    "small_bio_df.head(2)\n"
   ]
  },
  {
   "cell_type": "code",
   "execution_count": null,
   "id": "625a38ae-219e-43eb-9dba-5980f634568e",
   "metadata": {},
   "outputs": [],
   "source": [
    "clust_bio_df.copy()\n",
    "small_cell_df = clust_bio_df[['ID','NEUT_(%)',\n",
    "       'LYMPHOCYTES_(%)', 'MONO_(%)', 'EOS_(%)', 'BASO_(%)']]\n",
    "\n",
    "small_cell_df.head(2)"
   ]
  },
  {
   "cell_type": "code",
   "execution_count": null,
   "id": "67aa7140-bc03-4474-8030-f71ef65fc443",
   "metadata": {},
   "outputs": [],
   "source": [
    "# Clustering based on the health statuses of the monkey\n",
    "sns.clustermap(clust_health_df\n",
    "              )\n",
    "\n",
    "sns.clustermap(small_health_df\n",
    "              )\n"
   ]
  },
  {
   "cell_type": "code",
   "execution_count": null,
   "id": "418f2218-31e1-481b-b3ae-51348fed6db4",
   "metadata": {},
   "outputs": [],
   "source": [
    "small_cell_df.copy()\n",
    "float_cell_df = small_cell_df\n",
    "float_cell_df['ID'] = float_cell_df['ID'].astype(float)"
   ]
  },
  {
   "cell_type": "code",
   "execution_count": null,
   "id": "84419916-c960-48b9-bbd3-b2d7cd678abc",
   "metadata": {},
   "outputs": [],
   "source": [
    "# Clustering based on the bio data of the monkey\n",
    "\n",
    "\n",
    "sns.clustermap(small_cell_df\n",
    "              )"
   ]
  },
  {
   "cell_type": "code",
   "execution_count": null,
   "id": "c7524c47-b78c-4bb5-b3cd-79a7f5057a27",
   "metadata": {},
   "outputs": [],
   "source": [
    "#### the clustering is a real challenge, I tried to give different part of the data,\n",
    "#### I tried to convert the types of data passed, I think that binary data doesn't cluster well"
   ]
  },
  {
   "cell_type": "markdown",
   "id": "1263e1ff-ebf1-46ca-86b4-b1b152231310",
   "metadata": {},
   "source": [
    "# 3.) Combining data\n",
    "Fusing the biomarker and health data in the following ways for more robust predicitons/pattern recognition:\n",
    "\n",
    "1.) Non-datetime biomarker data with the binary health outcome data\n",
    "\n",
    "2.) Datetime biomarker and health outcome data\n",
    "\n",
    "3.) Datetime biomarker and health coutcome data with the more subjective text"
   ]
  },
  {
   "cell_type": "markdown",
   "id": "6553baea-d6ed-46cc-b95a-f3f335b2e9f8",
   "metadata": {},
   "source": [
    "## a.) Datetime biomarker and health outcome data\n",
    " "
   ]
  },
  {
   "cell_type": "markdown",
   "id": "f290cac8-1c09-4405-8ae7-ef4e9b2d3595",
   "metadata": {},
   "source": [
    "## Concatonating data\n",
    "Pandas has a .join(), .merge(), and .concat() methods\n",
    "\n",
    "Need to either delete or ovelap the ID, Dose_(Gy), Irrad_Age_(months), Years_Since_Irrad, AGE, and the equivilents.\n",
    "\n",
    "Issue: not all monkeys are accounted for in the health data, and there are far more samples in the bio data - make sure it fills down??? based on date???\n"
   ]
  },
  {
   "cell_type": "code",
   "execution_count": null,
   "id": "41d8428a-dcfe-4253-8d0c-0c1478ac7424",
   "metadata": {},
   "outputs": [],
   "source": [
    "minbio_monkey_df.join(minmod_health_monkey_df, on='ID',rsuffix='_right')"
   ]
  },
  {
   "cell_type": "code",
   "execution_count": null,
   "id": "449b2792-619a-4127-9371-99a9fc0cc930",
   "metadata": {},
   "outputs": [],
   "source": []
  },
  {
   "cell_type": "markdown",
   "id": "660cb755-d6e2-46eb-91b7-483a4c40e33f",
   "metadata": {},
   "source": [
    "## b.) Datetime biomarker and health outcome data\n",
    "\n"
   ]
  },
  {
   "cell_type": "code",
   "execution_count": null,
   "id": "ef770f3a-e2e5-45f8-af03-070b75fca397",
   "metadata": {},
   "outputs": [],
   "source": []
  },
  {
   "cell_type": "markdown",
   "id": "dd9cc8e5-7f43-4983-98bb-d9e7e1e37d7f",
   "metadata": {},
   "source": [
    "## c.) Datetime biomarker and health coutcome data with the more subjective text"
   ]
  },
  {
   "cell_type": "code",
   "execution_count": null,
   "id": "1785640d-c82d-4979-b463-18107199dd39",
   "metadata": {},
   "outputs": [],
   "source": []
  },
  {
   "cell_type": "markdown",
   "id": "0afd85b7-104a-4a80-8f2e-15687389c0ae",
   "metadata": {},
   "source": [
    "# 4.) Dimentionality reduction\n",
    "Can I initially reduce the number of features for faster training and better vizualization with the same amount of power?\n",
    "\n",
    "Using Non-negative matrix factorization (NMF) because it seemed well used and effective\n",
    " - however, has to be linearly seperatable\n",
    "\n",
    "Also using t-Distributed Stochastic Neighbor Embedding (t-SNE) because it works well for non-linear data\n",
    "\n",
    "Articel on different techniques:\n",
    "https://neptune.ai/blog/dimensionality-reduction#:~:text=Advantages%20and%20disadvantages-,What%20is%20dimensionality%20reduction%3F,variables%20are%20also%20called%20features.\n",
    "\n",
    "Sklearn NMF https://scikit-learn.org/stable/modules/generated/sklearn.decomposition.NMF.html\n",
    "\n",
    "Sklearn TSNE https://scikit-learn.org/stable/modules/generated/sklearn.manifold.TSNE.html\n"
   ]
  },
  {
   "cell_type": "code",
   "execution_count": null,
   "id": "8022f06b-6d67-4d8f-bfec-0a99b220e3a4",
   "metadata": {},
   "outputs": [],
   "source": []
  },
  {
   "cell_type": "code",
   "execution_count": null,
   "id": "8f4efb7e-8b4b-468c-a533-450a0f44491f",
   "metadata": {},
   "outputs": [],
   "source": [
    "#get the single monkey data in a form that can be understood by the NMF and TSNE - no text or datetime\n",
    "\n",
    "single_red_df = single_monkey_df.copy()\n",
    "single_red_df = single_red_df.drop(['Species','SEX', 'TYPE','IRRAD_DATE','DOB','SAMPLE_DATE',], axis =1)\n",
    "#single_red_df.head(2)\n",
    "\n",
    "#Turn 'Yes' and 'No' to 1 & 0 - numerical\n",
    "single_red_df['IRRAD'] = single_red_df['IRRAD'].map({'Yes': 1, 'No': 0})\n",
    "\n",
    "\n",
    "single_red_df.head(2)"
   ]
  },
  {
   "cell_type": "code",
   "execution_count": null,
   "id": "de23bee1-9517-445a-a242-32322e4e42e7",
   "metadata": {},
   "outputs": [],
   "source": [
    "from sklearn.manifold import TSNE\n",
    "\n",
    "#17 is the max for perplexityin this instance\n",
    "monkey_tsne = TSNE(n_components=2, \n",
    "                   perplexity=17\n",
    "                   ).fit_transform(single_red_df)\n"
   ]
  },
  {
   "cell_type": "code",
   "execution_count": null,
   "id": "e4046901-5264-4a19-bff9-5e92a4a93d73",
   "metadata": {},
   "outputs": [],
   "source": [
    "df_subset1 = monkey_tsne[:,0]\n",
    "df_subset2 = monkey_tsne[:,1]"
   ]
  },
  {
   "cell_type": "code",
   "execution_count": null,
   "id": "f6f62e46-7b11-480f-9a88-c5a8d8f88a70",
   "metadata": {},
   "outputs": [],
   "source": [
    "plt.figure(figsize=(16,10))\n",
    "sns.scatterplot(\n",
    "    x=df_subset1, y=df_subset2,\n",
    "    #hue=\"y\",\n",
    "    palette=sns.color_palette(\"hls\", 10),\n",
    "    #data=df_subset,\n",
    "    legend=\"full\",\n",
    "    alpha=1\n",
    ")"
   ]
  },
  {
   "cell_type": "markdown",
   "id": "fd266f60-5572-48c0-8e55-64069ffc0320",
   "metadata": {},
   "source": [
    "## UMAP\n",
    "Want to try UMAP with the health outcome and combined data"
   ]
  },
  {
   "cell_type": "code",
   "execution_count": null,
   "id": "1ee1f057-89f7-4f76-a668-01d5f2444f42",
   "metadata": {},
   "outputs": [],
   "source": [
    "# Same setup as from the docs example: https://umap-learn.readthedocs.io/en/latest/basic_usage.html\n",
    "import umap.plot\n",
    "from sklearn.model_selection import train_test_split\n",
    "from sklearn.preprocessing import StandardScaler\n",
    "%matplotlib inline\n",
    "sns.set(style='white', context='notebook', rc={'figure.figsize':(14,10)})\n",
    "\n",
    "import umap\n",
    "reducer = umap.UMAP()\n",
    "\n",
    "\n",
    "\n",
    "print('Setup Complete')"
   ]
  },
  {
   "cell_type": "code",
   "execution_count": null,
   "id": "1b20e44e-9631-48b0-87d8-4312f0dc0966",
   "metadata": {},
   "outputs": [],
   "source": [
    "#need to scale the vales to z-scores to get them all on the same page\n",
    "\n",
    "#Make df with the blood analytics with no missing values - NaN as 0, see if there's a better way\n",
    "minmod_health_monkey_df.copy()\n",
    "healthumap_df = minmod_health_monkey_df.fillna(0)\n",
    "\n",
    "#healthumap_df.head()\n",
    "\n",
    "#Scale the blood to z-scores\n",
    "healthumap_df = healthumap_df.values\n",
    "scaled_healthumap_df = StandardScaler().fit_transform(healthumap_df)"
   ]
  },
  {
   "cell_type": "code",
   "execution_count": null,
   "id": "c1899c22-7255-426f-9bcb-2cb20b7f9073",
   "metadata": {},
   "outputs": [],
   "source": [
    "# Want it to be (n, 2) for UMAP to work\n",
    "embedding = reducer.fit_transform(scaled_healthumap_df)\n",
    "embedding.shape"
   ]
  },
  {
   "cell_type": "code",
   "execution_count": null,
   "id": "e924086e-408e-4dbb-b5f9-9c7e01bd8240",
   "metadata": {},
   "outputs": [],
   "source": [
    "# Simply visualize the UMAP\n",
    "plt.scatter(embedding[:, 0], \n",
    "            embedding[:, 1], \n",
    "            c=minmod_health_monkey_df.ID, \n",
    "            cmap='Spectral', \n",
    "            s=10\n",
    "           )\n",
    "\n",
    "#show the spiderweb\n",
    "#umap.plot.connectivity(mapper, edge_bundling='hammer')\n",
    "\n",
    "plt.gca().set_aspect('equal', 'datalim')\n",
    "plt.colorbar(boundaries=np.arange(11)-0.5).set_ticks(np.arange(10))\n",
    "plt.title('UMAP projection of the Health Outcome of the Monkeys', fontsize=24);"
   ]
  },
  {
   "cell_type": "markdown",
   "id": "4451e694-04fc-43d3-b318-184fd843ee66",
   "metadata": {},
   "source": [
    "## Interactive Health outcome UMAP"
   ]
  },
  {
   "cell_type": "code",
   "execution_count": null,
   "id": "b292a001-3ca6-49ca-82a8-332f6af15715",
   "metadata": {},
   "outputs": [],
   "source": [
    "# Set up interactive loading of \n",
    "from io import BytesIO\n",
    "from PIL import Image\n",
    "import base64\n",
    "import bokeh\n",
    "\n",
    "def embeddable_image(data):\n",
    "    img_data = 255 - 15 * data.astype(np.uint8)\n",
    "    image = Image.fromarray(img_data, mode='L').resize((64, 64), Image.Resampling.BICUBIC)\n",
    "    buffer = BytesIO()\n",
    "    image.save(buffer, format='png')\n",
    "    for_encoding = buffer.getvalue()\n",
    "    return 'data:image/png;base64,' + base64.b64encode(for_encoding).decode()\n",
    "\n",
    "#This part has to go below up above\n",
    "import bokeh\n",
    "from bokeh.plotting import figure, show, output_notebook\n",
    "from bokeh.models import HoverTool, ColumnDataSource, CategoricalColorMapper\n",
    "from bokeh.palettes import Spectral10\n",
    "\n",
    "output_notebook()"
   ]
  },
  {
   "cell_type": "code",
   "execution_count": null,
   "id": "c6ed5646-1e8b-45b6-a81f-6e68f66729bc",
   "metadata": {},
   "outputs": [],
   "source": [
    "umap1_df = pd.DataFrame(embedding, columns=('x', 'y'))\n",
    "\n",
    "datasource = ColumnDataSource(umap1_df)\n",
    "#color_mapping = CategoricalColorMapper(factors=minmod_health_monkey_df['ID'],\n",
    "#                                       palette='Turbo256')\n",
    "\n",
    "\n",
    "\n",
    "\n",
    "plot_figure = figure(\n",
    "    title='UMAP projection of the Health outcome dataset',\n",
    "    plot_width=600,\n",
    "    plot_height=600,\n",
    "    tools=('pan, wheel_zoom, reset')\n",
    ")\n",
    "\n",
    "plot_figure.add_tools(HoverTool(tooltips=\"\"\"\n",
    "<div>\n",
    "    <div>\n",
    "        <img src='@image' style='float: left; margin: 5px 5px 5px 5px'/>\n",
    "    </div>\n",
    "    <div>\n",
    "        <span style='font-size: 16px; color: #224499'>Digit:</span>\n",
    "        <span style='font-size: 18px'>@digit</span>\n",
    "    </div>\n",
    "</div>\n",
    "\"\"\"))\n",
    "\n",
    "plot_figure.circle(\n",
    "    'x',\n",
    "    'y',\n",
    "    source=umap1_df,\n",
    "    #color=dict(field='digit', #transform=color_mapping),\n",
    "    line_alpha=0.6,\n",
    "    fill_alpha=0.6,\n",
    "    size=4\n",
    ")\n",
    "\n",
    "show(plot_figure)\n",
    "\n",
    "### It works, but the number of points is so large it gives them all grey colors, might work with just monkeys ###"
   ]
  },
  {
   "cell_type": "markdown",
   "id": "2ad8c630-9928-4371-9850-8ff171a1b2db",
   "metadata": {},
   "source": [
    "# 5.) Automate cycling through feature predicitons\n",
    "Instead of seting up a single label-train dynamic, can I predict every single feature based on the same data?"
   ]
  },
  {
   "cell_type": "code",
   "execution_count": null,
   "id": "c03467de-29f1-49a1-b3b9-504201982325",
   "metadata": {},
   "outputs": [],
   "source": []
  },
  {
   "cell_type": "code",
   "execution_count": null,
   "id": "a97283ae-ace7-4c87-9004-cec9091823aa",
   "metadata": {},
   "outputs": [],
   "source": []
  },
  {
   "cell_type": "code",
   "execution_count": null,
   "id": "287ecde1-a535-4707-814d-ff46cec5daae",
   "metadata": {},
   "outputs": [],
   "source": []
  },
  {
   "cell_type": "markdown",
   "id": "6692ac3d-8a93-4a40-a078-703c6cd7c0bd",
   "metadata": {},
   "source": [
    "# Conclusions"
   ]
  },
  {
   "cell_type": "code",
   "execution_count": null,
   "id": "3ac3aff5-369c-4bfc-b71b-46f87a9a3e62",
   "metadata": {},
   "outputs": [],
   "source": []
  },
  {
   "cell_type": "code",
   "execution_count": null,
   "id": "95482482-d356-4ca4-8ac1-a16a73195437",
   "metadata": {},
   "outputs": [],
   "source": []
  }
 ],
 "metadata": {
  "kernelspec": {
   "display_name": "Python 3 (ipykernel)",
   "language": "python",
   "name": "python3"
  },
  "language_info": {
   "codemirror_mode": {
    "name": "ipython",
    "version": 3
   },
   "file_extension": ".py",
   "mimetype": "text/x-python",
   "name": "python",
   "nbconvert_exporter": "python",
   "pygments_lexer": "ipython3",
   "version": "3.10.9"
  },
  "toc-showtags": false
 },
 "nbformat": 4,
 "nbformat_minor": 5
}
