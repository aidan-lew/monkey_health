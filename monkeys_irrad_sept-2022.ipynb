{
 "cells": [
  {
   "cell_type": "markdown",
   "id": "728e57cd-5b85-411f-8922-8ac06d5a0ea1",
   "metadata": {},
   "source": [
    "# Irradiated Monkeys\n",
    "This data anlysis attempts to aply machine learning concepts to analyze the patterns and make predictions related to Rhesus monkeys housed by Wake Forest University and in collaboration with Dr. Thomas Johnson of Colorado State University and Dr. Susan Bailey of Colorado Atate Uiversity. The monkeys were irradiated with differnt doses, types, and frequencies of radiation, and blood analytics were frequently measured after radiation. The health records of the monkeys were also recorded, and all monkeys that aare iving are still being monitored. Thus, in this notebook I will test the following:\n",
    "- 1.) Can machine learning cluster patterns in monkey response to radiation?\n",
    "- 2.) Can machine learning make accurate blood analytic predicitons?\n",
    "- 3.) Can machine learning predict the health statuses of the monkeys?\n",
    "- 4.) What features contribute most to the end biomarker and prognostic statuses of the monkeys? "
   ]
  },
  {
   "cell_type": "markdown",
   "id": "dc9b37cf-2219-45f2-a247-80c0785da427",
   "metadata": {},
   "source": [
    "# Data handling"
   ]
  },
  {
   "cell_type": "code",
   "execution_count": 1,
   "id": "962d479a-3f66-4959-ab13-fe5e4e24cceb",
   "metadata": {},
   "outputs": [
    {
     "name": "stdout",
     "output_type": "stream",
     "text": [
      "Setup Complete\n"
     ]
    }
   ],
   "source": [
    "# handling data\n",
    "import pandas as pd\n",
    "import numpy as np\n",
    "import datetime\n",
    "\n",
    "# visualizing data\n",
    "import seaborn as sns\n",
    "import matplotlib.pyplot as plt\n",
    "sns.set_style(\"darkgrid\")\n",
    "\n",
    "# Statistics\n",
    "from scipy import stats\n",
    "#import statsmodels.api as sm\n",
    "import statsmodels.imputation.mice as smi\n",
    "import scipy.cluster.hierarchy as hac\n",
    "from statsmodels.stats.multicomp import pairwise_tukeyhsd\n",
    "import matplotlib.gridspec as gridspec\n",
    "import math\n",
    "import random\n",
    "\n",
    "\n",
    "#SHAP Value stuff\n",
    "import shap\n",
    "from shap import TreeExplainer\n",
    "from shap import GradientExplainer\n",
    "from shap import DeepExplainer\n",
    "from shap import KernelExplainer\n",
    "from shap import SamplingExplainer\n",
    "from shap import PartitionExplainer\n",
    "\n",
    "#ML stuff\n",
    "import catboost\n",
    "from catboost import CatBoostClassifier, Pool, CatBoostRegressor, CatBoost\n",
    "\n",
    "#language handling\n",
    "#import bert\n",
    "\n",
    "\n",
    "#from mxnet import nd, autograd, gluon\n",
    "#from mxnet.gluon import nn, rnn\n",
    "#import mxnet as mx\n",
    "\n",
    "\n",
    "print(\"Setup Complete\")"
   ]
  },
  {
   "cell_type": "code",
   "execution_count": 2,
   "id": "ce0e225e-d556-4356-90ca-24f8154f4c84",
   "metadata": {},
   "outputs": [
    {
     "data": {
      "text/plain": [
       "'/Users/aidanlew'"
      ]
     },
     "execution_count": 2,
     "metadata": {},
     "output_type": "execute_result"
    }
   ],
   "source": [
    "pwd"
   ]
  },
  {
   "cell_type": "code",
   "execution_count": 3,
   "id": "7532a770-4170-4f4b-9084-16d607883969",
   "metadata": {},
   "outputs": [
    {
     "name": "stdout",
     "output_type": "stream",
     "text": [
      "/Users/aidanlew/Documents\n"
     ]
    }
   ],
   "source": [
    "cd '/Users/aidanlew/Documents'"
   ]
  },
  {
   "cell_type": "code",
   "execution_count": 4,
   "id": "3434f143-9912-446a-ac20-d73edadfddae",
   "metadata": {},
   "outputs": [
    {
     "name": "stderr",
     "output_type": "stream",
     "text": [
      "1245.92s - pydevd: Sending message related to process being replaced timed-out after 5 seconds\n"
     ]
    },
    {
     "name": "stdout",
     "output_type": "stream",
     "text": [
      "CMB_applicationn.docx\n",
      "Cage1HomeCage_UnfCage2_EN_9.9_TrimDLC_resnet50_fam_unfam_WT_1.3Sep13shuffle1_15000_el_filtered.csv\n",
      "DLC_WT_social_trial_workbook.xlsx\n",
      "DLC_WT_social_trial_workbook1.xlsx\n",
      "DLC_WT_social_trial_workbook2.xlsx\n",
      "DLC_WT_social_trial_workbook3.xlsx\n",
      "DLC_WT_social_trial_workbook4.xlsx\n",
      "FLAG.xlsx\n",
      "GS_yahoo.csv\n",
      "Supplimentary_Table_3.pdf\n",
      "TERRA_supp_fig_2.pdf\n",
      "TERRA_supp_fig_tbles.xlsx\n",
      "Untitled.ipynb\n",
      "\u001b[34mWT_test_DLC_data\u001b[m\u001b[m/\n",
      "aidan_amcas_app\n",
      "aidan_amcas_app.docx\n",
      "b_sharp_transformed_telomere_data.csv\n",
      "eoc_introduction_presentation.pptx\n",
      "feild_of_veiw\n",
      "flag.png\n",
      "freevbound_percent.png\n",
      "full_monkey_data_r2.xlsx\n",
      "g2_cell_percent_w-ornase_whole.png\n",
      "g2_cell_percent_w-rnase_whole.png\n",
      "g2_cell_w-ornase_whole.png\n",
      "g2_cell_w-rnase_whole.png\n",
      "g2_terra_w-ornase.png\n",
      "g2_terra_w-rnase_whole.png\n",
      "global_DSB_TERRA.xlsx\n",
      "global_terra_bar.png\n",
      "h2ax.xlsx\n",
      "h2ax_foci-cell.png\n",
      "h2ax_percent.png\n",
      "phase3_feild_of_veiw\n",
      "phase3_feild_of_veiw.csv\n",
      "requirements.txt\n",
      "stock_data_trial.xlsx\n",
      "telo_triw-ornase_whole.png\n",
      "telo_triw-rnase_whole.png\n",
      "telomere_DSB_TERRA.xlsx\n",
      "telomere_G2_DSB_TERRA.xlsx\n",
      "terra.png\n",
      "trial directions.csv\n",
      "~$full_monkey_data_r2.xlsx\n",
      "~$telomere_DSB_TERRA.xlsx\n"
     ]
    }
   ],
   "source": [
    "ls"
   ]
  },
  {
   "cell_type": "code",
   "execution_count": 22,
   "id": "bf242d8d-4c29-44ad-8641-89c6810d8e5f",
   "metadata": {},
   "outputs": [
    {
     "name": "stderr",
     "output_type": "stream",
     "text": [
      "Cannot parse header or footer so it will be ignored\n"
     ]
    },
    {
     "data": {
      "text/html": [
       "<div>\n",
       "<style scoped>\n",
       "    .dataframe tbody tr th:only-of-type {\n",
       "        vertical-align: middle;\n",
       "    }\n",
       "\n",
       "    .dataframe tbody tr th {\n",
       "        vertical-align: top;\n",
       "    }\n",
       "\n",
       "    .dataframe thead th {\n",
       "        text-align: right;\n",
       "    }\n",
       "</style>\n",
       "<table border=\"1\" class=\"dataframe\">\n",
       "  <thead>\n",
       "    <tr style=\"text-align: right;\">\n",
       "      <th></th>\n",
       "      <th>ID</th>\n",
       "      <th>Species</th>\n",
       "      <th>SAMPLE_DATE</th>\n",
       "      <th>IRRAD</th>\n",
       "      <th>IRRAD_DATE</th>\n",
       "      <th>DOSE_(Gy)</th>\n",
       "      <th>DAYS_SINCE_IRRAD</th>\n",
       "      <th>MONTHS_SINCE_IRRAD</th>\n",
       "      <th>MONTHS AT IRRAD</th>\n",
       "      <th>DOB</th>\n",
       "      <th>...</th>\n",
       "      <th>LYMPHOCYTES_(%)</th>\n",
       "      <th>MONO_(%)</th>\n",
       "      <th>EOS_(%)</th>\n",
       "      <th>BASO_(%)</th>\n",
       "      <th>ABS_NEUT_(/uL)</th>\n",
       "      <th>ABS_LYMPH_(/uL)</th>\n",
       "      <th>ABS_MONO_(/uL)</th>\n",
       "      <th>ABS_EOS_(/uL)</th>\n",
       "      <th>ABS_BASO_(/uL)</th>\n",
       "      <th>PLATLET_COUNT_(K/uL)</th>\n",
       "    </tr>\n",
       "  </thead>\n",
       "  <tbody>\n",
       "    <tr>\n",
       "      <th>4547</th>\n",
       "      <td>2112</td>\n",
       "      <td>Rhesus-Chinese</td>\n",
       "      <td>2020-09-23 00:00:00</td>\n",
       "      <td>No</td>\n",
       "      <td>NaT</td>\n",
       "      <td>NaN</td>\n",
       "      <td>NaN</td>\n",
       "      <td>NaN</td>\n",
       "      <td>NaN</td>\n",
       "      <td>1999-09-28</td>\n",
       "      <td>...</td>\n",
       "      <td>67.0</td>\n",
       "      <td>6.2</td>\n",
       "      <td>1.1</td>\n",
       "      <td>0.0</td>\n",
       "      <td>1696</td>\n",
       "      <td>4422</td>\n",
       "      <td>409</td>\n",
       "      <td>73</td>\n",
       "      <td>0</td>\n",
       "      <td>289</td>\n",
       "    </tr>\n",
       "    <tr>\n",
       "      <th>4548</th>\n",
       "      <td>2112</td>\n",
       "      <td>Rhesus-Chinese</td>\n",
       "      <td>2021-03-04 00:00:00</td>\n",
       "      <td>No</td>\n",
       "      <td>NaT</td>\n",
       "      <td>NaN</td>\n",
       "      <td>NaN</td>\n",
       "      <td>NaN</td>\n",
       "      <td>NaN</td>\n",
       "      <td>1999-09-28</td>\n",
       "      <td>...</td>\n",
       "      <td>56.1</td>\n",
       "      <td>9.1</td>\n",
       "      <td>1.5</td>\n",
       "      <td>0.0</td>\n",
       "      <td>1312</td>\n",
       "      <td>2210</td>\n",
       "      <td>359</td>\n",
       "      <td>59</td>\n",
       "      <td>0</td>\n",
       "      <td>284</td>\n",
       "    </tr>\n",
       "    <tr>\n",
       "      <th>4549</th>\n",
       "      <td>2210</td>\n",
       "      <td>Rhesus-Indian</td>\n",
       "      <td>2021-09-07 00:00:00</td>\n",
       "      <td>No</td>\n",
       "      <td>NaT</td>\n",
       "      <td>NaN</td>\n",
       "      <td>NaN</td>\n",
       "      <td>NaN</td>\n",
       "      <td>NaN</td>\n",
       "      <td>1999-01-01</td>\n",
       "      <td>...</td>\n",
       "      <td>26.8</td>\n",
       "      <td>12.3</td>\n",
       "      <td>1.2</td>\n",
       "      <td>0.0</td>\n",
       "      <td>3104</td>\n",
       "      <td>1394</td>\n",
       "      <td>640</td>\n",
       "      <td>62</td>\n",
       "      <td>0</td>\n",
       "      <td>311</td>\n",
       "    </tr>\n",
       "    <tr>\n",
       "      <th>4550</th>\n",
       "      <td>2210</td>\n",
       "      <td>Rhesus-Indian</td>\n",
       "      <td>2021-09-20 00:00:00</td>\n",
       "      <td>No</td>\n",
       "      <td>NaT</td>\n",
       "      <td>NaN</td>\n",
       "      <td>NaN</td>\n",
       "      <td>NaN</td>\n",
       "      <td>NaN</td>\n",
       "      <td>1999-01-01</td>\n",
       "      <td>...</td>\n",
       "      <td>36.2</td>\n",
       "      <td>10.9</td>\n",
       "      <td>1.7</td>\n",
       "      <td>0.0</td>\n",
       "      <td>2970</td>\n",
       "      <td>2100</td>\n",
       "      <td>632</td>\n",
       "      <td>99</td>\n",
       "      <td>0</td>\n",
       "      <td>348</td>\n",
       "    </tr>\n",
       "    <tr>\n",
       "      <th>4551</th>\n",
       "      <td>2210</td>\n",
       "      <td>Rhesus-Indian</td>\n",
       "      <td>2021-10-07 00:00:00</td>\n",
       "      <td>No</td>\n",
       "      <td>NaT</td>\n",
       "      <td>NaN</td>\n",
       "      <td>NaN</td>\n",
       "      <td>NaN</td>\n",
       "      <td>NaN</td>\n",
       "      <td>1999-01-01</td>\n",
       "      <td>...</td>\n",
       "      <td>16.0</td>\n",
       "      <td>21.0</td>\n",
       "      <td>3.0</td>\n",
       "      <td>0.0</td>\n",
       "      <td>3360</td>\n",
       "      <td>896</td>\n",
       "      <td>1176</td>\n",
       "      <td>168</td>\n",
       "      <td>0</td>\n",
       "      <td>329</td>\n",
       "    </tr>\n",
       "  </tbody>\n",
       "</table>\n",
       "<p>5 rows × 31 columns</p>\n",
       "</div>"
      ],
      "text/plain": [
       "        ID         Species          SAMPLE_DATE IRRAD  IRRAD_DATE  DOSE_(Gy)  \\\n",
       "4547  2112  Rhesus-Chinese  2020-09-23 00:00:00     No        NaT        NaN   \n",
       "4548  2112  Rhesus-Chinese  2021-03-04 00:00:00     No        NaT        NaN   \n",
       "4549  2210   Rhesus-Indian  2021-09-07 00:00:00     No        NaT        NaN   \n",
       "4550  2210   Rhesus-Indian  2021-09-20 00:00:00     No        NaT        NaN   \n",
       "4551  2210   Rhesus-Indian  2021-10-07 00:00:00     No        NaT        NaN   \n",
       "\n",
       "      DAYS_SINCE_IRRAD  MONTHS_SINCE_IRRAD  MONTHS AT IRRAD        DOB  ...  \\\n",
       "4547               NaN                 NaN              NaN 1999-09-28  ...   \n",
       "4548               NaN                 NaN              NaN 1999-09-28  ...   \n",
       "4549               NaN                 NaN              NaN 1999-01-01  ...   \n",
       "4550               NaN                 NaN              NaN 1999-01-01  ...   \n",
       "4551               NaN                 NaN              NaN 1999-01-01  ...   \n",
       "\n",
       "     LYMPHOCYTES_(%)  MONO_(%) EOS_(%)  BASO_(%)  ABS_NEUT_(/uL)  \\\n",
       "4547            67.0       6.2     1.1       0.0            1696   \n",
       "4548            56.1       9.1     1.5       0.0            1312   \n",
       "4549            26.8      12.3     1.2       0.0            3104   \n",
       "4550            36.2      10.9     1.7       0.0            2970   \n",
       "4551            16.0      21.0     3.0       0.0            3360   \n",
       "\n",
       "      ABS_LYMPH_(/uL)  ABS_MONO_(/uL)  ABS_EOS_(/uL)  ABS_BASO_(/uL)  \\\n",
       "4547             4422             409             73               0   \n",
       "4548             2210             359             59               0   \n",
       "4549             1394             640             62               0   \n",
       "4550             2100             632             99               0   \n",
       "4551              896            1176            168               0   \n",
       "\n",
       "      PLATLET_COUNT_(K/uL)  \n",
       "4547                   289  \n",
       "4548                   284  \n",
       "4549                   311  \n",
       "4550                   348  \n",
       "4551                   329  \n",
       "\n",
       "[5 rows x 31 columns]"
      ]
     },
     "execution_count": 22,
     "metadata": {},
     "output_type": "execute_result"
    }
   ],
   "source": [
    "full_monkey_df = pd.read_excel('../Documents/full_monkey_data_r2.xlsx',\n",
    "                    #sheet_name=1,\n",
    "                    skiprows = 0,\n",
    "                    usecols = ['ID', 'Species', 'SAMPLE_DATE', 'IRRAD ', 'IRRAD_DATE', 'DOSE_(Gy)',\n",
    "       'DAYS_SINCE_IRRAD', 'MONTHS_SINCE_IRRAD', 'MONTHS AT IRRAD', 'DOB',\n",
    "       'SEX', 'AGE', 'TYPE', 'WBC_(K/uL)', 'RBC_(M/uL)',\n",
    "       'Hemaglobin_(HGB_g/dL)', 'Hemocrit_(HCT_%)',\n",
    "       'Mean_corpuscular_volume_(MCV_fL)',\n",
    "       'Mean_corpuscular_hemaglobin_(MCH_pg)',\n",
    "       'Mean_corpuscular_hemaglobin_concentration_(MCHC_g/dL)', 'NEUT_(%)',\n",
    "       'LYMPHOCYTES_(%)', 'MONO_(%)', 'EOS_(%)', 'BASO_(%)', 'ABS_NEUT_(/uL)',\n",
    "       'ABS_LYMPH_(/uL)', 'ABS_MONO_(/uL)', 'ABS_EOS_(/uL)', 'ABS_BASO_(/uL)',\n",
    "       'PLATLET_COUNT_(K/uL)'],\n",
    "                    engine = 'openpyxl',\n",
    "                    #date_parser=parser\n",
    "                         )\n",
    "\n",
    "full_monkey_df.set_index(['ID'])\n",
    "#full_monkey_df.dropna(axis=0, inplace=True) \n",
    "\n",
    "#x = full_monkey_df.columns\n",
    "full_monkey_df.tail()"
   ]
  },
  {
   "cell_type": "markdown",
   "id": "bfbba242-faa5-404a-b9e0-e0117b4505d2",
   "metadata": {},
   "source": [
    "# It's looking like I'll need to parse the dateimes... We have 31 variables and 4551 samples, get stoked\n",
    "Next Steps: 1.) Concat the health data 2.) Make date parser 3.) Viz ztuff"
   ]
  },
  {
   "cell_type": "markdown",
   "id": "fd097d6d-8b08-47b0-a467-5a105068a04e",
   "metadata": {},
   "source": [
    "# Vizualization\n",
    "    1.) See the blood analytics over time for each monkey\n",
    "    2.) See the ages of the monkeys\n",
    "        a.) For the absolute age\n",
    "        b.) For age at irrad\n",
    "        c.) For time since irrad"
   ]
  },
  {
   "cell_type": "code",
   "execution_count": null,
   "id": "1255adca-08d6-4c1b-b021-71ffb471dd83",
   "metadata": {},
   "outputs": [],
   "source": []
  },
  {
   "cell_type": "code",
   "execution_count": null,
   "id": "a401de92-3033-4f90-b74f-a28b458e3554",
   "metadata": {},
   "outputs": [],
   "source": []
  },
  {
   "cell_type": "code",
   "execution_count": null,
   "id": "91497bf8-91b4-4474-9c3c-a59e233ef756",
   "metadata": {},
   "outputs": [],
   "source": []
  },
  {
   "cell_type": "code",
   "execution_count": null,
   "id": "0bebb587-51fa-4591-8bbd-f2cbe3d413cd",
   "metadata": {},
   "outputs": [],
   "source": []
  },
  {
   "cell_type": "code",
   "execution_count": null,
   "id": "3f40891f-c502-4e36-b651-161f4da28ddc",
   "metadata": {},
   "outputs": [],
   "source": []
  },
  {
   "cell_type": "code",
   "execution_count": null,
   "id": "6a807fcd-59d2-4591-84e7-8d2893e399c2",
   "metadata": {},
   "outputs": [],
   "source": []
  },
  {
   "cell_type": "code",
   "execution_count": null,
   "id": "79a286e7-967e-497c-8585-f94976a02aba",
   "metadata": {},
   "outputs": [],
   "source": []
  },
  {
   "cell_type": "code",
   "execution_count": null,
   "id": "5e63bc1f-dd82-41ae-814a-5f29ae5daf70",
   "metadata": {},
   "outputs": [],
   "source": []
  },
  {
   "cell_type": "code",
   "execution_count": null,
   "id": "1ee5921f-20e1-4513-b956-25b2a49e3545",
   "metadata": {},
   "outputs": [],
   "source": []
  },
  {
   "cell_type": "code",
   "execution_count": null,
   "id": "85741d02-bb76-4d0c-a93d-0687c614b2e6",
   "metadata": {},
   "outputs": [],
   "source": []
  }
 ],
 "metadata": {
  "kernelspec": {
   "display_name": "Python 3 (ipykernel)",
   "language": "python",
   "name": "python3"
  },
  "language_info": {
   "codemirror_mode": {
    "name": "ipython",
    "version": 3
   },
   "file_extension": ".py",
   "mimetype": "text/x-python",
   "name": "python",
   "nbconvert_exporter": "python",
   "pygments_lexer": "ipython3",
   "version": "3.9.13"
  }
 },
 "nbformat": 4,
 "nbformat_minor": 5
}
